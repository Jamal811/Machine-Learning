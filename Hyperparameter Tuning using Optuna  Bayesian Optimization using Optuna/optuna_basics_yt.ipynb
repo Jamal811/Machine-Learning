{
  "nbformat": 4,
  "nbformat_minor": 0,
  "metadata": {
    "colab": {
      "provenance": []
    },
    "kernelspec": {
      "name": "python3",
      "display_name": "Python 3"
    },
    "language_info": {
      "name": "python"
    }
  },
  "cells": [
    {
      "cell_type": "code",
      "execution_count": 1,
      "metadata": {
        "colab": {
          "base_uri": "https://localhost:8080/"
        },
        "id": "pCA2vnO4RwU4",
        "outputId": "7e139f9a-360d-4c5d-bf34-d1e33d5f28b9"
      },
      "outputs": [
        {
          "output_type": "stream",
          "name": "stdout",
          "text": [
            "Collecting optuna\n",
            "  Downloading optuna-4.0.0-py3-none-any.whl.metadata (16 kB)\n",
            "Collecting alembic>=1.5.0 (from optuna)\n",
            "  Downloading alembic-1.13.3-py3-none-any.whl.metadata (7.4 kB)\n",
            "Collecting colorlog (from optuna)\n",
            "  Downloading colorlog-6.8.2-py3-none-any.whl.metadata (10 kB)\n",
            "Requirement already satisfied: numpy in /usr/local/lib/python3.10/dist-packages (from optuna) (1.26.4)\n",
            "Requirement already satisfied: packaging>=20.0 in /usr/local/lib/python3.10/dist-packages (from optuna) (24.1)\n",
            "Requirement already satisfied: sqlalchemy>=1.3.0 in /usr/local/lib/python3.10/dist-packages (from optuna) (2.0.35)\n",
            "Requirement already satisfied: tqdm in /usr/local/lib/python3.10/dist-packages (from optuna) (4.66.5)\n",
            "Requirement already satisfied: PyYAML in /usr/local/lib/python3.10/dist-packages (from optuna) (6.0.2)\n",
            "Collecting Mako (from alembic>=1.5.0->optuna)\n",
            "  Downloading Mako-1.3.5-py3-none-any.whl.metadata (2.9 kB)\n",
            "Requirement already satisfied: typing-extensions>=4 in /usr/local/lib/python3.10/dist-packages (from alembic>=1.5.0->optuna) (4.12.2)\n",
            "Requirement already satisfied: greenlet!=0.4.17 in /usr/local/lib/python3.10/dist-packages (from sqlalchemy>=1.3.0->optuna) (3.1.1)\n",
            "Requirement already satisfied: MarkupSafe>=0.9.2 in /usr/local/lib/python3.10/dist-packages (from Mako->alembic>=1.5.0->optuna) (3.0.1)\n",
            "Downloading optuna-4.0.0-py3-none-any.whl (362 kB)\n",
            "\u001b[2K   \u001b[90m━━━━━━━━━━━━━━━━━━━━━━━━━━━━━━━━━━━━━━━━\u001b[0m \u001b[32m362.8/362.8 kB\u001b[0m \u001b[31m6.9 MB/s\u001b[0m eta \u001b[36m0:00:00\u001b[0m\n",
            "\u001b[?25hDownloading alembic-1.13.3-py3-none-any.whl (233 kB)\n",
            "\u001b[2K   \u001b[90m━━━━━━━━━━━━━━━━━━━━━━━━━━━━━━━━━━━━━━━━\u001b[0m \u001b[32m233.2/233.2 kB\u001b[0m \u001b[31m7.7 MB/s\u001b[0m eta \u001b[36m0:00:00\u001b[0m\n",
            "\u001b[?25hDownloading colorlog-6.8.2-py3-none-any.whl (11 kB)\n",
            "Downloading Mako-1.3.5-py3-none-any.whl (78 kB)\n",
            "\u001b[2K   \u001b[90m━━━━━━━━━━━━━━━━━━━━━━━━━━━━━━━━━━━━━━━━\u001b[0m \u001b[32m78.6/78.6 kB\u001b[0m \u001b[31m4.4 MB/s\u001b[0m eta \u001b[36m0:00:00\u001b[0m\n",
            "\u001b[?25hInstalling collected packages: Mako, colorlog, alembic, optuna\n",
            "Successfully installed Mako-1.3.5 alembic-1.13.3 colorlog-6.8.2 optuna-4.0.0\n"
          ]
        }
      ],
      "source": [
        "!pip install optuna"
      ]
    },
    {
      "cell_type": "code",
      "source": [
        "# Import necessary libraries\n",
        "import optuna\n",
        "from sklearn.datasets import load_diabetes\n",
        "from sklearn.model_selection import train_test_split\n",
        "from sklearn.preprocessing import StandardScaler\n",
        "\n",
        "# Load the Pima Indian Diabetes dataset from sklearn\n",
        "# Note: Scikit-learn's built-in 'load_diabetes' is a regression dataset.\n",
        "# We will load the actual diabetes dataset from an external source\n",
        "import pandas as pd\n",
        "\n",
        "# Load the Pima Indian Diabetes dataset (from UCI repository)\n",
        "url = \"https://raw.githubusercontent.com/jbrownlee/Datasets/master/pima-indians-diabetes.data.csv\"\n",
        "columns = ['Pregnancies', 'Glucose', 'BloodPressure', 'SkinThickness', 'Insulin', 'BMI',\n",
        "           'DiabetesPedigreeFunction', 'Age', 'Outcome']\n",
        "\n",
        "# Load the dataset\n",
        "df = pd.read_csv(url, names=columns)\n",
        "\n",
        "df.head()"
      ],
      "metadata": {
        "colab": {
          "base_uri": "https://localhost:8080/",
          "height": 206
        },
        "id": "fT-y3-gHShSh",
        "outputId": "36c0341e-6778-4241-aca9-1667d663246f"
      },
      "execution_count": 2,
      "outputs": [
        {
          "output_type": "execute_result",
          "data": {
            "text/plain": [
              "   Pregnancies  Glucose  BloodPressure  SkinThickness  Insulin   BMI  \\\n",
              "0            6      148             72             35        0  33.6   \n",
              "1            1       85             66             29        0  26.6   \n",
              "2            8      183             64              0        0  23.3   \n",
              "3            1       89             66             23       94  28.1   \n",
              "4            0      137             40             35      168  43.1   \n",
              "\n",
              "   DiabetesPedigreeFunction  Age  Outcome  \n",
              "0                     0.627   50        1  \n",
              "1                     0.351   31        0  \n",
              "2                     0.672   32        1  \n",
              "3                     0.167   21        0  \n",
              "4                     2.288   33        1  "
            ],
            "text/html": [
              "\n",
              "  <div id=\"df-ffa2bd8f-099b-44d0-be12-42943b75fd67\" class=\"colab-df-container\">\n",
              "    <div>\n",
              "<style scoped>\n",
              "    .dataframe tbody tr th:only-of-type {\n",
              "        vertical-align: middle;\n",
              "    }\n",
              "\n",
              "    .dataframe tbody tr th {\n",
              "        vertical-align: top;\n",
              "    }\n",
              "\n",
              "    .dataframe thead th {\n",
              "        text-align: right;\n",
              "    }\n",
              "</style>\n",
              "<table border=\"1\" class=\"dataframe\">\n",
              "  <thead>\n",
              "    <tr style=\"text-align: right;\">\n",
              "      <th></th>\n",
              "      <th>Pregnancies</th>\n",
              "      <th>Glucose</th>\n",
              "      <th>BloodPressure</th>\n",
              "      <th>SkinThickness</th>\n",
              "      <th>Insulin</th>\n",
              "      <th>BMI</th>\n",
              "      <th>DiabetesPedigreeFunction</th>\n",
              "      <th>Age</th>\n",
              "      <th>Outcome</th>\n",
              "    </tr>\n",
              "  </thead>\n",
              "  <tbody>\n",
              "    <tr>\n",
              "      <th>0</th>\n",
              "      <td>6</td>\n",
              "      <td>148</td>\n",
              "      <td>72</td>\n",
              "      <td>35</td>\n",
              "      <td>0</td>\n",
              "      <td>33.6</td>\n",
              "      <td>0.627</td>\n",
              "      <td>50</td>\n",
              "      <td>1</td>\n",
              "    </tr>\n",
              "    <tr>\n",
              "      <th>1</th>\n",
              "      <td>1</td>\n",
              "      <td>85</td>\n",
              "      <td>66</td>\n",
              "      <td>29</td>\n",
              "      <td>0</td>\n",
              "      <td>26.6</td>\n",
              "      <td>0.351</td>\n",
              "      <td>31</td>\n",
              "      <td>0</td>\n",
              "    </tr>\n",
              "    <tr>\n",
              "      <th>2</th>\n",
              "      <td>8</td>\n",
              "      <td>183</td>\n",
              "      <td>64</td>\n",
              "      <td>0</td>\n",
              "      <td>0</td>\n",
              "      <td>23.3</td>\n",
              "      <td>0.672</td>\n",
              "      <td>32</td>\n",
              "      <td>1</td>\n",
              "    </tr>\n",
              "    <tr>\n",
              "      <th>3</th>\n",
              "      <td>1</td>\n",
              "      <td>89</td>\n",
              "      <td>66</td>\n",
              "      <td>23</td>\n",
              "      <td>94</td>\n",
              "      <td>28.1</td>\n",
              "      <td>0.167</td>\n",
              "      <td>21</td>\n",
              "      <td>0</td>\n",
              "    </tr>\n",
              "    <tr>\n",
              "      <th>4</th>\n",
              "      <td>0</td>\n",
              "      <td>137</td>\n",
              "      <td>40</td>\n",
              "      <td>35</td>\n",
              "      <td>168</td>\n",
              "      <td>43.1</td>\n",
              "      <td>2.288</td>\n",
              "      <td>33</td>\n",
              "      <td>1</td>\n",
              "    </tr>\n",
              "  </tbody>\n",
              "</table>\n",
              "</div>\n",
              "    <div class=\"colab-df-buttons\">\n",
              "\n",
              "  <div class=\"colab-df-container\">\n",
              "    <button class=\"colab-df-convert\" onclick=\"convertToInteractive('df-ffa2bd8f-099b-44d0-be12-42943b75fd67')\"\n",
              "            title=\"Convert this dataframe to an interactive table.\"\n",
              "            style=\"display:none;\">\n",
              "\n",
              "  <svg xmlns=\"http://www.w3.org/2000/svg\" height=\"24px\" viewBox=\"0 -960 960 960\">\n",
              "    <path d=\"M120-120v-720h720v720H120Zm60-500h600v-160H180v160Zm220 220h160v-160H400v160Zm0 220h160v-160H400v160ZM180-400h160v-160H180v160Zm440 0h160v-160H620v160ZM180-180h160v-160H180v160Zm440 0h160v-160H620v160Z\"/>\n",
              "  </svg>\n",
              "    </button>\n",
              "\n",
              "  <style>\n",
              "    .colab-df-container {\n",
              "      display:flex;\n",
              "      gap: 12px;\n",
              "    }\n",
              "\n",
              "    .colab-df-convert {\n",
              "      background-color: #E8F0FE;\n",
              "      border: none;\n",
              "      border-radius: 50%;\n",
              "      cursor: pointer;\n",
              "      display: none;\n",
              "      fill: #1967D2;\n",
              "      height: 32px;\n",
              "      padding: 0 0 0 0;\n",
              "      width: 32px;\n",
              "    }\n",
              "\n",
              "    .colab-df-convert:hover {\n",
              "      background-color: #E2EBFA;\n",
              "      box-shadow: 0px 1px 2px rgba(60, 64, 67, 0.3), 0px 1px 3px 1px rgba(60, 64, 67, 0.15);\n",
              "      fill: #174EA6;\n",
              "    }\n",
              "\n",
              "    .colab-df-buttons div {\n",
              "      margin-bottom: 4px;\n",
              "    }\n",
              "\n",
              "    [theme=dark] .colab-df-convert {\n",
              "      background-color: #3B4455;\n",
              "      fill: #D2E3FC;\n",
              "    }\n",
              "\n",
              "    [theme=dark] .colab-df-convert:hover {\n",
              "      background-color: #434B5C;\n",
              "      box-shadow: 0px 1px 3px 1px rgba(0, 0, 0, 0.15);\n",
              "      filter: drop-shadow(0px 1px 2px rgba(0, 0, 0, 0.3));\n",
              "      fill: #FFFFFF;\n",
              "    }\n",
              "  </style>\n",
              "\n",
              "    <script>\n",
              "      const buttonEl =\n",
              "        document.querySelector('#df-ffa2bd8f-099b-44d0-be12-42943b75fd67 button.colab-df-convert');\n",
              "      buttonEl.style.display =\n",
              "        google.colab.kernel.accessAllowed ? 'block' : 'none';\n",
              "\n",
              "      async function convertToInteractive(key) {\n",
              "        const element = document.querySelector('#df-ffa2bd8f-099b-44d0-be12-42943b75fd67');\n",
              "        const dataTable =\n",
              "          await google.colab.kernel.invokeFunction('convertToInteractive',\n",
              "                                                    [key], {});\n",
              "        if (!dataTable) return;\n",
              "\n",
              "        const docLinkHtml = 'Like what you see? Visit the ' +\n",
              "          '<a target=\"_blank\" href=https://colab.research.google.com/notebooks/data_table.ipynb>data table notebook</a>'\n",
              "          + ' to learn more about interactive tables.';\n",
              "        element.innerHTML = '';\n",
              "        dataTable['output_type'] = 'display_data';\n",
              "        await google.colab.output.renderOutput(dataTable, element);\n",
              "        const docLink = document.createElement('div');\n",
              "        docLink.innerHTML = docLinkHtml;\n",
              "        element.appendChild(docLink);\n",
              "      }\n",
              "    </script>\n",
              "  </div>\n",
              "\n",
              "\n",
              "<div id=\"df-f3cdcd02-da16-42a8-8cfc-28d5c61e5e41\">\n",
              "  <button class=\"colab-df-quickchart\" onclick=\"quickchart('df-f3cdcd02-da16-42a8-8cfc-28d5c61e5e41')\"\n",
              "            title=\"Suggest charts\"\n",
              "            style=\"display:none;\">\n",
              "\n",
              "<svg xmlns=\"http://www.w3.org/2000/svg\" height=\"24px\"viewBox=\"0 0 24 24\"\n",
              "     width=\"24px\">\n",
              "    <g>\n",
              "        <path d=\"M19 3H5c-1.1 0-2 .9-2 2v14c0 1.1.9 2 2 2h14c1.1 0 2-.9 2-2V5c0-1.1-.9-2-2-2zM9 17H7v-7h2v7zm4 0h-2V7h2v10zm4 0h-2v-4h2v4z\"/>\n",
              "    </g>\n",
              "</svg>\n",
              "  </button>\n",
              "\n",
              "<style>\n",
              "  .colab-df-quickchart {\n",
              "      --bg-color: #E8F0FE;\n",
              "      --fill-color: #1967D2;\n",
              "      --hover-bg-color: #E2EBFA;\n",
              "      --hover-fill-color: #174EA6;\n",
              "      --disabled-fill-color: #AAA;\n",
              "      --disabled-bg-color: #DDD;\n",
              "  }\n",
              "\n",
              "  [theme=dark] .colab-df-quickchart {\n",
              "      --bg-color: #3B4455;\n",
              "      --fill-color: #D2E3FC;\n",
              "      --hover-bg-color: #434B5C;\n",
              "      --hover-fill-color: #FFFFFF;\n",
              "      --disabled-bg-color: #3B4455;\n",
              "      --disabled-fill-color: #666;\n",
              "  }\n",
              "\n",
              "  .colab-df-quickchart {\n",
              "    background-color: var(--bg-color);\n",
              "    border: none;\n",
              "    border-radius: 50%;\n",
              "    cursor: pointer;\n",
              "    display: none;\n",
              "    fill: var(--fill-color);\n",
              "    height: 32px;\n",
              "    padding: 0;\n",
              "    width: 32px;\n",
              "  }\n",
              "\n",
              "  .colab-df-quickchart:hover {\n",
              "    background-color: var(--hover-bg-color);\n",
              "    box-shadow: 0 1px 2px rgba(60, 64, 67, 0.3), 0 1px 3px 1px rgba(60, 64, 67, 0.15);\n",
              "    fill: var(--button-hover-fill-color);\n",
              "  }\n",
              "\n",
              "  .colab-df-quickchart-complete:disabled,\n",
              "  .colab-df-quickchart-complete:disabled:hover {\n",
              "    background-color: var(--disabled-bg-color);\n",
              "    fill: var(--disabled-fill-color);\n",
              "    box-shadow: none;\n",
              "  }\n",
              "\n",
              "  .colab-df-spinner {\n",
              "    border: 2px solid var(--fill-color);\n",
              "    border-color: transparent;\n",
              "    border-bottom-color: var(--fill-color);\n",
              "    animation:\n",
              "      spin 1s steps(1) infinite;\n",
              "  }\n",
              "\n",
              "  @keyframes spin {\n",
              "    0% {\n",
              "      border-color: transparent;\n",
              "      border-bottom-color: var(--fill-color);\n",
              "      border-left-color: var(--fill-color);\n",
              "    }\n",
              "    20% {\n",
              "      border-color: transparent;\n",
              "      border-left-color: var(--fill-color);\n",
              "      border-top-color: var(--fill-color);\n",
              "    }\n",
              "    30% {\n",
              "      border-color: transparent;\n",
              "      border-left-color: var(--fill-color);\n",
              "      border-top-color: var(--fill-color);\n",
              "      border-right-color: var(--fill-color);\n",
              "    }\n",
              "    40% {\n",
              "      border-color: transparent;\n",
              "      border-right-color: var(--fill-color);\n",
              "      border-top-color: var(--fill-color);\n",
              "    }\n",
              "    60% {\n",
              "      border-color: transparent;\n",
              "      border-right-color: var(--fill-color);\n",
              "    }\n",
              "    80% {\n",
              "      border-color: transparent;\n",
              "      border-right-color: var(--fill-color);\n",
              "      border-bottom-color: var(--fill-color);\n",
              "    }\n",
              "    90% {\n",
              "      border-color: transparent;\n",
              "      border-bottom-color: var(--fill-color);\n",
              "    }\n",
              "  }\n",
              "</style>\n",
              "\n",
              "  <script>\n",
              "    async function quickchart(key) {\n",
              "      const quickchartButtonEl =\n",
              "        document.querySelector('#' + key + ' button');\n",
              "      quickchartButtonEl.disabled = true;  // To prevent multiple clicks.\n",
              "      quickchartButtonEl.classList.add('colab-df-spinner');\n",
              "      try {\n",
              "        const charts = await google.colab.kernel.invokeFunction(\n",
              "            'suggestCharts', [key], {});\n",
              "      } catch (error) {\n",
              "        console.error('Error during call to suggestCharts:', error);\n",
              "      }\n",
              "      quickchartButtonEl.classList.remove('colab-df-spinner');\n",
              "      quickchartButtonEl.classList.add('colab-df-quickchart-complete');\n",
              "    }\n",
              "    (() => {\n",
              "      let quickchartButtonEl =\n",
              "        document.querySelector('#df-f3cdcd02-da16-42a8-8cfc-28d5c61e5e41 button');\n",
              "      quickchartButtonEl.style.display =\n",
              "        google.colab.kernel.accessAllowed ? 'block' : 'none';\n",
              "    })();\n",
              "  </script>\n",
              "</div>\n",
              "\n",
              "    </div>\n",
              "  </div>\n"
            ],
            "application/vnd.google.colaboratory.intrinsic+json": {
              "type": "dataframe",
              "variable_name": "df",
              "summary": "{\n  \"name\": \"df\",\n  \"rows\": 768,\n  \"fields\": [\n    {\n      \"column\": \"Pregnancies\",\n      \"properties\": {\n        \"dtype\": \"number\",\n        \"std\": 3,\n        \"min\": 0,\n        \"max\": 17,\n        \"num_unique_values\": 17,\n        \"samples\": [\n          6,\n          1,\n          3\n        ],\n        \"semantic_type\": \"\",\n        \"description\": \"\"\n      }\n    },\n    {\n      \"column\": \"Glucose\",\n      \"properties\": {\n        \"dtype\": \"number\",\n        \"std\": 31,\n        \"min\": 0,\n        \"max\": 199,\n        \"num_unique_values\": 136,\n        \"samples\": [\n          151,\n          101,\n          112\n        ],\n        \"semantic_type\": \"\",\n        \"description\": \"\"\n      }\n    },\n    {\n      \"column\": \"BloodPressure\",\n      \"properties\": {\n        \"dtype\": \"number\",\n        \"std\": 19,\n        \"min\": 0,\n        \"max\": 122,\n        \"num_unique_values\": 47,\n        \"samples\": [\n          86,\n          46,\n          85\n        ],\n        \"semantic_type\": \"\",\n        \"description\": \"\"\n      }\n    },\n    {\n      \"column\": \"SkinThickness\",\n      \"properties\": {\n        \"dtype\": \"number\",\n        \"std\": 15,\n        \"min\": 0,\n        \"max\": 99,\n        \"num_unique_values\": 51,\n        \"samples\": [\n          7,\n          12,\n          48\n        ],\n        \"semantic_type\": \"\",\n        \"description\": \"\"\n      }\n    },\n    {\n      \"column\": \"Insulin\",\n      \"properties\": {\n        \"dtype\": \"number\",\n        \"std\": 115,\n        \"min\": 0,\n        \"max\": 846,\n        \"num_unique_values\": 186,\n        \"samples\": [\n          52,\n          41,\n          183\n        ],\n        \"semantic_type\": \"\",\n        \"description\": \"\"\n      }\n    },\n    {\n      \"column\": \"BMI\",\n      \"properties\": {\n        \"dtype\": \"number\",\n        \"std\": 7.8841603203754405,\n        \"min\": 0.0,\n        \"max\": 67.1,\n        \"num_unique_values\": 248,\n        \"samples\": [\n          19.9,\n          31.0,\n          38.1\n        ],\n        \"semantic_type\": \"\",\n        \"description\": \"\"\n      }\n    },\n    {\n      \"column\": \"DiabetesPedigreeFunction\",\n      \"properties\": {\n        \"dtype\": \"number\",\n        \"std\": 0.33132859501277484,\n        \"min\": 0.078,\n        \"max\": 2.42,\n        \"num_unique_values\": 517,\n        \"samples\": [\n          1.731,\n          0.426,\n          0.138\n        ],\n        \"semantic_type\": \"\",\n        \"description\": \"\"\n      }\n    },\n    {\n      \"column\": \"Age\",\n      \"properties\": {\n        \"dtype\": \"number\",\n        \"std\": 11,\n        \"min\": 21,\n        \"max\": 81,\n        \"num_unique_values\": 52,\n        \"samples\": [\n          60,\n          47,\n          72\n        ],\n        \"semantic_type\": \"\",\n        \"description\": \"\"\n      }\n    },\n    {\n      \"column\": \"Outcome\",\n      \"properties\": {\n        \"dtype\": \"number\",\n        \"std\": 0,\n        \"min\": 0,\n        \"max\": 1,\n        \"num_unique_values\": 2,\n        \"samples\": [\n          0,\n          1\n        ],\n        \"semantic_type\": \"\",\n        \"description\": \"\"\n      }\n    }\n  ]\n}"
            }
          },
          "metadata": {},
          "execution_count": 2
        }
      ]
    },
    {
      "cell_type": "code",
      "source": [
        "import numpy as np\n",
        "\n",
        "# Replace zero values with NaN in columns where zero is not a valid value\n",
        "cols_with_missing_vals = ['Glucose', 'BloodPressure', 'SkinThickness', 'Insulin', 'BMI']\n",
        "df[cols_with_missing_vals] = df[cols_with_missing_vals].replace(0, np.nan)\n",
        "\n",
        "# Impute the missing values with the mean of the respective column\n",
        "df.fillna(df.mean(), inplace=True)\n",
        "\n",
        "# Check if there are any remaining missing values\n",
        "print(df.isnull().sum())\n"
      ],
      "metadata": {
        "colab": {
          "base_uri": "https://localhost:8080/"
        },
        "id": "tZ_ggrcuTcgI",
        "outputId": "aaa6ff51-2078-4dda-8b9b-65bf789e8a82"
      },
      "execution_count": 3,
      "outputs": [
        {
          "output_type": "stream",
          "name": "stdout",
          "text": [
            "Pregnancies                 0\n",
            "Glucose                     0\n",
            "BloodPressure               0\n",
            "SkinThickness               0\n",
            "Insulin                     0\n",
            "BMI                         0\n",
            "DiabetesPedigreeFunction    0\n",
            "Age                         0\n",
            "Outcome                     0\n",
            "dtype: int64\n"
          ]
        }
      ]
    },
    {
      "cell_type": "code",
      "source": [
        "# Split into features (X) and target (y)\n",
        "X = df.drop('Outcome', axis=1)\n",
        "y = df['Outcome']\n",
        "\n",
        "# Split data into training and test sets (70% train, 30% test)\n",
        "X_train, X_test, y_train, y_test = train_test_split(X, y, test_size=0.3, random_state=42)\n",
        "\n",
        "# Optional: Scale the data for better model performance\n",
        "scaler = StandardScaler()\n",
        "X_train = scaler.fit_transform(X_train)\n",
        "X_test = scaler.transform(X_test)\n",
        "\n",
        "# Check the shape of the data\n",
        "print(f'Training set shape: {X_train.shape}')\n",
        "print(f'Test set shape: {X_test.shape}')\n"
      ],
      "metadata": {
        "colab": {
          "base_uri": "https://localhost:8080/"
        },
        "id": "3arW9ktITIHB",
        "outputId": "0a6044b1-29eb-46ee-96b1-1a86fcd57bc4"
      },
      "execution_count": 4,
      "outputs": [
        {
          "output_type": "stream",
          "name": "stdout",
          "text": [
            "Training set shape: (537, 8)\n",
            "Test set shape: (231, 8)\n"
          ]
        }
      ]
    },
    {
      "cell_type": "code",
      "source": [
        "from sklearn.ensemble import RandomForestClassifier\n",
        "from sklearn.model_selection import cross_val_score\n",
        "\n",
        "# Define the objective function\n",
        "def objective(trial):\n",
        "    # Suggest values for the hyperparameters\n",
        "    n_estimators = trial.suggest_int('n_estimators', 50, 200)\n",
        "    max_depth = trial.suggest_int('max_depth', 3, 20)\n",
        "\n",
        "    # Create the RandomForestClassifier with suggested hyperparameters\n",
        "    model = RandomForestClassifier(\n",
        "        n_estimators=n_estimators,\n",
        "        max_depth=max_depth,\n",
        "        random_state=42\n",
        "    )\n",
        "\n",
        "    # Perform 3-fold cross-validation and calculate accuracy\n",
        "    score = cross_val_score(model, X_train, y_train, cv=3, scoring='accuracy').mean()\n",
        "\n",
        "    return score  # Return the accuracy score for Optuna to maximize\n"
      ],
      "metadata": {
        "id": "vAbA51fJTrb-"
      },
      "execution_count": 5,
      "outputs": []
    },
    {
      "cell_type": "code",
      "source": [
        "# Create a study object and optimize the objective function\n",
        "study = optuna.create_study(direction='maximize', sampler=optuna.samplers.TPESampler())  # We aim to maximize accuracy\n",
        "study.optimize(objective, n_trials=50)  # Run 50 trials to find the best hyperparameters\n"
      ],
      "metadata": {
        "colab": {
          "base_uri": "https://localhost:8080/"
        },
        "id": "xN9Zi4k4UbBF",
        "outputId": "026e447c-80ba-49d5-9f5a-6f69db5e68ee"
      },
      "execution_count": 6,
      "outputs": [
        {
          "output_type": "stream",
          "name": "stderr",
          "text": [
            "[I 2024-10-15 08:45:49,062] A new study created in memory with name: no-name-4ea45c69-006d-404c-ad54-43e7212926a3\n",
            "[I 2024-10-15 08:45:51,134] Trial 0 finished with value: 0.7653631284916201 and parameters: {'n_estimators': 153, 'max_depth': 14}. Best is trial 0 with value: 0.7653631284916201.\n",
            "[I 2024-10-15 08:45:52,755] Trial 1 finished with value: 0.7597765363128491 and parameters: {'n_estimators': 159, 'max_depth': 4}. Best is trial 0 with value: 0.7653631284916201.\n",
            "[I 2024-10-15 08:45:54,814] Trial 2 finished with value: 0.7746741154562384 and parameters: {'n_estimators': 174, 'max_depth': 12}. Best is trial 2 with value: 0.7746741154562384.\n",
            "[I 2024-10-15 08:45:57,031] Trial 3 finished with value: 0.7709497206703911 and parameters: {'n_estimators': 181, 'max_depth': 20}. Best is trial 2 with value: 0.7746741154562384.\n",
            "[I 2024-10-15 08:45:58,632] Trial 4 finished with value: 0.7746741154562383 and parameters: {'n_estimators': 137, 'max_depth': 20}. Best is trial 2 with value: 0.7746741154562384.\n",
            "[I 2024-10-15 08:46:00,697] Trial 5 finished with value: 0.7635009310986964 and parameters: {'n_estimators': 179, 'max_depth': 5}. Best is trial 2 with value: 0.7746741154562384.\n",
            "[I 2024-10-15 08:46:01,702] Trial 6 finished with value: 0.7709497206703911 and parameters: {'n_estimators': 70, 'max_depth': 15}. Best is trial 2 with value: 0.7746741154562384.\n",
            "[I 2024-10-15 08:46:06,015] Trial 7 finished with value: 0.7765363128491621 and parameters: {'n_estimators': 183, 'max_depth': 16}. Best is trial 7 with value: 0.7765363128491621.\n",
            "[I 2024-10-15 08:46:08,499] Trial 8 finished with value: 0.7783985102420857 and parameters: {'n_estimators': 177, 'max_depth': 16}. Best is trial 8 with value: 0.7783985102420857.\n",
            "[I 2024-10-15 08:46:10,019] Trial 9 finished with value: 0.7709497206703911 and parameters: {'n_estimators': 122, 'max_depth': 8}. Best is trial 8 with value: 0.7783985102420857.\n",
            "[I 2024-10-15 08:46:11,274] Trial 10 finished with value: 0.7541899441340781 and parameters: {'n_estimators': 100, 'max_depth': 9}. Best is trial 8 with value: 0.7783985102420857.\n",
            "[I 2024-10-15 08:46:13,616] Trial 11 finished with value: 0.7783985102420856 and parameters: {'n_estimators': 196, 'max_depth': 17}. Best is trial 8 with value: 0.7783985102420857.\n",
            "[I 2024-10-15 08:46:15,441] Trial 12 finished with value: 0.7783985102420856 and parameters: {'n_estimators': 195, 'max_depth': 17}. Best is trial 8 with value: 0.7783985102420857.\n",
            "[I 2024-10-15 08:46:20,334] Trial 13 finished with value: 0.7728119180633147 and parameters: {'n_estimators': 200, 'max_depth': 18}. Best is trial 8 with value: 0.7783985102420857.\n",
            "[I 2024-10-15 08:46:21,203] Trial 14 finished with value: 0.7709497206703911 and parameters: {'n_estimators': 154, 'max_depth': 12}. Best is trial 8 with value: 0.7783985102420857.\n",
            "[I 2024-10-15 08:46:21,819] Trial 15 finished with value: 0.7672253258845437 and parameters: {'n_estimators': 110, 'max_depth': 14}. Best is trial 8 with value: 0.7783985102420857.\n",
            "[I 2024-10-15 08:46:22,320] Trial 16 finished with value: 0.7635009310986964 and parameters: {'n_estimators': 84, 'max_depth': 18}. Best is trial 8 with value: 0.7783985102420857.\n",
            "[I 2024-10-15 08:46:23,098] Trial 17 finished with value: 0.7672253258845437 and parameters: {'n_estimators': 137, 'max_depth': 10}. Best is trial 8 with value: 0.7783985102420857.\n",
            "[I 2024-10-15 08:46:24,031] Trial 18 finished with value: 0.7690875232774674 and parameters: {'n_estimators': 166, 'max_depth': 13}. Best is trial 8 with value: 0.7783985102420857.\n",
            "[I 2024-10-15 08:46:24,364] Trial 19 finished with value: 0.7783985102420857 and parameters: {'n_estimators': 55, 'max_depth': 16}. Best is trial 8 with value: 0.7783985102420857.\n",
            "[I 2024-10-15 08:46:24,785] Trial 20 finished with value: 0.7672253258845437 and parameters: {'n_estimators': 75, 'max_depth': 6}. Best is trial 8 with value: 0.7783985102420857.\n",
            "[I 2024-10-15 08:46:25,922] Trial 21 finished with value: 0.7783985102420856 and parameters: {'n_estimators': 200, 'max_depth': 16}. Best is trial 8 with value: 0.7783985102420857.\n",
            "[I 2024-10-15 08:46:26,307] Trial 22 finished with value: 0.7653631284916201 and parameters: {'n_estimators': 60, 'max_depth': 18}. Best is trial 8 with value: 0.7783985102420857.\n",
            "[I 2024-10-15 08:46:26,888] Trial 23 finished with value: 0.7709497206703911 and parameters: {'n_estimators': 101, 'max_depth': 16}. Best is trial 8 with value: 0.7783985102420857.\n",
            "[I 2024-10-15 08:46:27,227] Trial 24 finished with value: 0.7728119180633147 and parameters: {'n_estimators': 52, 'max_depth': 19}. Best is trial 8 with value: 0.7783985102420857.\n",
            "[I 2024-10-15 08:46:28,025] Trial 25 finished with value: 0.7672253258845437 and parameters: {'n_estimators': 143, 'max_depth': 14}. Best is trial 8 with value: 0.7783985102420857.\n",
            "[I 2024-10-15 08:46:29,099] Trial 26 finished with value: 0.7728119180633147 and parameters: {'n_estimators': 191, 'max_depth': 17}. Best is trial 8 with value: 0.7783985102420857.\n",
            "[I 2024-10-15 08:46:29,772] Trial 27 finished with value: 0.7672253258845437 and parameters: {'n_estimators': 121, 'max_depth': 11}. Best is trial 8 with value: 0.7783985102420857.\n",
            "[I 2024-10-15 08:46:30,453] Trial 28 finished with value: 0.7690875232774674 and parameters: {'n_estimators': 91, 'max_depth': 15}. Best is trial 8 with value: 0.7783985102420857.\n",
            "[I 2024-10-15 08:46:31,896] Trial 29 finished with value: 0.7728119180633147 and parameters: {'n_estimators': 167, 'max_depth': 14}. Best is trial 8 with value: 0.7783985102420857.\n",
            "[I 2024-10-15 08:46:33,209] Trial 30 finished with value: 0.7709497206703911 and parameters: {'n_estimators': 146, 'max_depth': 19}. Best is trial 8 with value: 0.7783985102420857.\n",
            "[I 2024-10-15 08:46:34,394] Trial 31 finished with value: 0.7709497206703911 and parameters: {'n_estimators': 190, 'max_depth': 17}. Best is trial 8 with value: 0.7783985102420857.\n",
            "[I 2024-10-15 08:46:35,473] Trial 32 finished with value: 0.7728119180633147 and parameters: {'n_estimators': 191, 'max_depth': 17}. Best is trial 8 with value: 0.7783985102420857.\n",
            "[I 2024-10-15 08:46:36,388] Trial 33 finished with value: 0.7672253258845437 and parameters: {'n_estimators': 163, 'max_depth': 15}. Best is trial 8 with value: 0.7783985102420857.\n",
            "[I 2024-10-15 08:46:37,414] Trial 34 finished with value: 0.7728119180633147 and parameters: {'n_estimators': 186, 'max_depth': 13}. Best is trial 8 with value: 0.7783985102420857.\n",
            "[I 2024-10-15 08:46:38,401] Trial 35 finished with value: 0.7709497206703911 and parameters: {'n_estimators': 173, 'max_depth': 20}. Best is trial 8 with value: 0.7783985102420857.\n",
            "[I 2024-10-15 08:46:39,380] Trial 36 finished with value: 0.7728119180633147 and parameters: {'n_estimators': 174, 'max_depth': 19}. Best is trial 8 with value: 0.7783985102420857.\n",
            "[I 2024-10-15 08:46:40,500] Trial 37 finished with value: 0.7783985102420856 and parameters: {'n_estimators': 200, 'max_depth': 16}. Best is trial 8 with value: 0.7783985102420857.\n",
            "[I 2024-10-15 08:46:41,284] Trial 38 finished with value: 0.756052141527002 and parameters: {'n_estimators': 156, 'max_depth': 3}. Best is trial 8 with value: 0.7783985102420857.\n",
            "[I 2024-10-15 08:46:42,295] Trial 39 finished with value: 0.7728119180633147 and parameters: {'n_estimators': 180, 'max_depth': 17}. Best is trial 8 with value: 0.7783985102420857.\n",
            "[I 2024-10-15 08:46:43,049] Trial 40 finished with value: 0.7783985102420856 and parameters: {'n_estimators': 132, 'max_depth': 13}. Best is trial 8 with value: 0.7783985102420857.\n",
            "[I 2024-10-15 08:46:44,506] Trial 41 finished with value: 0.7802607076350093 and parameters: {'n_estimators': 198, 'max_depth': 16}. Best is trial 41 with value: 0.7802607076350093.\n",
            "[I 2024-10-15 08:46:46,246] Trial 42 finished with value: 0.7709497206703911 and parameters: {'n_estimators': 190, 'max_depth': 15}. Best is trial 41 with value: 0.7802607076350093.\n",
            "[I 2024-10-15 08:46:47,675] Trial 43 finished with value: 0.7746741154562384 and parameters: {'n_estimators': 193, 'max_depth': 18}. Best is trial 41 with value: 0.7802607076350093.\n",
            "[I 2024-10-15 08:46:48,694] Trial 44 finished with value: 0.7783985102420857 and parameters: {'n_estimators': 177, 'max_depth': 16}. Best is trial 41 with value: 0.7802607076350093.\n",
            "[I 2024-10-15 08:46:49,693] Trial 45 finished with value: 0.7783985102420857 and parameters: {'n_estimators': 178, 'max_depth': 16}. Best is trial 41 with value: 0.7802607076350093.\n",
            "[I 2024-10-15 08:46:50,677] Trial 46 finished with value: 0.7690875232774674 and parameters: {'n_estimators': 175, 'max_depth': 15}. Best is trial 41 with value: 0.7802607076350093.\n",
            "[I 2024-10-15 08:46:51,688] Trial 47 finished with value: 0.7728119180633147 and parameters: {'n_estimators': 180, 'max_depth': 12}. Best is trial 41 with value: 0.7802607076350093.\n",
            "[I 2024-10-15 08:46:52,582] Trial 48 finished with value: 0.7746741154562384 and parameters: {'n_estimators': 160, 'max_depth': 16}. Best is trial 41 with value: 0.7802607076350093.\n",
            "[I 2024-10-15 08:46:53,551] Trial 49 finished with value: 0.7728119180633147 and parameters: {'n_estimators': 172, 'max_depth': 14}. Best is trial 41 with value: 0.7802607076350093.\n"
          ]
        }
      ]
    },
    {
      "cell_type": "code",
      "source": [
        "\n",
        "# Print the best result\n",
        "print(f'Best trial accuracy: {study.best_trial.value}')\n",
        "print(f'Best hyperparameters: {study.best_trial.params}')"
      ],
      "metadata": {
        "id": "7UAUdw33fCgH",
        "colab": {
          "base_uri": "https://localhost:8080/"
        },
        "outputId": "19f6a32c-1d50-416e-972a-50a25f83a7d5"
      },
      "execution_count": 7,
      "outputs": [
        {
          "output_type": "stream",
          "name": "stdout",
          "text": [
            "Best trial accuracy: 0.7802607076350093\n",
            "Best hyperparameters: {'n_estimators': 198, 'max_depth': 16}\n"
          ]
        }
      ]
    },
    {
      "cell_type": "code",
      "source": [
        "from sklearn.metrics import accuracy_score\n",
        "\n",
        "# Train a RandomForestClassifier using the best hyperparameters from Optuna\n",
        "best_model = RandomForestClassifier(**study.best_trial.params, random_state=42)\n",
        "\n",
        "# Fit the model to the training data\n",
        "best_model.fit(X_train, y_train)\n",
        "\n",
        "# Make predictions on the test set\n",
        "y_pred = best_model.predict(X_test)\n",
        "\n",
        "# Calculate the accuracy on the test set\n",
        "test_accuracy = accuracy_score(y_test, y_pred)\n",
        "\n",
        "# Print the test accuracy\n",
        "print(f'Test Accuracy with best hyperparameters: {test_accuracy:.2f}')\n"
      ],
      "metadata": {
        "colab": {
          "base_uri": "https://localhost:8080/"
        },
        "id": "tb1zm_lAUtnC",
        "outputId": "3604298c-4fcf-4417-dcb9-14ff1313dd85"
      },
      "execution_count": 8,
      "outputs": [
        {
          "output_type": "stream",
          "name": "stdout",
          "text": [
            "Test Accuracy with best hyperparameters: 0.74\n"
          ]
        }
      ]
    },
    {
      "cell_type": "markdown",
      "source": [
        "## Samplers in Optuna"
      ],
      "metadata": {
        "id": "o2xS9eSIuInj"
      }
    },
    {
      "cell_type": "code",
      "source": [
        "from sklearn.ensemble import RandomForestClassifier\n",
        "from sklearn.model_selection import cross_val_score\n",
        "\n",
        "# Define the objective function\n",
        "def objective(trial):\n",
        "    # Suggest values for the hyperparameters\n",
        "    n_estimators = trial.suggest_int('n_estimators', 50, 200)\n",
        "    max_depth = trial.suggest_int('max_depth', 3, 20)\n",
        "\n",
        "    # Create the RandomForestClassifier with suggested hyperparameters\n",
        "    model = RandomForestClassifier(\n",
        "        n_estimators=n_estimators,\n",
        "        max_depth=max_depth,\n",
        "        random_state=42\n",
        "    )\n",
        "\n",
        "    # Perform 3-fold cross-validation and calculate accuracy\n",
        "    score = cross_val_score(model, X_train, y_train, cv=3, scoring='accuracy').mean()\n",
        "\n",
        "    return score  # Return the accuracy score for Optuna to maximize\n"
      ],
      "metadata": {
        "id": "HV7qYl2LzwnJ"
      },
      "execution_count": 9,
      "outputs": []
    },
    {
      "cell_type": "code",
      "source": [
        "study = optuna.create_study(direction='maximize', sampler=optuna.samplers.RandomSampler())  # We aim to maximize accuracy\n",
        "study.optimize(objective, n_trials=50)  # Run 50 trials to find the best hyperparameters"
      ],
      "metadata": {
        "id": "69ySFwlocrsv",
        "colab": {
          "base_uri": "https://localhost:8080/"
        },
        "outputId": "7e091ed4-31df-4cb2-b0ca-d0f1c231eecb"
      },
      "execution_count": 10,
      "outputs": [
        {
          "output_type": "stream",
          "name": "stderr",
          "text": [
            "[I 2024-10-15 08:46:54,026] A new study created in memory with name: no-name-fe8f0ac6-8306-47a4-8f79-5e18663cabf8\n",
            "[I 2024-10-15 08:46:54,432] Trial 0 finished with value: 0.7783985102420857 and parameters: {'n_estimators': 64, 'max_depth': 16}. Best is trial 0 with value: 0.7783985102420857.\n",
            "[I 2024-10-15 08:46:54,901] Trial 1 finished with value: 0.7690875232774674 and parameters: {'n_estimators': 81, 'max_depth': 13}. Best is trial 0 with value: 0.7783985102420857.\n",
            "[I 2024-10-15 08:46:55,930] Trial 2 finished with value: 0.7690875232774674 and parameters: {'n_estimators': 185, 'max_depth': 14}. Best is trial 0 with value: 0.7783985102420857.\n",
            "[I 2024-10-15 08:46:56,893] Trial 3 finished with value: 0.7728119180633147 and parameters: {'n_estimators': 172, 'max_depth': 14}. Best is trial 0 with value: 0.7783985102420857.\n",
            "[I 2024-10-15 08:46:58,373] Trial 4 finished with value: 0.7653631284916201 and parameters: {'n_estimators': 195, 'max_depth': 8}. Best is trial 0 with value: 0.7783985102420857.\n",
            "[I 2024-10-15 08:47:00,292] Trial 5 finished with value: 0.7690875232774674 and parameters: {'n_estimators': 114, 'max_depth': 14}. Best is trial 0 with value: 0.7783985102420857.\n",
            "[I 2024-10-15 08:47:01,423] Trial 6 finished with value: 0.7616387337057727 and parameters: {'n_estimators': 166, 'max_depth': 8}. Best is trial 0 with value: 0.7783985102420857.\n",
            "[I 2024-10-15 08:47:02,188] Trial 7 finished with value: 0.7597765363128491 and parameters: {'n_estimators': 150, 'max_depth': 4}. Best is trial 0 with value: 0.7783985102420857.\n",
            "[I 2024-10-15 08:47:02,622] Trial 8 finished with value: 0.7746741154562384 and parameters: {'n_estimators': 76, 'max_depth': 17}. Best is trial 0 with value: 0.7783985102420857.\n",
            "[I 2024-10-15 08:47:03,316] Trial 9 finished with value: 0.7783985102420857 and parameters: {'n_estimators': 127, 'max_depth': 17}. Best is trial 0 with value: 0.7783985102420857.\n",
            "[I 2024-10-15 08:47:03,610] Trial 10 finished with value: 0.7616387337057727 and parameters: {'n_estimators': 54, 'max_depth': 4}. Best is trial 0 with value: 0.7783985102420857.\n",
            "[I 2024-10-15 08:47:04,015] Trial 11 finished with value: 0.7709497206703911 and parameters: {'n_estimators': 70, 'max_depth': 13}. Best is trial 0 with value: 0.7783985102420857.\n",
            "[I 2024-10-15 08:47:04,600] Trial 12 finished with value: 0.7635009310986964 and parameters: {'n_estimators': 104, 'max_depth': 11}. Best is trial 0 with value: 0.7783985102420857.\n",
            "[I 2024-10-15 08:47:05,243] Trial 13 finished with value: 0.7709497206703911 and parameters: {'n_estimators': 117, 'max_depth': 13}. Best is trial 0 with value: 0.7783985102420857.\n",
            "[I 2024-10-15 08:47:05,648] Trial 14 finished with value: 0.7616387337057727 and parameters: {'n_estimators': 72, 'max_depth': 9}. Best is trial 0 with value: 0.7783985102420857.\n",
            "[I 2024-10-15 08:47:06,556] Trial 15 finished with value: 0.7746741154562384 and parameters: {'n_estimators': 163, 'max_depth': 16}. Best is trial 0 with value: 0.7783985102420857.\n",
            "[I 2024-10-15 08:47:07,238] Trial 16 finished with value: 0.7765363128491619 and parameters: {'n_estimators': 126, 'max_depth': 20}. Best is trial 0 with value: 0.7783985102420857.\n",
            "[I 2024-10-15 08:47:08,493] Trial 17 finished with value: 0.7709497206703911 and parameters: {'n_estimators': 190, 'max_depth': 20}. Best is trial 0 with value: 0.7783985102420857.\n",
            "[I 2024-10-15 08:47:10,818] Trial 18 finished with value: 0.7746741154562384 and parameters: {'n_estimators': 190, 'max_depth': 19}. Best is trial 0 with value: 0.7783985102420857.\n",
            "[I 2024-10-15 08:47:12,789] Trial 19 finished with value: 0.7690875232774674 and parameters: {'n_estimators': 91, 'max_depth': 16}. Best is trial 0 with value: 0.7783985102420857.\n",
            "[I 2024-10-15 08:47:15,507] Trial 20 finished with value: 0.7653631284916201 and parameters: {'n_estimators': 149, 'max_depth': 5}. Best is trial 0 with value: 0.7783985102420857.\n",
            "[I 2024-10-15 08:47:17,800] Trial 21 finished with value: 0.7690875232774674 and parameters: {'n_estimators': 169, 'max_depth': 18}. Best is trial 0 with value: 0.7783985102420857.\n",
            "[I 2024-10-15 08:47:20,171] Trial 22 finished with value: 0.7690875232774674 and parameters: {'n_estimators': 163, 'max_depth': 13}. Best is trial 0 with value: 0.7783985102420857.\n",
            "[I 2024-10-15 08:47:22,067] Trial 23 finished with value: 0.7616387337057727 and parameters: {'n_estimators': 144, 'max_depth': 10}. Best is trial 0 with value: 0.7783985102420857.\n",
            "[I 2024-10-15 08:47:22,791] Trial 24 finished with value: 0.7709497206703911 and parameters: {'n_estimators': 54, 'max_depth': 8}. Best is trial 0 with value: 0.7783985102420857.\n",
            "[I 2024-10-15 08:47:26,152] Trial 25 finished with value: 0.7709497206703911 and parameters: {'n_estimators': 200, 'max_depth': 10}. Best is trial 0 with value: 0.7783985102420857.\n",
            "[I 2024-10-15 08:47:28,857] Trial 26 finished with value: 0.7653631284916201 and parameters: {'n_estimators': 152, 'max_depth': 5}. Best is trial 0 with value: 0.7783985102420857.\n",
            "[I 2024-10-15 08:47:29,260] Trial 27 finished with value: 0.7635009310986964 and parameters: {'n_estimators': 68, 'max_depth': 6}. Best is trial 0 with value: 0.7783985102420857.\n",
            "[I 2024-10-15 08:47:29,999] Trial 28 finished with value: 0.7783985102420856 and parameters: {'n_estimators': 136, 'max_depth': 7}. Best is trial 0 with value: 0.7783985102420857.\n",
            "[I 2024-10-15 08:47:30,282] Trial 29 finished with value: 0.7579143389199254 and parameters: {'n_estimators': 50, 'max_depth': 10}. Best is trial 0 with value: 0.7783985102420857.\n",
            "[I 2024-10-15 08:47:31,026] Trial 30 finished with value: 0.7690875232774674 and parameters: {'n_estimators': 143, 'max_depth': 5}. Best is trial 0 with value: 0.7783985102420857.\n",
            "[I 2024-10-15 08:47:31,455] Trial 31 finished with value: 0.7597765363128491 and parameters: {'n_estimators': 85, 'max_depth': 4}. Best is trial 0 with value: 0.7783985102420857.\n",
            "[I 2024-10-15 08:47:32,249] Trial 32 finished with value: 0.7616387337057727 and parameters: {'n_estimators': 142, 'max_depth': 10}. Best is trial 0 with value: 0.7783985102420857.\n",
            "[I 2024-10-15 08:47:32,617] Trial 33 finished with value: 0.7728119180633147 and parameters: {'n_estimators': 65, 'max_depth': 7}. Best is trial 0 with value: 0.7783985102420857.\n",
            "[I 2024-10-15 08:47:33,165] Trial 34 finished with value: 0.7672253258845437 and parameters: {'n_estimators': 97, 'max_depth': 8}. Best is trial 0 with value: 0.7783985102420857.\n",
            "[I 2024-10-15 08:47:34,044] Trial 35 finished with value: 0.7635009310986964 and parameters: {'n_estimators': 167, 'max_depth': 6}. Best is trial 0 with value: 0.7783985102420857.\n",
            "[I 2024-10-15 08:47:34,839] Trial 36 finished with value: 0.7690875232774674 and parameters: {'n_estimators': 144, 'max_depth': 20}. Best is trial 0 with value: 0.7783985102420857.\n",
            "[I 2024-10-15 08:47:35,525] Trial 37 finished with value: 0.7765363128491619 and parameters: {'n_estimators': 126, 'max_depth': 20}. Best is trial 0 with value: 0.7783985102420857.\n",
            "[I 2024-10-15 08:47:36,209] Trial 38 finished with value: 0.7783985102420856 and parameters: {'n_estimators': 122, 'max_depth': 18}. Best is trial 0 with value: 0.7783985102420857.\n",
            "[I 2024-10-15 08:47:36,957] Trial 39 finished with value: 0.7709497206703911 and parameters: {'n_estimators': 136, 'max_depth': 8}. Best is trial 0 with value: 0.7783985102420857.\n",
            "[I 2024-10-15 08:47:37,437] Trial 40 finished with value: 0.7541899441340782 and parameters: {'n_estimators': 98, 'max_depth': 3}. Best is trial 0 with value: 0.7783985102420857.\n",
            "[I 2024-10-15 08:47:38,371] Trial 41 finished with value: 0.7746741154562384 and parameters: {'n_estimators': 179, 'max_depth': 7}. Best is trial 0 with value: 0.7783985102420857.\n",
            "[I 2024-10-15 08:47:39,112] Trial 42 finished with value: 0.7821229050279329 and parameters: {'n_estimators': 119, 'max_depth': 20}. Best is trial 42 with value: 0.7821229050279329.\n",
            "[I 2024-10-15 08:47:40,427] Trial 43 finished with value: 0.7672253258845437 and parameters: {'n_estimators': 167, 'max_depth': 5}. Best is trial 42 with value: 0.7821229050279329.\n",
            "[I 2024-10-15 08:47:42,175] Trial 44 finished with value: 0.7802607076350093 and parameters: {'n_estimators': 194, 'max_depth': 17}. Best is trial 42 with value: 0.7821229050279329.\n",
            "[I 2024-10-15 08:47:42,451] Trial 45 finished with value: 0.7672253258845437 and parameters: {'n_estimators': 50, 'max_depth': 9}. Best is trial 42 with value: 0.7821229050279329.\n",
            "[I 2024-10-15 08:47:43,108] Trial 46 finished with value: 0.7560521415270017 and parameters: {'n_estimators': 133, 'max_depth': 3}. Best is trial 42 with value: 0.7821229050279329.\n",
            "[I 2024-10-15 08:47:43,466] Trial 47 finished with value: 0.7635009310986964 and parameters: {'n_estimators': 64, 'max_depth': 6}. Best is trial 42 with value: 0.7821229050279329.\n",
            "[I 2024-10-15 08:47:43,857] Trial 48 finished with value: 0.7728119180633147 and parameters: {'n_estimators': 73, 'max_depth': 5}. Best is trial 42 with value: 0.7821229050279329.\n",
            "[I 2024-10-15 08:47:44,456] Trial 49 finished with value: 0.7672253258845437 and parameters: {'n_estimators': 106, 'max_depth': 11}. Best is trial 42 with value: 0.7821229050279329.\n"
          ]
        }
      ]
    },
    {
      "cell_type": "code",
      "source": [
        "\n",
        "# Print the best result\n",
        "print(f'Best trial accuracy: {study.best_trial.value}')\n",
        "print(f'Best hyperparameters: {study.best_trial.params}')"
      ],
      "metadata": {
        "colab": {
          "base_uri": "https://localhost:8080/"
        },
        "id": "xsHAu8b1uxK1",
        "outputId": "171f997c-b202-4a9a-828b-670151d87108"
      },
      "execution_count": 11,
      "outputs": [
        {
          "output_type": "stream",
          "name": "stdout",
          "text": [
            "Best trial accuracy: 0.7821229050279329\n",
            "Best hyperparameters: {'n_estimators': 119, 'max_depth': 20}\n"
          ]
        }
      ]
    },
    {
      "cell_type": "code",
      "source": [
        "from sklearn.metrics import accuracy_score\n",
        "\n",
        "# Train a RandomForestClassifier using the best hyperparameters from Optuna\n",
        "best_model = RandomForestClassifier(**study.best_trial.params, random_state=42)\n",
        "\n",
        "# Fit the model to the training data\n",
        "best_model.fit(X_train, y_train)\n",
        "\n",
        "# Make predictions on the test set\n",
        "y_pred = best_model.predict(X_test)\n",
        "\n",
        "# Calculate the accuracy on the test set\n",
        "test_accuracy = accuracy_score(y_test, y_pred)\n",
        "\n",
        "# Print the test accuracy\n",
        "print(f'Test Accuracy with best hyperparameters: {test_accuracy:.2f}')\n"
      ],
      "metadata": {
        "colab": {
          "base_uri": "https://localhost:8080/"
        },
        "id": "KFdBA3pyvAII",
        "outputId": "5edaab2f-2097-44ab-b7af-80b71c3d3320"
      },
      "execution_count": 12,
      "outputs": [
        {
          "output_type": "stream",
          "name": "stdout",
          "text": [
            "Test Accuracy with best hyperparameters: 0.75\n"
          ]
        }
      ]
    },
    {
      "cell_type": "code",
      "source": [
        "search_space = {\n",
        "    'n_estimators': [50, 100, 150, 200],\n",
        "    'max_depth': [5, 10, 15, 20]\n",
        "}"
      ],
      "metadata": {
        "id": "lcdVExqJvOLC"
      },
      "execution_count": 13,
      "outputs": []
    },
    {
      "cell_type": "code",
      "source": [
        "# Create a study and optimize it using GridSampler\n",
        "study = optuna.create_study(direction='maximize', sampler=optuna.samplers.GridSampler(search_space))\n",
        "study.optimize(objective)"
      ],
      "metadata": {
        "colab": {
          "base_uri": "https://localhost:8080/"
        },
        "id": "4QKZcma6vYVT",
        "outputId": "feb83f4d-2f0b-4975-c225-815432922026"
      },
      "execution_count": 14,
      "outputs": [
        {
          "output_type": "stream",
          "name": "stderr",
          "text": [
            "[I 2024-10-15 08:47:44,761] A new study created in memory with name: no-name-9c83ba2c-17fc-48c1-8f08-3e93335ade22\n",
            "[I 2024-10-15 08:47:45,328] Trial 0 finished with value: 0.7690875232774674 and parameters: {'n_estimators': 100, 'max_depth': 5}. Best is trial 0 with value: 0.7690875232774674.\n",
            "[I 2024-10-15 08:47:46,171] Trial 1 finished with value: 0.7672253258845437 and parameters: {'n_estimators': 150, 'max_depth': 10}. Best is trial 0 with value: 0.7690875232774674.\n",
            "[I 2024-10-15 08:47:46,464] Trial 2 finished with value: 0.7728119180633147 and parameters: {'n_estimators': 50, 'max_depth': 15}. Best is trial 2 with value: 0.7728119180633147.\n",
            "[I 2024-10-15 08:47:47,023] Trial 3 finished with value: 0.7653631284916201 and parameters: {'n_estimators': 100, 'max_depth': 15}. Best is trial 2 with value: 0.7728119180633147.\n",
            "[I 2024-10-15 08:47:47,588] Trial 4 finished with value: 0.7690875232774674 and parameters: {'n_estimators': 100, 'max_depth': 20}. Best is trial 2 with value: 0.7728119180633147.\n",
            "[I 2024-10-15 08:47:47,874] Trial 5 finished with value: 0.7579143389199254 and parameters: {'n_estimators': 50, 'max_depth': 10}. Best is trial 2 with value: 0.7728119180633147.\n",
            "[I 2024-10-15 08:47:48,683] Trial 6 finished with value: 0.7653631284916201 and parameters: {'n_estimators': 150, 'max_depth': 5}. Best is trial 2 with value: 0.7728119180633147.\n",
            "[I 2024-10-15 08:47:49,579] Trial 7 finished with value: 0.7728119180633147 and parameters: {'n_estimators': 150, 'max_depth': 20}. Best is trial 2 with value: 0.7728119180633147.\n",
            "[I 2024-10-15 08:47:50,748] Trial 8 finished with value: 0.7728119180633147 and parameters: {'n_estimators': 150, 'max_depth': 15}. Best is trial 2 with value: 0.7728119180633147.\n",
            "[I 2024-10-15 08:47:51,848] Trial 9 finished with value: 0.7709497206703911 and parameters: {'n_estimators': 200, 'max_depth': 10}. Best is trial 2 with value: 0.7728119180633147.\n",
            "[I 2024-10-15 08:47:53,423] Trial 10 finished with value: 0.7728119180633147 and parameters: {'n_estimators': 200, 'max_depth': 20}. Best is trial 2 with value: 0.7728119180633147.\n",
            "[I 2024-10-15 08:47:55,185] Trial 11 finished with value: 0.7728119180633147 and parameters: {'n_estimators': 200, 'max_depth': 15}. Best is trial 2 with value: 0.7728119180633147.\n",
            "[I 2024-10-15 08:47:56,374] Trial 12 finished with value: 0.7690875232774674 and parameters: {'n_estimators': 200, 'max_depth': 5}. Best is trial 2 with value: 0.7728119180633147.\n",
            "[I 2024-10-15 08:47:56,643] Trial 13 finished with value: 0.7746741154562384 and parameters: {'n_estimators': 50, 'max_depth': 5}. Best is trial 13 with value: 0.7746741154562384.\n",
            "[I 2024-10-15 08:47:57,210] Trial 14 finished with value: 0.7616387337057727 and parameters: {'n_estimators': 100, 'max_depth': 10}. Best is trial 13 with value: 0.7746741154562384.\n",
            "[I 2024-10-15 08:47:57,490] Trial 15 finished with value: 0.7709497206703911 and parameters: {'n_estimators': 50, 'max_depth': 20}. Best is trial 13 with value: 0.7746741154562384.\n"
          ]
        }
      ]
    },
    {
      "cell_type": "code",
      "source": [
        "\n",
        "# Print the best result\n",
        "print(f'Best trial accuracy: {study.best_trial.value}')\n",
        "print(f'Best hyperparameters: {study.best_trial.params}')"
      ],
      "metadata": {
        "colab": {
          "base_uri": "https://localhost:8080/"
        },
        "id": "UVQrXK77vojx",
        "outputId": "cc574136-7c71-4825-acdd-0074291b6dce"
      },
      "execution_count": 15,
      "outputs": [
        {
          "output_type": "stream",
          "name": "stdout",
          "text": [
            "Best trial accuracy: 0.7746741154562384\n",
            "Best hyperparameters: {'n_estimators': 50, 'max_depth': 5}\n"
          ]
        }
      ]
    },
    {
      "cell_type": "code",
      "source": [
        "from sklearn.metrics import accuracy_score\n",
        "\n",
        "# Train a RandomForestClassifier using the best hyperparameters from Optuna\n",
        "best_model = RandomForestClassifier(**study.best_trial.params, random_state=42)\n",
        "\n",
        "# Fit the model to the training data\n",
        "best_model.fit(X_train, y_train)\n",
        "\n",
        "# Make predictions on the test set\n",
        "y_pred = best_model.predict(X_test)\n",
        "\n",
        "# Calculate the accuracy on the test set\n",
        "test_accuracy = accuracy_score(y_test, y_pred)\n",
        "\n",
        "# Print the test accuracy\n",
        "print(f'Test Accuracy with best hyperparameters: {test_accuracy:.2f}')\n"
      ],
      "metadata": {
        "colab": {
          "base_uri": "https://localhost:8080/"
        },
        "id": "oIZKJsSVwaYj",
        "outputId": "8aa737e8-1cc0-431f-a902-7fdfe57ad167"
      },
      "execution_count": 16,
      "outputs": [
        {
          "output_type": "stream",
          "name": "stdout",
          "text": [
            "Test Accuracy with best hyperparameters: 0.74\n"
          ]
        }
      ]
    },
    {
      "cell_type": "markdown",
      "source": [
        "## Optuna Visualizations"
      ],
      "metadata": {
        "id": "K4LmndX54oSU"
      }
    },
    {
      "cell_type": "code",
      "source": [
        "# For visualizations\n",
        "from optuna.visualization import plot_optimization_history, plot_parallel_coordinate, plot_slice, plot_contour, plot_param_importances"
      ],
      "metadata": {
        "id": "RxNsmlcR4nZi"
      },
      "execution_count": 17,
      "outputs": []
    },
    {
      "cell_type": "code",
      "source": [
        "# 1. Optimization History\n",
        "plot_optimization_history(study).show()"
      ],
      "metadata": {
        "colab": {
          "base_uri": "https://localhost:8080/",
          "height": 542
        },
        "id": "tL5Gc3uxymq8",
        "outputId": "8528de2f-a689-482d-acae-97c14b2a4d53"
      },
      "execution_count": 18,
      "outputs": [
        {
          "output_type": "display_data",
          "data": {
            "text/html": [
              "<html>\n",
              "<head><meta charset=\"utf-8\" /></head>\n",
              "<body>\n",
              "    <div>            <script src=\"https://cdnjs.cloudflare.com/ajax/libs/mathjax/2.7.5/MathJax.js?config=TeX-AMS-MML_SVG\"></script><script type=\"text/javascript\">if (window.MathJax && window.MathJax.Hub && window.MathJax.Hub.Config) {window.MathJax.Hub.Config({SVG: {font: \"STIX-Web\"}});}</script>                <script type=\"text/javascript\">window.PlotlyConfig = {MathJaxConfig: 'local'};</script>\n",
              "        <script charset=\"utf-8\" src=\"https://cdn.plot.ly/plotly-2.35.2.min.js\"></script>                <div id=\"29baa227-308d-4f5a-b133-3342d21a4a05\" class=\"plotly-graph-div\" style=\"height:525px; width:100%;\"></div>            <script type=\"text/javascript\">                                    window.PLOTLYENV=window.PLOTLYENV || {};                                    if (document.getElementById(\"29baa227-308d-4f5a-b133-3342d21a4a05\")) {                    Plotly.newPlot(                        \"29baa227-308d-4f5a-b133-3342d21a4a05\",                        [{\"mode\":\"markers\",\"name\":\"Objective Value\",\"x\":[0,1,2,3,4,5,6,7,8,9,10,11,12,13,14,15],\"y\":[0.7690875232774674,0.7672253258845437,0.7728119180633147,0.7653631284916201,0.7690875232774674,0.7579143389199254,0.7653631284916201,0.7728119180633147,0.7728119180633147,0.7709497206703911,0.7728119180633147,0.7728119180633147,0.7690875232774674,0.7746741154562384,0.7616387337057727,0.7709497206703911],\"type\":\"scatter\"},{\"mode\":\"lines\",\"name\":\"Best Value\",\"x\":[0,1,2,3,4,5,6,7,8,9,10,11,12,13,14,15],\"y\":[0.7690875232774674,0.7690875232774674,0.7728119180633147,0.7728119180633147,0.7728119180633147,0.7728119180633147,0.7728119180633147,0.7728119180633147,0.7728119180633147,0.7728119180633147,0.7728119180633147,0.7728119180633147,0.7728119180633147,0.7746741154562384,0.7746741154562384,0.7746741154562384],\"type\":\"scatter\"},{\"marker\":{\"color\":\"#cccccc\"},\"mode\":\"markers\",\"name\":\"Infeasible Trial\",\"showlegend\":false,\"x\":[],\"y\":[],\"type\":\"scatter\"}],                        {\"title\":{\"text\":\"Optimization History Plot\"},\"xaxis\":{\"title\":{\"text\":\"Trial\"}},\"yaxis\":{\"title\":{\"text\":\"Objective Value\"}},\"template\":{\"data\":{\"histogram2dcontour\":[{\"type\":\"histogram2dcontour\",\"colorbar\":{\"outlinewidth\":0,\"ticks\":\"\"},\"colorscale\":[[0.0,\"#0d0887\"],[0.1111111111111111,\"#46039f\"],[0.2222222222222222,\"#7201a8\"],[0.3333333333333333,\"#9c179e\"],[0.4444444444444444,\"#bd3786\"],[0.5555555555555556,\"#d8576b\"],[0.6666666666666666,\"#ed7953\"],[0.7777777777777778,\"#fb9f3a\"],[0.8888888888888888,\"#fdca26\"],[1.0,\"#f0f921\"]]}],\"choropleth\":[{\"type\":\"choropleth\",\"colorbar\":{\"outlinewidth\":0,\"ticks\":\"\"}}],\"histogram2d\":[{\"type\":\"histogram2d\",\"colorbar\":{\"outlinewidth\":0,\"ticks\":\"\"},\"colorscale\":[[0.0,\"#0d0887\"],[0.1111111111111111,\"#46039f\"],[0.2222222222222222,\"#7201a8\"],[0.3333333333333333,\"#9c179e\"],[0.4444444444444444,\"#bd3786\"],[0.5555555555555556,\"#d8576b\"],[0.6666666666666666,\"#ed7953\"],[0.7777777777777778,\"#fb9f3a\"],[0.8888888888888888,\"#fdca26\"],[1.0,\"#f0f921\"]]}],\"heatmap\":[{\"type\":\"heatmap\",\"colorbar\":{\"outlinewidth\":0,\"ticks\":\"\"},\"colorscale\":[[0.0,\"#0d0887\"],[0.1111111111111111,\"#46039f\"],[0.2222222222222222,\"#7201a8\"],[0.3333333333333333,\"#9c179e\"],[0.4444444444444444,\"#bd3786\"],[0.5555555555555556,\"#d8576b\"],[0.6666666666666666,\"#ed7953\"],[0.7777777777777778,\"#fb9f3a\"],[0.8888888888888888,\"#fdca26\"],[1.0,\"#f0f921\"]]}],\"heatmapgl\":[{\"type\":\"heatmapgl\",\"colorbar\":{\"outlinewidth\":0,\"ticks\":\"\"},\"colorscale\":[[0.0,\"#0d0887\"],[0.1111111111111111,\"#46039f\"],[0.2222222222222222,\"#7201a8\"],[0.3333333333333333,\"#9c179e\"],[0.4444444444444444,\"#bd3786\"],[0.5555555555555556,\"#d8576b\"],[0.6666666666666666,\"#ed7953\"],[0.7777777777777778,\"#fb9f3a\"],[0.8888888888888888,\"#fdca26\"],[1.0,\"#f0f921\"]]}],\"contourcarpet\":[{\"type\":\"contourcarpet\",\"colorbar\":{\"outlinewidth\":0,\"ticks\":\"\"}}],\"contour\":[{\"type\":\"contour\",\"colorbar\":{\"outlinewidth\":0,\"ticks\":\"\"},\"colorscale\":[[0.0,\"#0d0887\"],[0.1111111111111111,\"#46039f\"],[0.2222222222222222,\"#7201a8\"],[0.3333333333333333,\"#9c179e\"],[0.4444444444444444,\"#bd3786\"],[0.5555555555555556,\"#d8576b\"],[0.6666666666666666,\"#ed7953\"],[0.7777777777777778,\"#fb9f3a\"],[0.8888888888888888,\"#fdca26\"],[1.0,\"#f0f921\"]]}],\"surface\":[{\"type\":\"surface\",\"colorbar\":{\"outlinewidth\":0,\"ticks\":\"\"},\"colorscale\":[[0.0,\"#0d0887\"],[0.1111111111111111,\"#46039f\"],[0.2222222222222222,\"#7201a8\"],[0.3333333333333333,\"#9c179e\"],[0.4444444444444444,\"#bd3786\"],[0.5555555555555556,\"#d8576b\"],[0.6666666666666666,\"#ed7953\"],[0.7777777777777778,\"#fb9f3a\"],[0.8888888888888888,\"#fdca26\"],[1.0,\"#f0f921\"]]}],\"mesh3d\":[{\"type\":\"mesh3d\",\"colorbar\":{\"outlinewidth\":0,\"ticks\":\"\"}}],\"scatter\":[{\"fillpattern\":{\"fillmode\":\"overlay\",\"size\":10,\"solidity\":0.2},\"type\":\"scatter\"}],\"parcoords\":[{\"type\":\"parcoords\",\"line\":{\"colorbar\":{\"outlinewidth\":0,\"ticks\":\"\"}}}],\"scatterpolargl\":[{\"type\":\"scatterpolargl\",\"marker\":{\"colorbar\":{\"outlinewidth\":0,\"ticks\":\"\"}}}],\"bar\":[{\"error_x\":{\"color\":\"#2a3f5f\"},\"error_y\":{\"color\":\"#2a3f5f\"},\"marker\":{\"line\":{\"color\":\"#E5ECF6\",\"width\":0.5},\"pattern\":{\"fillmode\":\"overlay\",\"size\":10,\"solidity\":0.2}},\"type\":\"bar\"}],\"scattergeo\":[{\"type\":\"scattergeo\",\"marker\":{\"colorbar\":{\"outlinewidth\":0,\"ticks\":\"\"}}}],\"scatterpolar\":[{\"type\":\"scatterpolar\",\"marker\":{\"colorbar\":{\"outlinewidth\":0,\"ticks\":\"\"}}}],\"histogram\":[{\"marker\":{\"pattern\":{\"fillmode\":\"overlay\",\"size\":10,\"solidity\":0.2}},\"type\":\"histogram\"}],\"scattergl\":[{\"type\":\"scattergl\",\"marker\":{\"colorbar\":{\"outlinewidth\":0,\"ticks\":\"\"}}}],\"scatter3d\":[{\"type\":\"scatter3d\",\"line\":{\"colorbar\":{\"outlinewidth\":0,\"ticks\":\"\"}},\"marker\":{\"colorbar\":{\"outlinewidth\":0,\"ticks\":\"\"}}}],\"scattermapbox\":[{\"type\":\"scattermapbox\",\"marker\":{\"colorbar\":{\"outlinewidth\":0,\"ticks\":\"\"}}}],\"scatterternary\":[{\"type\":\"scatterternary\",\"marker\":{\"colorbar\":{\"outlinewidth\":0,\"ticks\":\"\"}}}],\"scattercarpet\":[{\"type\":\"scattercarpet\",\"marker\":{\"colorbar\":{\"outlinewidth\":0,\"ticks\":\"\"}}}],\"carpet\":[{\"aaxis\":{\"endlinecolor\":\"#2a3f5f\",\"gridcolor\":\"white\",\"linecolor\":\"white\",\"minorgridcolor\":\"white\",\"startlinecolor\":\"#2a3f5f\"},\"baxis\":{\"endlinecolor\":\"#2a3f5f\",\"gridcolor\":\"white\",\"linecolor\":\"white\",\"minorgridcolor\":\"white\",\"startlinecolor\":\"#2a3f5f\"},\"type\":\"carpet\"}],\"table\":[{\"cells\":{\"fill\":{\"color\":\"#EBF0F8\"},\"line\":{\"color\":\"white\"}},\"header\":{\"fill\":{\"color\":\"#C8D4E3\"},\"line\":{\"color\":\"white\"}},\"type\":\"table\"}],\"barpolar\":[{\"marker\":{\"line\":{\"color\":\"#E5ECF6\",\"width\":0.5},\"pattern\":{\"fillmode\":\"overlay\",\"size\":10,\"solidity\":0.2}},\"type\":\"barpolar\"}],\"pie\":[{\"automargin\":true,\"type\":\"pie\"}]},\"layout\":{\"autotypenumbers\":\"strict\",\"colorway\":[\"#636efa\",\"#EF553B\",\"#00cc96\",\"#ab63fa\",\"#FFA15A\",\"#19d3f3\",\"#FF6692\",\"#B6E880\",\"#FF97FF\",\"#FECB52\"],\"font\":{\"color\":\"#2a3f5f\"},\"hovermode\":\"closest\",\"hoverlabel\":{\"align\":\"left\"},\"paper_bgcolor\":\"white\",\"plot_bgcolor\":\"#E5ECF6\",\"polar\":{\"bgcolor\":\"#E5ECF6\",\"angularaxis\":{\"gridcolor\":\"white\",\"linecolor\":\"white\",\"ticks\":\"\"},\"radialaxis\":{\"gridcolor\":\"white\",\"linecolor\":\"white\",\"ticks\":\"\"}},\"ternary\":{\"bgcolor\":\"#E5ECF6\",\"aaxis\":{\"gridcolor\":\"white\",\"linecolor\":\"white\",\"ticks\":\"\"},\"baxis\":{\"gridcolor\":\"white\",\"linecolor\":\"white\",\"ticks\":\"\"},\"caxis\":{\"gridcolor\":\"white\",\"linecolor\":\"white\",\"ticks\":\"\"}},\"coloraxis\":{\"colorbar\":{\"outlinewidth\":0,\"ticks\":\"\"}},\"colorscale\":{\"sequential\":[[0.0,\"#0d0887\"],[0.1111111111111111,\"#46039f\"],[0.2222222222222222,\"#7201a8\"],[0.3333333333333333,\"#9c179e\"],[0.4444444444444444,\"#bd3786\"],[0.5555555555555556,\"#d8576b\"],[0.6666666666666666,\"#ed7953\"],[0.7777777777777778,\"#fb9f3a\"],[0.8888888888888888,\"#fdca26\"],[1.0,\"#f0f921\"]],\"sequentialminus\":[[0.0,\"#0d0887\"],[0.1111111111111111,\"#46039f\"],[0.2222222222222222,\"#7201a8\"],[0.3333333333333333,\"#9c179e\"],[0.4444444444444444,\"#bd3786\"],[0.5555555555555556,\"#d8576b\"],[0.6666666666666666,\"#ed7953\"],[0.7777777777777778,\"#fb9f3a\"],[0.8888888888888888,\"#fdca26\"],[1.0,\"#f0f921\"]],\"diverging\":[[0,\"#8e0152\"],[0.1,\"#c51b7d\"],[0.2,\"#de77ae\"],[0.3,\"#f1b6da\"],[0.4,\"#fde0ef\"],[0.5,\"#f7f7f7\"],[0.6,\"#e6f5d0\"],[0.7,\"#b8e186\"],[0.8,\"#7fbc41\"],[0.9,\"#4d9221\"],[1,\"#276419\"]]},\"xaxis\":{\"gridcolor\":\"white\",\"linecolor\":\"white\",\"ticks\":\"\",\"title\":{\"standoff\":15},\"zerolinecolor\":\"white\",\"automargin\":true,\"zerolinewidth\":2},\"yaxis\":{\"gridcolor\":\"white\",\"linecolor\":\"white\",\"ticks\":\"\",\"title\":{\"standoff\":15},\"zerolinecolor\":\"white\",\"automargin\":true,\"zerolinewidth\":2},\"scene\":{\"xaxis\":{\"backgroundcolor\":\"#E5ECF6\",\"gridcolor\":\"white\",\"linecolor\":\"white\",\"showbackground\":true,\"ticks\":\"\",\"zerolinecolor\":\"white\",\"gridwidth\":2},\"yaxis\":{\"backgroundcolor\":\"#E5ECF6\",\"gridcolor\":\"white\",\"linecolor\":\"white\",\"showbackground\":true,\"ticks\":\"\",\"zerolinecolor\":\"white\",\"gridwidth\":2},\"zaxis\":{\"backgroundcolor\":\"#E5ECF6\",\"gridcolor\":\"white\",\"linecolor\":\"white\",\"showbackground\":true,\"ticks\":\"\",\"zerolinecolor\":\"white\",\"gridwidth\":2}},\"shapedefaults\":{\"line\":{\"color\":\"#2a3f5f\"}},\"annotationdefaults\":{\"arrowcolor\":\"#2a3f5f\",\"arrowhead\":0,\"arrowwidth\":1},\"geo\":{\"bgcolor\":\"white\",\"landcolor\":\"#E5ECF6\",\"subunitcolor\":\"white\",\"showland\":true,\"showlakes\":true,\"lakecolor\":\"white\"},\"title\":{\"x\":0.05},\"mapbox\":{\"style\":\"light\"}}}},                        {\"responsive\": true}                    ).then(function(){\n",
              "                            \n",
              "var gd = document.getElementById('29baa227-308d-4f5a-b133-3342d21a4a05');\n",
              "var x = new MutationObserver(function (mutations, observer) {{\n",
              "        var display = window.getComputedStyle(gd).display;\n",
              "        if (!display || display === 'none') {{\n",
              "            console.log([gd, 'removed!']);\n",
              "            Plotly.purge(gd);\n",
              "            observer.disconnect();\n",
              "        }}\n",
              "}});\n",
              "\n",
              "// Listen for the removal of the full notebook cells\n",
              "var notebookContainer = gd.closest('#notebook-container');\n",
              "if (notebookContainer) {{\n",
              "    x.observe(notebookContainer, {childList: true});\n",
              "}}\n",
              "\n",
              "// Listen for the clearing of the current output cell\n",
              "var outputEl = gd.closest('.output');\n",
              "if (outputEl) {{\n",
              "    x.observe(outputEl, {childList: true});\n",
              "}}\n",
              "\n",
              "                        })                };                            </script>        </div>\n",
              "</body>\n",
              "</html>"
            ]
          },
          "metadata": {}
        }
      ]
    },
    {
      "cell_type": "code",
      "source": [
        "# 2. Parallel Coordinates Plot\n",
        "plot_parallel_coordinate(study).show()"
      ],
      "metadata": {
        "colab": {
          "base_uri": "https://localhost:8080/",
          "height": 542
        },
        "id": "0VPz89RB4yQ7",
        "outputId": "784ad969-f9eb-4a77-868e-98ba341a901c"
      },
      "execution_count": 19,
      "outputs": [
        {
          "output_type": "display_data",
          "data": {
            "text/html": [
              "<html>\n",
              "<head><meta charset=\"utf-8\" /></head>\n",
              "<body>\n",
              "    <div>            <script src=\"https://cdnjs.cloudflare.com/ajax/libs/mathjax/2.7.5/MathJax.js?config=TeX-AMS-MML_SVG\"></script><script type=\"text/javascript\">if (window.MathJax && window.MathJax.Hub && window.MathJax.Hub.Config) {window.MathJax.Hub.Config({SVG: {font: \"STIX-Web\"}});}</script>                <script type=\"text/javascript\">window.PlotlyConfig = {MathJaxConfig: 'local'};</script>\n",
              "        <script charset=\"utf-8\" src=\"https://cdn.plot.ly/plotly-2.35.2.min.js\"></script>                <div id=\"dc87fec8-fbe5-4c5a-9389-77fdac173d47\" class=\"plotly-graph-div\" style=\"height:525px; width:100%;\"></div>            <script type=\"text/javascript\">                                    window.PLOTLYENV=window.PLOTLYENV || {};                                    if (document.getElementById(\"dc87fec8-fbe5-4c5a-9389-77fdac173d47\")) {                    Plotly.newPlot(                        \"dc87fec8-fbe5-4c5a-9389-77fdac173d47\",                        [{\"dimensions\":[{\"label\":\"Objective Value\",\"range\":[0.7579143389199254,0.7746741154562384],\"values\":[0.7690875232774674,0.7672253258845437,0.7728119180633147,0.7653631284916201,0.7690875232774674,0.7579143389199254,0.7653631284916201,0.7728119180633147,0.7728119180633147,0.7709497206703911,0.7728119180633147,0.7728119180633147,0.7690875232774674,0.7746741154562384,0.7616387337057727,0.7709497206703911]},{\"label\":\"max_depth\",\"range\":[5,20],\"values\":[5,10,15,15,20,10,5,20,15,10,20,15,5,5,10,20]},{\"label\":\"n_estimators\",\"range\":[50,200],\"values\":[100,150,50,100,100,50,150,150,150,200,200,200,200,50,100,50]}],\"labelangle\":30,\"labelside\":\"bottom\",\"line\":{\"color\":[0.7690875232774674,0.7672253258845437,0.7728119180633147,0.7653631284916201,0.7690875232774674,0.7579143389199254,0.7653631284916201,0.7728119180633147,0.7728119180633147,0.7709497206703911,0.7728119180633147,0.7728119180633147,0.7690875232774674,0.7746741154562384,0.7616387337057727,0.7709497206703911],\"colorbar\":{\"title\":{\"text\":\"Objective Value\"}},\"colorscale\":[[0.0,\"rgb(247,251,255)\"],[0.125,\"rgb(222,235,247)\"],[0.25,\"rgb(198,219,239)\"],[0.375,\"rgb(158,202,225)\"],[0.5,\"rgb(107,174,214)\"],[0.625,\"rgb(66,146,198)\"],[0.75,\"rgb(33,113,181)\"],[0.875,\"rgb(8,81,156)\"],[1.0,\"rgb(8,48,107)\"]],\"reversescale\":false,\"showscale\":true},\"type\":\"parcoords\"}],                        {\"title\":{\"text\":\"Parallel Coordinate Plot\"},\"template\":{\"data\":{\"histogram2dcontour\":[{\"type\":\"histogram2dcontour\",\"colorbar\":{\"outlinewidth\":0,\"ticks\":\"\"},\"colorscale\":[[0.0,\"#0d0887\"],[0.1111111111111111,\"#46039f\"],[0.2222222222222222,\"#7201a8\"],[0.3333333333333333,\"#9c179e\"],[0.4444444444444444,\"#bd3786\"],[0.5555555555555556,\"#d8576b\"],[0.6666666666666666,\"#ed7953\"],[0.7777777777777778,\"#fb9f3a\"],[0.8888888888888888,\"#fdca26\"],[1.0,\"#f0f921\"]]}],\"choropleth\":[{\"type\":\"choropleth\",\"colorbar\":{\"outlinewidth\":0,\"ticks\":\"\"}}],\"histogram2d\":[{\"type\":\"histogram2d\",\"colorbar\":{\"outlinewidth\":0,\"ticks\":\"\"},\"colorscale\":[[0.0,\"#0d0887\"],[0.1111111111111111,\"#46039f\"],[0.2222222222222222,\"#7201a8\"],[0.3333333333333333,\"#9c179e\"],[0.4444444444444444,\"#bd3786\"],[0.5555555555555556,\"#d8576b\"],[0.6666666666666666,\"#ed7953\"],[0.7777777777777778,\"#fb9f3a\"],[0.8888888888888888,\"#fdca26\"],[1.0,\"#f0f921\"]]}],\"heatmap\":[{\"type\":\"heatmap\",\"colorbar\":{\"outlinewidth\":0,\"ticks\":\"\"},\"colorscale\":[[0.0,\"#0d0887\"],[0.1111111111111111,\"#46039f\"],[0.2222222222222222,\"#7201a8\"],[0.3333333333333333,\"#9c179e\"],[0.4444444444444444,\"#bd3786\"],[0.5555555555555556,\"#d8576b\"],[0.6666666666666666,\"#ed7953\"],[0.7777777777777778,\"#fb9f3a\"],[0.8888888888888888,\"#fdca26\"],[1.0,\"#f0f921\"]]}],\"heatmapgl\":[{\"type\":\"heatmapgl\",\"colorbar\":{\"outlinewidth\":0,\"ticks\":\"\"},\"colorscale\":[[0.0,\"#0d0887\"],[0.1111111111111111,\"#46039f\"],[0.2222222222222222,\"#7201a8\"],[0.3333333333333333,\"#9c179e\"],[0.4444444444444444,\"#bd3786\"],[0.5555555555555556,\"#d8576b\"],[0.6666666666666666,\"#ed7953\"],[0.7777777777777778,\"#fb9f3a\"],[0.8888888888888888,\"#fdca26\"],[1.0,\"#f0f921\"]]}],\"contourcarpet\":[{\"type\":\"contourcarpet\",\"colorbar\":{\"outlinewidth\":0,\"ticks\":\"\"}}],\"contour\":[{\"type\":\"contour\",\"colorbar\":{\"outlinewidth\":0,\"ticks\":\"\"},\"colorscale\":[[0.0,\"#0d0887\"],[0.1111111111111111,\"#46039f\"],[0.2222222222222222,\"#7201a8\"],[0.3333333333333333,\"#9c179e\"],[0.4444444444444444,\"#bd3786\"],[0.5555555555555556,\"#d8576b\"],[0.6666666666666666,\"#ed7953\"],[0.7777777777777778,\"#fb9f3a\"],[0.8888888888888888,\"#fdca26\"],[1.0,\"#f0f921\"]]}],\"surface\":[{\"type\":\"surface\",\"colorbar\":{\"outlinewidth\":0,\"ticks\":\"\"},\"colorscale\":[[0.0,\"#0d0887\"],[0.1111111111111111,\"#46039f\"],[0.2222222222222222,\"#7201a8\"],[0.3333333333333333,\"#9c179e\"],[0.4444444444444444,\"#bd3786\"],[0.5555555555555556,\"#d8576b\"],[0.6666666666666666,\"#ed7953\"],[0.7777777777777778,\"#fb9f3a\"],[0.8888888888888888,\"#fdca26\"],[1.0,\"#f0f921\"]]}],\"mesh3d\":[{\"type\":\"mesh3d\",\"colorbar\":{\"outlinewidth\":0,\"ticks\":\"\"}}],\"scatter\":[{\"fillpattern\":{\"fillmode\":\"overlay\",\"size\":10,\"solidity\":0.2},\"type\":\"scatter\"}],\"parcoords\":[{\"type\":\"parcoords\",\"line\":{\"colorbar\":{\"outlinewidth\":0,\"ticks\":\"\"}}}],\"scatterpolargl\":[{\"type\":\"scatterpolargl\",\"marker\":{\"colorbar\":{\"outlinewidth\":0,\"ticks\":\"\"}}}],\"bar\":[{\"error_x\":{\"color\":\"#2a3f5f\"},\"error_y\":{\"color\":\"#2a3f5f\"},\"marker\":{\"line\":{\"color\":\"#E5ECF6\",\"width\":0.5},\"pattern\":{\"fillmode\":\"overlay\",\"size\":10,\"solidity\":0.2}},\"type\":\"bar\"}],\"scattergeo\":[{\"type\":\"scattergeo\",\"marker\":{\"colorbar\":{\"outlinewidth\":0,\"ticks\":\"\"}}}],\"scatterpolar\":[{\"type\":\"scatterpolar\",\"marker\":{\"colorbar\":{\"outlinewidth\":0,\"ticks\":\"\"}}}],\"histogram\":[{\"marker\":{\"pattern\":{\"fillmode\":\"overlay\",\"size\":10,\"solidity\":0.2}},\"type\":\"histogram\"}],\"scattergl\":[{\"type\":\"scattergl\",\"marker\":{\"colorbar\":{\"outlinewidth\":0,\"ticks\":\"\"}}}],\"scatter3d\":[{\"type\":\"scatter3d\",\"line\":{\"colorbar\":{\"outlinewidth\":0,\"ticks\":\"\"}},\"marker\":{\"colorbar\":{\"outlinewidth\":0,\"ticks\":\"\"}}}],\"scattermapbox\":[{\"type\":\"scattermapbox\",\"marker\":{\"colorbar\":{\"outlinewidth\":0,\"ticks\":\"\"}}}],\"scatterternary\":[{\"type\":\"scatterternary\",\"marker\":{\"colorbar\":{\"outlinewidth\":0,\"ticks\":\"\"}}}],\"scattercarpet\":[{\"type\":\"scattercarpet\",\"marker\":{\"colorbar\":{\"outlinewidth\":0,\"ticks\":\"\"}}}],\"carpet\":[{\"aaxis\":{\"endlinecolor\":\"#2a3f5f\",\"gridcolor\":\"white\",\"linecolor\":\"white\",\"minorgridcolor\":\"white\",\"startlinecolor\":\"#2a3f5f\"},\"baxis\":{\"endlinecolor\":\"#2a3f5f\",\"gridcolor\":\"white\",\"linecolor\":\"white\",\"minorgridcolor\":\"white\",\"startlinecolor\":\"#2a3f5f\"},\"type\":\"carpet\"}],\"table\":[{\"cells\":{\"fill\":{\"color\":\"#EBF0F8\"},\"line\":{\"color\":\"white\"}},\"header\":{\"fill\":{\"color\":\"#C8D4E3\"},\"line\":{\"color\":\"white\"}},\"type\":\"table\"}],\"barpolar\":[{\"marker\":{\"line\":{\"color\":\"#E5ECF6\",\"width\":0.5},\"pattern\":{\"fillmode\":\"overlay\",\"size\":10,\"solidity\":0.2}},\"type\":\"barpolar\"}],\"pie\":[{\"automargin\":true,\"type\":\"pie\"}]},\"layout\":{\"autotypenumbers\":\"strict\",\"colorway\":[\"#636efa\",\"#EF553B\",\"#00cc96\",\"#ab63fa\",\"#FFA15A\",\"#19d3f3\",\"#FF6692\",\"#B6E880\",\"#FF97FF\",\"#FECB52\"],\"font\":{\"color\":\"#2a3f5f\"},\"hovermode\":\"closest\",\"hoverlabel\":{\"align\":\"left\"},\"paper_bgcolor\":\"white\",\"plot_bgcolor\":\"#E5ECF6\",\"polar\":{\"bgcolor\":\"#E5ECF6\",\"angularaxis\":{\"gridcolor\":\"white\",\"linecolor\":\"white\",\"ticks\":\"\"},\"radialaxis\":{\"gridcolor\":\"white\",\"linecolor\":\"white\",\"ticks\":\"\"}},\"ternary\":{\"bgcolor\":\"#E5ECF6\",\"aaxis\":{\"gridcolor\":\"white\",\"linecolor\":\"white\",\"ticks\":\"\"},\"baxis\":{\"gridcolor\":\"white\",\"linecolor\":\"white\",\"ticks\":\"\"},\"caxis\":{\"gridcolor\":\"white\",\"linecolor\":\"white\",\"ticks\":\"\"}},\"coloraxis\":{\"colorbar\":{\"outlinewidth\":0,\"ticks\":\"\"}},\"colorscale\":{\"sequential\":[[0.0,\"#0d0887\"],[0.1111111111111111,\"#46039f\"],[0.2222222222222222,\"#7201a8\"],[0.3333333333333333,\"#9c179e\"],[0.4444444444444444,\"#bd3786\"],[0.5555555555555556,\"#d8576b\"],[0.6666666666666666,\"#ed7953\"],[0.7777777777777778,\"#fb9f3a\"],[0.8888888888888888,\"#fdca26\"],[1.0,\"#f0f921\"]],\"sequentialminus\":[[0.0,\"#0d0887\"],[0.1111111111111111,\"#46039f\"],[0.2222222222222222,\"#7201a8\"],[0.3333333333333333,\"#9c179e\"],[0.4444444444444444,\"#bd3786\"],[0.5555555555555556,\"#d8576b\"],[0.6666666666666666,\"#ed7953\"],[0.7777777777777778,\"#fb9f3a\"],[0.8888888888888888,\"#fdca26\"],[1.0,\"#f0f921\"]],\"diverging\":[[0,\"#8e0152\"],[0.1,\"#c51b7d\"],[0.2,\"#de77ae\"],[0.3,\"#f1b6da\"],[0.4,\"#fde0ef\"],[0.5,\"#f7f7f7\"],[0.6,\"#e6f5d0\"],[0.7,\"#b8e186\"],[0.8,\"#7fbc41\"],[0.9,\"#4d9221\"],[1,\"#276419\"]]},\"xaxis\":{\"gridcolor\":\"white\",\"linecolor\":\"white\",\"ticks\":\"\",\"title\":{\"standoff\":15},\"zerolinecolor\":\"white\",\"automargin\":true,\"zerolinewidth\":2},\"yaxis\":{\"gridcolor\":\"white\",\"linecolor\":\"white\",\"ticks\":\"\",\"title\":{\"standoff\":15},\"zerolinecolor\":\"white\",\"automargin\":true,\"zerolinewidth\":2},\"scene\":{\"xaxis\":{\"backgroundcolor\":\"#E5ECF6\",\"gridcolor\":\"white\",\"linecolor\":\"white\",\"showbackground\":true,\"ticks\":\"\",\"zerolinecolor\":\"white\",\"gridwidth\":2},\"yaxis\":{\"backgroundcolor\":\"#E5ECF6\",\"gridcolor\":\"white\",\"linecolor\":\"white\",\"showbackground\":true,\"ticks\":\"\",\"zerolinecolor\":\"white\",\"gridwidth\":2},\"zaxis\":{\"backgroundcolor\":\"#E5ECF6\",\"gridcolor\":\"white\",\"linecolor\":\"white\",\"showbackground\":true,\"ticks\":\"\",\"zerolinecolor\":\"white\",\"gridwidth\":2}},\"shapedefaults\":{\"line\":{\"color\":\"#2a3f5f\"}},\"annotationdefaults\":{\"arrowcolor\":\"#2a3f5f\",\"arrowhead\":0,\"arrowwidth\":1},\"geo\":{\"bgcolor\":\"white\",\"landcolor\":\"#E5ECF6\",\"subunitcolor\":\"white\",\"showland\":true,\"showlakes\":true,\"lakecolor\":\"white\"},\"title\":{\"x\":0.05},\"mapbox\":{\"style\":\"light\"}}}},                        {\"responsive\": true}                    ).then(function(){\n",
              "                            \n",
              "var gd = document.getElementById('dc87fec8-fbe5-4c5a-9389-77fdac173d47');\n",
              "var x = new MutationObserver(function (mutations, observer) {{\n",
              "        var display = window.getComputedStyle(gd).display;\n",
              "        if (!display || display === 'none') {{\n",
              "            console.log([gd, 'removed!']);\n",
              "            Plotly.purge(gd);\n",
              "            observer.disconnect();\n",
              "        }}\n",
              "}});\n",
              "\n",
              "// Listen for the removal of the full notebook cells\n",
              "var notebookContainer = gd.closest('#notebook-container');\n",
              "if (notebookContainer) {{\n",
              "    x.observe(notebookContainer, {childList: true});\n",
              "}}\n",
              "\n",
              "// Listen for the clearing of the current output cell\n",
              "var outputEl = gd.closest('.output');\n",
              "if (outputEl) {{\n",
              "    x.observe(outputEl, {childList: true});\n",
              "}}\n",
              "\n",
              "                        })                };                            </script>        </div>\n",
              "</body>\n",
              "</html>"
            ]
          },
          "metadata": {}
        }
      ]
    },
    {
      "cell_type": "code",
      "source": [
        "# 3. Slice Plot\n",
        "plot_slice(study).show()"
      ],
      "metadata": {
        "colab": {
          "base_uri": "https://localhost:8080/",
          "height": 542
        },
        "id": "JO1GGlRv43tJ",
        "outputId": "95ff843d-b08b-40a4-eccc-7ce5d8640e32"
      },
      "execution_count": 20,
      "outputs": [
        {
          "output_type": "display_data",
          "data": {
            "text/html": [
              "<html>\n",
              "<head><meta charset=\"utf-8\" /></head>\n",
              "<body>\n",
              "    <div>            <script src=\"https://cdnjs.cloudflare.com/ajax/libs/mathjax/2.7.5/MathJax.js?config=TeX-AMS-MML_SVG\"></script><script type=\"text/javascript\">if (window.MathJax && window.MathJax.Hub && window.MathJax.Hub.Config) {window.MathJax.Hub.Config({SVG: {font: \"STIX-Web\"}});}</script>                <script type=\"text/javascript\">window.PlotlyConfig = {MathJaxConfig: 'local'};</script>\n",
              "        <script charset=\"utf-8\" src=\"https://cdn.plot.ly/plotly-2.35.2.min.js\"></script>                <div id=\"2c328b2a-167f-4dca-955a-c02bd2d5b065\" class=\"plotly-graph-div\" style=\"height:525px; width:100%;\"></div>            <script type=\"text/javascript\">                                    window.PLOTLYENV=window.PLOTLYENV || {};                                    if (document.getElementById(\"2c328b2a-167f-4dca-955a-c02bd2d5b065\")) {                    Plotly.newPlot(                        \"2c328b2a-167f-4dca-955a-c02bd2d5b065\",                        [{\"marker\":{\"color\":[0,1,2,3,4,5,6,7,8,9,10,11,12,13,14,15],\"colorbar\":{\"title\":{\"text\":\"Trial\"},\"x\":1.0,\"xpad\":40},\"colorscale\":[[0.0,\"rgb(247,251,255)\"],[0.125,\"rgb(222,235,247)\"],[0.25,\"rgb(198,219,239)\"],[0.375,\"rgb(158,202,225)\"],[0.5,\"rgb(107,174,214)\"],[0.625,\"rgb(66,146,198)\"],[0.75,\"rgb(33,113,181)\"],[0.875,\"rgb(8,81,156)\"],[1.0,\"rgb(8,48,107)\"]],\"line\":{\"color\":\"Grey\",\"width\":0.5},\"showscale\":true},\"mode\":\"markers\",\"name\":\"Feasible Trial\",\"showlegend\":false,\"x\":[5,10,15,15,20,10,5,20,15,10,20,15,5,5,10,20],\"y\":[0.7690875232774674,0.7672253258845437,0.7728119180633147,0.7653631284916201,0.7690875232774674,0.7579143389199254,0.7653631284916201,0.7728119180633147,0.7728119180633147,0.7709497206703911,0.7728119180633147,0.7728119180633147,0.7690875232774674,0.7746741154562384,0.7616387337057727,0.7709497206703911],\"type\":\"scatter\",\"xaxis\":\"x\",\"yaxis\":\"y\"},{\"marker\":{\"color\":[0,1,2,3,4,5,6,7,8,9,10,11,12,13,14,15],\"colorbar\":{\"title\":{\"text\":\"Trial\"},\"x\":1.0,\"xpad\":40},\"colorscale\":[[0.0,\"rgb(247,251,255)\"],[0.125,\"rgb(222,235,247)\"],[0.25,\"rgb(198,219,239)\"],[0.375,\"rgb(158,202,225)\"],[0.5,\"rgb(107,174,214)\"],[0.625,\"rgb(66,146,198)\"],[0.75,\"rgb(33,113,181)\"],[0.875,\"rgb(8,81,156)\"],[1.0,\"rgb(8,48,107)\"]],\"line\":{\"color\":\"Grey\",\"width\":0.5},\"showscale\":false},\"mode\":\"markers\",\"name\":\"Feasible Trial\",\"showlegend\":false,\"x\":[100,150,50,100,100,50,150,150,150,200,200,200,200,50,100,50],\"y\":[0.7690875232774674,0.7672253258845437,0.7728119180633147,0.7653631284916201,0.7690875232774674,0.7579143389199254,0.7653631284916201,0.7728119180633147,0.7728119180633147,0.7709497206703911,0.7728119180633147,0.7728119180633147,0.7690875232774674,0.7746741154562384,0.7616387337057727,0.7709497206703911],\"type\":\"scatter\",\"xaxis\":\"x2\",\"yaxis\":\"y2\"}],                        {\"template\":{\"data\":{\"histogram2dcontour\":[{\"type\":\"histogram2dcontour\",\"colorbar\":{\"outlinewidth\":0,\"ticks\":\"\"},\"colorscale\":[[0.0,\"#0d0887\"],[0.1111111111111111,\"#46039f\"],[0.2222222222222222,\"#7201a8\"],[0.3333333333333333,\"#9c179e\"],[0.4444444444444444,\"#bd3786\"],[0.5555555555555556,\"#d8576b\"],[0.6666666666666666,\"#ed7953\"],[0.7777777777777778,\"#fb9f3a\"],[0.8888888888888888,\"#fdca26\"],[1.0,\"#f0f921\"]]}],\"choropleth\":[{\"type\":\"choropleth\",\"colorbar\":{\"outlinewidth\":0,\"ticks\":\"\"}}],\"histogram2d\":[{\"type\":\"histogram2d\",\"colorbar\":{\"outlinewidth\":0,\"ticks\":\"\"},\"colorscale\":[[0.0,\"#0d0887\"],[0.1111111111111111,\"#46039f\"],[0.2222222222222222,\"#7201a8\"],[0.3333333333333333,\"#9c179e\"],[0.4444444444444444,\"#bd3786\"],[0.5555555555555556,\"#d8576b\"],[0.6666666666666666,\"#ed7953\"],[0.7777777777777778,\"#fb9f3a\"],[0.8888888888888888,\"#fdca26\"],[1.0,\"#f0f921\"]]}],\"heatmap\":[{\"type\":\"heatmap\",\"colorbar\":{\"outlinewidth\":0,\"ticks\":\"\"},\"colorscale\":[[0.0,\"#0d0887\"],[0.1111111111111111,\"#46039f\"],[0.2222222222222222,\"#7201a8\"],[0.3333333333333333,\"#9c179e\"],[0.4444444444444444,\"#bd3786\"],[0.5555555555555556,\"#d8576b\"],[0.6666666666666666,\"#ed7953\"],[0.7777777777777778,\"#fb9f3a\"],[0.8888888888888888,\"#fdca26\"],[1.0,\"#f0f921\"]]}],\"heatmapgl\":[{\"type\":\"heatmapgl\",\"colorbar\":{\"outlinewidth\":0,\"ticks\":\"\"},\"colorscale\":[[0.0,\"#0d0887\"],[0.1111111111111111,\"#46039f\"],[0.2222222222222222,\"#7201a8\"],[0.3333333333333333,\"#9c179e\"],[0.4444444444444444,\"#bd3786\"],[0.5555555555555556,\"#d8576b\"],[0.6666666666666666,\"#ed7953\"],[0.7777777777777778,\"#fb9f3a\"],[0.8888888888888888,\"#fdca26\"],[1.0,\"#f0f921\"]]}],\"contourcarpet\":[{\"type\":\"contourcarpet\",\"colorbar\":{\"outlinewidth\":0,\"ticks\":\"\"}}],\"contour\":[{\"type\":\"contour\",\"colorbar\":{\"outlinewidth\":0,\"ticks\":\"\"},\"colorscale\":[[0.0,\"#0d0887\"],[0.1111111111111111,\"#46039f\"],[0.2222222222222222,\"#7201a8\"],[0.3333333333333333,\"#9c179e\"],[0.4444444444444444,\"#bd3786\"],[0.5555555555555556,\"#d8576b\"],[0.6666666666666666,\"#ed7953\"],[0.7777777777777778,\"#fb9f3a\"],[0.8888888888888888,\"#fdca26\"],[1.0,\"#f0f921\"]]}],\"surface\":[{\"type\":\"surface\",\"colorbar\":{\"outlinewidth\":0,\"ticks\":\"\"},\"colorscale\":[[0.0,\"#0d0887\"],[0.1111111111111111,\"#46039f\"],[0.2222222222222222,\"#7201a8\"],[0.3333333333333333,\"#9c179e\"],[0.4444444444444444,\"#bd3786\"],[0.5555555555555556,\"#d8576b\"],[0.6666666666666666,\"#ed7953\"],[0.7777777777777778,\"#fb9f3a\"],[0.8888888888888888,\"#fdca26\"],[1.0,\"#f0f921\"]]}],\"mesh3d\":[{\"type\":\"mesh3d\",\"colorbar\":{\"outlinewidth\":0,\"ticks\":\"\"}}],\"scatter\":[{\"fillpattern\":{\"fillmode\":\"overlay\",\"size\":10,\"solidity\":0.2},\"type\":\"scatter\"}],\"parcoords\":[{\"type\":\"parcoords\",\"line\":{\"colorbar\":{\"outlinewidth\":0,\"ticks\":\"\"}}}],\"scatterpolargl\":[{\"type\":\"scatterpolargl\",\"marker\":{\"colorbar\":{\"outlinewidth\":0,\"ticks\":\"\"}}}],\"bar\":[{\"error_x\":{\"color\":\"#2a3f5f\"},\"error_y\":{\"color\":\"#2a3f5f\"},\"marker\":{\"line\":{\"color\":\"#E5ECF6\",\"width\":0.5},\"pattern\":{\"fillmode\":\"overlay\",\"size\":10,\"solidity\":0.2}},\"type\":\"bar\"}],\"scattergeo\":[{\"type\":\"scattergeo\",\"marker\":{\"colorbar\":{\"outlinewidth\":0,\"ticks\":\"\"}}}],\"scatterpolar\":[{\"type\":\"scatterpolar\",\"marker\":{\"colorbar\":{\"outlinewidth\":0,\"ticks\":\"\"}}}],\"histogram\":[{\"marker\":{\"pattern\":{\"fillmode\":\"overlay\",\"size\":10,\"solidity\":0.2}},\"type\":\"histogram\"}],\"scattergl\":[{\"type\":\"scattergl\",\"marker\":{\"colorbar\":{\"outlinewidth\":0,\"ticks\":\"\"}}}],\"scatter3d\":[{\"type\":\"scatter3d\",\"line\":{\"colorbar\":{\"outlinewidth\":0,\"ticks\":\"\"}},\"marker\":{\"colorbar\":{\"outlinewidth\":0,\"ticks\":\"\"}}}],\"scattermapbox\":[{\"type\":\"scattermapbox\",\"marker\":{\"colorbar\":{\"outlinewidth\":0,\"ticks\":\"\"}}}],\"scatterternary\":[{\"type\":\"scatterternary\",\"marker\":{\"colorbar\":{\"outlinewidth\":0,\"ticks\":\"\"}}}],\"scattercarpet\":[{\"type\":\"scattercarpet\",\"marker\":{\"colorbar\":{\"outlinewidth\":0,\"ticks\":\"\"}}}],\"carpet\":[{\"aaxis\":{\"endlinecolor\":\"#2a3f5f\",\"gridcolor\":\"white\",\"linecolor\":\"white\",\"minorgridcolor\":\"white\",\"startlinecolor\":\"#2a3f5f\"},\"baxis\":{\"endlinecolor\":\"#2a3f5f\",\"gridcolor\":\"white\",\"linecolor\":\"white\",\"minorgridcolor\":\"white\",\"startlinecolor\":\"#2a3f5f\"},\"type\":\"carpet\"}],\"table\":[{\"cells\":{\"fill\":{\"color\":\"#EBF0F8\"},\"line\":{\"color\":\"white\"}},\"header\":{\"fill\":{\"color\":\"#C8D4E3\"},\"line\":{\"color\":\"white\"}},\"type\":\"table\"}],\"barpolar\":[{\"marker\":{\"line\":{\"color\":\"#E5ECF6\",\"width\":0.5},\"pattern\":{\"fillmode\":\"overlay\",\"size\":10,\"solidity\":0.2}},\"type\":\"barpolar\"}],\"pie\":[{\"automargin\":true,\"type\":\"pie\"}]},\"layout\":{\"autotypenumbers\":\"strict\",\"colorway\":[\"#636efa\",\"#EF553B\",\"#00cc96\",\"#ab63fa\",\"#FFA15A\",\"#19d3f3\",\"#FF6692\",\"#B6E880\",\"#FF97FF\",\"#FECB52\"],\"font\":{\"color\":\"#2a3f5f\"},\"hovermode\":\"closest\",\"hoverlabel\":{\"align\":\"left\"},\"paper_bgcolor\":\"white\",\"plot_bgcolor\":\"#E5ECF6\",\"polar\":{\"bgcolor\":\"#E5ECF6\",\"angularaxis\":{\"gridcolor\":\"white\",\"linecolor\":\"white\",\"ticks\":\"\"},\"radialaxis\":{\"gridcolor\":\"white\",\"linecolor\":\"white\",\"ticks\":\"\"}},\"ternary\":{\"bgcolor\":\"#E5ECF6\",\"aaxis\":{\"gridcolor\":\"white\",\"linecolor\":\"white\",\"ticks\":\"\"},\"baxis\":{\"gridcolor\":\"white\",\"linecolor\":\"white\",\"ticks\":\"\"},\"caxis\":{\"gridcolor\":\"white\",\"linecolor\":\"white\",\"ticks\":\"\"}},\"coloraxis\":{\"colorbar\":{\"outlinewidth\":0,\"ticks\":\"\"}},\"colorscale\":{\"sequential\":[[0.0,\"#0d0887\"],[0.1111111111111111,\"#46039f\"],[0.2222222222222222,\"#7201a8\"],[0.3333333333333333,\"#9c179e\"],[0.4444444444444444,\"#bd3786\"],[0.5555555555555556,\"#d8576b\"],[0.6666666666666666,\"#ed7953\"],[0.7777777777777778,\"#fb9f3a\"],[0.8888888888888888,\"#fdca26\"],[1.0,\"#f0f921\"]],\"sequentialminus\":[[0.0,\"#0d0887\"],[0.1111111111111111,\"#46039f\"],[0.2222222222222222,\"#7201a8\"],[0.3333333333333333,\"#9c179e\"],[0.4444444444444444,\"#bd3786\"],[0.5555555555555556,\"#d8576b\"],[0.6666666666666666,\"#ed7953\"],[0.7777777777777778,\"#fb9f3a\"],[0.8888888888888888,\"#fdca26\"],[1.0,\"#f0f921\"]],\"diverging\":[[0,\"#8e0152\"],[0.1,\"#c51b7d\"],[0.2,\"#de77ae\"],[0.3,\"#f1b6da\"],[0.4,\"#fde0ef\"],[0.5,\"#f7f7f7\"],[0.6,\"#e6f5d0\"],[0.7,\"#b8e186\"],[0.8,\"#7fbc41\"],[0.9,\"#4d9221\"],[1,\"#276419\"]]},\"xaxis\":{\"gridcolor\":\"white\",\"linecolor\":\"white\",\"ticks\":\"\",\"title\":{\"standoff\":15},\"zerolinecolor\":\"white\",\"automargin\":true,\"zerolinewidth\":2},\"yaxis\":{\"gridcolor\":\"white\",\"linecolor\":\"white\",\"ticks\":\"\",\"title\":{\"standoff\":15},\"zerolinecolor\":\"white\",\"automargin\":true,\"zerolinewidth\":2},\"scene\":{\"xaxis\":{\"backgroundcolor\":\"#E5ECF6\",\"gridcolor\":\"white\",\"linecolor\":\"white\",\"showbackground\":true,\"ticks\":\"\",\"zerolinecolor\":\"white\",\"gridwidth\":2},\"yaxis\":{\"backgroundcolor\":\"#E5ECF6\",\"gridcolor\":\"white\",\"linecolor\":\"white\",\"showbackground\":true,\"ticks\":\"\",\"zerolinecolor\":\"white\",\"gridwidth\":2},\"zaxis\":{\"backgroundcolor\":\"#E5ECF6\",\"gridcolor\":\"white\",\"linecolor\":\"white\",\"showbackground\":true,\"ticks\":\"\",\"zerolinecolor\":\"white\",\"gridwidth\":2}},\"shapedefaults\":{\"line\":{\"color\":\"#2a3f5f\"}},\"annotationdefaults\":{\"arrowcolor\":\"#2a3f5f\",\"arrowhead\":0,\"arrowwidth\":1},\"geo\":{\"bgcolor\":\"white\",\"landcolor\":\"#E5ECF6\",\"subunitcolor\":\"white\",\"showland\":true,\"showlakes\":true,\"lakecolor\":\"white\"},\"title\":{\"x\":0.05},\"mapbox\":{\"style\":\"light\"}}},\"xaxis\":{\"anchor\":\"y\",\"domain\":[0.0,0.45],\"title\":{\"text\":\"max_depth\"}},\"yaxis\":{\"anchor\":\"x\",\"domain\":[0.0,1.0],\"title\":{\"text\":\"Objective Value\"}},\"xaxis2\":{\"anchor\":\"y2\",\"domain\":[0.55,1.0],\"title\":{\"text\":\"n_estimators\"}},\"yaxis2\":{\"anchor\":\"x2\",\"domain\":[0.0,1.0],\"matches\":\"y\",\"showticklabels\":false},\"title\":{\"text\":\"Slice Plot\"}},                        {\"responsive\": true}                    ).then(function(){\n",
              "                            \n",
              "var gd = document.getElementById('2c328b2a-167f-4dca-955a-c02bd2d5b065');\n",
              "var x = new MutationObserver(function (mutations, observer) {{\n",
              "        var display = window.getComputedStyle(gd).display;\n",
              "        if (!display || display === 'none') {{\n",
              "            console.log([gd, 'removed!']);\n",
              "            Plotly.purge(gd);\n",
              "            observer.disconnect();\n",
              "        }}\n",
              "}});\n",
              "\n",
              "// Listen for the removal of the full notebook cells\n",
              "var notebookContainer = gd.closest('#notebook-container');\n",
              "if (notebookContainer) {{\n",
              "    x.observe(notebookContainer, {childList: true});\n",
              "}}\n",
              "\n",
              "// Listen for the clearing of the current output cell\n",
              "var outputEl = gd.closest('.output');\n",
              "if (outputEl) {{\n",
              "    x.observe(outputEl, {childList: true});\n",
              "}}\n",
              "\n",
              "                        })                };                            </script>        </div>\n",
              "</body>\n",
              "</html>"
            ]
          },
          "metadata": {}
        }
      ]
    },
    {
      "cell_type": "code",
      "source": [
        "# 4. Contour Plot\n",
        "plot_contour(study).show()"
      ],
      "metadata": {
        "colab": {
          "base_uri": "https://localhost:8080/",
          "height": 542
        },
        "id": "b3u7VrCi5DPB",
        "outputId": "a78323d7-a067-4430-d3dc-6c40f6a99ad4"
      },
      "execution_count": 21,
      "outputs": [
        {
          "output_type": "display_data",
          "data": {
            "text/html": [
              "<html>\n",
              "<head><meta charset=\"utf-8\" /></head>\n",
              "<body>\n",
              "    <div>            <script src=\"https://cdnjs.cloudflare.com/ajax/libs/mathjax/2.7.5/MathJax.js?config=TeX-AMS-MML_SVG\"></script><script type=\"text/javascript\">if (window.MathJax && window.MathJax.Hub && window.MathJax.Hub.Config) {window.MathJax.Hub.Config({SVG: {font: \"STIX-Web\"}});}</script>                <script type=\"text/javascript\">window.PlotlyConfig = {MathJaxConfig: 'local'};</script>\n",
              "        <script charset=\"utf-8\" src=\"https://cdn.plot.ly/plotly-2.35.2.min.js\"></script>                <div id=\"3476e36c-df46-4d08-bcd1-1527f6aa85e3\" class=\"plotly-graph-div\" style=\"height:525px; width:100%;\"></div>            <script type=\"text/javascript\">                                    window.PLOTLYENV=window.PLOTLYENV || {};                                    if (document.getElementById(\"3476e36c-df46-4d08-bcd1-1527f6aa85e3\")) {                    Plotly.newPlot(                        \"3476e36c-df46-4d08-bcd1-1527f6aa85e3\",                        [{\"colorbar\":{\"title\":{\"text\":\"Objective Value\"}},\"colorscale\":[[0.0,\"rgb(247,251,255)\"],[0.125,\"rgb(222,235,247)\"],[0.25,\"rgb(198,219,239)\"],[0.375,\"rgb(158,202,225)\"],[0.5,\"rgb(107,174,214)\"],[0.625,\"rgb(66,146,198)\"],[0.75,\"rgb(33,113,181)\"],[0.875,\"rgb(8,81,156)\"],[1.0,\"rgb(8,48,107)\"]],\"connectgaps\":true,\"contours\":{\"coloring\":\"heatmap\"},\"hoverinfo\":\"none\",\"line\":{\"smoothing\":1.3},\"reversescale\":false,\"x\":[4.25,5,10,15,20,20.75],\"y\":[42.5,50,100,150,200,207.5],\"z\":[[null,null,null,null,null,null],[null,0.7746741154562384,0.7579143389199254,0.7728119180633147,0.7709497206703911,null],[null,0.7690875232774674,0.7616387337057727,0.7653631284916201,0.7690875232774674,null],[null,0.7653631284916201,0.7672253258845437,0.7728119180633147,0.7728119180633147,null],[null,0.7690875232774674,0.7709497206703911,0.7728119180633147,0.7728119180633147,null],[null,null,null,null,null,null]],\"type\":\"contour\"},{\"marker\":{\"color\":\"black\",\"line\":{\"color\":\"Gray\",\"width\":2.0}},\"mode\":\"markers\",\"name\":\"Feasible Trial\",\"showlegend\":false,\"x\":[5,10,15,15,20,10,5,20,15,10,20,15,5,5,10,20],\"y\":[100,150,50,100,100,50,150,150,150,200,200,200,200,50,100,50],\"type\":\"scatter\"},{\"marker\":{\"color\":\"#cccccc\",\"line\":{\"color\":\"Gray\",\"width\":2.0}},\"mode\":\"markers\",\"name\":\"Infeasible Trial\",\"showlegend\":false,\"x\":[],\"y\":[],\"type\":\"scatter\"}],                        {\"title\":{\"text\":\"Contour Plot\"},\"template\":{\"data\":{\"histogram2dcontour\":[{\"type\":\"histogram2dcontour\",\"colorbar\":{\"outlinewidth\":0,\"ticks\":\"\"},\"colorscale\":[[0.0,\"#0d0887\"],[0.1111111111111111,\"#46039f\"],[0.2222222222222222,\"#7201a8\"],[0.3333333333333333,\"#9c179e\"],[0.4444444444444444,\"#bd3786\"],[0.5555555555555556,\"#d8576b\"],[0.6666666666666666,\"#ed7953\"],[0.7777777777777778,\"#fb9f3a\"],[0.8888888888888888,\"#fdca26\"],[1.0,\"#f0f921\"]]}],\"choropleth\":[{\"type\":\"choropleth\",\"colorbar\":{\"outlinewidth\":0,\"ticks\":\"\"}}],\"histogram2d\":[{\"type\":\"histogram2d\",\"colorbar\":{\"outlinewidth\":0,\"ticks\":\"\"},\"colorscale\":[[0.0,\"#0d0887\"],[0.1111111111111111,\"#46039f\"],[0.2222222222222222,\"#7201a8\"],[0.3333333333333333,\"#9c179e\"],[0.4444444444444444,\"#bd3786\"],[0.5555555555555556,\"#d8576b\"],[0.6666666666666666,\"#ed7953\"],[0.7777777777777778,\"#fb9f3a\"],[0.8888888888888888,\"#fdca26\"],[1.0,\"#f0f921\"]]}],\"heatmap\":[{\"type\":\"heatmap\",\"colorbar\":{\"outlinewidth\":0,\"ticks\":\"\"},\"colorscale\":[[0.0,\"#0d0887\"],[0.1111111111111111,\"#46039f\"],[0.2222222222222222,\"#7201a8\"],[0.3333333333333333,\"#9c179e\"],[0.4444444444444444,\"#bd3786\"],[0.5555555555555556,\"#d8576b\"],[0.6666666666666666,\"#ed7953\"],[0.7777777777777778,\"#fb9f3a\"],[0.8888888888888888,\"#fdca26\"],[1.0,\"#f0f921\"]]}],\"heatmapgl\":[{\"type\":\"heatmapgl\",\"colorbar\":{\"outlinewidth\":0,\"ticks\":\"\"},\"colorscale\":[[0.0,\"#0d0887\"],[0.1111111111111111,\"#46039f\"],[0.2222222222222222,\"#7201a8\"],[0.3333333333333333,\"#9c179e\"],[0.4444444444444444,\"#bd3786\"],[0.5555555555555556,\"#d8576b\"],[0.6666666666666666,\"#ed7953\"],[0.7777777777777778,\"#fb9f3a\"],[0.8888888888888888,\"#fdca26\"],[1.0,\"#f0f921\"]]}],\"contourcarpet\":[{\"type\":\"contourcarpet\",\"colorbar\":{\"outlinewidth\":0,\"ticks\":\"\"}}],\"contour\":[{\"type\":\"contour\",\"colorbar\":{\"outlinewidth\":0,\"ticks\":\"\"},\"colorscale\":[[0.0,\"#0d0887\"],[0.1111111111111111,\"#46039f\"],[0.2222222222222222,\"#7201a8\"],[0.3333333333333333,\"#9c179e\"],[0.4444444444444444,\"#bd3786\"],[0.5555555555555556,\"#d8576b\"],[0.6666666666666666,\"#ed7953\"],[0.7777777777777778,\"#fb9f3a\"],[0.8888888888888888,\"#fdca26\"],[1.0,\"#f0f921\"]]}],\"surface\":[{\"type\":\"surface\",\"colorbar\":{\"outlinewidth\":0,\"ticks\":\"\"},\"colorscale\":[[0.0,\"#0d0887\"],[0.1111111111111111,\"#46039f\"],[0.2222222222222222,\"#7201a8\"],[0.3333333333333333,\"#9c179e\"],[0.4444444444444444,\"#bd3786\"],[0.5555555555555556,\"#d8576b\"],[0.6666666666666666,\"#ed7953\"],[0.7777777777777778,\"#fb9f3a\"],[0.8888888888888888,\"#fdca26\"],[1.0,\"#f0f921\"]]}],\"mesh3d\":[{\"type\":\"mesh3d\",\"colorbar\":{\"outlinewidth\":0,\"ticks\":\"\"}}],\"scatter\":[{\"fillpattern\":{\"fillmode\":\"overlay\",\"size\":10,\"solidity\":0.2},\"type\":\"scatter\"}],\"parcoords\":[{\"type\":\"parcoords\",\"line\":{\"colorbar\":{\"outlinewidth\":0,\"ticks\":\"\"}}}],\"scatterpolargl\":[{\"type\":\"scatterpolargl\",\"marker\":{\"colorbar\":{\"outlinewidth\":0,\"ticks\":\"\"}}}],\"bar\":[{\"error_x\":{\"color\":\"#2a3f5f\"},\"error_y\":{\"color\":\"#2a3f5f\"},\"marker\":{\"line\":{\"color\":\"#E5ECF6\",\"width\":0.5},\"pattern\":{\"fillmode\":\"overlay\",\"size\":10,\"solidity\":0.2}},\"type\":\"bar\"}],\"scattergeo\":[{\"type\":\"scattergeo\",\"marker\":{\"colorbar\":{\"outlinewidth\":0,\"ticks\":\"\"}}}],\"scatterpolar\":[{\"type\":\"scatterpolar\",\"marker\":{\"colorbar\":{\"outlinewidth\":0,\"ticks\":\"\"}}}],\"histogram\":[{\"marker\":{\"pattern\":{\"fillmode\":\"overlay\",\"size\":10,\"solidity\":0.2}},\"type\":\"histogram\"}],\"scattergl\":[{\"type\":\"scattergl\",\"marker\":{\"colorbar\":{\"outlinewidth\":0,\"ticks\":\"\"}}}],\"scatter3d\":[{\"type\":\"scatter3d\",\"line\":{\"colorbar\":{\"outlinewidth\":0,\"ticks\":\"\"}},\"marker\":{\"colorbar\":{\"outlinewidth\":0,\"ticks\":\"\"}}}],\"scattermapbox\":[{\"type\":\"scattermapbox\",\"marker\":{\"colorbar\":{\"outlinewidth\":0,\"ticks\":\"\"}}}],\"scatterternary\":[{\"type\":\"scatterternary\",\"marker\":{\"colorbar\":{\"outlinewidth\":0,\"ticks\":\"\"}}}],\"scattercarpet\":[{\"type\":\"scattercarpet\",\"marker\":{\"colorbar\":{\"outlinewidth\":0,\"ticks\":\"\"}}}],\"carpet\":[{\"aaxis\":{\"endlinecolor\":\"#2a3f5f\",\"gridcolor\":\"white\",\"linecolor\":\"white\",\"minorgridcolor\":\"white\",\"startlinecolor\":\"#2a3f5f\"},\"baxis\":{\"endlinecolor\":\"#2a3f5f\",\"gridcolor\":\"white\",\"linecolor\":\"white\",\"minorgridcolor\":\"white\",\"startlinecolor\":\"#2a3f5f\"},\"type\":\"carpet\"}],\"table\":[{\"cells\":{\"fill\":{\"color\":\"#EBF0F8\"},\"line\":{\"color\":\"white\"}},\"header\":{\"fill\":{\"color\":\"#C8D4E3\"},\"line\":{\"color\":\"white\"}},\"type\":\"table\"}],\"barpolar\":[{\"marker\":{\"line\":{\"color\":\"#E5ECF6\",\"width\":0.5},\"pattern\":{\"fillmode\":\"overlay\",\"size\":10,\"solidity\":0.2}},\"type\":\"barpolar\"}],\"pie\":[{\"automargin\":true,\"type\":\"pie\"}]},\"layout\":{\"autotypenumbers\":\"strict\",\"colorway\":[\"#636efa\",\"#EF553B\",\"#00cc96\",\"#ab63fa\",\"#FFA15A\",\"#19d3f3\",\"#FF6692\",\"#B6E880\",\"#FF97FF\",\"#FECB52\"],\"font\":{\"color\":\"#2a3f5f\"},\"hovermode\":\"closest\",\"hoverlabel\":{\"align\":\"left\"},\"paper_bgcolor\":\"white\",\"plot_bgcolor\":\"#E5ECF6\",\"polar\":{\"bgcolor\":\"#E5ECF6\",\"angularaxis\":{\"gridcolor\":\"white\",\"linecolor\":\"white\",\"ticks\":\"\"},\"radialaxis\":{\"gridcolor\":\"white\",\"linecolor\":\"white\",\"ticks\":\"\"}},\"ternary\":{\"bgcolor\":\"#E5ECF6\",\"aaxis\":{\"gridcolor\":\"white\",\"linecolor\":\"white\",\"ticks\":\"\"},\"baxis\":{\"gridcolor\":\"white\",\"linecolor\":\"white\",\"ticks\":\"\"},\"caxis\":{\"gridcolor\":\"white\",\"linecolor\":\"white\",\"ticks\":\"\"}},\"coloraxis\":{\"colorbar\":{\"outlinewidth\":0,\"ticks\":\"\"}},\"colorscale\":{\"sequential\":[[0.0,\"#0d0887\"],[0.1111111111111111,\"#46039f\"],[0.2222222222222222,\"#7201a8\"],[0.3333333333333333,\"#9c179e\"],[0.4444444444444444,\"#bd3786\"],[0.5555555555555556,\"#d8576b\"],[0.6666666666666666,\"#ed7953\"],[0.7777777777777778,\"#fb9f3a\"],[0.8888888888888888,\"#fdca26\"],[1.0,\"#f0f921\"]],\"sequentialminus\":[[0.0,\"#0d0887\"],[0.1111111111111111,\"#46039f\"],[0.2222222222222222,\"#7201a8\"],[0.3333333333333333,\"#9c179e\"],[0.4444444444444444,\"#bd3786\"],[0.5555555555555556,\"#d8576b\"],[0.6666666666666666,\"#ed7953\"],[0.7777777777777778,\"#fb9f3a\"],[0.8888888888888888,\"#fdca26\"],[1.0,\"#f0f921\"]],\"diverging\":[[0,\"#8e0152\"],[0.1,\"#c51b7d\"],[0.2,\"#de77ae\"],[0.3,\"#f1b6da\"],[0.4,\"#fde0ef\"],[0.5,\"#f7f7f7\"],[0.6,\"#e6f5d0\"],[0.7,\"#b8e186\"],[0.8,\"#7fbc41\"],[0.9,\"#4d9221\"],[1,\"#276419\"]]},\"xaxis\":{\"gridcolor\":\"white\",\"linecolor\":\"white\",\"ticks\":\"\",\"title\":{\"standoff\":15},\"zerolinecolor\":\"white\",\"automargin\":true,\"zerolinewidth\":2},\"yaxis\":{\"gridcolor\":\"white\",\"linecolor\":\"white\",\"ticks\":\"\",\"title\":{\"standoff\":15},\"zerolinecolor\":\"white\",\"automargin\":true,\"zerolinewidth\":2},\"scene\":{\"xaxis\":{\"backgroundcolor\":\"#E5ECF6\",\"gridcolor\":\"white\",\"linecolor\":\"white\",\"showbackground\":true,\"ticks\":\"\",\"zerolinecolor\":\"white\",\"gridwidth\":2},\"yaxis\":{\"backgroundcolor\":\"#E5ECF6\",\"gridcolor\":\"white\",\"linecolor\":\"white\",\"showbackground\":true,\"ticks\":\"\",\"zerolinecolor\":\"white\",\"gridwidth\":2},\"zaxis\":{\"backgroundcolor\":\"#E5ECF6\",\"gridcolor\":\"white\",\"linecolor\":\"white\",\"showbackground\":true,\"ticks\":\"\",\"zerolinecolor\":\"white\",\"gridwidth\":2}},\"shapedefaults\":{\"line\":{\"color\":\"#2a3f5f\"}},\"annotationdefaults\":{\"arrowcolor\":\"#2a3f5f\",\"arrowhead\":0,\"arrowwidth\":1},\"geo\":{\"bgcolor\":\"white\",\"landcolor\":\"#E5ECF6\",\"subunitcolor\":\"white\",\"showland\":true,\"showlakes\":true,\"lakecolor\":\"white\"},\"title\":{\"x\":0.05},\"mapbox\":{\"style\":\"light\"}}},\"xaxis\":{\"title\":{\"text\":\"max_depth\"},\"range\":[4.25,20.75]},\"yaxis\":{\"title\":{\"text\":\"n_estimators\"},\"range\":[42.5,207.5]}},                        {\"responsive\": true}                    ).then(function(){\n",
              "                            \n",
              "var gd = document.getElementById('3476e36c-df46-4d08-bcd1-1527f6aa85e3');\n",
              "var x = new MutationObserver(function (mutations, observer) {{\n",
              "        var display = window.getComputedStyle(gd).display;\n",
              "        if (!display || display === 'none') {{\n",
              "            console.log([gd, 'removed!']);\n",
              "            Plotly.purge(gd);\n",
              "            observer.disconnect();\n",
              "        }}\n",
              "}});\n",
              "\n",
              "// Listen for the removal of the full notebook cells\n",
              "var notebookContainer = gd.closest('#notebook-container');\n",
              "if (notebookContainer) {{\n",
              "    x.observe(notebookContainer, {childList: true});\n",
              "}}\n",
              "\n",
              "// Listen for the clearing of the current output cell\n",
              "var outputEl = gd.closest('.output');\n",
              "if (outputEl) {{\n",
              "    x.observe(outputEl, {childList: true});\n",
              "}}\n",
              "\n",
              "                        })                };                            </script>        </div>\n",
              "</body>\n",
              "</html>"
            ]
          },
          "metadata": {}
        }
      ]
    },
    {
      "cell_type": "code",
      "source": [
        "# 5. Hyperparameter Importance\n",
        "plot_param_importances(study).show()"
      ],
      "metadata": {
        "colab": {
          "base_uri": "https://localhost:8080/",
          "height": 542
        },
        "id": "Iw7pTZf_5JPp",
        "outputId": "51552096-9049-4f56-d3f3-efdcbcf31394"
      },
      "execution_count": 22,
      "outputs": [
        {
          "output_type": "display_data",
          "data": {
            "text/html": [
              "<html>\n",
              "<head><meta charset=\"utf-8\" /></head>\n",
              "<body>\n",
              "    <div>            <script src=\"https://cdnjs.cloudflare.com/ajax/libs/mathjax/2.7.5/MathJax.js?config=TeX-AMS-MML_SVG\"></script><script type=\"text/javascript\">if (window.MathJax && window.MathJax.Hub && window.MathJax.Hub.Config) {window.MathJax.Hub.Config({SVG: {font: \"STIX-Web\"}});}</script>                <script type=\"text/javascript\">window.PlotlyConfig = {MathJaxConfig: 'local'};</script>\n",
              "        <script charset=\"utf-8\" src=\"https://cdn.plot.ly/plotly-2.35.2.min.js\"></script>                <div id=\"85e2cb35-6139-49a0-9ab9-d0922b66541f\" class=\"plotly-graph-div\" style=\"height:525px; width:100%;\"></div>            <script type=\"text/javascript\">                                    window.PLOTLYENV=window.PLOTLYENV || {};                                    if (document.getElementById(\"85e2cb35-6139-49a0-9ab9-d0922b66541f\")) {                    Plotly.newPlot(                        \"85e2cb35-6139-49a0-9ab9-d0922b66541f\",                        [{\"cliponaxis\":false,\"hovertemplate\":[\"n_estimators (IntDistribution): 0.39666433147927677\\u003cextra\\u003e\\u003c\\u002fextra\\u003e\",\"max_depth (IntDistribution): 0.6033356685207232\\u003cextra\\u003e\\u003c\\u002fextra\\u003e\"],\"name\":\"Objective Value\",\"orientation\":\"h\",\"text\":[\"0.40\",\"0.60\"],\"textposition\":\"outside\",\"x\":[0.39666433147927677,0.6033356685207232],\"y\":[\"n_estimators\",\"max_depth\"],\"type\":\"bar\"}],                        {\"title\":{\"text\":\"Hyperparameter Importances\"},\"xaxis\":{\"title\":{\"text\":\"Hyperparameter Importance\"}},\"yaxis\":{\"title\":{\"text\":\"Hyperparameter\"}},\"template\":{\"data\":{\"histogram2dcontour\":[{\"type\":\"histogram2dcontour\",\"colorbar\":{\"outlinewidth\":0,\"ticks\":\"\"},\"colorscale\":[[0.0,\"#0d0887\"],[0.1111111111111111,\"#46039f\"],[0.2222222222222222,\"#7201a8\"],[0.3333333333333333,\"#9c179e\"],[0.4444444444444444,\"#bd3786\"],[0.5555555555555556,\"#d8576b\"],[0.6666666666666666,\"#ed7953\"],[0.7777777777777778,\"#fb9f3a\"],[0.8888888888888888,\"#fdca26\"],[1.0,\"#f0f921\"]]}],\"choropleth\":[{\"type\":\"choropleth\",\"colorbar\":{\"outlinewidth\":0,\"ticks\":\"\"}}],\"histogram2d\":[{\"type\":\"histogram2d\",\"colorbar\":{\"outlinewidth\":0,\"ticks\":\"\"},\"colorscale\":[[0.0,\"#0d0887\"],[0.1111111111111111,\"#46039f\"],[0.2222222222222222,\"#7201a8\"],[0.3333333333333333,\"#9c179e\"],[0.4444444444444444,\"#bd3786\"],[0.5555555555555556,\"#d8576b\"],[0.6666666666666666,\"#ed7953\"],[0.7777777777777778,\"#fb9f3a\"],[0.8888888888888888,\"#fdca26\"],[1.0,\"#f0f921\"]]}],\"heatmap\":[{\"type\":\"heatmap\",\"colorbar\":{\"outlinewidth\":0,\"ticks\":\"\"},\"colorscale\":[[0.0,\"#0d0887\"],[0.1111111111111111,\"#46039f\"],[0.2222222222222222,\"#7201a8\"],[0.3333333333333333,\"#9c179e\"],[0.4444444444444444,\"#bd3786\"],[0.5555555555555556,\"#d8576b\"],[0.6666666666666666,\"#ed7953\"],[0.7777777777777778,\"#fb9f3a\"],[0.8888888888888888,\"#fdca26\"],[1.0,\"#f0f921\"]]}],\"heatmapgl\":[{\"type\":\"heatmapgl\",\"colorbar\":{\"outlinewidth\":0,\"ticks\":\"\"},\"colorscale\":[[0.0,\"#0d0887\"],[0.1111111111111111,\"#46039f\"],[0.2222222222222222,\"#7201a8\"],[0.3333333333333333,\"#9c179e\"],[0.4444444444444444,\"#bd3786\"],[0.5555555555555556,\"#d8576b\"],[0.6666666666666666,\"#ed7953\"],[0.7777777777777778,\"#fb9f3a\"],[0.8888888888888888,\"#fdca26\"],[1.0,\"#f0f921\"]]}],\"contourcarpet\":[{\"type\":\"contourcarpet\",\"colorbar\":{\"outlinewidth\":0,\"ticks\":\"\"}}],\"contour\":[{\"type\":\"contour\",\"colorbar\":{\"outlinewidth\":0,\"ticks\":\"\"},\"colorscale\":[[0.0,\"#0d0887\"],[0.1111111111111111,\"#46039f\"],[0.2222222222222222,\"#7201a8\"],[0.3333333333333333,\"#9c179e\"],[0.4444444444444444,\"#bd3786\"],[0.5555555555555556,\"#d8576b\"],[0.6666666666666666,\"#ed7953\"],[0.7777777777777778,\"#fb9f3a\"],[0.8888888888888888,\"#fdca26\"],[1.0,\"#f0f921\"]]}],\"surface\":[{\"type\":\"surface\",\"colorbar\":{\"outlinewidth\":0,\"ticks\":\"\"},\"colorscale\":[[0.0,\"#0d0887\"],[0.1111111111111111,\"#46039f\"],[0.2222222222222222,\"#7201a8\"],[0.3333333333333333,\"#9c179e\"],[0.4444444444444444,\"#bd3786\"],[0.5555555555555556,\"#d8576b\"],[0.6666666666666666,\"#ed7953\"],[0.7777777777777778,\"#fb9f3a\"],[0.8888888888888888,\"#fdca26\"],[1.0,\"#f0f921\"]]}],\"mesh3d\":[{\"type\":\"mesh3d\",\"colorbar\":{\"outlinewidth\":0,\"ticks\":\"\"}}],\"scatter\":[{\"fillpattern\":{\"fillmode\":\"overlay\",\"size\":10,\"solidity\":0.2},\"type\":\"scatter\"}],\"parcoords\":[{\"type\":\"parcoords\",\"line\":{\"colorbar\":{\"outlinewidth\":0,\"ticks\":\"\"}}}],\"scatterpolargl\":[{\"type\":\"scatterpolargl\",\"marker\":{\"colorbar\":{\"outlinewidth\":0,\"ticks\":\"\"}}}],\"bar\":[{\"error_x\":{\"color\":\"#2a3f5f\"},\"error_y\":{\"color\":\"#2a3f5f\"},\"marker\":{\"line\":{\"color\":\"#E5ECF6\",\"width\":0.5},\"pattern\":{\"fillmode\":\"overlay\",\"size\":10,\"solidity\":0.2}},\"type\":\"bar\"}],\"scattergeo\":[{\"type\":\"scattergeo\",\"marker\":{\"colorbar\":{\"outlinewidth\":0,\"ticks\":\"\"}}}],\"scatterpolar\":[{\"type\":\"scatterpolar\",\"marker\":{\"colorbar\":{\"outlinewidth\":0,\"ticks\":\"\"}}}],\"histogram\":[{\"marker\":{\"pattern\":{\"fillmode\":\"overlay\",\"size\":10,\"solidity\":0.2}},\"type\":\"histogram\"}],\"scattergl\":[{\"type\":\"scattergl\",\"marker\":{\"colorbar\":{\"outlinewidth\":0,\"ticks\":\"\"}}}],\"scatter3d\":[{\"type\":\"scatter3d\",\"line\":{\"colorbar\":{\"outlinewidth\":0,\"ticks\":\"\"}},\"marker\":{\"colorbar\":{\"outlinewidth\":0,\"ticks\":\"\"}}}],\"scattermapbox\":[{\"type\":\"scattermapbox\",\"marker\":{\"colorbar\":{\"outlinewidth\":0,\"ticks\":\"\"}}}],\"scatterternary\":[{\"type\":\"scatterternary\",\"marker\":{\"colorbar\":{\"outlinewidth\":0,\"ticks\":\"\"}}}],\"scattercarpet\":[{\"type\":\"scattercarpet\",\"marker\":{\"colorbar\":{\"outlinewidth\":0,\"ticks\":\"\"}}}],\"carpet\":[{\"aaxis\":{\"endlinecolor\":\"#2a3f5f\",\"gridcolor\":\"white\",\"linecolor\":\"white\",\"minorgridcolor\":\"white\",\"startlinecolor\":\"#2a3f5f\"},\"baxis\":{\"endlinecolor\":\"#2a3f5f\",\"gridcolor\":\"white\",\"linecolor\":\"white\",\"minorgridcolor\":\"white\",\"startlinecolor\":\"#2a3f5f\"},\"type\":\"carpet\"}],\"table\":[{\"cells\":{\"fill\":{\"color\":\"#EBF0F8\"},\"line\":{\"color\":\"white\"}},\"header\":{\"fill\":{\"color\":\"#C8D4E3\"},\"line\":{\"color\":\"white\"}},\"type\":\"table\"}],\"barpolar\":[{\"marker\":{\"line\":{\"color\":\"#E5ECF6\",\"width\":0.5},\"pattern\":{\"fillmode\":\"overlay\",\"size\":10,\"solidity\":0.2}},\"type\":\"barpolar\"}],\"pie\":[{\"automargin\":true,\"type\":\"pie\"}]},\"layout\":{\"autotypenumbers\":\"strict\",\"colorway\":[\"#636efa\",\"#EF553B\",\"#00cc96\",\"#ab63fa\",\"#FFA15A\",\"#19d3f3\",\"#FF6692\",\"#B6E880\",\"#FF97FF\",\"#FECB52\"],\"font\":{\"color\":\"#2a3f5f\"},\"hovermode\":\"closest\",\"hoverlabel\":{\"align\":\"left\"},\"paper_bgcolor\":\"white\",\"plot_bgcolor\":\"#E5ECF6\",\"polar\":{\"bgcolor\":\"#E5ECF6\",\"angularaxis\":{\"gridcolor\":\"white\",\"linecolor\":\"white\",\"ticks\":\"\"},\"radialaxis\":{\"gridcolor\":\"white\",\"linecolor\":\"white\",\"ticks\":\"\"}},\"ternary\":{\"bgcolor\":\"#E5ECF6\",\"aaxis\":{\"gridcolor\":\"white\",\"linecolor\":\"white\",\"ticks\":\"\"},\"baxis\":{\"gridcolor\":\"white\",\"linecolor\":\"white\",\"ticks\":\"\"},\"caxis\":{\"gridcolor\":\"white\",\"linecolor\":\"white\",\"ticks\":\"\"}},\"coloraxis\":{\"colorbar\":{\"outlinewidth\":0,\"ticks\":\"\"}},\"colorscale\":{\"sequential\":[[0.0,\"#0d0887\"],[0.1111111111111111,\"#46039f\"],[0.2222222222222222,\"#7201a8\"],[0.3333333333333333,\"#9c179e\"],[0.4444444444444444,\"#bd3786\"],[0.5555555555555556,\"#d8576b\"],[0.6666666666666666,\"#ed7953\"],[0.7777777777777778,\"#fb9f3a\"],[0.8888888888888888,\"#fdca26\"],[1.0,\"#f0f921\"]],\"sequentialminus\":[[0.0,\"#0d0887\"],[0.1111111111111111,\"#46039f\"],[0.2222222222222222,\"#7201a8\"],[0.3333333333333333,\"#9c179e\"],[0.4444444444444444,\"#bd3786\"],[0.5555555555555556,\"#d8576b\"],[0.6666666666666666,\"#ed7953\"],[0.7777777777777778,\"#fb9f3a\"],[0.8888888888888888,\"#fdca26\"],[1.0,\"#f0f921\"]],\"diverging\":[[0,\"#8e0152\"],[0.1,\"#c51b7d\"],[0.2,\"#de77ae\"],[0.3,\"#f1b6da\"],[0.4,\"#fde0ef\"],[0.5,\"#f7f7f7\"],[0.6,\"#e6f5d0\"],[0.7,\"#b8e186\"],[0.8,\"#7fbc41\"],[0.9,\"#4d9221\"],[1,\"#276419\"]]},\"xaxis\":{\"gridcolor\":\"white\",\"linecolor\":\"white\",\"ticks\":\"\",\"title\":{\"standoff\":15},\"zerolinecolor\":\"white\",\"automargin\":true,\"zerolinewidth\":2},\"yaxis\":{\"gridcolor\":\"white\",\"linecolor\":\"white\",\"ticks\":\"\",\"title\":{\"standoff\":15},\"zerolinecolor\":\"white\",\"automargin\":true,\"zerolinewidth\":2},\"scene\":{\"xaxis\":{\"backgroundcolor\":\"#E5ECF6\",\"gridcolor\":\"white\",\"linecolor\":\"white\",\"showbackground\":true,\"ticks\":\"\",\"zerolinecolor\":\"white\",\"gridwidth\":2},\"yaxis\":{\"backgroundcolor\":\"#E5ECF6\",\"gridcolor\":\"white\",\"linecolor\":\"white\",\"showbackground\":true,\"ticks\":\"\",\"zerolinecolor\":\"white\",\"gridwidth\":2},\"zaxis\":{\"backgroundcolor\":\"#E5ECF6\",\"gridcolor\":\"white\",\"linecolor\":\"white\",\"showbackground\":true,\"ticks\":\"\",\"zerolinecolor\":\"white\",\"gridwidth\":2}},\"shapedefaults\":{\"line\":{\"color\":\"#2a3f5f\"}},\"annotationdefaults\":{\"arrowcolor\":\"#2a3f5f\",\"arrowhead\":0,\"arrowwidth\":1},\"geo\":{\"bgcolor\":\"white\",\"landcolor\":\"#E5ECF6\",\"subunitcolor\":\"white\",\"showland\":true,\"showlakes\":true,\"lakecolor\":\"white\"},\"title\":{\"x\":0.05},\"mapbox\":{\"style\":\"light\"}}}},                        {\"responsive\": true}                    ).then(function(){\n",
              "                            \n",
              "var gd = document.getElementById('85e2cb35-6139-49a0-9ab9-d0922b66541f');\n",
              "var x = new MutationObserver(function (mutations, observer) {{\n",
              "        var display = window.getComputedStyle(gd).display;\n",
              "        if (!display || display === 'none') {{\n",
              "            console.log([gd, 'removed!']);\n",
              "            Plotly.purge(gd);\n",
              "            observer.disconnect();\n",
              "        }}\n",
              "}});\n",
              "\n",
              "// Listen for the removal of the full notebook cells\n",
              "var notebookContainer = gd.closest('#notebook-container');\n",
              "if (notebookContainer) {{\n",
              "    x.observe(notebookContainer, {childList: true});\n",
              "}}\n",
              "\n",
              "// Listen for the clearing of the current output cell\n",
              "var outputEl = gd.closest('.output');\n",
              "if (outputEl) {{\n",
              "    x.observe(outputEl, {childList: true});\n",
              "}}\n",
              "\n",
              "                        })                };                            </script>        </div>\n",
              "</body>\n",
              "</html>"
            ]
          },
          "metadata": {}
        }
      ]
    },
    {
      "cell_type": "markdown",
      "source": [
        "## Optimizing Multiple ML Models"
      ],
      "metadata": {
        "id": "m-zjVci7BYvh"
      }
    },
    {
      "cell_type": "code",
      "source": [
        "# Importing the required libraries\n",
        "from sklearn.ensemble import RandomForestClassifier, GradientBoostingClassifier\n",
        "from sklearn.svm import SVC"
      ],
      "metadata": {
        "id": "HJ81Ws4uBrD3"
      },
      "execution_count": 23,
      "outputs": []
    },
    {
      "cell_type": "code",
      "source": [
        "# Define the objective function for Optuna\n",
        "def objective(trial):\n",
        "    # Choose the algorithm to tune\n",
        "    classifier_name = trial.suggest_categorical('classifier', ['SVM', 'RandomForest', 'GradientBoosting'])\n",
        "\n",
        "    if classifier_name == 'SVM':\n",
        "        # SVM hyperparameters\n",
        "        c = trial.suggest_float('C', 0.1, 100, log=True)\n",
        "        kernel = trial.suggest_categorical('kernel', ['linear', 'rbf', 'poly', 'sigmoid'])\n",
        "        gamma = trial.suggest_categorical('gamma', ['scale', 'auto'])\n",
        "\n",
        "        model = SVC(C=c, kernel=kernel, gamma=gamma, random_state=42)\n",
        "\n",
        "    elif classifier_name == 'RandomForest':\n",
        "        # Random Forest hyperparameters\n",
        "        n_estimators = trial.suggest_int('n_estimators', 50, 300)\n",
        "        max_depth = trial.suggest_int('max_depth', 3, 20)\n",
        "        min_samples_split = trial.suggest_int('min_samples_split', 2, 10)\n",
        "        min_samples_leaf = trial.suggest_int('min_samples_leaf', 1, 10)\n",
        "        bootstrap = trial.suggest_categorical('bootstrap', [True, False])\n",
        "\n",
        "        model = RandomForestClassifier(\n",
        "            n_estimators=n_estimators,\n",
        "            max_depth=max_depth,\n",
        "            min_samples_split=min_samples_split,\n",
        "            min_samples_leaf=min_samples_leaf,\n",
        "            bootstrap=bootstrap,\n",
        "            random_state=42\n",
        "        )\n",
        "\n",
        "    elif classifier_name == 'GradientBoosting':\n",
        "        # Gradient Boosting hyperparameters\n",
        "        n_estimators = trial.suggest_int('n_estimators', 50, 300)\n",
        "        learning_rate = trial.suggest_float('learning_rate', 0.01, 0.3, log=True)\n",
        "        max_depth = trial.suggest_int('max_depth', 3, 20)\n",
        "        min_samples_split = trial.suggest_int('min_samples_split', 2, 10)\n",
        "        min_samples_leaf = trial.suggest_int('min_samples_leaf', 1, 10)\n",
        "\n",
        "        model = GradientBoostingClassifier(\n",
        "            n_estimators=n_estimators,\n",
        "            learning_rate=learning_rate,\n",
        "            max_depth=max_depth,\n",
        "            min_samples_split=min_samples_split,\n",
        "            min_samples_leaf=min_samples_leaf,\n",
        "            random_state=42\n",
        "        )\n",
        "\n",
        "    # Perform cross-validation and return the mean accuracy\n",
        "    score = cross_val_score(model, X_train, y_train, cv=3, scoring='accuracy').mean()\n",
        "    return score"
      ],
      "metadata": {
        "id": "bbHIIH8s5O8Z"
      },
      "execution_count": 24,
      "outputs": []
    },
    {
      "cell_type": "code",
      "source": [
        "# Create a study and optimize it using CmaEsSampler\n",
        "study = optuna.create_study(direction='maximize')\n",
        "study.optimize(objective, n_trials=100)"
      ],
      "metadata": {
        "colab": {
          "base_uri": "https://localhost:8080/"
        },
        "id": "lP_GVCWxBf60",
        "outputId": "f74031c1-9ade-4cdb-b8ca-19c4b5dd337c"
      },
      "execution_count": 25,
      "outputs": [
        {
          "output_type": "stream",
          "name": "stderr",
          "text": [
            "[I 2024-10-15 08:47:59,162] A new study created in memory with name: no-name-6b996491-d7f5-4e98-9e0c-6d2d10165bc5\n",
            "[I 2024-10-15 08:48:02,098] Trial 0 finished with value: 0.7318435754189944 and parameters: {'classifier': 'GradientBoosting', 'n_estimators': 149, 'learning_rate': 0.09457139050762262, 'max_depth': 11, 'min_samples_split': 6, 'min_samples_leaf': 3}. Best is trial 0 with value: 0.7318435754189944.\n",
            "[I 2024-10-15 08:48:05,634] Trial 1 finished with value: 0.756052141527002 and parameters: {'classifier': 'GradientBoosting', 'n_estimators': 181, 'learning_rate': 0.0420245458978772, 'max_depth': 9, 'min_samples_split': 3, 'min_samples_leaf': 2}. Best is trial 1 with value: 0.756052141527002.\n",
            "[I 2024-10-15 08:48:07,258] Trial 2 finished with value: 0.7765363128491621 and parameters: {'classifier': 'RandomForest', 'n_estimators': 246, 'max_depth': 8, 'min_samples_split': 6, 'min_samples_leaf': 5, 'bootstrap': False}. Best is trial 2 with value: 0.7765363128491621.\n",
            "[I 2024-10-15 08:48:09,220] Trial 3 finished with value: 0.7225325884543761 and parameters: {'classifier': 'GradientBoosting', 'n_estimators': 66, 'learning_rate': 0.093047480180208, 'max_depth': 16, 'min_samples_split': 8, 'min_samples_leaf': 3}. Best is trial 2 with value: 0.7765363128491621.\n",
            "[I 2024-10-15 08:48:10,346] Trial 4 finished with value: 0.7523277467411545 and parameters: {'classifier': 'RandomForest', 'n_estimators': 216, 'max_depth': 10, 'min_samples_split': 10, 'min_samples_leaf': 7, 'bootstrap': True}. Best is trial 2 with value: 0.7765363128491621.\n",
            "[I 2024-10-15 08:48:10,384] Trial 5 finished with value: 0.7746741154562384 and parameters: {'classifier': 'SVM', 'C': 0.9303197818664801, 'kernel': 'rbf', 'gamma': 'auto'}. Best is trial 2 with value: 0.7765363128491621.\n",
            "[I 2024-10-15 08:48:10,748] Trial 6 finished with value: 0.7746741154562384 and parameters: {'classifier': 'RandomForest', 'n_estimators': 66, 'max_depth': 13, 'min_samples_split': 5, 'min_samples_leaf': 1, 'bootstrap': True}. Best is trial 2 with value: 0.7765363128491621.\n",
            "[I 2024-10-15 08:48:10,842] Trial 7 finished with value: 0.7039106145251397 and parameters: {'classifier': 'SVM', 'C': 39.27808078595212, 'kernel': 'poly', 'gamma': 'scale'}. Best is trial 2 with value: 0.7765363128491621.\n",
            "[I 2024-10-15 08:48:10,890] Trial 8 finished with value: 0.7858472998137801 and parameters: {'classifier': 'SVM', 'C': 3.110259269136842, 'kernel': 'linear', 'gamma': 'scale'}. Best is trial 8 with value: 0.7858472998137801.\n",
            "[I 2024-10-15 08:48:10,928] Trial 9 finished with value: 0.7709497206703911 and parameters: {'classifier': 'SVM', 'C': 2.1344843012929995, 'kernel': 'rbf', 'gamma': 'scale'}. Best is trial 8 with value: 0.7858472998137801.\n",
            "[I 2024-10-15 08:48:10,965] Trial 10 finished with value: 0.7877094972067038 and parameters: {'classifier': 'SVM', 'C': 0.10864287469853715, 'kernel': 'linear', 'gamma': 'scale'}. Best is trial 10 with value: 0.7877094972067038.\n",
            "[I 2024-10-15 08:48:11,010] Trial 11 finished with value: 0.7895716945996275 and parameters: {'classifier': 'SVM', 'C': 0.12071163672771132, 'kernel': 'linear', 'gamma': 'scale'}. Best is trial 11 with value: 0.7895716945996275.\n",
            "[I 2024-10-15 08:48:11,052] Trial 12 finished with value: 0.7877094972067038 and parameters: {'classifier': 'SVM', 'C': 0.10167238357490688, 'kernel': 'linear', 'gamma': 'scale'}. Best is trial 11 with value: 0.7895716945996275.\n",
            "[I 2024-10-15 08:48:11,090] Trial 13 finished with value: 0.7895716945996275 and parameters: {'classifier': 'SVM', 'C': 0.12304692232587454, 'kernel': 'linear', 'gamma': 'scale'}. Best is trial 11 with value: 0.7895716945996275.\n",
            "[I 2024-10-15 08:48:11,137] Trial 14 finished with value: 0.7541899441340782 and parameters: {'classifier': 'SVM', 'C': 0.46535852815629253, 'kernel': 'sigmoid', 'gamma': 'auto'}. Best is trial 11 with value: 0.7895716945996275.\n",
            "[I 2024-10-15 08:48:11,304] Trial 15 finished with value: 0.7858472998137801 and parameters: {'classifier': 'SVM', 'C': 26.598729387475235, 'kernel': 'linear', 'gamma': 'scale'}. Best is trial 11 with value: 0.7895716945996275.\n",
            "[I 2024-10-15 08:48:11,341] Trial 16 finished with value: 0.7821229050279329 and parameters: {'classifier': 'SVM', 'C': 0.365362587947001, 'kernel': 'linear', 'gamma': 'scale'}. Best is trial 11 with value: 0.7895716945996275.\n",
            "[I 2024-10-15 08:48:11,392] Trial 17 finished with value: 0.7616387337057727 and parameters: {'classifier': 'SVM', 'C': 0.2410806451025089, 'kernel': 'sigmoid', 'gamma': 'auto'}. Best is trial 11 with value: 0.7895716945996275.\n",
            "[I 2024-10-15 08:48:12,923] Trial 18 finished with value: 0.7635009310986964 and parameters: {'classifier': 'GradientBoosting', 'n_estimators': 286, 'learning_rate': 0.010246261450950617, 'max_depth': 3, 'min_samples_split': 2, 'min_samples_leaf': 10}. Best is trial 11 with value: 0.7895716945996275.\n",
            "[I 2024-10-15 08:48:13,469] Trial 19 finished with value: 0.7821229050279329 and parameters: {'classifier': 'RandomForest', 'n_estimators': 122, 'max_depth': 19, 'min_samples_split': 10, 'min_samples_leaf': 10, 'bootstrap': False}. Best is trial 11 with value: 0.7895716945996275.\n",
            "[I 2024-10-15 08:48:13,521] Trial 20 finished with value: 0.7113594040968342 and parameters: {'classifier': 'SVM', 'C': 8.439044725969577, 'kernel': 'poly', 'gamma': 'scale'}. Best is trial 11 with value: 0.7895716945996275.\n",
            "[I 2024-10-15 08:48:13,557] Trial 21 finished with value: 0.7895716945996275 and parameters: {'classifier': 'SVM', 'C': 0.13670450032185816, 'kernel': 'linear', 'gamma': 'scale'}. Best is trial 11 with value: 0.7895716945996275.\n",
            "[I 2024-10-15 08:48:13,594] Trial 22 finished with value: 0.7858472998137803 and parameters: {'classifier': 'SVM', 'C': 0.194706884417018, 'kernel': 'linear', 'gamma': 'scale'}. Best is trial 11 with value: 0.7895716945996275.\n",
            "[I 2024-10-15 08:48:13,633] Trial 23 finished with value: 0.7858472998137803 and parameters: {'classifier': 'SVM', 'C': 0.7966066428167877, 'kernel': 'linear', 'gamma': 'scale'}. Best is trial 11 with value: 0.7895716945996275.\n",
            "[I 2024-10-15 08:48:13,671] Trial 24 finished with value: 0.7877094972067038 and parameters: {'classifier': 'SVM', 'C': 0.10645250437947215, 'kernel': 'linear', 'gamma': 'scale'}. Best is trial 11 with value: 0.7895716945996275.\n",
            "[I 2024-10-15 08:48:13,711] Trial 25 finished with value: 0.7858472998137803 and parameters: {'classifier': 'SVM', 'C': 0.25574544610577427, 'kernel': 'linear', 'gamma': 'scale'}. Best is trial 11 with value: 0.7895716945996275.\n",
            "[I 2024-10-15 08:48:13,751] Trial 26 finished with value: 0.7858472998137803 and parameters: {'classifier': 'SVM', 'C': 0.8900122973553392, 'kernel': 'linear', 'gamma': 'auto'}. Best is trial 11 with value: 0.7895716945996275.\n",
            "[I 2024-10-15 08:48:13,801] Trial 27 finished with value: 0.7094972067039106 and parameters: {'classifier': 'SVM', 'C': 9.521430893166215, 'kernel': 'poly', 'gamma': 'scale'}. Best is trial 11 with value: 0.7895716945996275.\n",
            "[I 2024-10-15 08:48:15,725] Trial 28 finished with value: 0.750465549348231 and parameters: {'classifier': 'GradientBoosting', 'n_estimators': 298, 'learning_rate': 0.27138821857911266, 'max_depth': 4, 'min_samples_split': 4, 'min_samples_leaf': 7}. Best is trial 11 with value: 0.7895716945996275.\n",
            "[I 2024-10-15 08:48:16,364] Trial 29 finished with value: 0.7746741154562384 and parameters: {'classifier': 'RandomForest', 'n_estimators': 119, 'max_depth': 20, 'min_samples_split': 8, 'min_samples_leaf': 5, 'bootstrap': True}. Best is trial 11 with value: 0.7895716945996275.\n",
            "[I 2024-10-15 08:48:18,481] Trial 30 finished with value: 0.7709497206703911 and parameters: {'classifier': 'GradientBoosting', 'n_estimators': 223, 'learning_rate': 0.011354861450976875, 'max_depth': 6, 'min_samples_split': 8, 'min_samples_leaf': 8}. Best is trial 11 with value: 0.7895716945996275.\n",
            "[I 2024-10-15 08:48:18,523] Trial 31 finished with value: 0.7877094972067038 and parameters: {'classifier': 'SVM', 'C': 0.1026439248051351, 'kernel': 'linear', 'gamma': 'scale'}. Best is trial 11 with value: 0.7895716945996275.\n",
            "[I 2024-10-15 08:48:18,562] Trial 32 finished with value: 0.7877094972067038 and parameters: {'classifier': 'SVM', 'C': 0.17454940740780325, 'kernel': 'linear', 'gamma': 'scale'}. Best is trial 11 with value: 0.7895716945996275.\n",
            "[I 2024-10-15 08:48:18,600] Trial 33 finished with value: 0.7839851024208566 and parameters: {'classifier': 'SVM', 'C': 0.5033827034364284, 'kernel': 'linear', 'gamma': 'scale'}. Best is trial 11 with value: 0.7895716945996275.\n",
            "[I 2024-10-15 08:48:18,638] Trial 34 finished with value: 0.7877094972067038 and parameters: {'classifier': 'SVM', 'C': 0.16149495459803542, 'kernel': 'linear', 'gamma': 'scale'}. Best is trial 11 with value: 0.7895716945996275.\n",
            "[I 2024-10-15 08:48:21,283] Trial 35 finished with value: 0.7467411545623835 and parameters: {'classifier': 'GradientBoosting', 'n_estimators': 101, 'learning_rate': 0.03116613602861454, 'max_depth': 14, 'min_samples_split': 2, 'min_samples_leaf': 4}. Best is trial 11 with value: 0.7895716945996275.\n",
            "[I 2024-10-15 08:48:22,387] Trial 36 finished with value: 0.7765363128491621 and parameters: {'classifier': 'RandomForest', 'n_estimators': 159, 'max_depth': 16, 'min_samples_split': 4, 'min_samples_leaf': 8, 'bootstrap': False}. Best is trial 11 with value: 0.7895716945996275.\n",
            "[I 2024-10-15 08:48:22,462] Trial 37 finished with value: 0.696461824953445 and parameters: {'classifier': 'SVM', 'C': 90.76950991808238, 'kernel': 'sigmoid', 'gamma': 'scale'}. Best is trial 11 with value: 0.7895716945996275.\n",
            "[I 2024-10-15 08:48:22,543] Trial 38 finished with value: 0.7635009310986964 and parameters: {'classifier': 'SVM', 'C': 0.2784748822512962, 'kernel': 'rbf', 'gamma': 'scale'}. Best is trial 11 with value: 0.7895716945996275.\n",
            "[I 2024-10-15 08:48:23,724] Trial 39 finished with value: 0.7690875232774674 and parameters: {'classifier': 'RandomForest', 'n_estimators': 264, 'max_depth': 7, 'min_samples_split': 9, 'min_samples_leaf': 1, 'bootstrap': False}. Best is trial 11 with value: 0.7895716945996275.\n",
            "[I 2024-10-15 08:48:23,763] Trial 40 finished with value: 0.7895716945996275 and parameters: {'classifier': 'SVM', 'C': 0.15371492692910624, 'kernel': 'linear', 'gamma': 'scale'}. Best is trial 11 with value: 0.7895716945996275.\n",
            "[I 2024-10-15 08:48:23,799] Trial 41 finished with value: 0.7877094972067038 and parameters: {'classifier': 'SVM', 'C': 0.1631124717802555, 'kernel': 'linear', 'gamma': 'scale'}. Best is trial 11 with value: 0.7895716945996275.\n",
            "[I 2024-10-15 08:48:23,839] Trial 42 finished with value: 0.7895716945996275 and parameters: {'classifier': 'SVM', 'C': 0.1441421383719458, 'kernel': 'linear', 'gamma': 'scale'}. Best is trial 11 with value: 0.7895716945996275.\n",
            "[I 2024-10-15 08:48:23,878] Trial 43 finished with value: 0.7821229050279329 and parameters: {'classifier': 'SVM', 'C': 0.3640620058960009, 'kernel': 'linear', 'gamma': 'scale'}. Best is trial 11 with value: 0.7895716945996275.\n",
            "[I 2024-10-15 08:48:23,917] Trial 44 finished with value: 0.7877094972067038 and parameters: {'classifier': 'SVM', 'C': 0.15793371619555693, 'kernel': 'linear', 'gamma': 'scale'}. Best is trial 11 with value: 0.7895716945996275.\n",
            "[I 2024-10-15 08:48:23,962] Trial 45 finished with value: 0.7690875232774674 and parameters: {'classifier': 'SVM', 'C': 0.580302217571885, 'kernel': 'rbf', 'gamma': 'auto'}. Best is trial 11 with value: 0.7895716945996275.\n",
            "[I 2024-10-15 08:48:24,015] Trial 46 finished with value: 0.7839851024208566 and parameters: {'classifier': 'SVM', 'C': 1.522427534150411, 'kernel': 'linear', 'gamma': 'scale'}. Best is trial 11 with value: 0.7895716945996275.\n",
            "[I 2024-10-15 08:48:24,057] Trial 47 finished with value: 0.7206703910614524 and parameters: {'classifier': 'SVM', 'C': 0.23628456298065775, 'kernel': 'poly', 'gamma': 'auto'}. Best is trial 11 with value: 0.7895716945996275.\n",
            "[I 2024-10-15 08:48:26,137] Trial 48 finished with value: 0.7392923649906891 and parameters: {'classifier': 'GradientBoosting', 'n_estimators': 191, 'learning_rate': 0.2843611270109122, 'max_depth': 17, 'min_samples_split': 5, 'min_samples_leaf': 6}. Best is trial 11 with value: 0.7895716945996275.\n",
            "[I 2024-10-15 08:48:26,174] Trial 49 finished with value: 0.7895716945996275 and parameters: {'classifier': 'SVM', 'C': 0.1487163847328263, 'kernel': 'linear', 'gamma': 'scale'}. Best is trial 11 with value: 0.7895716945996275.\n",
            "[I 2024-10-15 08:48:26,211] Trial 50 finished with value: 0.7858472998137803 and parameters: {'classifier': 'SVM', 'C': 0.32630610682272737, 'kernel': 'linear', 'gamma': 'scale'}. Best is trial 11 with value: 0.7895716945996275.\n",
            "[I 2024-10-15 08:48:26,247] Trial 51 finished with value: 0.7895716945996275 and parameters: {'classifier': 'SVM', 'C': 0.1523327037854339, 'kernel': 'linear', 'gamma': 'scale'}. Best is trial 11 with value: 0.7895716945996275.\n",
            "[I 2024-10-15 08:48:26,282] Trial 52 finished with value: 0.7895716945996275 and parameters: {'classifier': 'SVM', 'C': 0.1306216160825778, 'kernel': 'linear', 'gamma': 'scale'}. Best is trial 11 with value: 0.7895716945996275.\n",
            "[I 2024-10-15 08:48:26,322] Trial 53 finished with value: 0.7858472998137803 and parameters: {'classifier': 'SVM', 'C': 0.20830736400648683, 'kernel': 'linear', 'gamma': 'scale'}. Best is trial 11 with value: 0.7895716945996275.\n",
            "[I 2024-10-15 08:48:26,368] Trial 54 finished with value: 0.7113594040968342 and parameters: {'classifier': 'SVM', 'C': 0.10197479374635496, 'kernel': 'rbf', 'gamma': 'scale'}. Best is trial 11 with value: 0.7895716945996275.\n",
            "[I 2024-10-15 08:48:26,404] Trial 55 finished with value: 0.7895716945996275 and parameters: {'classifier': 'SVM', 'C': 0.15077506213795872, 'kernel': 'linear', 'gamma': 'scale'}. Best is trial 11 with value: 0.7895716945996275.\n",
            "[I 2024-10-15 08:48:26,912] Trial 56 finished with value: 0.7579143389199255 and parameters: {'classifier': 'RandomForest', 'n_estimators': 89, 'max_depth': 13, 'min_samples_split': 7, 'min_samples_leaf': 9, 'bootstrap': True}. Best is trial 11 with value: 0.7895716945996275.\n",
            "[I 2024-10-15 08:48:26,961] Trial 57 finished with value: 0.7597765363128491 and parameters: {'classifier': 'SVM', 'C': 0.3874800017503215, 'kernel': 'sigmoid', 'gamma': 'scale'}. Best is trial 11 with value: 0.7895716945996275.\n",
            "[I 2024-10-15 08:48:27,012] Trial 58 finished with value: 0.7858472998137803 and parameters: {'classifier': 'SVM', 'C': 0.249574011911146, 'kernel': 'linear', 'gamma': 'scale'}. Best is trial 11 with value: 0.7895716945996275.\n",
            "[I 2024-10-15 08:48:27,051] Trial 59 finished with value: 0.7895716945996275 and parameters: {'classifier': 'SVM', 'C': 0.13271758234036415, 'kernel': 'linear', 'gamma': 'scale'}. Best is trial 11 with value: 0.7895716945996275.\n",
            "[I 2024-10-15 08:48:27,106] Trial 60 finished with value: 0.7858472998137801 and parameters: {'classifier': 'SVM', 'C': 4.376705685873059, 'kernel': 'linear', 'gamma': 'auto'}. Best is trial 11 with value: 0.7895716945996275.\n",
            "[I 2024-10-15 08:48:27,143] Trial 61 finished with value: 0.7858472998137803 and parameters: {'classifier': 'SVM', 'C': 0.1883286221736522, 'kernel': 'linear', 'gamma': 'scale'}. Best is trial 11 with value: 0.7895716945996275.\n",
            "[I 2024-10-15 08:48:27,179] Trial 62 finished with value: 0.7895716945996275 and parameters: {'classifier': 'SVM', 'C': 0.13400224287933998, 'kernel': 'linear', 'gamma': 'scale'}. Best is trial 11 with value: 0.7895716945996275.\n",
            "[I 2024-10-15 08:48:27,218] Trial 63 finished with value: 0.7858472998137803 and parameters: {'classifier': 'SVM', 'C': 0.20965403515902353, 'kernel': 'linear', 'gamma': 'scale'}. Best is trial 11 with value: 0.7895716945996275.\n",
            "[I 2024-10-15 08:48:27,256] Trial 64 finished with value: 0.7895716945996275 and parameters: {'classifier': 'SVM', 'C': 0.12433293063722656, 'kernel': 'linear', 'gamma': 'scale'}. Best is trial 11 with value: 0.7895716945996275.\n",
            "[I 2024-10-15 08:48:29,055] Trial 65 finished with value: 0.756052141527002 and parameters: {'classifier': 'GradientBoosting', 'n_estimators': 208, 'learning_rate': 0.019970003845720376, 'max_depth': 5, 'min_samples_split': 3, 'min_samples_leaf': 4}. Best is trial 11 with value: 0.7895716945996275.\n",
            "[I 2024-10-15 08:48:29,101] Trial 66 finished with value: 0.7411545623836128 and parameters: {'classifier': 'SVM', 'C': 0.6075533162425796, 'kernel': 'poly', 'gamma': 'scale'}. Best is trial 11 with value: 0.7895716945996275.\n",
            "[I 2024-10-15 08:48:29,144] Trial 67 finished with value: 0.7877094972067038 and parameters: {'classifier': 'SVM', 'C': 0.10092033053038034, 'kernel': 'linear', 'gamma': 'scale'}. Best is trial 11 with value: 0.7895716945996275.\n",
            "[I 2024-10-15 08:48:29,193] Trial 68 finished with value: 0.7616387337057727 and parameters: {'classifier': 'SVM', 'C': 0.2790481865159456, 'kernel': 'sigmoid', 'gamma': 'scale'}. Best is trial 11 with value: 0.7895716945996275.\n",
            "[I 2024-10-15 08:48:29,821] Trial 69 finished with value: 0.7635009310986964 and parameters: {'classifier': 'RandomForest', 'n_estimators': 139, 'max_depth': 18, 'min_samples_split': 7, 'min_samples_leaf': 6, 'bootstrap': False}. Best is trial 11 with value: 0.7895716945996275.\n",
            "[I 2024-10-15 08:48:29,866] Trial 70 finished with value: 0.7839851024208566 and parameters: {'classifier': 'SVM', 'C': 1.3898532759138393, 'kernel': 'linear', 'gamma': 'scale'}. Best is trial 11 with value: 0.7895716945996275.\n",
            "[I 2024-10-15 08:48:29,914] Trial 71 finished with value: 0.7895716945996275 and parameters: {'classifier': 'SVM', 'C': 0.14217054411063715, 'kernel': 'linear', 'gamma': 'scale'}. Best is trial 11 with value: 0.7895716945996275.\n",
            "[I 2024-10-15 08:48:29,955] Trial 72 finished with value: 0.7895716945996275 and parameters: {'classifier': 'SVM', 'C': 0.1279099211583721, 'kernel': 'linear', 'gamma': 'scale'}. Best is trial 11 with value: 0.7895716945996275.\n",
            "[I 2024-10-15 08:48:30,002] Trial 73 finished with value: 0.7877094972067038 and parameters: {'classifier': 'SVM', 'C': 0.1845867218371562, 'kernel': 'linear', 'gamma': 'scale'}. Best is trial 11 with value: 0.7895716945996275.\n",
            "[I 2024-10-15 08:48:30,045] Trial 74 finished with value: 0.7858472998137803 and parameters: {'classifier': 'SVM', 'C': 0.20535830802882027, 'kernel': 'linear', 'gamma': 'scale'}. Best is trial 11 with value: 0.7895716945996275.\n",
            "[I 2024-10-15 08:48:30,084] Trial 75 finished with value: 0.7895716945996275 and parameters: {'classifier': 'SVM', 'C': 0.12206511392400918, 'kernel': 'linear', 'gamma': 'scale'}. Best is trial 11 with value: 0.7895716945996275.\n",
            "[I 2024-10-15 08:48:30,124] Trial 76 finished with value: 0.7858472998137803 and parameters: {'classifier': 'SVM', 'C': 0.3036952729708839, 'kernel': 'linear', 'gamma': 'scale'}. Best is trial 11 with value: 0.7895716945996275.\n",
            "[I 2024-10-15 08:48:36,544] Trial 77 finished with value: 0.7523277467411544 and parameters: {'classifier': 'GradientBoosting', 'n_estimators': 263, 'learning_rate': 0.10791854246948708, 'max_depth': 15, 'min_samples_split': 9, 'min_samples_leaf': 2}. Best is trial 11 with value: 0.7895716945996275.\n",
            "[I 2024-10-15 08:48:36,583] Trial 78 finished with value: 0.7839851024208566 and parameters: {'classifier': 'SVM', 'C': 0.43536013892251935, 'kernel': 'linear', 'gamma': 'auto'}. Best is trial 11 with value: 0.7895716945996275.\n",
            "[I 2024-10-15 08:48:36,629] Trial 79 finished with value: 0.7523277467411545 and parameters: {'classifier': 'SVM', 'C': 0.16284438439900234, 'kernel': 'rbf', 'gamma': 'scale'}. Best is trial 11 with value: 0.7895716945996275.\n",
            "[I 2024-10-15 08:48:36,672] Trial 80 finished with value: 0.7188081936685289 and parameters: {'classifier': 'SVM', 'C': 0.236449069552521, 'kernel': 'poly', 'gamma': 'scale'}. Best is trial 11 with value: 0.7895716945996275.\n",
            "[I 2024-10-15 08:48:36,710] Trial 81 finished with value: 0.7895716945996275 and parameters: {'classifier': 'SVM', 'C': 0.14481674606922906, 'kernel': 'linear', 'gamma': 'scale'}. Best is trial 11 with value: 0.7895716945996275.\n",
            "[I 2024-10-15 08:48:36,748] Trial 82 finished with value: 0.7877094972067038 and parameters: {'classifier': 'SVM', 'C': 0.1024922222686214, 'kernel': 'linear', 'gamma': 'scale'}. Best is trial 11 with value: 0.7895716945996275.\n",
            "[I 2024-10-15 08:48:36,786] Trial 83 finished with value: 0.7877094972067038 and parameters: {'classifier': 'SVM', 'C': 0.15764330324534842, 'kernel': 'linear', 'gamma': 'scale'}. Best is trial 11 with value: 0.7895716945996275.\n",
            "[I 2024-10-15 08:48:36,826] Trial 84 finished with value: 0.7895716945996275 and parameters: {'classifier': 'SVM', 'C': 0.1264274262235932, 'kernel': 'linear', 'gamma': 'scale'}. Best is trial 11 with value: 0.7895716945996275.\n",
            "[I 2024-10-15 08:48:36,939] Trial 85 finished with value: 0.7858472998137801 and parameters: {'classifier': 'SVM', 'C': 21.165899674174693, 'kernel': 'linear', 'gamma': 'scale'}. Best is trial 11 with value: 0.7895716945996275.\n",
            "[I 2024-10-15 08:48:37,263] Trial 86 finished with value: 0.7616387337057727 and parameters: {'classifier': 'RandomForest', 'n_estimators': 53, 'max_depth': 12, 'min_samples_split': 6, 'min_samples_leaf': 9, 'bootstrap': True}. Best is trial 11 with value: 0.7895716945996275.\n",
            "[I 2024-10-15 08:48:37,305] Trial 87 finished with value: 0.7877094972067038 and parameters: {'classifier': 'SVM', 'C': 0.18606734779362166, 'kernel': 'linear', 'gamma': 'scale'}. Best is trial 11 with value: 0.7895716945996275.\n",
            "[I 2024-10-15 08:48:37,342] Trial 88 finished with value: 0.7858472998137803 and parameters: {'classifier': 'SVM', 'C': 0.30639655687090467, 'kernel': 'linear', 'gamma': 'scale'}. Best is trial 11 with value: 0.7895716945996275.\n",
            "[I 2024-10-15 08:48:37,395] Trial 89 finished with value: 0.7709497206703911 and parameters: {'classifier': 'SVM', 'C': 0.15729376016846114, 'kernel': 'sigmoid', 'gamma': 'scale'}. Best is trial 11 with value: 0.7895716945996275.\n",
            "[I 2024-10-15 08:48:37,433] Trial 90 finished with value: 0.7895716945996275 and parameters: {'classifier': 'SVM', 'C': 0.11759448671758294, 'kernel': 'linear', 'gamma': 'auto'}. Best is trial 11 with value: 0.7895716945996275.\n",
            "[I 2024-10-15 08:48:37,469] Trial 91 finished with value: 0.7895716945996275 and parameters: {'classifier': 'SVM', 'C': 0.13688317318737292, 'kernel': 'linear', 'gamma': 'scale'}. Best is trial 11 with value: 0.7895716945996275.\n",
            "[I 2024-10-15 08:48:37,506] Trial 92 finished with value: 0.7858472998137803 and parameters: {'classifier': 'SVM', 'C': 0.2229972377454991, 'kernel': 'linear', 'gamma': 'scale'}. Best is trial 11 with value: 0.7895716945996275.\n",
            "[I 2024-10-15 08:48:37,542] Trial 93 finished with value: 0.7877094972067038 and parameters: {'classifier': 'SVM', 'C': 0.10040164720943907, 'kernel': 'linear', 'gamma': 'scale'}. Best is trial 11 with value: 0.7895716945996275.\n",
            "[I 2024-10-15 08:48:37,583] Trial 94 finished with value: 0.7877094972067038 and parameters: {'classifier': 'SVM', 'C': 0.18302310850779466, 'kernel': 'linear', 'gamma': 'scale'}. Best is trial 11 with value: 0.7895716945996275.\n",
            "[I 2024-10-15 08:48:39,662] Trial 95 finished with value: 0.7448789571694601 and parameters: {'classifier': 'GradientBoosting', 'n_estimators': 170, 'learning_rate': 0.14542572257022665, 'max_depth': 10, 'min_samples_split': 3, 'min_samples_leaf': 7}. Best is trial 11 with value: 0.7895716945996275.\n",
            "[I 2024-10-15 08:48:39,704] Trial 96 finished with value: 0.7895716945996275 and parameters: {'classifier': 'SVM', 'C': 0.15268277061558178, 'kernel': 'linear', 'gamma': 'scale'}. Best is trial 11 with value: 0.7895716945996275.\n",
            "[I 2024-10-15 08:48:39,757] Trial 97 finished with value: 0.7858472998137801 and parameters: {'classifier': 'SVM', 'C': 3.4107830522396743, 'kernel': 'linear', 'gamma': 'scale'}. Best is trial 11 with value: 0.7895716945996275.\n",
            "[I 2024-10-15 08:48:39,805] Trial 98 finished with value: 0.7579143389199255 and parameters: {'classifier': 'SVM', 'C': 0.2519190566981104, 'kernel': 'rbf', 'gamma': 'scale'}. Best is trial 11 with value: 0.7895716945996275.\n",
            "[I 2024-10-15 08:48:39,846] Trial 99 finished with value: 0.7895716945996275 and parameters: {'classifier': 'SVM', 'C': 0.12347189901130672, 'kernel': 'linear', 'gamma': 'scale'}. Best is trial 11 with value: 0.7895716945996275.\n"
          ]
        }
      ]
    },
    {
      "cell_type": "code",
      "source": [
        "# Retrieve the best trial\n",
        "best_trial = study.best_trial\n",
        "print(\"Best trial parameters:\", best_trial.params)\n",
        "print(\"Best trial accuracy:\", best_trial.value)"
      ],
      "metadata": {
        "colab": {
          "base_uri": "https://localhost:8080/"
        },
        "id": "jLNRO9POBzbW",
        "outputId": "585630a4-41c5-4b53-94ca-a5a3eb2fcf55"
      },
      "execution_count": 26,
      "outputs": [
        {
          "output_type": "stream",
          "name": "stdout",
          "text": [
            "Best trial parameters: {'classifier': 'SVM', 'C': 0.12071163672771132, 'kernel': 'linear', 'gamma': 'scale'}\n",
            "Best trial accuracy: 0.7895716945996275\n"
          ]
        }
      ]
    },
    {
      "cell_type": "code",
      "source": [
        "study.trials_dataframe()"
      ],
      "metadata": {
        "colab": {
          "base_uri": "https://localhost:8080/",
          "height": 617
        },
        "id": "QD74lBzvB6Q5",
        "outputId": "7322216b-d740-4e72-b178-cee4e4f2a875"
      },
      "execution_count": 27,
      "outputs": [
        {
          "output_type": "execute_result",
          "data": {
            "text/plain": [
              "    number     value             datetime_start          datetime_complete  \\\n",
              "0        0  0.731844 2024-10-15 08:47:59.166702 2024-10-15 08:48:02.097857   \n",
              "1        1  0.756052 2024-10-15 08:48:02.100017 2024-10-15 08:48:05.633459   \n",
              "2        2  0.776536 2024-10-15 08:48:05.636681 2024-10-15 08:48:07.257404   \n",
              "3        3  0.722533 2024-10-15 08:48:07.263181 2024-10-15 08:48:09.220586   \n",
              "4        4  0.752328 2024-10-15 08:48:09.222427 2024-10-15 08:48:10.345862   \n",
              "..     ...       ...                        ...                        ...   \n",
              "95      95  0.744879 2024-10-15 08:48:37.585157 2024-10-15 08:48:39.662601   \n",
              "96      96  0.789572 2024-10-15 08:48:39.664552 2024-10-15 08:48:39.704604   \n",
              "97      97  0.785847 2024-10-15 08:48:39.707909 2024-10-15 08:48:39.757650   \n",
              "98      98  0.757914 2024-10-15 08:48:39.759570 2024-10-15 08:48:39.805410   \n",
              "99      99  0.789572 2024-10-15 08:48:39.807357 2024-10-15 08:48:39.845827   \n",
              "\n",
              "                 duration  params_C params_bootstrap params_classifier  \\\n",
              "0  0 days 00:00:02.931155       NaN              NaN  GradientBoosting   \n",
              "1  0 days 00:00:03.533442       NaN              NaN  GradientBoosting   \n",
              "2  0 days 00:00:01.620723       NaN            False      RandomForest   \n",
              "3  0 days 00:00:01.957405       NaN              NaN  GradientBoosting   \n",
              "4  0 days 00:00:01.123435       NaN             True      RandomForest   \n",
              "..                    ...       ...              ...               ...   \n",
              "95 0 days 00:00:02.077444       NaN              NaN  GradientBoosting   \n",
              "96 0 days 00:00:00.040052  0.152683              NaN               SVM   \n",
              "97 0 days 00:00:00.049741  3.410783              NaN               SVM   \n",
              "98 0 days 00:00:00.045840  0.251919              NaN               SVM   \n",
              "99 0 days 00:00:00.038470  0.123472              NaN               SVM   \n",
              "\n",
              "   params_gamma params_kernel  params_learning_rate  params_max_depth  \\\n",
              "0           NaN           NaN              0.094571              11.0   \n",
              "1           NaN           NaN              0.042025               9.0   \n",
              "2           NaN           NaN                   NaN               8.0   \n",
              "3           NaN           NaN              0.093047              16.0   \n",
              "4           NaN           NaN                   NaN              10.0   \n",
              "..          ...           ...                   ...               ...   \n",
              "95          NaN           NaN              0.145426              10.0   \n",
              "96        scale        linear                   NaN               NaN   \n",
              "97        scale        linear                   NaN               NaN   \n",
              "98        scale           rbf                   NaN               NaN   \n",
              "99        scale        linear                   NaN               NaN   \n",
              "\n",
              "    params_min_samples_leaf  params_min_samples_split  params_n_estimators  \\\n",
              "0                       3.0                       6.0                149.0   \n",
              "1                       2.0                       3.0                181.0   \n",
              "2                       5.0                       6.0                246.0   \n",
              "3                       3.0                       8.0                 66.0   \n",
              "4                       7.0                      10.0                216.0   \n",
              "..                      ...                       ...                  ...   \n",
              "95                      7.0                       3.0                170.0   \n",
              "96                      NaN                       NaN                  NaN   \n",
              "97                      NaN                       NaN                  NaN   \n",
              "98                      NaN                       NaN                  NaN   \n",
              "99                      NaN                       NaN                  NaN   \n",
              "\n",
              "       state  \n",
              "0   COMPLETE  \n",
              "1   COMPLETE  \n",
              "2   COMPLETE  \n",
              "3   COMPLETE  \n",
              "4   COMPLETE  \n",
              "..       ...  \n",
              "95  COMPLETE  \n",
              "96  COMPLETE  \n",
              "97  COMPLETE  \n",
              "98  COMPLETE  \n",
              "99  COMPLETE  \n",
              "\n",
              "[100 rows x 16 columns]"
            ],
            "text/html": [
              "\n",
              "  <div id=\"df-803898f3-ce1e-4dba-9a7a-d7903f5559f3\" class=\"colab-df-container\">\n",
              "    <div>\n",
              "<style scoped>\n",
              "    .dataframe tbody tr th:only-of-type {\n",
              "        vertical-align: middle;\n",
              "    }\n",
              "\n",
              "    .dataframe tbody tr th {\n",
              "        vertical-align: top;\n",
              "    }\n",
              "\n",
              "    .dataframe thead th {\n",
              "        text-align: right;\n",
              "    }\n",
              "</style>\n",
              "<table border=\"1\" class=\"dataframe\">\n",
              "  <thead>\n",
              "    <tr style=\"text-align: right;\">\n",
              "      <th></th>\n",
              "      <th>number</th>\n",
              "      <th>value</th>\n",
              "      <th>datetime_start</th>\n",
              "      <th>datetime_complete</th>\n",
              "      <th>duration</th>\n",
              "      <th>params_C</th>\n",
              "      <th>params_bootstrap</th>\n",
              "      <th>params_classifier</th>\n",
              "      <th>params_gamma</th>\n",
              "      <th>params_kernel</th>\n",
              "      <th>params_learning_rate</th>\n",
              "      <th>params_max_depth</th>\n",
              "      <th>params_min_samples_leaf</th>\n",
              "      <th>params_min_samples_split</th>\n",
              "      <th>params_n_estimators</th>\n",
              "      <th>state</th>\n",
              "    </tr>\n",
              "  </thead>\n",
              "  <tbody>\n",
              "    <tr>\n",
              "      <th>0</th>\n",
              "      <td>0</td>\n",
              "      <td>0.731844</td>\n",
              "      <td>2024-10-15 08:47:59.166702</td>\n",
              "      <td>2024-10-15 08:48:02.097857</td>\n",
              "      <td>0 days 00:00:02.931155</td>\n",
              "      <td>NaN</td>\n",
              "      <td>NaN</td>\n",
              "      <td>GradientBoosting</td>\n",
              "      <td>NaN</td>\n",
              "      <td>NaN</td>\n",
              "      <td>0.094571</td>\n",
              "      <td>11.0</td>\n",
              "      <td>3.0</td>\n",
              "      <td>6.0</td>\n",
              "      <td>149.0</td>\n",
              "      <td>COMPLETE</td>\n",
              "    </tr>\n",
              "    <tr>\n",
              "      <th>1</th>\n",
              "      <td>1</td>\n",
              "      <td>0.756052</td>\n",
              "      <td>2024-10-15 08:48:02.100017</td>\n",
              "      <td>2024-10-15 08:48:05.633459</td>\n",
              "      <td>0 days 00:00:03.533442</td>\n",
              "      <td>NaN</td>\n",
              "      <td>NaN</td>\n",
              "      <td>GradientBoosting</td>\n",
              "      <td>NaN</td>\n",
              "      <td>NaN</td>\n",
              "      <td>0.042025</td>\n",
              "      <td>9.0</td>\n",
              "      <td>2.0</td>\n",
              "      <td>3.0</td>\n",
              "      <td>181.0</td>\n",
              "      <td>COMPLETE</td>\n",
              "    </tr>\n",
              "    <tr>\n",
              "      <th>2</th>\n",
              "      <td>2</td>\n",
              "      <td>0.776536</td>\n",
              "      <td>2024-10-15 08:48:05.636681</td>\n",
              "      <td>2024-10-15 08:48:07.257404</td>\n",
              "      <td>0 days 00:00:01.620723</td>\n",
              "      <td>NaN</td>\n",
              "      <td>False</td>\n",
              "      <td>RandomForest</td>\n",
              "      <td>NaN</td>\n",
              "      <td>NaN</td>\n",
              "      <td>NaN</td>\n",
              "      <td>8.0</td>\n",
              "      <td>5.0</td>\n",
              "      <td>6.0</td>\n",
              "      <td>246.0</td>\n",
              "      <td>COMPLETE</td>\n",
              "    </tr>\n",
              "    <tr>\n",
              "      <th>3</th>\n",
              "      <td>3</td>\n",
              "      <td>0.722533</td>\n",
              "      <td>2024-10-15 08:48:07.263181</td>\n",
              "      <td>2024-10-15 08:48:09.220586</td>\n",
              "      <td>0 days 00:00:01.957405</td>\n",
              "      <td>NaN</td>\n",
              "      <td>NaN</td>\n",
              "      <td>GradientBoosting</td>\n",
              "      <td>NaN</td>\n",
              "      <td>NaN</td>\n",
              "      <td>0.093047</td>\n",
              "      <td>16.0</td>\n",
              "      <td>3.0</td>\n",
              "      <td>8.0</td>\n",
              "      <td>66.0</td>\n",
              "      <td>COMPLETE</td>\n",
              "    </tr>\n",
              "    <tr>\n",
              "      <th>4</th>\n",
              "      <td>4</td>\n",
              "      <td>0.752328</td>\n",
              "      <td>2024-10-15 08:48:09.222427</td>\n",
              "      <td>2024-10-15 08:48:10.345862</td>\n",
              "      <td>0 days 00:00:01.123435</td>\n",
              "      <td>NaN</td>\n",
              "      <td>True</td>\n",
              "      <td>RandomForest</td>\n",
              "      <td>NaN</td>\n",
              "      <td>NaN</td>\n",
              "      <td>NaN</td>\n",
              "      <td>10.0</td>\n",
              "      <td>7.0</td>\n",
              "      <td>10.0</td>\n",
              "      <td>216.0</td>\n",
              "      <td>COMPLETE</td>\n",
              "    </tr>\n",
              "    <tr>\n",
              "      <th>...</th>\n",
              "      <td>...</td>\n",
              "      <td>...</td>\n",
              "      <td>...</td>\n",
              "      <td>...</td>\n",
              "      <td>...</td>\n",
              "      <td>...</td>\n",
              "      <td>...</td>\n",
              "      <td>...</td>\n",
              "      <td>...</td>\n",
              "      <td>...</td>\n",
              "      <td>...</td>\n",
              "      <td>...</td>\n",
              "      <td>...</td>\n",
              "      <td>...</td>\n",
              "      <td>...</td>\n",
              "      <td>...</td>\n",
              "    </tr>\n",
              "    <tr>\n",
              "      <th>95</th>\n",
              "      <td>95</td>\n",
              "      <td>0.744879</td>\n",
              "      <td>2024-10-15 08:48:37.585157</td>\n",
              "      <td>2024-10-15 08:48:39.662601</td>\n",
              "      <td>0 days 00:00:02.077444</td>\n",
              "      <td>NaN</td>\n",
              "      <td>NaN</td>\n",
              "      <td>GradientBoosting</td>\n",
              "      <td>NaN</td>\n",
              "      <td>NaN</td>\n",
              "      <td>0.145426</td>\n",
              "      <td>10.0</td>\n",
              "      <td>7.0</td>\n",
              "      <td>3.0</td>\n",
              "      <td>170.0</td>\n",
              "      <td>COMPLETE</td>\n",
              "    </tr>\n",
              "    <tr>\n",
              "      <th>96</th>\n",
              "      <td>96</td>\n",
              "      <td>0.789572</td>\n",
              "      <td>2024-10-15 08:48:39.664552</td>\n",
              "      <td>2024-10-15 08:48:39.704604</td>\n",
              "      <td>0 days 00:00:00.040052</td>\n",
              "      <td>0.152683</td>\n",
              "      <td>NaN</td>\n",
              "      <td>SVM</td>\n",
              "      <td>scale</td>\n",
              "      <td>linear</td>\n",
              "      <td>NaN</td>\n",
              "      <td>NaN</td>\n",
              "      <td>NaN</td>\n",
              "      <td>NaN</td>\n",
              "      <td>NaN</td>\n",
              "      <td>COMPLETE</td>\n",
              "    </tr>\n",
              "    <tr>\n",
              "      <th>97</th>\n",
              "      <td>97</td>\n",
              "      <td>0.785847</td>\n",
              "      <td>2024-10-15 08:48:39.707909</td>\n",
              "      <td>2024-10-15 08:48:39.757650</td>\n",
              "      <td>0 days 00:00:00.049741</td>\n",
              "      <td>3.410783</td>\n",
              "      <td>NaN</td>\n",
              "      <td>SVM</td>\n",
              "      <td>scale</td>\n",
              "      <td>linear</td>\n",
              "      <td>NaN</td>\n",
              "      <td>NaN</td>\n",
              "      <td>NaN</td>\n",
              "      <td>NaN</td>\n",
              "      <td>NaN</td>\n",
              "      <td>COMPLETE</td>\n",
              "    </tr>\n",
              "    <tr>\n",
              "      <th>98</th>\n",
              "      <td>98</td>\n",
              "      <td>0.757914</td>\n",
              "      <td>2024-10-15 08:48:39.759570</td>\n",
              "      <td>2024-10-15 08:48:39.805410</td>\n",
              "      <td>0 days 00:00:00.045840</td>\n",
              "      <td>0.251919</td>\n",
              "      <td>NaN</td>\n",
              "      <td>SVM</td>\n",
              "      <td>scale</td>\n",
              "      <td>rbf</td>\n",
              "      <td>NaN</td>\n",
              "      <td>NaN</td>\n",
              "      <td>NaN</td>\n",
              "      <td>NaN</td>\n",
              "      <td>NaN</td>\n",
              "      <td>COMPLETE</td>\n",
              "    </tr>\n",
              "    <tr>\n",
              "      <th>99</th>\n",
              "      <td>99</td>\n",
              "      <td>0.789572</td>\n",
              "      <td>2024-10-15 08:48:39.807357</td>\n",
              "      <td>2024-10-15 08:48:39.845827</td>\n",
              "      <td>0 days 00:00:00.038470</td>\n",
              "      <td>0.123472</td>\n",
              "      <td>NaN</td>\n",
              "      <td>SVM</td>\n",
              "      <td>scale</td>\n",
              "      <td>linear</td>\n",
              "      <td>NaN</td>\n",
              "      <td>NaN</td>\n",
              "      <td>NaN</td>\n",
              "      <td>NaN</td>\n",
              "      <td>NaN</td>\n",
              "      <td>COMPLETE</td>\n",
              "    </tr>\n",
              "  </tbody>\n",
              "</table>\n",
              "<p>100 rows × 16 columns</p>\n",
              "</div>\n",
              "    <div class=\"colab-df-buttons\">\n",
              "\n",
              "  <div class=\"colab-df-container\">\n",
              "    <button class=\"colab-df-convert\" onclick=\"convertToInteractive('df-803898f3-ce1e-4dba-9a7a-d7903f5559f3')\"\n",
              "            title=\"Convert this dataframe to an interactive table.\"\n",
              "            style=\"display:none;\">\n",
              "\n",
              "  <svg xmlns=\"http://www.w3.org/2000/svg\" height=\"24px\" viewBox=\"0 -960 960 960\">\n",
              "    <path d=\"M120-120v-720h720v720H120Zm60-500h600v-160H180v160Zm220 220h160v-160H400v160Zm0 220h160v-160H400v160ZM180-400h160v-160H180v160Zm440 0h160v-160H620v160ZM180-180h160v-160H180v160Zm440 0h160v-160H620v160Z\"/>\n",
              "  </svg>\n",
              "    </button>\n",
              "\n",
              "  <style>\n",
              "    .colab-df-container {\n",
              "      display:flex;\n",
              "      gap: 12px;\n",
              "    }\n",
              "\n",
              "    .colab-df-convert {\n",
              "      background-color: #E8F0FE;\n",
              "      border: none;\n",
              "      border-radius: 50%;\n",
              "      cursor: pointer;\n",
              "      display: none;\n",
              "      fill: #1967D2;\n",
              "      height: 32px;\n",
              "      padding: 0 0 0 0;\n",
              "      width: 32px;\n",
              "    }\n",
              "\n",
              "    .colab-df-convert:hover {\n",
              "      background-color: #E2EBFA;\n",
              "      box-shadow: 0px 1px 2px rgba(60, 64, 67, 0.3), 0px 1px 3px 1px rgba(60, 64, 67, 0.15);\n",
              "      fill: #174EA6;\n",
              "    }\n",
              "\n",
              "    .colab-df-buttons div {\n",
              "      margin-bottom: 4px;\n",
              "    }\n",
              "\n",
              "    [theme=dark] .colab-df-convert {\n",
              "      background-color: #3B4455;\n",
              "      fill: #D2E3FC;\n",
              "    }\n",
              "\n",
              "    [theme=dark] .colab-df-convert:hover {\n",
              "      background-color: #434B5C;\n",
              "      box-shadow: 0px 1px 3px 1px rgba(0, 0, 0, 0.15);\n",
              "      filter: drop-shadow(0px 1px 2px rgba(0, 0, 0, 0.3));\n",
              "      fill: #FFFFFF;\n",
              "    }\n",
              "  </style>\n",
              "\n",
              "    <script>\n",
              "      const buttonEl =\n",
              "        document.querySelector('#df-803898f3-ce1e-4dba-9a7a-d7903f5559f3 button.colab-df-convert');\n",
              "      buttonEl.style.display =\n",
              "        google.colab.kernel.accessAllowed ? 'block' : 'none';\n",
              "\n",
              "      async function convertToInteractive(key) {\n",
              "        const element = document.querySelector('#df-803898f3-ce1e-4dba-9a7a-d7903f5559f3');\n",
              "        const dataTable =\n",
              "          await google.colab.kernel.invokeFunction('convertToInteractive',\n",
              "                                                    [key], {});\n",
              "        if (!dataTable) return;\n",
              "\n",
              "        const docLinkHtml = 'Like what you see? Visit the ' +\n",
              "          '<a target=\"_blank\" href=https://colab.research.google.com/notebooks/data_table.ipynb>data table notebook</a>'\n",
              "          + ' to learn more about interactive tables.';\n",
              "        element.innerHTML = '';\n",
              "        dataTable['output_type'] = 'display_data';\n",
              "        await google.colab.output.renderOutput(dataTable, element);\n",
              "        const docLink = document.createElement('div');\n",
              "        docLink.innerHTML = docLinkHtml;\n",
              "        element.appendChild(docLink);\n",
              "      }\n",
              "    </script>\n",
              "  </div>\n",
              "\n",
              "\n",
              "<div id=\"df-a5084824-460c-4212-aa20-6c86c3a1d274\">\n",
              "  <button class=\"colab-df-quickchart\" onclick=\"quickchart('df-a5084824-460c-4212-aa20-6c86c3a1d274')\"\n",
              "            title=\"Suggest charts\"\n",
              "            style=\"display:none;\">\n",
              "\n",
              "<svg xmlns=\"http://www.w3.org/2000/svg\" height=\"24px\"viewBox=\"0 0 24 24\"\n",
              "     width=\"24px\">\n",
              "    <g>\n",
              "        <path d=\"M19 3H5c-1.1 0-2 .9-2 2v14c0 1.1.9 2 2 2h14c1.1 0 2-.9 2-2V5c0-1.1-.9-2-2-2zM9 17H7v-7h2v7zm4 0h-2V7h2v10zm4 0h-2v-4h2v4z\"/>\n",
              "    </g>\n",
              "</svg>\n",
              "  </button>\n",
              "\n",
              "<style>\n",
              "  .colab-df-quickchart {\n",
              "      --bg-color: #E8F0FE;\n",
              "      --fill-color: #1967D2;\n",
              "      --hover-bg-color: #E2EBFA;\n",
              "      --hover-fill-color: #174EA6;\n",
              "      --disabled-fill-color: #AAA;\n",
              "      --disabled-bg-color: #DDD;\n",
              "  }\n",
              "\n",
              "  [theme=dark] .colab-df-quickchart {\n",
              "      --bg-color: #3B4455;\n",
              "      --fill-color: #D2E3FC;\n",
              "      --hover-bg-color: #434B5C;\n",
              "      --hover-fill-color: #FFFFFF;\n",
              "      --disabled-bg-color: #3B4455;\n",
              "      --disabled-fill-color: #666;\n",
              "  }\n",
              "\n",
              "  .colab-df-quickchart {\n",
              "    background-color: var(--bg-color);\n",
              "    border: none;\n",
              "    border-radius: 50%;\n",
              "    cursor: pointer;\n",
              "    display: none;\n",
              "    fill: var(--fill-color);\n",
              "    height: 32px;\n",
              "    padding: 0;\n",
              "    width: 32px;\n",
              "  }\n",
              "\n",
              "  .colab-df-quickchart:hover {\n",
              "    background-color: var(--hover-bg-color);\n",
              "    box-shadow: 0 1px 2px rgba(60, 64, 67, 0.3), 0 1px 3px 1px rgba(60, 64, 67, 0.15);\n",
              "    fill: var(--button-hover-fill-color);\n",
              "  }\n",
              "\n",
              "  .colab-df-quickchart-complete:disabled,\n",
              "  .colab-df-quickchart-complete:disabled:hover {\n",
              "    background-color: var(--disabled-bg-color);\n",
              "    fill: var(--disabled-fill-color);\n",
              "    box-shadow: none;\n",
              "  }\n",
              "\n",
              "  .colab-df-spinner {\n",
              "    border: 2px solid var(--fill-color);\n",
              "    border-color: transparent;\n",
              "    border-bottom-color: var(--fill-color);\n",
              "    animation:\n",
              "      spin 1s steps(1) infinite;\n",
              "  }\n",
              "\n",
              "  @keyframes spin {\n",
              "    0% {\n",
              "      border-color: transparent;\n",
              "      border-bottom-color: var(--fill-color);\n",
              "      border-left-color: var(--fill-color);\n",
              "    }\n",
              "    20% {\n",
              "      border-color: transparent;\n",
              "      border-left-color: var(--fill-color);\n",
              "      border-top-color: var(--fill-color);\n",
              "    }\n",
              "    30% {\n",
              "      border-color: transparent;\n",
              "      border-left-color: var(--fill-color);\n",
              "      border-top-color: var(--fill-color);\n",
              "      border-right-color: var(--fill-color);\n",
              "    }\n",
              "    40% {\n",
              "      border-color: transparent;\n",
              "      border-right-color: var(--fill-color);\n",
              "      border-top-color: var(--fill-color);\n",
              "    }\n",
              "    60% {\n",
              "      border-color: transparent;\n",
              "      border-right-color: var(--fill-color);\n",
              "    }\n",
              "    80% {\n",
              "      border-color: transparent;\n",
              "      border-right-color: var(--fill-color);\n",
              "      border-bottom-color: var(--fill-color);\n",
              "    }\n",
              "    90% {\n",
              "      border-color: transparent;\n",
              "      border-bottom-color: var(--fill-color);\n",
              "    }\n",
              "  }\n",
              "</style>\n",
              "\n",
              "  <script>\n",
              "    async function quickchart(key) {\n",
              "      const quickchartButtonEl =\n",
              "        document.querySelector('#' + key + ' button');\n",
              "      quickchartButtonEl.disabled = true;  // To prevent multiple clicks.\n",
              "      quickchartButtonEl.classList.add('colab-df-spinner');\n",
              "      try {\n",
              "        const charts = await google.colab.kernel.invokeFunction(\n",
              "            'suggestCharts', [key], {});\n",
              "      } catch (error) {\n",
              "        console.error('Error during call to suggestCharts:', error);\n",
              "      }\n",
              "      quickchartButtonEl.classList.remove('colab-df-spinner');\n",
              "      quickchartButtonEl.classList.add('colab-df-quickchart-complete');\n",
              "    }\n",
              "    (() => {\n",
              "      let quickchartButtonEl =\n",
              "        document.querySelector('#df-a5084824-460c-4212-aa20-6c86c3a1d274 button');\n",
              "      quickchartButtonEl.style.display =\n",
              "        google.colab.kernel.accessAllowed ? 'block' : 'none';\n",
              "    })();\n",
              "  </script>\n",
              "</div>\n",
              "\n",
              "    </div>\n",
              "  </div>\n"
            ],
            "application/vnd.google.colaboratory.intrinsic+json": {
              "type": "dataframe",
              "summary": "{\n  \"name\": \"study\",\n  \"rows\": 100,\n  \"fields\": [\n    {\n      \"column\": \"number\",\n      \"properties\": {\n        \"dtype\": \"number\",\n        \"std\": 29,\n        \"min\": 0,\n        \"max\": 99,\n        \"num_unique_values\": 100,\n        \"samples\": [\n          83,\n          53,\n          70\n        ],\n        \"semantic_type\": \"\",\n        \"description\": \"\"\n      }\n    },\n    {\n      \"column\": \"value\",\n      \"properties\": {\n        \"dtype\": \"number\",\n        \"std\": 0.023050762937056764,\n        \"min\": 0.696461824953445,\n        \"max\": 0.7895716945996275,\n        \"num_unique_values\": 31,\n        \"samples\": [\n          0.7411545623836128,\n          0.7113594040968342,\n          0.7206703910614524\n        ],\n        \"semantic_type\": \"\",\n        \"description\": \"\"\n      }\n    },\n    {\n      \"column\": \"datetime_start\",\n      \"properties\": {\n        \"dtype\": \"date\",\n        \"min\": \"2024-10-15 08:47:59.166702\",\n        \"max\": \"2024-10-15 08:48:39.807357\",\n        \"num_unique_values\": 100,\n        \"samples\": [\n          \"2024-10-15 08:48:36.749797\",\n          \"2024-10-15 08:48:26.284518\",\n          \"2024-10-15 08:48:29.823136\"\n        ],\n        \"semantic_type\": \"\",\n        \"description\": \"\"\n      }\n    },\n    {\n      \"column\": \"datetime_complete\",\n      \"properties\": {\n        \"dtype\": \"date\",\n        \"min\": \"2024-10-15 08:48:02.097857\",\n        \"max\": \"2024-10-15 08:48:39.845827\",\n        \"num_unique_values\": 100,\n        \"samples\": [\n          \"2024-10-15 08:48:36.786341\",\n          \"2024-10-15 08:48:26.322286\",\n          \"2024-10-15 08:48:29.866380\"\n        ],\n        \"semantic_type\": \"\",\n        \"description\": \"\"\n      }\n    },\n    {\n      \"column\": \"duration\",\n      \"properties\": {\n        \"dtype\": \"timedelta64[ns]\",\n        \"num_unique_values\": 100,\n        \"samples\": [\n          \"0 days 00:00:00.036544\",\n          \"0 days 00:00:00.037768\",\n          \"0 days 00:00:00.043244\"\n        ],\n        \"semantic_type\": \"\",\n        \"description\": \"\"\n      }\n    },\n    {\n      \"column\": \"params_C\",\n      \"properties\": {\n        \"dtype\": \"number\",\n        \"std\": 11.601667260984696,\n        \"min\": 0.10040164720943907,\n        \"max\": 90.76950991808238,\n        \"num_unique_values\": 79,\n        \"samples\": [\n          0.15793371619555693,\n          0.9303197818664801,\n          0.5033827034364284\n        ],\n        \"semantic_type\": \"\",\n        \"description\": \"\"\n      }\n    },\n    {\n      \"column\": \"params_bootstrap\",\n      \"properties\": {\n        \"dtype\": \"category\",\n        \"num_unique_values\": 2,\n        \"samples\": [\n          true,\n          false\n        ],\n        \"semantic_type\": \"\",\n        \"description\": \"\"\n      }\n    },\n    {\n      \"column\": \"params_classifier\",\n      \"properties\": {\n        \"dtype\": \"category\",\n        \"num_unique_values\": 3,\n        \"samples\": [\n          \"GradientBoosting\",\n          \"RandomForest\"\n        ],\n        \"semantic_type\": \"\",\n        \"description\": \"\"\n      }\n    },\n    {\n      \"column\": \"params_gamma\",\n      \"properties\": {\n        \"dtype\": \"category\",\n        \"num_unique_values\": 2,\n        \"samples\": [\n          \"scale\",\n          \"auto\"\n        ],\n        \"semantic_type\": \"\",\n        \"description\": \"\"\n      }\n    },\n    {\n      \"column\": \"params_kernel\",\n      \"properties\": {\n        \"dtype\": \"category\",\n        \"num_unique_values\": 4,\n        \"samples\": [\n          \"poly\",\n          \"sigmoid\"\n        ],\n        \"semantic_type\": \"\",\n        \"description\": \"\"\n      }\n    },\n    {\n      \"column\": \"params_learning_rate\",\n      \"properties\": {\n        \"dtype\": \"number\",\n        \"std\": 0.09796567412775466,\n        \"min\": 0.010246261450950617,\n        \"max\": 0.2843611270109122,\n        \"num_unique_values\": 11,\n        \"samples\": [\n          0.011354861450976875,\n          0.09457139050762262\n        ],\n        \"semantic_type\": \"\",\n        \"description\": \"\"\n      }\n    },\n    {\n      \"column\": \"params_max_depth\",\n      \"properties\": {\n        \"dtype\": \"number\",\n        \"std\": 5.041258346314511,\n        \"min\": 3.0,\n        \"max\": 20.0,\n        \"num_unique_values\": 18,\n        \"samples\": [\n          11.0,\n          9.0\n        ],\n        \"semantic_type\": \"\",\n        \"description\": \"\"\n      }\n    },\n    {\n      \"column\": \"params_min_samples_leaf\",\n      \"properties\": {\n        \"dtype\": \"number\",\n        \"std\": 2.8908723349782943,\n        \"min\": 1.0,\n        \"max\": 10.0,\n        \"num_unique_values\": 10,\n        \"samples\": [\n          6.0,\n          2.0\n        ],\n        \"semantic_type\": \"\",\n        \"description\": \"\"\n      }\n    },\n    {\n      \"column\": \"params_min_samples_split\",\n      \"properties\": {\n        \"dtype\": \"number\",\n        \"std\": 2.5782977034506795,\n        \"min\": 2.0,\n        \"max\": 10.0,\n        \"num_unique_values\": 9,\n        \"samples\": [\n          9.0,\n          3.0\n        ],\n        \"semantic_type\": \"\",\n        \"description\": \"\"\n      }\n    },\n    {\n      \"column\": \"params_n_estimators\",\n      \"properties\": {\n        \"dtype\": \"number\",\n        \"std\": 75.1766491101364,\n        \"min\": 53.0,\n        \"max\": 298.0,\n        \"num_unique_values\": 20,\n        \"samples\": [\n          149.0,\n          263.0\n        ],\n        \"semantic_type\": \"\",\n        \"description\": \"\"\n      }\n    },\n    {\n      \"column\": \"state\",\n      \"properties\": {\n        \"dtype\": \"category\",\n        \"num_unique_values\": 1,\n        \"samples\": [\n          \"COMPLETE\"\n        ],\n        \"semantic_type\": \"\",\n        \"description\": \"\"\n      }\n    }\n  ]\n}"
            }
          },
          "metadata": {},
          "execution_count": 27
        }
      ]
    },
    {
      "cell_type": "code",
      "source": [
        "study.trials_dataframe()['params_classifier'].value_counts()"
      ],
      "metadata": {
        "colab": {
          "base_uri": "https://localhost:8080/",
          "height": 209
        },
        "id": "FYO7J-SXB9MY",
        "outputId": "3b637fd2-f39f-46e0-fbca-6a3fd53011ff"
      },
      "execution_count": 28,
      "outputs": [
        {
          "output_type": "execute_result",
          "data": {
            "text/plain": [
              "params_classifier\n",
              "SVM                 79\n",
              "GradientBoosting    11\n",
              "RandomForest        10\n",
              "Name: count, dtype: int64"
            ],
            "text/html": [
              "<div>\n",
              "<style scoped>\n",
              "    .dataframe tbody tr th:only-of-type {\n",
              "        vertical-align: middle;\n",
              "    }\n",
              "\n",
              "    .dataframe tbody tr th {\n",
              "        vertical-align: top;\n",
              "    }\n",
              "\n",
              "    .dataframe thead th {\n",
              "        text-align: right;\n",
              "    }\n",
              "</style>\n",
              "<table border=\"1\" class=\"dataframe\">\n",
              "  <thead>\n",
              "    <tr style=\"text-align: right;\">\n",
              "      <th></th>\n",
              "      <th>count</th>\n",
              "    </tr>\n",
              "    <tr>\n",
              "      <th>params_classifier</th>\n",
              "      <th></th>\n",
              "    </tr>\n",
              "  </thead>\n",
              "  <tbody>\n",
              "    <tr>\n",
              "      <th>SVM</th>\n",
              "      <td>79</td>\n",
              "    </tr>\n",
              "    <tr>\n",
              "      <th>GradientBoosting</th>\n",
              "      <td>11</td>\n",
              "    </tr>\n",
              "    <tr>\n",
              "      <th>RandomForest</th>\n",
              "      <td>10</td>\n",
              "    </tr>\n",
              "  </tbody>\n",
              "</table>\n",
              "</div><br><label><b>dtype:</b> int64</label>"
            ]
          },
          "metadata": {},
          "execution_count": 28
        }
      ]
    },
    {
      "cell_type": "code",
      "source": [
        "study.trials_dataframe().groupby('params_classifier')['value'].mean()"
      ],
      "metadata": {
        "colab": {
          "base_uri": "https://localhost:8080/",
          "height": 209
        },
        "id": "miKGSOCDCIpc",
        "outputId": "0743fff8-89b0-4955-8bff-78e77c5e02f2"
      },
      "execution_count": 29,
      "outputs": [
        {
          "output_type": "execute_result",
          "data": {
            "text/plain": [
              "params_classifier\n",
              "GradientBoosting    0.748603\n",
              "RandomForest        0.768901\n",
              "SVM                 0.776607\n",
              "Name: value, dtype: float64"
            ],
            "text/html": [
              "<div>\n",
              "<style scoped>\n",
              "    .dataframe tbody tr th:only-of-type {\n",
              "        vertical-align: middle;\n",
              "    }\n",
              "\n",
              "    .dataframe tbody tr th {\n",
              "        vertical-align: top;\n",
              "    }\n",
              "\n",
              "    .dataframe thead th {\n",
              "        text-align: right;\n",
              "    }\n",
              "</style>\n",
              "<table border=\"1\" class=\"dataframe\">\n",
              "  <thead>\n",
              "    <tr style=\"text-align: right;\">\n",
              "      <th></th>\n",
              "      <th>value</th>\n",
              "    </tr>\n",
              "    <tr>\n",
              "      <th>params_classifier</th>\n",
              "      <th></th>\n",
              "    </tr>\n",
              "  </thead>\n",
              "  <tbody>\n",
              "    <tr>\n",
              "      <th>GradientBoosting</th>\n",
              "      <td>0.748603</td>\n",
              "    </tr>\n",
              "    <tr>\n",
              "      <th>RandomForest</th>\n",
              "      <td>0.768901</td>\n",
              "    </tr>\n",
              "    <tr>\n",
              "      <th>SVM</th>\n",
              "      <td>0.776607</td>\n",
              "    </tr>\n",
              "  </tbody>\n",
              "</table>\n",
              "</div><br><label><b>dtype:</b> float64</label>"
            ]
          },
          "metadata": {},
          "execution_count": 29
        }
      ]
    },
    {
      "cell_type": "code",
      "source": [
        "# 1. Optimization History\n",
        "plot_optimization_history(study).show()"
      ],
      "metadata": {
        "colab": {
          "base_uri": "https://localhost:8080/",
          "height": 542
        },
        "id": "a2-8K8--CiJS",
        "outputId": "e24fddbf-cc74-4704-b07f-a86982f4c416"
      },
      "execution_count": 30,
      "outputs": [
        {
          "output_type": "display_data",
          "data": {
            "text/html": [
              "<html>\n",
              "<head><meta charset=\"utf-8\" /></head>\n",
              "<body>\n",
              "    <div>            <script src=\"https://cdnjs.cloudflare.com/ajax/libs/mathjax/2.7.5/MathJax.js?config=TeX-AMS-MML_SVG\"></script><script type=\"text/javascript\">if (window.MathJax && window.MathJax.Hub && window.MathJax.Hub.Config) {window.MathJax.Hub.Config({SVG: {font: \"STIX-Web\"}});}</script>                <script type=\"text/javascript\">window.PlotlyConfig = {MathJaxConfig: 'local'};</script>\n",
              "        <script charset=\"utf-8\" src=\"https://cdn.plot.ly/plotly-2.35.2.min.js\"></script>                <div id=\"4f641f73-3cd7-4d99-b442-38e4cd457aea\" class=\"plotly-graph-div\" style=\"height:525px; width:100%;\"></div>            <script type=\"text/javascript\">                                    window.PLOTLYENV=window.PLOTLYENV || {};                                    if (document.getElementById(\"4f641f73-3cd7-4d99-b442-38e4cd457aea\")) {                    Plotly.newPlot(                        \"4f641f73-3cd7-4d99-b442-38e4cd457aea\",                        [{\"mode\":\"markers\",\"name\":\"Objective Value\",\"x\":[0,1,2,3,4,5,6,7,8,9,10,11,12,13,14,15,16,17,18,19,20,21,22,23,24,25,26,27,28,29,30,31,32,33,34,35,36,37,38,39,40,41,42,43,44,45,46,47,48,49,50,51,52,53,54,55,56,57,58,59,60,61,62,63,64,65,66,67,68,69,70,71,72,73,74,75,76,77,78,79,80,81,82,83,84,85,86,87,88,89,90,91,92,93,94,95,96,97,98,99],\"y\":[0.7318435754189944,0.756052141527002,0.7765363128491621,0.7225325884543761,0.7523277467411545,0.7746741154562384,0.7746741154562384,0.7039106145251397,0.7858472998137801,0.7709497206703911,0.7877094972067038,0.7895716945996275,0.7877094972067038,0.7895716945996275,0.7541899441340782,0.7858472998137801,0.7821229050279329,0.7616387337057727,0.7635009310986964,0.7821229050279329,0.7113594040968342,0.7895716945996275,0.7858472998137803,0.7858472998137803,0.7877094972067038,0.7858472998137803,0.7858472998137803,0.7094972067039106,0.750465549348231,0.7746741154562384,0.7709497206703911,0.7877094972067038,0.7877094972067038,0.7839851024208566,0.7877094972067038,0.7467411545623835,0.7765363128491621,0.696461824953445,0.7635009310986964,0.7690875232774674,0.7895716945996275,0.7877094972067038,0.7895716945996275,0.7821229050279329,0.7877094972067038,0.7690875232774674,0.7839851024208566,0.7206703910614524,0.7392923649906891,0.7895716945996275,0.7858472998137803,0.7895716945996275,0.7895716945996275,0.7858472998137803,0.7113594040968342,0.7895716945996275,0.7579143389199255,0.7597765363128491,0.7858472998137803,0.7895716945996275,0.7858472998137801,0.7858472998137803,0.7895716945996275,0.7858472998137803,0.7895716945996275,0.756052141527002,0.7411545623836128,0.7877094972067038,0.7616387337057727,0.7635009310986964,0.7839851024208566,0.7895716945996275,0.7895716945996275,0.7877094972067038,0.7858472998137803,0.7895716945996275,0.7858472998137803,0.7523277467411544,0.7839851024208566,0.7523277467411545,0.7188081936685289,0.7895716945996275,0.7877094972067038,0.7877094972067038,0.7895716945996275,0.7858472998137801,0.7616387337057727,0.7877094972067038,0.7858472998137803,0.7709497206703911,0.7895716945996275,0.7895716945996275,0.7858472998137803,0.7877094972067038,0.7877094972067038,0.7448789571694601,0.7895716945996275,0.7858472998137801,0.7579143389199255,0.7895716945996275],\"type\":\"scatter\"},{\"mode\":\"lines\",\"name\":\"Best Value\",\"x\":[0,1,2,3,4,5,6,7,8,9,10,11,12,13,14,15,16,17,18,19,20,21,22,23,24,25,26,27,28,29,30,31,32,33,34,35,36,37,38,39,40,41,42,43,44,45,46,47,48,49,50,51,52,53,54,55,56,57,58,59,60,61,62,63,64,65,66,67,68,69,70,71,72,73,74,75,76,77,78,79,80,81,82,83,84,85,86,87,88,89,90,91,92,93,94,95,96,97,98,99],\"y\":[0.7318435754189944,0.756052141527002,0.7765363128491621,0.7765363128491621,0.7765363128491621,0.7765363128491621,0.7765363128491621,0.7765363128491621,0.7858472998137801,0.7858472998137801,0.7877094972067038,0.7895716945996275,0.7895716945996275,0.7895716945996275,0.7895716945996275,0.7895716945996275,0.7895716945996275,0.7895716945996275,0.7895716945996275,0.7895716945996275,0.7895716945996275,0.7895716945996275,0.7895716945996275,0.7895716945996275,0.7895716945996275,0.7895716945996275,0.7895716945996275,0.7895716945996275,0.7895716945996275,0.7895716945996275,0.7895716945996275,0.7895716945996275,0.7895716945996275,0.7895716945996275,0.7895716945996275,0.7895716945996275,0.7895716945996275,0.7895716945996275,0.7895716945996275,0.7895716945996275,0.7895716945996275,0.7895716945996275,0.7895716945996275,0.7895716945996275,0.7895716945996275,0.7895716945996275,0.7895716945996275,0.7895716945996275,0.7895716945996275,0.7895716945996275,0.7895716945996275,0.7895716945996275,0.7895716945996275,0.7895716945996275,0.7895716945996275,0.7895716945996275,0.7895716945996275,0.7895716945996275,0.7895716945996275,0.7895716945996275,0.7895716945996275,0.7895716945996275,0.7895716945996275,0.7895716945996275,0.7895716945996275,0.7895716945996275,0.7895716945996275,0.7895716945996275,0.7895716945996275,0.7895716945996275,0.7895716945996275,0.7895716945996275,0.7895716945996275,0.7895716945996275,0.7895716945996275,0.7895716945996275,0.7895716945996275,0.7895716945996275,0.7895716945996275,0.7895716945996275,0.7895716945996275,0.7895716945996275,0.7895716945996275,0.7895716945996275,0.7895716945996275,0.7895716945996275,0.7895716945996275,0.7895716945996275,0.7895716945996275,0.7895716945996275,0.7895716945996275,0.7895716945996275,0.7895716945996275,0.7895716945996275,0.7895716945996275,0.7895716945996275,0.7895716945996275,0.7895716945996275,0.7895716945996275,0.7895716945996275],\"type\":\"scatter\"},{\"marker\":{\"color\":\"#cccccc\"},\"mode\":\"markers\",\"name\":\"Infeasible Trial\",\"showlegend\":false,\"x\":[],\"y\":[],\"type\":\"scatter\"}],                        {\"title\":{\"text\":\"Optimization History Plot\"},\"xaxis\":{\"title\":{\"text\":\"Trial\"}},\"yaxis\":{\"title\":{\"text\":\"Objective Value\"}},\"template\":{\"data\":{\"histogram2dcontour\":[{\"type\":\"histogram2dcontour\",\"colorbar\":{\"outlinewidth\":0,\"ticks\":\"\"},\"colorscale\":[[0.0,\"#0d0887\"],[0.1111111111111111,\"#46039f\"],[0.2222222222222222,\"#7201a8\"],[0.3333333333333333,\"#9c179e\"],[0.4444444444444444,\"#bd3786\"],[0.5555555555555556,\"#d8576b\"],[0.6666666666666666,\"#ed7953\"],[0.7777777777777778,\"#fb9f3a\"],[0.8888888888888888,\"#fdca26\"],[1.0,\"#f0f921\"]]}],\"choropleth\":[{\"type\":\"choropleth\",\"colorbar\":{\"outlinewidth\":0,\"ticks\":\"\"}}],\"histogram2d\":[{\"type\":\"histogram2d\",\"colorbar\":{\"outlinewidth\":0,\"ticks\":\"\"},\"colorscale\":[[0.0,\"#0d0887\"],[0.1111111111111111,\"#46039f\"],[0.2222222222222222,\"#7201a8\"],[0.3333333333333333,\"#9c179e\"],[0.4444444444444444,\"#bd3786\"],[0.5555555555555556,\"#d8576b\"],[0.6666666666666666,\"#ed7953\"],[0.7777777777777778,\"#fb9f3a\"],[0.8888888888888888,\"#fdca26\"],[1.0,\"#f0f921\"]]}],\"heatmap\":[{\"type\":\"heatmap\",\"colorbar\":{\"outlinewidth\":0,\"ticks\":\"\"},\"colorscale\":[[0.0,\"#0d0887\"],[0.1111111111111111,\"#46039f\"],[0.2222222222222222,\"#7201a8\"],[0.3333333333333333,\"#9c179e\"],[0.4444444444444444,\"#bd3786\"],[0.5555555555555556,\"#d8576b\"],[0.6666666666666666,\"#ed7953\"],[0.7777777777777778,\"#fb9f3a\"],[0.8888888888888888,\"#fdca26\"],[1.0,\"#f0f921\"]]}],\"heatmapgl\":[{\"type\":\"heatmapgl\",\"colorbar\":{\"outlinewidth\":0,\"ticks\":\"\"},\"colorscale\":[[0.0,\"#0d0887\"],[0.1111111111111111,\"#46039f\"],[0.2222222222222222,\"#7201a8\"],[0.3333333333333333,\"#9c179e\"],[0.4444444444444444,\"#bd3786\"],[0.5555555555555556,\"#d8576b\"],[0.6666666666666666,\"#ed7953\"],[0.7777777777777778,\"#fb9f3a\"],[0.8888888888888888,\"#fdca26\"],[1.0,\"#f0f921\"]]}],\"contourcarpet\":[{\"type\":\"contourcarpet\",\"colorbar\":{\"outlinewidth\":0,\"ticks\":\"\"}}],\"contour\":[{\"type\":\"contour\",\"colorbar\":{\"outlinewidth\":0,\"ticks\":\"\"},\"colorscale\":[[0.0,\"#0d0887\"],[0.1111111111111111,\"#46039f\"],[0.2222222222222222,\"#7201a8\"],[0.3333333333333333,\"#9c179e\"],[0.4444444444444444,\"#bd3786\"],[0.5555555555555556,\"#d8576b\"],[0.6666666666666666,\"#ed7953\"],[0.7777777777777778,\"#fb9f3a\"],[0.8888888888888888,\"#fdca26\"],[1.0,\"#f0f921\"]]}],\"surface\":[{\"type\":\"surface\",\"colorbar\":{\"outlinewidth\":0,\"ticks\":\"\"},\"colorscale\":[[0.0,\"#0d0887\"],[0.1111111111111111,\"#46039f\"],[0.2222222222222222,\"#7201a8\"],[0.3333333333333333,\"#9c179e\"],[0.4444444444444444,\"#bd3786\"],[0.5555555555555556,\"#d8576b\"],[0.6666666666666666,\"#ed7953\"],[0.7777777777777778,\"#fb9f3a\"],[0.8888888888888888,\"#fdca26\"],[1.0,\"#f0f921\"]]}],\"mesh3d\":[{\"type\":\"mesh3d\",\"colorbar\":{\"outlinewidth\":0,\"ticks\":\"\"}}],\"scatter\":[{\"fillpattern\":{\"fillmode\":\"overlay\",\"size\":10,\"solidity\":0.2},\"type\":\"scatter\"}],\"parcoords\":[{\"type\":\"parcoords\",\"line\":{\"colorbar\":{\"outlinewidth\":0,\"ticks\":\"\"}}}],\"scatterpolargl\":[{\"type\":\"scatterpolargl\",\"marker\":{\"colorbar\":{\"outlinewidth\":0,\"ticks\":\"\"}}}],\"bar\":[{\"error_x\":{\"color\":\"#2a3f5f\"},\"error_y\":{\"color\":\"#2a3f5f\"},\"marker\":{\"line\":{\"color\":\"#E5ECF6\",\"width\":0.5},\"pattern\":{\"fillmode\":\"overlay\",\"size\":10,\"solidity\":0.2}},\"type\":\"bar\"}],\"scattergeo\":[{\"type\":\"scattergeo\",\"marker\":{\"colorbar\":{\"outlinewidth\":0,\"ticks\":\"\"}}}],\"scatterpolar\":[{\"type\":\"scatterpolar\",\"marker\":{\"colorbar\":{\"outlinewidth\":0,\"ticks\":\"\"}}}],\"histogram\":[{\"marker\":{\"pattern\":{\"fillmode\":\"overlay\",\"size\":10,\"solidity\":0.2}},\"type\":\"histogram\"}],\"scattergl\":[{\"type\":\"scattergl\",\"marker\":{\"colorbar\":{\"outlinewidth\":0,\"ticks\":\"\"}}}],\"scatter3d\":[{\"type\":\"scatter3d\",\"line\":{\"colorbar\":{\"outlinewidth\":0,\"ticks\":\"\"}},\"marker\":{\"colorbar\":{\"outlinewidth\":0,\"ticks\":\"\"}}}],\"scattermapbox\":[{\"type\":\"scattermapbox\",\"marker\":{\"colorbar\":{\"outlinewidth\":0,\"ticks\":\"\"}}}],\"scatterternary\":[{\"type\":\"scatterternary\",\"marker\":{\"colorbar\":{\"outlinewidth\":0,\"ticks\":\"\"}}}],\"scattercarpet\":[{\"type\":\"scattercarpet\",\"marker\":{\"colorbar\":{\"outlinewidth\":0,\"ticks\":\"\"}}}],\"carpet\":[{\"aaxis\":{\"endlinecolor\":\"#2a3f5f\",\"gridcolor\":\"white\",\"linecolor\":\"white\",\"minorgridcolor\":\"white\",\"startlinecolor\":\"#2a3f5f\"},\"baxis\":{\"endlinecolor\":\"#2a3f5f\",\"gridcolor\":\"white\",\"linecolor\":\"white\",\"minorgridcolor\":\"white\",\"startlinecolor\":\"#2a3f5f\"},\"type\":\"carpet\"}],\"table\":[{\"cells\":{\"fill\":{\"color\":\"#EBF0F8\"},\"line\":{\"color\":\"white\"}},\"header\":{\"fill\":{\"color\":\"#C8D4E3\"},\"line\":{\"color\":\"white\"}},\"type\":\"table\"}],\"barpolar\":[{\"marker\":{\"line\":{\"color\":\"#E5ECF6\",\"width\":0.5},\"pattern\":{\"fillmode\":\"overlay\",\"size\":10,\"solidity\":0.2}},\"type\":\"barpolar\"}],\"pie\":[{\"automargin\":true,\"type\":\"pie\"}]},\"layout\":{\"autotypenumbers\":\"strict\",\"colorway\":[\"#636efa\",\"#EF553B\",\"#00cc96\",\"#ab63fa\",\"#FFA15A\",\"#19d3f3\",\"#FF6692\",\"#B6E880\",\"#FF97FF\",\"#FECB52\"],\"font\":{\"color\":\"#2a3f5f\"},\"hovermode\":\"closest\",\"hoverlabel\":{\"align\":\"left\"},\"paper_bgcolor\":\"white\",\"plot_bgcolor\":\"#E5ECF6\",\"polar\":{\"bgcolor\":\"#E5ECF6\",\"angularaxis\":{\"gridcolor\":\"white\",\"linecolor\":\"white\",\"ticks\":\"\"},\"radialaxis\":{\"gridcolor\":\"white\",\"linecolor\":\"white\",\"ticks\":\"\"}},\"ternary\":{\"bgcolor\":\"#E5ECF6\",\"aaxis\":{\"gridcolor\":\"white\",\"linecolor\":\"white\",\"ticks\":\"\"},\"baxis\":{\"gridcolor\":\"white\",\"linecolor\":\"white\",\"ticks\":\"\"},\"caxis\":{\"gridcolor\":\"white\",\"linecolor\":\"white\",\"ticks\":\"\"}},\"coloraxis\":{\"colorbar\":{\"outlinewidth\":0,\"ticks\":\"\"}},\"colorscale\":{\"sequential\":[[0.0,\"#0d0887\"],[0.1111111111111111,\"#46039f\"],[0.2222222222222222,\"#7201a8\"],[0.3333333333333333,\"#9c179e\"],[0.4444444444444444,\"#bd3786\"],[0.5555555555555556,\"#d8576b\"],[0.6666666666666666,\"#ed7953\"],[0.7777777777777778,\"#fb9f3a\"],[0.8888888888888888,\"#fdca26\"],[1.0,\"#f0f921\"]],\"sequentialminus\":[[0.0,\"#0d0887\"],[0.1111111111111111,\"#46039f\"],[0.2222222222222222,\"#7201a8\"],[0.3333333333333333,\"#9c179e\"],[0.4444444444444444,\"#bd3786\"],[0.5555555555555556,\"#d8576b\"],[0.6666666666666666,\"#ed7953\"],[0.7777777777777778,\"#fb9f3a\"],[0.8888888888888888,\"#fdca26\"],[1.0,\"#f0f921\"]],\"diverging\":[[0,\"#8e0152\"],[0.1,\"#c51b7d\"],[0.2,\"#de77ae\"],[0.3,\"#f1b6da\"],[0.4,\"#fde0ef\"],[0.5,\"#f7f7f7\"],[0.6,\"#e6f5d0\"],[0.7,\"#b8e186\"],[0.8,\"#7fbc41\"],[0.9,\"#4d9221\"],[1,\"#276419\"]]},\"xaxis\":{\"gridcolor\":\"white\",\"linecolor\":\"white\",\"ticks\":\"\",\"title\":{\"standoff\":15},\"zerolinecolor\":\"white\",\"automargin\":true,\"zerolinewidth\":2},\"yaxis\":{\"gridcolor\":\"white\",\"linecolor\":\"white\",\"ticks\":\"\",\"title\":{\"standoff\":15},\"zerolinecolor\":\"white\",\"automargin\":true,\"zerolinewidth\":2},\"scene\":{\"xaxis\":{\"backgroundcolor\":\"#E5ECF6\",\"gridcolor\":\"white\",\"linecolor\":\"white\",\"showbackground\":true,\"ticks\":\"\",\"zerolinecolor\":\"white\",\"gridwidth\":2},\"yaxis\":{\"backgroundcolor\":\"#E5ECF6\",\"gridcolor\":\"white\",\"linecolor\":\"white\",\"showbackground\":true,\"ticks\":\"\",\"zerolinecolor\":\"white\",\"gridwidth\":2},\"zaxis\":{\"backgroundcolor\":\"#E5ECF6\",\"gridcolor\":\"white\",\"linecolor\":\"white\",\"showbackground\":true,\"ticks\":\"\",\"zerolinecolor\":\"white\",\"gridwidth\":2}},\"shapedefaults\":{\"line\":{\"color\":\"#2a3f5f\"}},\"annotationdefaults\":{\"arrowcolor\":\"#2a3f5f\",\"arrowhead\":0,\"arrowwidth\":1},\"geo\":{\"bgcolor\":\"white\",\"landcolor\":\"#E5ECF6\",\"subunitcolor\":\"white\",\"showland\":true,\"showlakes\":true,\"lakecolor\":\"white\"},\"title\":{\"x\":0.05},\"mapbox\":{\"style\":\"light\"}}}},                        {\"responsive\": true}                    ).then(function(){\n",
              "                            \n",
              "var gd = document.getElementById('4f641f73-3cd7-4d99-b442-38e4cd457aea');\n",
              "var x = new MutationObserver(function (mutations, observer) {{\n",
              "        var display = window.getComputedStyle(gd).display;\n",
              "        if (!display || display === 'none') {{\n",
              "            console.log([gd, 'removed!']);\n",
              "            Plotly.purge(gd);\n",
              "            observer.disconnect();\n",
              "        }}\n",
              "}});\n",
              "\n",
              "// Listen for the removal of the full notebook cells\n",
              "var notebookContainer = gd.closest('#notebook-container');\n",
              "if (notebookContainer) {{\n",
              "    x.observe(notebookContainer, {childList: true});\n",
              "}}\n",
              "\n",
              "// Listen for the clearing of the current output cell\n",
              "var outputEl = gd.closest('.output');\n",
              "if (outputEl) {{\n",
              "    x.observe(outputEl, {childList: true});\n",
              "}}\n",
              "\n",
              "                        })                };                            </script>        </div>\n",
              "</body>\n",
              "</html>"
            ]
          },
          "metadata": {}
        }
      ]
    },
    {
      "cell_type": "code",
      "source": [
        "# 3. Slice Plot\n",
        "plot_slice(study).show()"
      ],
      "metadata": {
        "colab": {
          "base_uri": "https://localhost:8080/",
          "height": 562
        },
        "id": "0n7zfgCNCx-4",
        "outputId": "6ec5db6d-be79-4763-858a-17aad9b842a4"
      },
      "execution_count": 31,
      "outputs": [
        {
          "output_type": "display_data",
          "data": {
            "text/html": [
              "<html>\n",
              "<head><meta charset=\"utf-8\" /></head>\n",
              "<body>\n",
              "    <div>            <script src=\"https://cdnjs.cloudflare.com/ajax/libs/mathjax/2.7.5/MathJax.js?config=TeX-AMS-MML_SVG\"></script><script type=\"text/javascript\">if (window.MathJax && window.MathJax.Hub && window.MathJax.Hub.Config) {window.MathJax.Hub.Config({SVG: {font: \"STIX-Web\"}});}</script>                <script type=\"text/javascript\">window.PlotlyConfig = {MathJaxConfig: 'local'};</script>\n",
              "        <script charset=\"utf-8\" src=\"https://cdn.plot.ly/plotly-2.35.2.min.js\"></script>                <div id=\"1e292bc1-c388-4b14-9a5d-7dc45947dc46\" class=\"plotly-graph-div\" style=\"height:525px; width:3000px;\"></div>            <script type=\"text/javascript\">                                    window.PLOTLYENV=window.PLOTLYENV || {};                                    if (document.getElementById(\"1e292bc1-c388-4b14-9a5d-7dc45947dc46\")) {                    Plotly.newPlot(                        \"1e292bc1-c388-4b14-9a5d-7dc45947dc46\",                        [{\"marker\":{\"color\":[5,7,8,9,10,11,12,13,14,15,16,17,20,21,22,23,24,25,26,27,31,32,33,34,37,38,40,41,42,43,44,45,46,47,49,50,51,52,53,54,55,57,58,59,60,61,62,63,64,66,67,68,70,71,72,73,74,75,76,78,79,80,81,82,83,84,85,87,88,89,90,91,92,93,94,96,97,98,99],\"colorbar\":{\"title\":{\"text\":\"Trial\"},\"x\":1.0,\"xpad\":40},\"colorscale\":[[0.0,\"rgb(247,251,255)\"],[0.125,\"rgb(222,235,247)\"],[0.25,\"rgb(198,219,239)\"],[0.375,\"rgb(158,202,225)\"],[0.5,\"rgb(107,174,214)\"],[0.625,\"rgb(66,146,198)\"],[0.75,\"rgb(33,113,181)\"],[0.875,\"rgb(8,81,156)\"],[1.0,\"rgb(8,48,107)\"]],\"line\":{\"color\":\"Grey\",\"width\":0.5},\"showscale\":true},\"mode\":\"markers\",\"name\":\"Feasible Trial\",\"showlegend\":false,\"x\":[0.9303197818664801,39.27808078595212,3.110259269136842,2.1344843012929995,0.10864287469853715,0.12071163672771132,0.10167238357490688,0.12304692232587454,0.46535852815629253,26.598729387475235,0.365362587947001,0.2410806451025089,8.439044725969577,0.13670450032185816,0.194706884417018,0.7966066428167877,0.10645250437947215,0.25574544610577427,0.8900122973553392,9.521430893166215,0.1026439248051351,0.17454940740780325,0.5033827034364284,0.16149495459803542,90.76950991808238,0.2784748822512962,0.15371492692910624,0.1631124717802555,0.1441421383719458,0.3640620058960009,0.15793371619555693,0.580302217571885,1.522427534150411,0.23628456298065775,0.1487163847328263,0.32630610682272737,0.1523327037854339,0.1306216160825778,0.20830736400648683,0.10197479374635496,0.15077506213795872,0.3874800017503215,0.249574011911146,0.13271758234036415,4.376705685873059,0.1883286221736522,0.13400224287933998,0.20965403515902353,0.12433293063722656,0.6075533162425796,0.10092033053038034,0.2790481865159456,1.3898532759138393,0.14217054411063715,0.1279099211583721,0.1845867218371562,0.20535830802882027,0.12206511392400918,0.3036952729708839,0.43536013892251935,0.16284438439900234,0.236449069552521,0.14481674606922906,0.1024922222686214,0.15764330324534842,0.1264274262235932,21.165899674174693,0.18606734779362166,0.30639655687090467,0.15729376016846114,0.11759448671758294,0.13688317318737292,0.2229972377454991,0.10040164720943907,0.18302310850779466,0.15268277061558178,3.4107830522396743,0.2519190566981104,0.12347189901130672],\"y\":[0.7746741154562384,0.7039106145251397,0.7858472998137801,0.7709497206703911,0.7877094972067038,0.7895716945996275,0.7877094972067038,0.7895716945996275,0.7541899441340782,0.7858472998137801,0.7821229050279329,0.7616387337057727,0.7113594040968342,0.7895716945996275,0.7858472998137803,0.7858472998137803,0.7877094972067038,0.7858472998137803,0.7858472998137803,0.7094972067039106,0.7877094972067038,0.7877094972067038,0.7839851024208566,0.7877094972067038,0.696461824953445,0.7635009310986964,0.7895716945996275,0.7877094972067038,0.7895716945996275,0.7821229050279329,0.7877094972067038,0.7690875232774674,0.7839851024208566,0.7206703910614524,0.7895716945996275,0.7858472998137803,0.7895716945996275,0.7895716945996275,0.7858472998137803,0.7113594040968342,0.7895716945996275,0.7597765363128491,0.7858472998137803,0.7895716945996275,0.7858472998137801,0.7858472998137803,0.7895716945996275,0.7858472998137803,0.7895716945996275,0.7411545623836128,0.7877094972067038,0.7616387337057727,0.7839851024208566,0.7895716945996275,0.7895716945996275,0.7877094972067038,0.7858472998137803,0.7895716945996275,0.7858472998137803,0.7839851024208566,0.7523277467411545,0.7188081936685289,0.7895716945996275,0.7877094972067038,0.7877094972067038,0.7895716945996275,0.7858472998137801,0.7877094972067038,0.7858472998137803,0.7709497206703911,0.7895716945996275,0.7895716945996275,0.7858472998137803,0.7877094972067038,0.7877094972067038,0.7895716945996275,0.7858472998137801,0.7579143389199255,0.7895716945996275],\"type\":\"scatter\",\"xaxis\":\"x\",\"yaxis\":\"y\"},{\"marker\":{\"color\":[2,4,6,19,29,36,39,56,69,86],\"colorbar\":{\"title\":{\"text\":\"Trial\"},\"x\":1.0,\"xpad\":40},\"colorscale\":[[0.0,\"rgb(247,251,255)\"],[0.125,\"rgb(222,235,247)\"],[0.25,\"rgb(198,219,239)\"],[0.375,\"rgb(158,202,225)\"],[0.5,\"rgb(107,174,214)\"],[0.625,\"rgb(66,146,198)\"],[0.75,\"rgb(33,113,181)\"],[0.875,\"rgb(8,81,156)\"],[1.0,\"rgb(8,48,107)\"]],\"line\":{\"color\":\"Grey\",\"width\":0.5},\"showscale\":false},\"mode\":\"markers\",\"name\":\"Feasible Trial\",\"showlegend\":false,\"x\":[false,true,true,false,true,false,false,true,false,true],\"y\":[0.7765363128491621,0.7523277467411545,0.7746741154562384,0.7821229050279329,0.7746741154562384,0.7765363128491621,0.7690875232774674,0.7579143389199255,0.7635009310986964,0.7616387337057727],\"type\":\"scatter\",\"xaxis\":\"x2\",\"yaxis\":\"y2\"},{\"marker\":{\"color\":[0,1,2,3,4,5,6,7,8,9,10,11,12,13,14,15,16,17,18,19,20,21,22,23,24,25,26,27,28,29,30,31,32,33,34,35,36,37,38,39,40,41,42,43,44,45,46,47,48,49,50,51,52,53,54,55,56,57,58,59,60,61,62,63,64,65,66,67,68,69,70,71,72,73,74,75,76,77,78,79,80,81,82,83,84,85,86,87,88,89,90,91,92,93,94,95,96,97,98,99],\"colorbar\":{\"title\":{\"text\":\"Trial\"},\"x\":1.0,\"xpad\":40},\"colorscale\":[[0.0,\"rgb(247,251,255)\"],[0.125,\"rgb(222,235,247)\"],[0.25,\"rgb(198,219,239)\"],[0.375,\"rgb(158,202,225)\"],[0.5,\"rgb(107,174,214)\"],[0.625,\"rgb(66,146,198)\"],[0.75,\"rgb(33,113,181)\"],[0.875,\"rgb(8,81,156)\"],[1.0,\"rgb(8,48,107)\"]],\"line\":{\"color\":\"Grey\",\"width\":0.5},\"showscale\":false},\"mode\":\"markers\",\"name\":\"Feasible Trial\",\"showlegend\":false,\"x\":[\"GradientBoosting\",\"GradientBoosting\",\"RandomForest\",\"GradientBoosting\",\"RandomForest\",\"SVM\",\"RandomForest\",\"SVM\",\"SVM\",\"SVM\",\"SVM\",\"SVM\",\"SVM\",\"SVM\",\"SVM\",\"SVM\",\"SVM\",\"SVM\",\"GradientBoosting\",\"RandomForest\",\"SVM\",\"SVM\",\"SVM\",\"SVM\",\"SVM\",\"SVM\",\"SVM\",\"SVM\",\"GradientBoosting\",\"RandomForest\",\"GradientBoosting\",\"SVM\",\"SVM\",\"SVM\",\"SVM\",\"GradientBoosting\",\"RandomForest\",\"SVM\",\"SVM\",\"RandomForest\",\"SVM\",\"SVM\",\"SVM\",\"SVM\",\"SVM\",\"SVM\",\"SVM\",\"SVM\",\"GradientBoosting\",\"SVM\",\"SVM\",\"SVM\",\"SVM\",\"SVM\",\"SVM\",\"SVM\",\"RandomForest\",\"SVM\",\"SVM\",\"SVM\",\"SVM\",\"SVM\",\"SVM\",\"SVM\",\"SVM\",\"GradientBoosting\",\"SVM\",\"SVM\",\"SVM\",\"RandomForest\",\"SVM\",\"SVM\",\"SVM\",\"SVM\",\"SVM\",\"SVM\",\"SVM\",\"GradientBoosting\",\"SVM\",\"SVM\",\"SVM\",\"SVM\",\"SVM\",\"SVM\",\"SVM\",\"SVM\",\"RandomForest\",\"SVM\",\"SVM\",\"SVM\",\"SVM\",\"SVM\",\"SVM\",\"SVM\",\"SVM\",\"GradientBoosting\",\"SVM\",\"SVM\",\"SVM\",\"SVM\"],\"y\":[0.7318435754189944,0.756052141527002,0.7765363128491621,0.7225325884543761,0.7523277467411545,0.7746741154562384,0.7746741154562384,0.7039106145251397,0.7858472998137801,0.7709497206703911,0.7877094972067038,0.7895716945996275,0.7877094972067038,0.7895716945996275,0.7541899441340782,0.7858472998137801,0.7821229050279329,0.7616387337057727,0.7635009310986964,0.7821229050279329,0.7113594040968342,0.7895716945996275,0.7858472998137803,0.7858472998137803,0.7877094972067038,0.7858472998137803,0.7858472998137803,0.7094972067039106,0.750465549348231,0.7746741154562384,0.7709497206703911,0.7877094972067038,0.7877094972067038,0.7839851024208566,0.7877094972067038,0.7467411545623835,0.7765363128491621,0.696461824953445,0.7635009310986964,0.7690875232774674,0.7895716945996275,0.7877094972067038,0.7895716945996275,0.7821229050279329,0.7877094972067038,0.7690875232774674,0.7839851024208566,0.7206703910614524,0.7392923649906891,0.7895716945996275,0.7858472998137803,0.7895716945996275,0.7895716945996275,0.7858472998137803,0.7113594040968342,0.7895716945996275,0.7579143389199255,0.7597765363128491,0.7858472998137803,0.7895716945996275,0.7858472998137801,0.7858472998137803,0.7895716945996275,0.7858472998137803,0.7895716945996275,0.756052141527002,0.7411545623836128,0.7877094972067038,0.7616387337057727,0.7635009310986964,0.7839851024208566,0.7895716945996275,0.7895716945996275,0.7877094972067038,0.7858472998137803,0.7895716945996275,0.7858472998137803,0.7523277467411544,0.7839851024208566,0.7523277467411545,0.7188081936685289,0.7895716945996275,0.7877094972067038,0.7877094972067038,0.7895716945996275,0.7858472998137801,0.7616387337057727,0.7877094972067038,0.7858472998137803,0.7709497206703911,0.7895716945996275,0.7895716945996275,0.7858472998137803,0.7877094972067038,0.7877094972067038,0.7448789571694601,0.7895716945996275,0.7858472998137801,0.7579143389199255,0.7895716945996275],\"type\":\"scatter\",\"xaxis\":\"x3\",\"yaxis\":\"y3\"},{\"marker\":{\"color\":[5,7,8,9,10,11,12,13,14,15,16,17,20,21,22,23,24,25,26,27,31,32,33,34,37,38,40,41,42,43,44,45,46,47,49,50,51,52,53,54,55,57,58,59,60,61,62,63,64,66,67,68,70,71,72,73,74,75,76,78,79,80,81,82,83,84,85,87,88,89,90,91,92,93,94,96,97,98,99],\"colorbar\":{\"title\":{\"text\":\"Trial\"},\"x\":1.0,\"xpad\":40},\"colorscale\":[[0.0,\"rgb(247,251,255)\"],[0.125,\"rgb(222,235,247)\"],[0.25,\"rgb(198,219,239)\"],[0.375,\"rgb(158,202,225)\"],[0.5,\"rgb(107,174,214)\"],[0.625,\"rgb(66,146,198)\"],[0.75,\"rgb(33,113,181)\"],[0.875,\"rgb(8,81,156)\"],[1.0,\"rgb(8,48,107)\"]],\"line\":{\"color\":\"Grey\",\"width\":0.5},\"showscale\":false},\"mode\":\"markers\",\"name\":\"Feasible Trial\",\"showlegend\":false,\"x\":[\"auto\",\"scale\",\"scale\",\"scale\",\"scale\",\"scale\",\"scale\",\"scale\",\"auto\",\"scale\",\"scale\",\"auto\",\"scale\",\"scale\",\"scale\",\"scale\",\"scale\",\"scale\",\"auto\",\"scale\",\"scale\",\"scale\",\"scale\",\"scale\",\"scale\",\"scale\",\"scale\",\"scale\",\"scale\",\"scale\",\"scale\",\"auto\",\"scale\",\"auto\",\"scale\",\"scale\",\"scale\",\"scale\",\"scale\",\"scale\",\"scale\",\"scale\",\"scale\",\"scale\",\"auto\",\"scale\",\"scale\",\"scale\",\"scale\",\"scale\",\"scale\",\"scale\",\"scale\",\"scale\",\"scale\",\"scale\",\"scale\",\"scale\",\"scale\",\"auto\",\"scale\",\"scale\",\"scale\",\"scale\",\"scale\",\"scale\",\"scale\",\"scale\",\"scale\",\"scale\",\"auto\",\"scale\",\"scale\",\"scale\",\"scale\",\"scale\",\"scale\",\"scale\",\"scale\"],\"y\":[0.7746741154562384,0.7039106145251397,0.7858472998137801,0.7709497206703911,0.7877094972067038,0.7895716945996275,0.7877094972067038,0.7895716945996275,0.7541899441340782,0.7858472998137801,0.7821229050279329,0.7616387337057727,0.7113594040968342,0.7895716945996275,0.7858472998137803,0.7858472998137803,0.7877094972067038,0.7858472998137803,0.7858472998137803,0.7094972067039106,0.7877094972067038,0.7877094972067038,0.7839851024208566,0.7877094972067038,0.696461824953445,0.7635009310986964,0.7895716945996275,0.7877094972067038,0.7895716945996275,0.7821229050279329,0.7877094972067038,0.7690875232774674,0.7839851024208566,0.7206703910614524,0.7895716945996275,0.7858472998137803,0.7895716945996275,0.7895716945996275,0.7858472998137803,0.7113594040968342,0.7895716945996275,0.7597765363128491,0.7858472998137803,0.7895716945996275,0.7858472998137801,0.7858472998137803,0.7895716945996275,0.7858472998137803,0.7895716945996275,0.7411545623836128,0.7877094972067038,0.7616387337057727,0.7839851024208566,0.7895716945996275,0.7895716945996275,0.7877094972067038,0.7858472998137803,0.7895716945996275,0.7858472998137803,0.7839851024208566,0.7523277467411545,0.7188081936685289,0.7895716945996275,0.7877094972067038,0.7877094972067038,0.7895716945996275,0.7858472998137801,0.7877094972067038,0.7858472998137803,0.7709497206703911,0.7895716945996275,0.7895716945996275,0.7858472998137803,0.7877094972067038,0.7877094972067038,0.7895716945996275,0.7858472998137801,0.7579143389199255,0.7895716945996275],\"type\":\"scatter\",\"xaxis\":\"x4\",\"yaxis\":\"y4\"},{\"marker\":{\"color\":[5,7,8,9,10,11,12,13,14,15,16,17,20,21,22,23,24,25,26,27,31,32,33,34,37,38,40,41,42,43,44,45,46,47,49,50,51,52,53,54,55,57,58,59,60,61,62,63,64,66,67,68,70,71,72,73,74,75,76,78,79,80,81,82,83,84,85,87,88,89,90,91,92,93,94,96,97,98,99],\"colorbar\":{\"title\":{\"text\":\"Trial\"},\"x\":1.0,\"xpad\":40},\"colorscale\":[[0.0,\"rgb(247,251,255)\"],[0.125,\"rgb(222,235,247)\"],[0.25,\"rgb(198,219,239)\"],[0.375,\"rgb(158,202,225)\"],[0.5,\"rgb(107,174,214)\"],[0.625,\"rgb(66,146,198)\"],[0.75,\"rgb(33,113,181)\"],[0.875,\"rgb(8,81,156)\"],[1.0,\"rgb(8,48,107)\"]],\"line\":{\"color\":\"Grey\",\"width\":0.5},\"showscale\":false},\"mode\":\"markers\",\"name\":\"Feasible Trial\",\"showlegend\":false,\"x\":[\"rbf\",\"poly\",\"linear\",\"rbf\",\"linear\",\"linear\",\"linear\",\"linear\",\"sigmoid\",\"linear\",\"linear\",\"sigmoid\",\"poly\",\"linear\",\"linear\",\"linear\",\"linear\",\"linear\",\"linear\",\"poly\",\"linear\",\"linear\",\"linear\",\"linear\",\"sigmoid\",\"rbf\",\"linear\",\"linear\",\"linear\",\"linear\",\"linear\",\"rbf\",\"linear\",\"poly\",\"linear\",\"linear\",\"linear\",\"linear\",\"linear\",\"rbf\",\"linear\",\"sigmoid\",\"linear\",\"linear\",\"linear\",\"linear\",\"linear\",\"linear\",\"linear\",\"poly\",\"linear\",\"sigmoid\",\"linear\",\"linear\",\"linear\",\"linear\",\"linear\",\"linear\",\"linear\",\"linear\",\"rbf\",\"poly\",\"linear\",\"linear\",\"linear\",\"linear\",\"linear\",\"linear\",\"linear\",\"sigmoid\",\"linear\",\"linear\",\"linear\",\"linear\",\"linear\",\"linear\",\"linear\",\"rbf\",\"linear\"],\"y\":[0.7746741154562384,0.7039106145251397,0.7858472998137801,0.7709497206703911,0.7877094972067038,0.7895716945996275,0.7877094972067038,0.7895716945996275,0.7541899441340782,0.7858472998137801,0.7821229050279329,0.7616387337057727,0.7113594040968342,0.7895716945996275,0.7858472998137803,0.7858472998137803,0.7877094972067038,0.7858472998137803,0.7858472998137803,0.7094972067039106,0.7877094972067038,0.7877094972067038,0.7839851024208566,0.7877094972067038,0.696461824953445,0.7635009310986964,0.7895716945996275,0.7877094972067038,0.7895716945996275,0.7821229050279329,0.7877094972067038,0.7690875232774674,0.7839851024208566,0.7206703910614524,0.7895716945996275,0.7858472998137803,0.7895716945996275,0.7895716945996275,0.7858472998137803,0.7113594040968342,0.7895716945996275,0.7597765363128491,0.7858472998137803,0.7895716945996275,0.7858472998137801,0.7858472998137803,0.7895716945996275,0.7858472998137803,0.7895716945996275,0.7411545623836128,0.7877094972067038,0.7616387337057727,0.7839851024208566,0.7895716945996275,0.7895716945996275,0.7877094972067038,0.7858472998137803,0.7895716945996275,0.7858472998137803,0.7839851024208566,0.7523277467411545,0.7188081936685289,0.7895716945996275,0.7877094972067038,0.7877094972067038,0.7895716945996275,0.7858472998137801,0.7877094972067038,0.7858472998137803,0.7709497206703911,0.7895716945996275,0.7895716945996275,0.7858472998137803,0.7877094972067038,0.7877094972067038,0.7895716945996275,0.7858472998137801,0.7579143389199255,0.7895716945996275],\"type\":\"scatter\",\"xaxis\":\"x5\",\"yaxis\":\"y5\"},{\"marker\":{\"color\":[0,1,3,18,28,30,35,48,65,77,95],\"colorbar\":{\"title\":{\"text\":\"Trial\"},\"x\":1.0,\"xpad\":40},\"colorscale\":[[0.0,\"rgb(247,251,255)\"],[0.125,\"rgb(222,235,247)\"],[0.25,\"rgb(198,219,239)\"],[0.375,\"rgb(158,202,225)\"],[0.5,\"rgb(107,174,214)\"],[0.625,\"rgb(66,146,198)\"],[0.75,\"rgb(33,113,181)\"],[0.875,\"rgb(8,81,156)\"],[1.0,\"rgb(8,48,107)\"]],\"line\":{\"color\":\"Grey\",\"width\":0.5},\"showscale\":false},\"mode\":\"markers\",\"name\":\"Feasible Trial\",\"showlegend\":false,\"x\":[0.09457139050762262,0.0420245458978772,0.093047480180208,0.010246261450950617,0.27138821857911266,0.011354861450976875,0.03116613602861454,0.2843611270109122,0.019970003845720376,0.10791854246948708,0.14542572257022665],\"y\":[0.7318435754189944,0.756052141527002,0.7225325884543761,0.7635009310986964,0.750465549348231,0.7709497206703911,0.7467411545623835,0.7392923649906891,0.756052141527002,0.7523277467411544,0.7448789571694601],\"type\":\"scatter\",\"xaxis\":\"x6\",\"yaxis\":\"y6\"},{\"marker\":{\"color\":[0,1,2,3,4,6,18,19,28,29,30,35,36,39,48,56,65,69,77,86,95],\"colorbar\":{\"title\":{\"text\":\"Trial\"},\"x\":1.0,\"xpad\":40},\"colorscale\":[[0.0,\"rgb(247,251,255)\"],[0.125,\"rgb(222,235,247)\"],[0.25,\"rgb(198,219,239)\"],[0.375,\"rgb(158,202,225)\"],[0.5,\"rgb(107,174,214)\"],[0.625,\"rgb(66,146,198)\"],[0.75,\"rgb(33,113,181)\"],[0.875,\"rgb(8,81,156)\"],[1.0,\"rgb(8,48,107)\"]],\"line\":{\"color\":\"Grey\",\"width\":0.5},\"showscale\":false},\"mode\":\"markers\",\"name\":\"Feasible Trial\",\"showlegend\":false,\"x\":[11,9,8,16,10,13,3,19,4,20,6,14,16,7,17,13,5,18,15,12,10],\"y\":[0.7318435754189944,0.756052141527002,0.7765363128491621,0.7225325884543761,0.7523277467411545,0.7746741154562384,0.7635009310986964,0.7821229050279329,0.750465549348231,0.7746741154562384,0.7709497206703911,0.7467411545623835,0.7765363128491621,0.7690875232774674,0.7392923649906891,0.7579143389199255,0.756052141527002,0.7635009310986964,0.7523277467411544,0.7616387337057727,0.7448789571694601],\"type\":\"scatter\",\"xaxis\":\"x7\",\"yaxis\":\"y7\"},{\"marker\":{\"color\":[0,1,2,3,4,6,18,19,28,29,30,35,36,39,48,56,65,69,77,86,95],\"colorbar\":{\"title\":{\"text\":\"Trial\"},\"x\":1.0,\"xpad\":40},\"colorscale\":[[0.0,\"rgb(247,251,255)\"],[0.125,\"rgb(222,235,247)\"],[0.25,\"rgb(198,219,239)\"],[0.375,\"rgb(158,202,225)\"],[0.5,\"rgb(107,174,214)\"],[0.625,\"rgb(66,146,198)\"],[0.75,\"rgb(33,113,181)\"],[0.875,\"rgb(8,81,156)\"],[1.0,\"rgb(8,48,107)\"]],\"line\":{\"color\":\"Grey\",\"width\":0.5},\"showscale\":false},\"mode\":\"markers\",\"name\":\"Feasible Trial\",\"showlegend\":false,\"x\":[3,2,5,3,7,1,10,10,7,5,8,4,8,1,6,9,4,6,2,9,7],\"y\":[0.7318435754189944,0.756052141527002,0.7765363128491621,0.7225325884543761,0.7523277467411545,0.7746741154562384,0.7635009310986964,0.7821229050279329,0.750465549348231,0.7746741154562384,0.7709497206703911,0.7467411545623835,0.7765363128491621,0.7690875232774674,0.7392923649906891,0.7579143389199255,0.756052141527002,0.7635009310986964,0.7523277467411544,0.7616387337057727,0.7448789571694601],\"type\":\"scatter\",\"xaxis\":\"x8\",\"yaxis\":\"y8\"},{\"marker\":{\"color\":[0,1,2,3,4,6,18,19,28,29,30,35,36,39,48,56,65,69,77,86,95],\"colorbar\":{\"title\":{\"text\":\"Trial\"},\"x\":1.0,\"xpad\":40},\"colorscale\":[[0.0,\"rgb(247,251,255)\"],[0.125,\"rgb(222,235,247)\"],[0.25,\"rgb(198,219,239)\"],[0.375,\"rgb(158,202,225)\"],[0.5,\"rgb(107,174,214)\"],[0.625,\"rgb(66,146,198)\"],[0.75,\"rgb(33,113,181)\"],[0.875,\"rgb(8,81,156)\"],[1.0,\"rgb(8,48,107)\"]],\"line\":{\"color\":\"Grey\",\"width\":0.5},\"showscale\":false},\"mode\":\"markers\",\"name\":\"Feasible Trial\",\"showlegend\":false,\"x\":[6,3,6,8,10,5,2,10,4,8,8,2,4,9,5,7,3,7,9,6,3],\"y\":[0.7318435754189944,0.756052141527002,0.7765363128491621,0.7225325884543761,0.7523277467411545,0.7746741154562384,0.7635009310986964,0.7821229050279329,0.750465549348231,0.7746741154562384,0.7709497206703911,0.7467411545623835,0.7765363128491621,0.7690875232774674,0.7392923649906891,0.7579143389199255,0.756052141527002,0.7635009310986964,0.7523277467411544,0.7616387337057727,0.7448789571694601],\"type\":\"scatter\",\"xaxis\":\"x9\",\"yaxis\":\"y9\"},{\"marker\":{\"color\":[0,1,2,3,4,6,18,19,28,29,30,35,36,39,48,56,65,69,77,86,95],\"colorbar\":{\"title\":{\"text\":\"Trial\"},\"x\":1.0,\"xpad\":40},\"colorscale\":[[0.0,\"rgb(247,251,255)\"],[0.125,\"rgb(222,235,247)\"],[0.25,\"rgb(198,219,239)\"],[0.375,\"rgb(158,202,225)\"],[0.5,\"rgb(107,174,214)\"],[0.625,\"rgb(66,146,198)\"],[0.75,\"rgb(33,113,181)\"],[0.875,\"rgb(8,81,156)\"],[1.0,\"rgb(8,48,107)\"]],\"line\":{\"color\":\"Grey\",\"width\":0.5},\"showscale\":false},\"mode\":\"markers\",\"name\":\"Feasible Trial\",\"showlegend\":false,\"x\":[149,181,246,66,216,66,286,122,298,119,223,101,159,264,191,89,208,139,263,53,170],\"y\":[0.7318435754189944,0.756052141527002,0.7765363128491621,0.7225325884543761,0.7523277467411545,0.7746741154562384,0.7635009310986964,0.7821229050279329,0.750465549348231,0.7746741154562384,0.7709497206703911,0.7467411545623835,0.7765363128491621,0.7690875232774674,0.7392923649906891,0.7579143389199255,0.756052141527002,0.7635009310986964,0.7523277467411544,0.7616387337057727,0.7448789571694601],\"type\":\"scatter\",\"xaxis\":\"x10\",\"yaxis\":\"y10\"}],                        {\"template\":{\"data\":{\"histogram2dcontour\":[{\"type\":\"histogram2dcontour\",\"colorbar\":{\"outlinewidth\":0,\"ticks\":\"\"},\"colorscale\":[[0.0,\"#0d0887\"],[0.1111111111111111,\"#46039f\"],[0.2222222222222222,\"#7201a8\"],[0.3333333333333333,\"#9c179e\"],[0.4444444444444444,\"#bd3786\"],[0.5555555555555556,\"#d8576b\"],[0.6666666666666666,\"#ed7953\"],[0.7777777777777778,\"#fb9f3a\"],[0.8888888888888888,\"#fdca26\"],[1.0,\"#f0f921\"]]}],\"choropleth\":[{\"type\":\"choropleth\",\"colorbar\":{\"outlinewidth\":0,\"ticks\":\"\"}}],\"histogram2d\":[{\"type\":\"histogram2d\",\"colorbar\":{\"outlinewidth\":0,\"ticks\":\"\"},\"colorscale\":[[0.0,\"#0d0887\"],[0.1111111111111111,\"#46039f\"],[0.2222222222222222,\"#7201a8\"],[0.3333333333333333,\"#9c179e\"],[0.4444444444444444,\"#bd3786\"],[0.5555555555555556,\"#d8576b\"],[0.6666666666666666,\"#ed7953\"],[0.7777777777777778,\"#fb9f3a\"],[0.8888888888888888,\"#fdca26\"],[1.0,\"#f0f921\"]]}],\"heatmap\":[{\"type\":\"heatmap\",\"colorbar\":{\"outlinewidth\":0,\"ticks\":\"\"},\"colorscale\":[[0.0,\"#0d0887\"],[0.1111111111111111,\"#46039f\"],[0.2222222222222222,\"#7201a8\"],[0.3333333333333333,\"#9c179e\"],[0.4444444444444444,\"#bd3786\"],[0.5555555555555556,\"#d8576b\"],[0.6666666666666666,\"#ed7953\"],[0.7777777777777778,\"#fb9f3a\"],[0.8888888888888888,\"#fdca26\"],[1.0,\"#f0f921\"]]}],\"heatmapgl\":[{\"type\":\"heatmapgl\",\"colorbar\":{\"outlinewidth\":0,\"ticks\":\"\"},\"colorscale\":[[0.0,\"#0d0887\"],[0.1111111111111111,\"#46039f\"],[0.2222222222222222,\"#7201a8\"],[0.3333333333333333,\"#9c179e\"],[0.4444444444444444,\"#bd3786\"],[0.5555555555555556,\"#d8576b\"],[0.6666666666666666,\"#ed7953\"],[0.7777777777777778,\"#fb9f3a\"],[0.8888888888888888,\"#fdca26\"],[1.0,\"#f0f921\"]]}],\"contourcarpet\":[{\"type\":\"contourcarpet\",\"colorbar\":{\"outlinewidth\":0,\"ticks\":\"\"}}],\"contour\":[{\"type\":\"contour\",\"colorbar\":{\"outlinewidth\":0,\"ticks\":\"\"},\"colorscale\":[[0.0,\"#0d0887\"],[0.1111111111111111,\"#46039f\"],[0.2222222222222222,\"#7201a8\"],[0.3333333333333333,\"#9c179e\"],[0.4444444444444444,\"#bd3786\"],[0.5555555555555556,\"#d8576b\"],[0.6666666666666666,\"#ed7953\"],[0.7777777777777778,\"#fb9f3a\"],[0.8888888888888888,\"#fdca26\"],[1.0,\"#f0f921\"]]}],\"surface\":[{\"type\":\"surface\",\"colorbar\":{\"outlinewidth\":0,\"ticks\":\"\"},\"colorscale\":[[0.0,\"#0d0887\"],[0.1111111111111111,\"#46039f\"],[0.2222222222222222,\"#7201a8\"],[0.3333333333333333,\"#9c179e\"],[0.4444444444444444,\"#bd3786\"],[0.5555555555555556,\"#d8576b\"],[0.6666666666666666,\"#ed7953\"],[0.7777777777777778,\"#fb9f3a\"],[0.8888888888888888,\"#fdca26\"],[1.0,\"#f0f921\"]]}],\"mesh3d\":[{\"type\":\"mesh3d\",\"colorbar\":{\"outlinewidth\":0,\"ticks\":\"\"}}],\"scatter\":[{\"fillpattern\":{\"fillmode\":\"overlay\",\"size\":10,\"solidity\":0.2},\"type\":\"scatter\"}],\"parcoords\":[{\"type\":\"parcoords\",\"line\":{\"colorbar\":{\"outlinewidth\":0,\"ticks\":\"\"}}}],\"scatterpolargl\":[{\"type\":\"scatterpolargl\",\"marker\":{\"colorbar\":{\"outlinewidth\":0,\"ticks\":\"\"}}}],\"bar\":[{\"error_x\":{\"color\":\"#2a3f5f\"},\"error_y\":{\"color\":\"#2a3f5f\"},\"marker\":{\"line\":{\"color\":\"#E5ECF6\",\"width\":0.5},\"pattern\":{\"fillmode\":\"overlay\",\"size\":10,\"solidity\":0.2}},\"type\":\"bar\"}],\"scattergeo\":[{\"type\":\"scattergeo\",\"marker\":{\"colorbar\":{\"outlinewidth\":0,\"ticks\":\"\"}}}],\"scatterpolar\":[{\"type\":\"scatterpolar\",\"marker\":{\"colorbar\":{\"outlinewidth\":0,\"ticks\":\"\"}}}],\"histogram\":[{\"marker\":{\"pattern\":{\"fillmode\":\"overlay\",\"size\":10,\"solidity\":0.2}},\"type\":\"histogram\"}],\"scattergl\":[{\"type\":\"scattergl\",\"marker\":{\"colorbar\":{\"outlinewidth\":0,\"ticks\":\"\"}}}],\"scatter3d\":[{\"type\":\"scatter3d\",\"line\":{\"colorbar\":{\"outlinewidth\":0,\"ticks\":\"\"}},\"marker\":{\"colorbar\":{\"outlinewidth\":0,\"ticks\":\"\"}}}],\"scattermapbox\":[{\"type\":\"scattermapbox\",\"marker\":{\"colorbar\":{\"outlinewidth\":0,\"ticks\":\"\"}}}],\"scatterternary\":[{\"type\":\"scatterternary\",\"marker\":{\"colorbar\":{\"outlinewidth\":0,\"ticks\":\"\"}}}],\"scattercarpet\":[{\"type\":\"scattercarpet\",\"marker\":{\"colorbar\":{\"outlinewidth\":0,\"ticks\":\"\"}}}],\"carpet\":[{\"aaxis\":{\"endlinecolor\":\"#2a3f5f\",\"gridcolor\":\"white\",\"linecolor\":\"white\",\"minorgridcolor\":\"white\",\"startlinecolor\":\"#2a3f5f\"},\"baxis\":{\"endlinecolor\":\"#2a3f5f\",\"gridcolor\":\"white\",\"linecolor\":\"white\",\"minorgridcolor\":\"white\",\"startlinecolor\":\"#2a3f5f\"},\"type\":\"carpet\"}],\"table\":[{\"cells\":{\"fill\":{\"color\":\"#EBF0F8\"},\"line\":{\"color\":\"white\"}},\"header\":{\"fill\":{\"color\":\"#C8D4E3\"},\"line\":{\"color\":\"white\"}},\"type\":\"table\"}],\"barpolar\":[{\"marker\":{\"line\":{\"color\":\"#E5ECF6\",\"width\":0.5},\"pattern\":{\"fillmode\":\"overlay\",\"size\":10,\"solidity\":0.2}},\"type\":\"barpolar\"}],\"pie\":[{\"automargin\":true,\"type\":\"pie\"}]},\"layout\":{\"autotypenumbers\":\"strict\",\"colorway\":[\"#636efa\",\"#EF553B\",\"#00cc96\",\"#ab63fa\",\"#FFA15A\",\"#19d3f3\",\"#FF6692\",\"#B6E880\",\"#FF97FF\",\"#FECB52\"],\"font\":{\"color\":\"#2a3f5f\"},\"hovermode\":\"closest\",\"hoverlabel\":{\"align\":\"left\"},\"paper_bgcolor\":\"white\",\"plot_bgcolor\":\"#E5ECF6\",\"polar\":{\"bgcolor\":\"#E5ECF6\",\"angularaxis\":{\"gridcolor\":\"white\",\"linecolor\":\"white\",\"ticks\":\"\"},\"radialaxis\":{\"gridcolor\":\"white\",\"linecolor\":\"white\",\"ticks\":\"\"}},\"ternary\":{\"bgcolor\":\"#E5ECF6\",\"aaxis\":{\"gridcolor\":\"white\",\"linecolor\":\"white\",\"ticks\":\"\"},\"baxis\":{\"gridcolor\":\"white\",\"linecolor\":\"white\",\"ticks\":\"\"},\"caxis\":{\"gridcolor\":\"white\",\"linecolor\":\"white\",\"ticks\":\"\"}},\"coloraxis\":{\"colorbar\":{\"outlinewidth\":0,\"ticks\":\"\"}},\"colorscale\":{\"sequential\":[[0.0,\"#0d0887\"],[0.1111111111111111,\"#46039f\"],[0.2222222222222222,\"#7201a8\"],[0.3333333333333333,\"#9c179e\"],[0.4444444444444444,\"#bd3786\"],[0.5555555555555556,\"#d8576b\"],[0.6666666666666666,\"#ed7953\"],[0.7777777777777778,\"#fb9f3a\"],[0.8888888888888888,\"#fdca26\"],[1.0,\"#f0f921\"]],\"sequentialminus\":[[0.0,\"#0d0887\"],[0.1111111111111111,\"#46039f\"],[0.2222222222222222,\"#7201a8\"],[0.3333333333333333,\"#9c179e\"],[0.4444444444444444,\"#bd3786\"],[0.5555555555555556,\"#d8576b\"],[0.6666666666666666,\"#ed7953\"],[0.7777777777777778,\"#fb9f3a\"],[0.8888888888888888,\"#fdca26\"],[1.0,\"#f0f921\"]],\"diverging\":[[0,\"#8e0152\"],[0.1,\"#c51b7d\"],[0.2,\"#de77ae\"],[0.3,\"#f1b6da\"],[0.4,\"#fde0ef\"],[0.5,\"#f7f7f7\"],[0.6,\"#e6f5d0\"],[0.7,\"#b8e186\"],[0.8,\"#7fbc41\"],[0.9,\"#4d9221\"],[1,\"#276419\"]]},\"xaxis\":{\"gridcolor\":\"white\",\"linecolor\":\"white\",\"ticks\":\"\",\"title\":{\"standoff\":15},\"zerolinecolor\":\"white\",\"automargin\":true,\"zerolinewidth\":2},\"yaxis\":{\"gridcolor\":\"white\",\"linecolor\":\"white\",\"ticks\":\"\",\"title\":{\"standoff\":15},\"zerolinecolor\":\"white\",\"automargin\":true,\"zerolinewidth\":2},\"scene\":{\"xaxis\":{\"backgroundcolor\":\"#E5ECF6\",\"gridcolor\":\"white\",\"linecolor\":\"white\",\"showbackground\":true,\"ticks\":\"\",\"zerolinecolor\":\"white\",\"gridwidth\":2},\"yaxis\":{\"backgroundcolor\":\"#E5ECF6\",\"gridcolor\":\"white\",\"linecolor\":\"white\",\"showbackground\":true,\"ticks\":\"\",\"zerolinecolor\":\"white\",\"gridwidth\":2},\"zaxis\":{\"backgroundcolor\":\"#E5ECF6\",\"gridcolor\":\"white\",\"linecolor\":\"white\",\"showbackground\":true,\"ticks\":\"\",\"zerolinecolor\":\"white\",\"gridwidth\":2}},\"shapedefaults\":{\"line\":{\"color\":\"#2a3f5f\"}},\"annotationdefaults\":{\"arrowcolor\":\"#2a3f5f\",\"arrowhead\":0,\"arrowwidth\":1},\"geo\":{\"bgcolor\":\"white\",\"landcolor\":\"#E5ECF6\",\"subunitcolor\":\"white\",\"showland\":true,\"showlakes\":true,\"lakecolor\":\"white\"},\"title\":{\"x\":0.05},\"mapbox\":{\"style\":\"light\"}}},\"xaxis\":{\"anchor\":\"y\",\"domain\":[0.0,0.082],\"title\":{\"text\":\"C\"},\"type\":\"log\"},\"yaxis\":{\"anchor\":\"x\",\"domain\":[0.0,1.0],\"title\":{\"text\":\"Objective Value\"}},\"xaxis2\":{\"anchor\":\"y2\",\"domain\":[0.10200000000000001,0.184],\"title\":{\"text\":\"bootstrap\"},\"type\":\"category\",\"categoryorder\":\"array\",\"categoryarray\":[true,false]},\"yaxis2\":{\"anchor\":\"x2\",\"domain\":[0.0,1.0],\"matches\":\"y\",\"showticklabels\":false},\"xaxis3\":{\"anchor\":\"y3\",\"domain\":[0.20400000000000001,0.28600000000000003],\"title\":{\"text\":\"classifier\"},\"type\":\"category\",\"categoryorder\":\"array\",\"categoryarray\":[\"SVM\",\"RandomForest\",\"GradientBoosting\"]},\"yaxis3\":{\"anchor\":\"x3\",\"domain\":[0.0,1.0],\"matches\":\"y\",\"showticklabels\":false},\"xaxis4\":{\"anchor\":\"y4\",\"domain\":[0.306,0.388],\"title\":{\"text\":\"gamma\"},\"type\":\"category\",\"categoryorder\":\"array\",\"categoryarray\":[\"scale\",\"auto\"]},\"yaxis4\":{\"anchor\":\"x4\",\"domain\":[0.0,1.0],\"matches\":\"y\",\"showticklabels\":false},\"xaxis5\":{\"anchor\":\"y5\",\"domain\":[0.40800000000000003,0.49000000000000005],\"title\":{\"text\":\"kernel\"},\"type\":\"category\",\"categoryorder\":\"array\",\"categoryarray\":[\"linear\",\"rbf\",\"poly\",\"sigmoid\"]},\"yaxis5\":{\"anchor\":\"x5\",\"domain\":[0.0,1.0],\"matches\":\"y\",\"showticklabels\":false},\"xaxis6\":{\"anchor\":\"y6\",\"domain\":[0.51,0.592],\"title\":{\"text\":\"learning_rate\"},\"type\":\"log\"},\"yaxis6\":{\"anchor\":\"x6\",\"domain\":[0.0,1.0],\"matches\":\"y\",\"showticklabels\":false},\"xaxis7\":{\"anchor\":\"y7\",\"domain\":[0.6120000000000001,0.6940000000000001],\"title\":{\"text\":\"max_depth\"}},\"yaxis7\":{\"anchor\":\"x7\",\"domain\":[0.0,1.0],\"matches\":\"y\",\"showticklabels\":false},\"xaxis8\":{\"anchor\":\"y8\",\"domain\":[0.7140000000000001,0.796],\"title\":{\"text\":\"min_samples_leaf\"}},\"yaxis8\":{\"anchor\":\"x8\",\"domain\":[0.0,1.0],\"matches\":\"y\",\"showticklabels\":false},\"xaxis9\":{\"anchor\":\"y9\",\"domain\":[0.8160000000000001,0.898],\"title\":{\"text\":\"min_samples_split\"}},\"yaxis9\":{\"anchor\":\"x9\",\"domain\":[0.0,1.0],\"matches\":\"y\",\"showticklabels\":false},\"xaxis10\":{\"anchor\":\"y10\",\"domain\":[0.9179999999999999,0.9999999999999999],\"title\":{\"text\":\"n_estimators\"}},\"yaxis10\":{\"anchor\":\"x10\",\"domain\":[0.0,1.0],\"matches\":\"y\",\"showticklabels\":false},\"title\":{\"text\":\"Slice Plot\"},\"width\":3000},                        {\"responsive\": true}                    ).then(function(){\n",
              "                            \n",
              "var gd = document.getElementById('1e292bc1-c388-4b14-9a5d-7dc45947dc46');\n",
              "var x = new MutationObserver(function (mutations, observer) {{\n",
              "        var display = window.getComputedStyle(gd).display;\n",
              "        if (!display || display === 'none') {{\n",
              "            console.log([gd, 'removed!']);\n",
              "            Plotly.purge(gd);\n",
              "            observer.disconnect();\n",
              "        }}\n",
              "}});\n",
              "\n",
              "// Listen for the removal of the full notebook cells\n",
              "var notebookContainer = gd.closest('#notebook-container');\n",
              "if (notebookContainer) {{\n",
              "    x.observe(notebookContainer, {childList: true});\n",
              "}}\n",
              "\n",
              "// Listen for the clearing of the current output cell\n",
              "var outputEl = gd.closest('.output');\n",
              "if (outputEl) {{\n",
              "    x.observe(outputEl, {childList: true});\n",
              "}}\n",
              "\n",
              "                        })                };                            </script>        </div>\n",
              "</body>\n",
              "</html>"
            ]
          },
          "metadata": {}
        }
      ]
    },
    {
      "cell_type": "code",
      "source": [
        "# 5. Hyperparameter Importance\n",
        "plot_param_importances(study).show()"
      ],
      "metadata": {
        "colab": {
          "base_uri": "https://localhost:8080/",
          "height": 542
        },
        "id": "rUhujoemC4hI",
        "outputId": "f25d4d23-c4d7-4a85-dc5e-b68af28caa26"
      },
      "execution_count": 32,
      "outputs": [
        {
          "output_type": "display_data",
          "data": {
            "text/html": [
              "<html>\n",
              "<head><meta charset=\"utf-8\" /></head>\n",
              "<body>\n",
              "    <div>            <script src=\"https://cdnjs.cloudflare.com/ajax/libs/mathjax/2.7.5/MathJax.js?config=TeX-AMS-MML_SVG\"></script><script type=\"text/javascript\">if (window.MathJax && window.MathJax.Hub && window.MathJax.Hub.Config) {window.MathJax.Hub.Config({SVG: {font: \"STIX-Web\"}});}</script>                <script type=\"text/javascript\">window.PlotlyConfig = {MathJaxConfig: 'local'};</script>\n",
              "        <script charset=\"utf-8\" src=\"https://cdn.plot.ly/plotly-2.35.2.min.js\"></script>                <div id=\"4dea319d-989c-4cf9-aa86-b62425d6cab2\" class=\"plotly-graph-div\" style=\"height:525px; width:100%;\"></div>            <script type=\"text/javascript\">                                    window.PLOTLYENV=window.PLOTLYENV || {};                                    if (document.getElementById(\"4dea319d-989c-4cf9-aa86-b62425d6cab2\")) {                    Plotly.newPlot(                        \"4dea319d-989c-4cf9-aa86-b62425d6cab2\",                        [{\"cliponaxis\":false,\"hovertemplate\":[\"classifier (CategoricalDistribution): 1.0\\u003cextra\\u003e\\u003c\\u002fextra\\u003e\"],\"name\":\"Objective Value\",\"orientation\":\"h\",\"text\":[\"1.00\"],\"textposition\":\"outside\",\"x\":[1.0],\"y\":[\"classifier\"],\"type\":\"bar\"}],                        {\"title\":{\"text\":\"Hyperparameter Importances\"},\"xaxis\":{\"title\":{\"text\":\"Hyperparameter Importance\"}},\"yaxis\":{\"title\":{\"text\":\"Hyperparameter\"}},\"template\":{\"data\":{\"histogram2dcontour\":[{\"type\":\"histogram2dcontour\",\"colorbar\":{\"outlinewidth\":0,\"ticks\":\"\"},\"colorscale\":[[0.0,\"#0d0887\"],[0.1111111111111111,\"#46039f\"],[0.2222222222222222,\"#7201a8\"],[0.3333333333333333,\"#9c179e\"],[0.4444444444444444,\"#bd3786\"],[0.5555555555555556,\"#d8576b\"],[0.6666666666666666,\"#ed7953\"],[0.7777777777777778,\"#fb9f3a\"],[0.8888888888888888,\"#fdca26\"],[1.0,\"#f0f921\"]]}],\"choropleth\":[{\"type\":\"choropleth\",\"colorbar\":{\"outlinewidth\":0,\"ticks\":\"\"}}],\"histogram2d\":[{\"type\":\"histogram2d\",\"colorbar\":{\"outlinewidth\":0,\"ticks\":\"\"},\"colorscale\":[[0.0,\"#0d0887\"],[0.1111111111111111,\"#46039f\"],[0.2222222222222222,\"#7201a8\"],[0.3333333333333333,\"#9c179e\"],[0.4444444444444444,\"#bd3786\"],[0.5555555555555556,\"#d8576b\"],[0.6666666666666666,\"#ed7953\"],[0.7777777777777778,\"#fb9f3a\"],[0.8888888888888888,\"#fdca26\"],[1.0,\"#f0f921\"]]}],\"heatmap\":[{\"type\":\"heatmap\",\"colorbar\":{\"outlinewidth\":0,\"ticks\":\"\"},\"colorscale\":[[0.0,\"#0d0887\"],[0.1111111111111111,\"#46039f\"],[0.2222222222222222,\"#7201a8\"],[0.3333333333333333,\"#9c179e\"],[0.4444444444444444,\"#bd3786\"],[0.5555555555555556,\"#d8576b\"],[0.6666666666666666,\"#ed7953\"],[0.7777777777777778,\"#fb9f3a\"],[0.8888888888888888,\"#fdca26\"],[1.0,\"#f0f921\"]]}],\"heatmapgl\":[{\"type\":\"heatmapgl\",\"colorbar\":{\"outlinewidth\":0,\"ticks\":\"\"},\"colorscale\":[[0.0,\"#0d0887\"],[0.1111111111111111,\"#46039f\"],[0.2222222222222222,\"#7201a8\"],[0.3333333333333333,\"#9c179e\"],[0.4444444444444444,\"#bd3786\"],[0.5555555555555556,\"#d8576b\"],[0.6666666666666666,\"#ed7953\"],[0.7777777777777778,\"#fb9f3a\"],[0.8888888888888888,\"#fdca26\"],[1.0,\"#f0f921\"]]}],\"contourcarpet\":[{\"type\":\"contourcarpet\",\"colorbar\":{\"outlinewidth\":0,\"ticks\":\"\"}}],\"contour\":[{\"type\":\"contour\",\"colorbar\":{\"outlinewidth\":0,\"ticks\":\"\"},\"colorscale\":[[0.0,\"#0d0887\"],[0.1111111111111111,\"#46039f\"],[0.2222222222222222,\"#7201a8\"],[0.3333333333333333,\"#9c179e\"],[0.4444444444444444,\"#bd3786\"],[0.5555555555555556,\"#d8576b\"],[0.6666666666666666,\"#ed7953\"],[0.7777777777777778,\"#fb9f3a\"],[0.8888888888888888,\"#fdca26\"],[1.0,\"#f0f921\"]]}],\"surface\":[{\"type\":\"surface\",\"colorbar\":{\"outlinewidth\":0,\"ticks\":\"\"},\"colorscale\":[[0.0,\"#0d0887\"],[0.1111111111111111,\"#46039f\"],[0.2222222222222222,\"#7201a8\"],[0.3333333333333333,\"#9c179e\"],[0.4444444444444444,\"#bd3786\"],[0.5555555555555556,\"#d8576b\"],[0.6666666666666666,\"#ed7953\"],[0.7777777777777778,\"#fb9f3a\"],[0.8888888888888888,\"#fdca26\"],[1.0,\"#f0f921\"]]}],\"mesh3d\":[{\"type\":\"mesh3d\",\"colorbar\":{\"outlinewidth\":0,\"ticks\":\"\"}}],\"scatter\":[{\"fillpattern\":{\"fillmode\":\"overlay\",\"size\":10,\"solidity\":0.2},\"type\":\"scatter\"}],\"parcoords\":[{\"type\":\"parcoords\",\"line\":{\"colorbar\":{\"outlinewidth\":0,\"ticks\":\"\"}}}],\"scatterpolargl\":[{\"type\":\"scatterpolargl\",\"marker\":{\"colorbar\":{\"outlinewidth\":0,\"ticks\":\"\"}}}],\"bar\":[{\"error_x\":{\"color\":\"#2a3f5f\"},\"error_y\":{\"color\":\"#2a3f5f\"},\"marker\":{\"line\":{\"color\":\"#E5ECF6\",\"width\":0.5},\"pattern\":{\"fillmode\":\"overlay\",\"size\":10,\"solidity\":0.2}},\"type\":\"bar\"}],\"scattergeo\":[{\"type\":\"scattergeo\",\"marker\":{\"colorbar\":{\"outlinewidth\":0,\"ticks\":\"\"}}}],\"scatterpolar\":[{\"type\":\"scatterpolar\",\"marker\":{\"colorbar\":{\"outlinewidth\":0,\"ticks\":\"\"}}}],\"histogram\":[{\"marker\":{\"pattern\":{\"fillmode\":\"overlay\",\"size\":10,\"solidity\":0.2}},\"type\":\"histogram\"}],\"scattergl\":[{\"type\":\"scattergl\",\"marker\":{\"colorbar\":{\"outlinewidth\":0,\"ticks\":\"\"}}}],\"scatter3d\":[{\"type\":\"scatter3d\",\"line\":{\"colorbar\":{\"outlinewidth\":0,\"ticks\":\"\"}},\"marker\":{\"colorbar\":{\"outlinewidth\":0,\"ticks\":\"\"}}}],\"scattermapbox\":[{\"type\":\"scattermapbox\",\"marker\":{\"colorbar\":{\"outlinewidth\":0,\"ticks\":\"\"}}}],\"scatterternary\":[{\"type\":\"scatterternary\",\"marker\":{\"colorbar\":{\"outlinewidth\":0,\"ticks\":\"\"}}}],\"scattercarpet\":[{\"type\":\"scattercarpet\",\"marker\":{\"colorbar\":{\"outlinewidth\":0,\"ticks\":\"\"}}}],\"carpet\":[{\"aaxis\":{\"endlinecolor\":\"#2a3f5f\",\"gridcolor\":\"white\",\"linecolor\":\"white\",\"minorgridcolor\":\"white\",\"startlinecolor\":\"#2a3f5f\"},\"baxis\":{\"endlinecolor\":\"#2a3f5f\",\"gridcolor\":\"white\",\"linecolor\":\"white\",\"minorgridcolor\":\"white\",\"startlinecolor\":\"#2a3f5f\"},\"type\":\"carpet\"}],\"table\":[{\"cells\":{\"fill\":{\"color\":\"#EBF0F8\"},\"line\":{\"color\":\"white\"}},\"header\":{\"fill\":{\"color\":\"#C8D4E3\"},\"line\":{\"color\":\"white\"}},\"type\":\"table\"}],\"barpolar\":[{\"marker\":{\"line\":{\"color\":\"#E5ECF6\",\"width\":0.5},\"pattern\":{\"fillmode\":\"overlay\",\"size\":10,\"solidity\":0.2}},\"type\":\"barpolar\"}],\"pie\":[{\"automargin\":true,\"type\":\"pie\"}]},\"layout\":{\"autotypenumbers\":\"strict\",\"colorway\":[\"#636efa\",\"#EF553B\",\"#00cc96\",\"#ab63fa\",\"#FFA15A\",\"#19d3f3\",\"#FF6692\",\"#B6E880\",\"#FF97FF\",\"#FECB52\"],\"font\":{\"color\":\"#2a3f5f\"},\"hovermode\":\"closest\",\"hoverlabel\":{\"align\":\"left\"},\"paper_bgcolor\":\"white\",\"plot_bgcolor\":\"#E5ECF6\",\"polar\":{\"bgcolor\":\"#E5ECF6\",\"angularaxis\":{\"gridcolor\":\"white\",\"linecolor\":\"white\",\"ticks\":\"\"},\"radialaxis\":{\"gridcolor\":\"white\",\"linecolor\":\"white\",\"ticks\":\"\"}},\"ternary\":{\"bgcolor\":\"#E5ECF6\",\"aaxis\":{\"gridcolor\":\"white\",\"linecolor\":\"white\",\"ticks\":\"\"},\"baxis\":{\"gridcolor\":\"white\",\"linecolor\":\"white\",\"ticks\":\"\"},\"caxis\":{\"gridcolor\":\"white\",\"linecolor\":\"white\",\"ticks\":\"\"}},\"coloraxis\":{\"colorbar\":{\"outlinewidth\":0,\"ticks\":\"\"}},\"colorscale\":{\"sequential\":[[0.0,\"#0d0887\"],[0.1111111111111111,\"#46039f\"],[0.2222222222222222,\"#7201a8\"],[0.3333333333333333,\"#9c179e\"],[0.4444444444444444,\"#bd3786\"],[0.5555555555555556,\"#d8576b\"],[0.6666666666666666,\"#ed7953\"],[0.7777777777777778,\"#fb9f3a\"],[0.8888888888888888,\"#fdca26\"],[1.0,\"#f0f921\"]],\"sequentialminus\":[[0.0,\"#0d0887\"],[0.1111111111111111,\"#46039f\"],[0.2222222222222222,\"#7201a8\"],[0.3333333333333333,\"#9c179e\"],[0.4444444444444444,\"#bd3786\"],[0.5555555555555556,\"#d8576b\"],[0.6666666666666666,\"#ed7953\"],[0.7777777777777778,\"#fb9f3a\"],[0.8888888888888888,\"#fdca26\"],[1.0,\"#f0f921\"]],\"diverging\":[[0,\"#8e0152\"],[0.1,\"#c51b7d\"],[0.2,\"#de77ae\"],[0.3,\"#f1b6da\"],[0.4,\"#fde0ef\"],[0.5,\"#f7f7f7\"],[0.6,\"#e6f5d0\"],[0.7,\"#b8e186\"],[0.8,\"#7fbc41\"],[0.9,\"#4d9221\"],[1,\"#276419\"]]},\"xaxis\":{\"gridcolor\":\"white\",\"linecolor\":\"white\",\"ticks\":\"\",\"title\":{\"standoff\":15},\"zerolinecolor\":\"white\",\"automargin\":true,\"zerolinewidth\":2},\"yaxis\":{\"gridcolor\":\"white\",\"linecolor\":\"white\",\"ticks\":\"\",\"title\":{\"standoff\":15},\"zerolinecolor\":\"white\",\"automargin\":true,\"zerolinewidth\":2},\"scene\":{\"xaxis\":{\"backgroundcolor\":\"#E5ECF6\",\"gridcolor\":\"white\",\"linecolor\":\"white\",\"showbackground\":true,\"ticks\":\"\",\"zerolinecolor\":\"white\",\"gridwidth\":2},\"yaxis\":{\"backgroundcolor\":\"#E5ECF6\",\"gridcolor\":\"white\",\"linecolor\":\"white\",\"showbackground\":true,\"ticks\":\"\",\"zerolinecolor\":\"white\",\"gridwidth\":2},\"zaxis\":{\"backgroundcolor\":\"#E5ECF6\",\"gridcolor\":\"white\",\"linecolor\":\"white\",\"showbackground\":true,\"ticks\":\"\",\"zerolinecolor\":\"white\",\"gridwidth\":2}},\"shapedefaults\":{\"line\":{\"color\":\"#2a3f5f\"}},\"annotationdefaults\":{\"arrowcolor\":\"#2a3f5f\",\"arrowhead\":0,\"arrowwidth\":1},\"geo\":{\"bgcolor\":\"white\",\"landcolor\":\"#E5ECF6\",\"subunitcolor\":\"white\",\"showland\":true,\"showlakes\":true,\"lakecolor\":\"white\"},\"title\":{\"x\":0.05},\"mapbox\":{\"style\":\"light\"}}}},                        {\"responsive\": true}                    ).then(function(){\n",
              "                            \n",
              "var gd = document.getElementById('4dea319d-989c-4cf9-aa86-b62425d6cab2');\n",
              "var x = new MutationObserver(function (mutations, observer) {{\n",
              "        var display = window.getComputedStyle(gd).display;\n",
              "        if (!display || display === 'none') {{\n",
              "            console.log([gd, 'removed!']);\n",
              "            Plotly.purge(gd);\n",
              "            observer.disconnect();\n",
              "        }}\n",
              "}});\n",
              "\n",
              "// Listen for the removal of the full notebook cells\n",
              "var notebookContainer = gd.closest('#notebook-container');\n",
              "if (notebookContainer) {{\n",
              "    x.observe(notebookContainer, {childList: true});\n",
              "}}\n",
              "\n",
              "// Listen for the clearing of the current output cell\n",
              "var outputEl = gd.closest('.output');\n",
              "if (outputEl) {{\n",
              "    x.observe(outputEl, {childList: true});\n",
              "}}\n",
              "\n",
              "                        })                };                            </script>        </div>\n",
              "</body>\n",
              "</html>"
            ]
          },
          "metadata": {}
        }
      ]
    },
    {
      "cell_type": "code",
      "source": [
        "!pip install optuna-integration[xgboost]"
      ],
      "metadata": {
        "id": "xF8kP-pCXjeX",
        "outputId": "29e4e484-45c5-437a-b4cc-8345a62bd681",
        "colab": {
          "base_uri": "https://localhost:8080/"
        }
      },
      "execution_count": 34,
      "outputs": [
        {
          "output_type": "stream",
          "name": "stdout",
          "text": [
            "Collecting optuna-integration[xgboost]\n",
            "  Downloading optuna_integration-4.0.0-py3-none-any.whl.metadata (11 kB)\n",
            "Requirement already satisfied: optuna in /usr/local/lib/python3.10/dist-packages (from optuna-integration[xgboost]) (4.0.0)\n",
            "Requirement already satisfied: xgboost in /usr/local/lib/python3.10/dist-packages (from optuna-integration[xgboost]) (2.1.1)\n",
            "Requirement already satisfied: alembic>=1.5.0 in /usr/local/lib/python3.10/dist-packages (from optuna->optuna-integration[xgboost]) (1.13.3)\n",
            "Requirement already satisfied: colorlog in /usr/local/lib/python3.10/dist-packages (from optuna->optuna-integration[xgboost]) (6.8.2)\n",
            "Requirement already satisfied: numpy in /usr/local/lib/python3.10/dist-packages (from optuna->optuna-integration[xgboost]) (1.26.4)\n",
            "Requirement already satisfied: packaging>=20.0 in /usr/local/lib/python3.10/dist-packages (from optuna->optuna-integration[xgboost]) (24.1)\n",
            "Requirement already satisfied: sqlalchemy>=1.3.0 in /usr/local/lib/python3.10/dist-packages (from optuna->optuna-integration[xgboost]) (2.0.35)\n",
            "Requirement already satisfied: tqdm in /usr/local/lib/python3.10/dist-packages (from optuna->optuna-integration[xgboost]) (4.66.5)\n",
            "Requirement already satisfied: PyYAML in /usr/local/lib/python3.10/dist-packages (from optuna->optuna-integration[xgboost]) (6.0.2)\n",
            "Requirement already satisfied: nvidia-nccl-cu12 in /usr/local/lib/python3.10/dist-packages (from xgboost->optuna-integration[xgboost]) (2.23.4)\n",
            "Requirement already satisfied: scipy in /usr/local/lib/python3.10/dist-packages (from xgboost->optuna-integration[xgboost]) (1.13.1)\n",
            "Requirement already satisfied: Mako in /usr/local/lib/python3.10/dist-packages (from alembic>=1.5.0->optuna->optuna-integration[xgboost]) (1.3.5)\n",
            "Requirement already satisfied: typing-extensions>=4 in /usr/local/lib/python3.10/dist-packages (from alembic>=1.5.0->optuna->optuna-integration[xgboost]) (4.12.2)\n",
            "Requirement already satisfied: greenlet!=0.4.17 in /usr/local/lib/python3.10/dist-packages (from sqlalchemy>=1.3.0->optuna->optuna-integration[xgboost]) (3.1.1)\n",
            "Requirement already satisfied: MarkupSafe>=0.9.2 in /usr/local/lib/python3.10/dist-packages (from Mako->alembic>=1.5.0->optuna->optuna-integration[xgboost]) (3.0.1)\n",
            "Downloading optuna_integration-4.0.0-py3-none-any.whl (96 kB)\n",
            "\u001b[2K   \u001b[90m━━━━━━━━━━━━━━━━━━━━━━━━━━━━━━━━━━━━━━━━\u001b[0m \u001b[32m96.9/96.9 kB\u001b[0m \u001b[31m2.3 MB/s\u001b[0m eta \u001b[36m0:00:00\u001b[0m\n",
            "\u001b[?25hInstalling collected packages: optuna-integration\n",
            "Successfully installed optuna-integration-4.0.0\n"
          ]
        }
      ]
    },
    {
      "cell_type": "code",
      "source": [
        "import optuna\n",
        "import xgboost as xgb\n",
        "from sklearn.model_selection import train_test_split\n",
        "from sklearn.datasets import load_iris\n",
        "from sklearn.metrics import accuracy_score\n",
        "import numpy as np\n",
        "\n",
        "# Load the Iris dataset\n",
        "X, y = load_iris(return_X_y=True)\n",
        "\n",
        "# Split the dataset into training and test sets\n",
        "X_train, X_test, y_train, y_test = train_test_split(X, y, test_size=0.2, random_state=42)\n",
        "\n",
        "# Define the objective function for XGBoost\n",
        "def objective(trial):\n",
        "    # Hyperparameter search space\n",
        "    param = {\n",
        "        'verbosity': 0,\n",
        "        'objective': 'multi:softprob',\n",
        "        'num_class': 3,\n",
        "        'eval_metric': 'mlogloss',  # Ensure that the eval_metric is specified here\n",
        "        'booster': 'gbtree',\n",
        "        'lambda': trial.suggest_float('lambda', 1e-8, 1.0, log=True),\n",
        "        'alpha': trial.suggest_float('alpha', 1e-8, 1.0, log=True),\n",
        "        'eta': trial.suggest_float('eta', 0.01, 0.3),\n",
        "        'gamma': trial.suggest_float('gamma', 1e-8, 1.0, log=True),\n",
        "        'max_depth': trial.suggest_int('max_depth', 3, 9),\n",
        "        'min_child_weight': trial.suggest_int('min_child_weight', 1, 10),\n",
        "        'subsample': trial.suggest_float('subsample', 0.4, 1.0),\n",
        "        'colsample_bytree': trial.suggest_float('colsample_bytree', 0.4, 1.0),\n",
        "        'n_estimators': 300,\n",
        "    }\n",
        "\n",
        "    # Create DMatrix for XGBoost\n",
        "    dtrain = xgb.DMatrix(X_train, label=y_train)\n",
        "    dtest = xgb.DMatrix(X_test, label=y_test)\n",
        "\n",
        "    # Define a pruning callback based on evaluation metrics\n",
        "    pruning_callback = optuna.integration.XGBoostPruningCallback(trial, \"eval-mlogloss\")  # Match the metric name in the evals list\n",
        "\n",
        "    # Train the model\n",
        "    bst = xgb.train(\n",
        "        param,\n",
        "        dtrain,\n",
        "        num_boost_round=300,\n",
        "        evals=[(dtrain, \"train\"), (dtest, \"eval\")],  # Ensure the eval datasets and names are specified\n",
        "        early_stopping_rounds=30,\n",
        "        callbacks=[pruning_callback]\n",
        "    )\n",
        "\n",
        "    # Predict on the test set\n",
        "    preds = bst.predict(dtest)\n",
        "    best_preds = [int(np.argmax(line)) for line in preds]\n",
        "\n",
        "    # Return accuracy as the objective value\n",
        "    accuracy = accuracy_score(y_test, best_preds)\n",
        "    return accuracy\n",
        "\n",
        "# Create a study with pruning\n",
        "study = optuna.create_study(direction='maximize', pruner=optuna.pruners.SuccessiveHalvingPruner())\n",
        "study.optimize(objective, n_trials=50)\n",
        "\n",
        "# Output the best trial\n",
        "print(f\"Best trial: {study.best_trial.params}\")\n",
        "print(f\"Best accuracy: {study.best_value}\")\n"
      ],
      "metadata": {
        "colab": {
          "base_uri": "https://localhost:8080/"
        },
        "id": "APAwYNxkIwMf",
        "outputId": "0764a8d9-0556-4b43-e483-587ec7930e5c"
      },
      "execution_count": 35,
      "outputs": [
        {
          "output_type": "stream",
          "name": "stderr",
          "text": [
            "[I 2024-10-15 08:49:46,937] A new study created in memory with name: no-name-be087028-03de-44a1-b721-9a519e034bf9\n"
          ]
        },
        {
          "output_type": "stream",
          "name": "stdout",
          "text": [
            "[0]\ttrain-mlogloss:0.81858\teval-mlogloss:0.83443\n",
            "[1]\ttrain-mlogloss:0.62886\teval-mlogloss:0.63561\n",
            "[2]\ttrain-mlogloss:0.48842\teval-mlogloss:0.48014\n",
            "[3]\ttrain-mlogloss:0.39164\teval-mlogloss:0.37562\n",
            "[4]\ttrain-mlogloss:0.31776\teval-mlogloss:0.29540\n",
            "[5]\ttrain-mlogloss:0.26012\teval-mlogloss:0.22454\n",
            "[6]\ttrain-mlogloss:0.22045\teval-mlogloss:0.18276\n",
            "[7]\ttrain-mlogloss:0.18920\teval-mlogloss:0.15605\n",
            "[8]\ttrain-mlogloss:0.16757\teval-mlogloss:0.13357\n",
            "[9]\ttrain-mlogloss:0.15208\teval-mlogloss:0.11558\n",
            "[10]\ttrain-mlogloss:0.14117\teval-mlogloss:0.10528\n",
            "[11]\ttrain-mlogloss:0.12693\teval-mlogloss:0.08179\n",
            "[12]\ttrain-mlogloss:0.12298\teval-mlogloss:0.07538\n",
            "[13]\ttrain-mlogloss:0.11699\teval-mlogloss:0.06599\n",
            "[14]\ttrain-mlogloss:0.11525\teval-mlogloss:0.06403\n",
            "[15]\ttrain-mlogloss:0.11194\teval-mlogloss:0.06047\n",
            "[16]\ttrain-mlogloss:0.10963\teval-mlogloss:0.05760\n",
            "[17]\ttrain-mlogloss:0.10813\teval-mlogloss:0.05516\n",
            "[18]\ttrain-mlogloss:0.10716\teval-mlogloss:0.05240\n",
            "[19]\ttrain-mlogloss:0.10281\teval-mlogloss:0.04794\n",
            "[20]\ttrain-mlogloss:0.10172\teval-mlogloss:0.04698\n",
            "[21]\ttrain-mlogloss:0.10139\teval-mlogloss:0.04721\n",
            "[22]\ttrain-mlogloss:0.10135\teval-mlogloss:0.04457\n",
            "[23]\ttrain-mlogloss:0.10008\teval-mlogloss:0.04362\n",
            "[24]\ttrain-mlogloss:0.09840\teval-mlogloss:0.04330\n",
            "[25]\ttrain-mlogloss:0.09809\teval-mlogloss:0.04315\n",
            "[26]\ttrain-mlogloss:0.09748\teval-mlogloss:0.04073\n",
            "[27]\ttrain-mlogloss:0.09570\teval-mlogloss:0.04248\n",
            "[28]\ttrain-mlogloss:0.09555\teval-mlogloss:0.04255\n",
            "[29]\ttrain-mlogloss:0.09518\teval-mlogloss:0.04240\n",
            "[30]\ttrain-mlogloss:0.09446\teval-mlogloss:0.04118\n",
            "[31]\ttrain-mlogloss:0.09317\teval-mlogloss:0.03968\n",
            "[32]\ttrain-mlogloss:0.09346\teval-mlogloss:0.03954\n",
            "[33]\ttrain-mlogloss:0.09351\teval-mlogloss:0.03773\n",
            "[34]\ttrain-mlogloss:0.09116\teval-mlogloss:0.03595\n",
            "[35]\ttrain-mlogloss:0.09129\teval-mlogloss:0.03591\n",
            "[36]\ttrain-mlogloss:0.09129\teval-mlogloss:0.03575\n",
            "[37]\ttrain-mlogloss:0.09089\teval-mlogloss:0.03568\n",
            "[38]\ttrain-mlogloss:0.09009\teval-mlogloss:0.03545\n",
            "[39]\ttrain-mlogloss:0.09004\teval-mlogloss:0.03588\n",
            "[40]\ttrain-mlogloss:0.08860\teval-mlogloss:0.03885\n",
            "[41]\ttrain-mlogloss:0.08693\teval-mlogloss:0.03878\n",
            "[42]\ttrain-mlogloss:0.08633\teval-mlogloss:0.03831\n",
            "[43]\ttrain-mlogloss:0.08592\teval-mlogloss:0.03787\n",
            "[44]\ttrain-mlogloss:0.08627\teval-mlogloss:0.03900\n",
            "[45]\ttrain-mlogloss:0.08604\teval-mlogloss:0.03845\n",
            "[46]\ttrain-mlogloss:0.08538\teval-mlogloss:0.03828\n",
            "[47]\ttrain-mlogloss:0.08547\teval-mlogloss:0.03929\n",
            "[48]\ttrain-mlogloss:0.08328\teval-mlogloss:0.03561\n",
            "[49]\ttrain-mlogloss:0.08169\teval-mlogloss:0.03286\n",
            "[50]\ttrain-mlogloss:0.08193\teval-mlogloss:0.03301\n",
            "[51]\ttrain-mlogloss:0.08108\teval-mlogloss:0.03222\n",
            "[52]\ttrain-mlogloss:0.08133\teval-mlogloss:0.03235\n",
            "[53]\ttrain-mlogloss:0.08088\teval-mlogloss:0.03212\n",
            "[54]\ttrain-mlogloss:0.08071\teval-mlogloss:0.03150\n",
            "[55]\ttrain-mlogloss:0.08042\teval-mlogloss:0.03084\n",
            "[56]\ttrain-mlogloss:0.08052\teval-mlogloss:0.02950\n",
            "[57]\ttrain-mlogloss:0.08142\teval-mlogloss:0.03042\n",
            "[58]\ttrain-mlogloss:0.08193\teval-mlogloss:0.03024\n",
            "[59]\ttrain-mlogloss:0.08162\teval-mlogloss:0.02946\n",
            "[60]\ttrain-mlogloss:0.08107\teval-mlogloss:0.02893\n",
            "[61]\ttrain-mlogloss:0.08057\teval-mlogloss:0.02868\n",
            "[62]\ttrain-mlogloss:0.08091\teval-mlogloss:0.02909\n",
            "[63]\ttrain-mlogloss:0.08053\teval-mlogloss:0.02875\n",
            "[64]\ttrain-mlogloss:0.08043\teval-mlogloss:0.03011\n",
            "[65]\ttrain-mlogloss:0.08038\teval-mlogloss:0.03050\n",
            "[66]\ttrain-mlogloss:0.08038\teval-mlogloss:0.03024\n",
            "[67]\ttrain-mlogloss:0.08060\teval-mlogloss:0.03018\n",
            "[68]\ttrain-mlogloss:0.08103\teval-mlogloss:0.03215\n",
            "[69]\ttrain-mlogloss:0.08109\teval-mlogloss:0.03223\n",
            "[70]\ttrain-mlogloss:0.08040\teval-mlogloss:0.03205\n",
            "[71]\ttrain-mlogloss:0.08059\teval-mlogloss:0.03112\n",
            "[72]\ttrain-mlogloss:0.07991\teval-mlogloss:0.03101\n",
            "[73]\ttrain-mlogloss:0.07969\teval-mlogloss:0.03119\n",
            "[74]\ttrain-mlogloss:0.07946\teval-mlogloss:0.03129\n",
            "[75]\ttrain-mlogloss:0.07890\teval-mlogloss:0.03164\n",
            "[76]\ttrain-mlogloss:0.07977\teval-mlogloss:0.03274\n",
            "[77]\ttrain-mlogloss:0.07971\teval-mlogloss:0.03146\n",
            "[78]\ttrain-mlogloss:0.07923\teval-mlogloss:0.03207\n",
            "[79]\ttrain-mlogloss:0.07957\teval-mlogloss:0.03250\n",
            "[80]\ttrain-mlogloss:0.07858\teval-mlogloss:0.03107\n",
            "[81]\ttrain-mlogloss:0.07858\teval-mlogloss:0.03066\n",
            "[82]\ttrain-mlogloss:0.07857\teval-mlogloss:0.02962\n",
            "[83]\ttrain-mlogloss:0.07877\teval-mlogloss:0.02986\n",
            "[84]\ttrain-mlogloss:0.07878\teval-mlogloss:0.03009\n",
            "[85]\ttrain-mlogloss:0.07922\teval-mlogloss:0.03070\n",
            "[86]\ttrain-mlogloss:0.07920\teval-mlogloss:0.03069\n",
            "[87]\ttrain-mlogloss:0.07865\teval-mlogloss:0.02909\n",
            "[88]\ttrain-mlogloss:0.07887\teval-mlogloss:0.02979\n",
            "[89]\ttrain-mlogloss:0.07900\teval-mlogloss:0.03044\n",
            "[90]\ttrain-mlogloss:0.07858\teval-mlogloss:0.03017\n"
          ]
        },
        {
          "output_type": "stream",
          "name": "stderr",
          "text": [
            "[I 2024-10-15 08:49:48,882] Trial 0 finished with value: 1.0 and parameters: {'lambda': 1.0111482773090117e-07, 'alpha': 0.04706373391916194, 'eta': 0.24792673541725777, 'gamma': 3.112866142089435e-07, 'max_depth': 8, 'min_child_weight': 2, 'subsample': 0.4902213264354834, 'colsample_bytree': 0.8967390740854699}. Best is trial 0 with value: 1.0.\n"
          ]
        },
        {
          "output_type": "stream",
          "name": "stdout",
          "text": [
            "[0]\ttrain-mlogloss:1.08430\teval-mlogloss:1.08853\n",
            "[1]\ttrain-mlogloss:1.07234\teval-mlogloss:1.07755\n",
            "[2]\ttrain-mlogloss:1.04607\teval-mlogloss:1.04909\n",
            "[3]\ttrain-mlogloss:1.03144\teval-mlogloss:1.03629\n",
            "[4]\ttrain-mlogloss:1.01090\teval-mlogloss:1.01439\n",
            "[5]\ttrain-mlogloss:0.98749\teval-mlogloss:0.98956\n",
            "[6]\ttrain-mlogloss:0.97169\teval-mlogloss:0.97271\n",
            "[7]\ttrain-mlogloss:0.94634\teval-mlogloss:0.94546\n",
            "[8]\ttrain-mlogloss:0.92951\teval-mlogloss:0.93102\n",
            "[9]\ttrain-mlogloss:0.91122\teval-mlogloss:0.91088\n",
            "[10]\ttrain-mlogloss:0.89318\teval-mlogloss:0.89279\n",
            "[11]\ttrain-mlogloss:0.87810\teval-mlogloss:0.87728\n",
            "[12]\ttrain-mlogloss:0.86093\teval-mlogloss:0.85937\n",
            "[13]\ttrain-mlogloss:0.84877\teval-mlogloss:0.84760\n",
            "[14]\ttrain-mlogloss:0.83843\teval-mlogloss:0.83856\n",
            "[15]\ttrain-mlogloss:0.82558\teval-mlogloss:0.82577\n",
            "[16]\ttrain-mlogloss:0.81416\teval-mlogloss:0.81345\n",
            "[17]\ttrain-mlogloss:0.80798\teval-mlogloss:0.81007\n",
            "[18]\ttrain-mlogloss:0.78820\teval-mlogloss:0.78957\n",
            "[19]\ttrain-mlogloss:0.77801\teval-mlogloss:0.77934\n",
            "[20]\ttrain-mlogloss:0.76859\teval-mlogloss:0.77062\n",
            "[21]\ttrain-mlogloss:0.75734\teval-mlogloss:0.75968\n",
            "[22]\ttrain-mlogloss:0.74785\teval-mlogloss:0.75140\n",
            "[23]\ttrain-mlogloss:0.73653\teval-mlogloss:0.73895\n",
            "[24]\ttrain-mlogloss:0.72564\teval-mlogloss:0.72744\n",
            "[25]\ttrain-mlogloss:0.71149\teval-mlogloss:0.71370\n",
            "[26]\ttrain-mlogloss:0.70044\teval-mlogloss:0.70219\n",
            "[27]\ttrain-mlogloss:0.68958\teval-mlogloss:0.69133\n",
            "[28]\ttrain-mlogloss:0.67401\teval-mlogloss:0.67411\n",
            "[29]\ttrain-mlogloss:0.66514\teval-mlogloss:0.66636\n",
            "[30]\ttrain-mlogloss:0.65944\teval-mlogloss:0.66318\n",
            "[31]\ttrain-mlogloss:0.65530\teval-mlogloss:0.66034\n",
            "[32]\ttrain-mlogloss:0.64169\teval-mlogloss:0.64477\n",
            "[33]\ttrain-mlogloss:0.63053\teval-mlogloss:0.63359\n",
            "[34]\ttrain-mlogloss:0.61671\teval-mlogloss:0.61814\n",
            "[35]\ttrain-mlogloss:0.60701\teval-mlogloss:0.60901\n",
            "[36]\ttrain-mlogloss:0.59927\teval-mlogloss:0.60128\n",
            "[37]\ttrain-mlogloss:0.58563\teval-mlogloss:0.58701\n",
            "[38]\ttrain-mlogloss:0.57330\teval-mlogloss:0.57325\n",
            "[39]\ttrain-mlogloss:0.56622\teval-mlogloss:0.56782\n",
            "[40]\ttrain-mlogloss:0.55551\teval-mlogloss:0.55539\n",
            "[41]\ttrain-mlogloss:0.54530\teval-mlogloss:0.54450\n",
            "[42]\ttrain-mlogloss:0.53695\teval-mlogloss:0.53627\n",
            "[43]\ttrain-mlogloss:0.53453\teval-mlogloss:0.53434\n",
            "[44]\ttrain-mlogloss:0.52344\teval-mlogloss:0.52191\n",
            "[45]\ttrain-mlogloss:0.51770\teval-mlogloss:0.51561\n",
            "[46]\ttrain-mlogloss:0.51045\teval-mlogloss:0.50800\n",
            "[47]\ttrain-mlogloss:0.49980\teval-mlogloss:0.49662\n",
            "[48]\ttrain-mlogloss:0.48951\teval-mlogloss:0.48449\n",
            "[49]\ttrain-mlogloss:0.48304\teval-mlogloss:0.47772\n",
            "[50]\ttrain-mlogloss:0.47929\teval-mlogloss:0.47297\n",
            "[51]\ttrain-mlogloss:0.47179\teval-mlogloss:0.46512\n",
            "[52]\ttrain-mlogloss:0.46343\teval-mlogloss:0.45600\n",
            "[53]\ttrain-mlogloss:0.45788\teval-mlogloss:0.45073\n",
            "[54]\ttrain-mlogloss:0.45052\teval-mlogloss:0.44267\n",
            "[55]\ttrain-mlogloss:0.44478\teval-mlogloss:0.43743\n",
            "[56]\ttrain-mlogloss:0.43821\teval-mlogloss:0.43072\n",
            "[57]\ttrain-mlogloss:0.43184\teval-mlogloss:0.42421\n",
            "[58]\ttrain-mlogloss:0.42726\teval-mlogloss:0.41911\n",
            "[59]\ttrain-mlogloss:0.42291\teval-mlogloss:0.41401\n",
            "[60]\ttrain-mlogloss:0.41606\teval-mlogloss:0.40644\n",
            "[61]\ttrain-mlogloss:0.41213\teval-mlogloss:0.40231\n",
            "[62]\ttrain-mlogloss:0.40600\teval-mlogloss:0.39631\n",
            "[63]\ttrain-mlogloss:0.39999\teval-mlogloss:0.38978\n",
            "[64]\ttrain-mlogloss:0.39427\teval-mlogloss:0.38438\n",
            "[65]\ttrain-mlogloss:0.38848\teval-mlogloss:0.37772\n",
            "[66]\ttrain-mlogloss:0.38247\teval-mlogloss:0.37133\n",
            "[67]\ttrain-mlogloss:0.37555\teval-mlogloss:0.36320\n",
            "[68]\ttrain-mlogloss:0.37238\teval-mlogloss:0.36110\n",
            "[69]\ttrain-mlogloss:0.36902\teval-mlogloss:0.35743\n",
            "[70]\ttrain-mlogloss:0.36521\teval-mlogloss:0.35388\n",
            "[71]\ttrain-mlogloss:0.36158\teval-mlogloss:0.34950\n",
            "[72]\ttrain-mlogloss:0.35816\teval-mlogloss:0.34682\n",
            "[73]\ttrain-mlogloss:0.35348\teval-mlogloss:0.34149\n",
            "[74]\ttrain-mlogloss:0.34807\teval-mlogloss:0.33566\n",
            "[75]\ttrain-mlogloss:0.34464\teval-mlogloss:0.33240\n",
            "[76]\ttrain-mlogloss:0.34021\teval-mlogloss:0.32764\n",
            "[77]\ttrain-mlogloss:0.33672\teval-mlogloss:0.32468\n",
            "[78]\ttrain-mlogloss:0.33082\teval-mlogloss:0.31719\n",
            "[79]\ttrain-mlogloss:0.32574\teval-mlogloss:0.31106\n",
            "[80]\ttrain-mlogloss:0.32270\teval-mlogloss:0.30866\n",
            "[81]\ttrain-mlogloss:0.31825\teval-mlogloss:0.30436\n",
            "[82]\ttrain-mlogloss:0.31450\teval-mlogloss:0.30057\n",
            "[83]\ttrain-mlogloss:0.31004\teval-mlogloss:0.29513\n",
            "[84]\ttrain-mlogloss:0.30597\teval-mlogloss:0.29081\n",
            "[85]\ttrain-mlogloss:0.30209\teval-mlogloss:0.28666\n",
            "[86]\ttrain-mlogloss:0.29800\teval-mlogloss:0.28196\n",
            "[87]\ttrain-mlogloss:0.29561\teval-mlogloss:0.28031\n",
            "[88]\ttrain-mlogloss:0.29300\teval-mlogloss:0.27774\n",
            "[89]\ttrain-mlogloss:0.29002\teval-mlogloss:0.27488\n",
            "[90]\ttrain-mlogloss:0.28886\teval-mlogloss:0.27348\n",
            "[91]\ttrain-mlogloss:0.28556\teval-mlogloss:0.26982\n",
            "[92]\ttrain-mlogloss:0.28273\teval-mlogloss:0.26687\n",
            "[93]\ttrain-mlogloss:0.27920\teval-mlogloss:0.26337\n",
            "[94]\ttrain-mlogloss:0.27567\teval-mlogloss:0.25921\n",
            "[95]\ttrain-mlogloss:0.27389\teval-mlogloss:0.25752\n",
            "[96]\ttrain-mlogloss:0.26996\teval-mlogloss:0.25266\n",
            "[97]\ttrain-mlogloss:0.26653\teval-mlogloss:0.24889\n",
            "[98]\ttrain-mlogloss:0.26214\teval-mlogloss:0.24337\n",
            "[99]\ttrain-mlogloss:0.25882\teval-mlogloss:0.23936\n",
            "[100]\ttrain-mlogloss:0.25567\teval-mlogloss:0.23613\n",
            "[101]\ttrain-mlogloss:0.25284\teval-mlogloss:0.23320\n",
            "[102]\ttrain-mlogloss:0.25087\teval-mlogloss:0.23097\n",
            "[103]\ttrain-mlogloss:0.24799\teval-mlogloss:0.22771\n",
            "[104]\ttrain-mlogloss:0.24414\teval-mlogloss:0.22285\n",
            "[105]\ttrain-mlogloss:0.24196\teval-mlogloss:0.21988\n",
            "[106]\ttrain-mlogloss:0.23800\teval-mlogloss:0.21499\n",
            "[107]\ttrain-mlogloss:0.23651\teval-mlogloss:0.21354\n",
            "[108]\ttrain-mlogloss:0.23399\teval-mlogloss:0.21082\n",
            "[109]\ttrain-mlogloss:0.23213\teval-mlogloss:0.20957\n",
            "[110]\ttrain-mlogloss:0.23003\teval-mlogloss:0.20721\n",
            "[111]\ttrain-mlogloss:0.22642\teval-mlogloss:0.20232\n",
            "[112]\ttrain-mlogloss:0.22393\teval-mlogloss:0.19983\n",
            "[113]\ttrain-mlogloss:0.22132\teval-mlogloss:0.19676\n",
            "[114]\ttrain-mlogloss:0.21771\teval-mlogloss:0.19239\n",
            "[115]\ttrain-mlogloss:0.21548\teval-mlogloss:0.19036\n",
            "[116]\ttrain-mlogloss:0.21398\teval-mlogloss:0.18921\n",
            "[117]\ttrain-mlogloss:0.21143\teval-mlogloss:0.18627\n",
            "[118]\ttrain-mlogloss:0.21000\teval-mlogloss:0.18477\n",
            "[119]\ttrain-mlogloss:0.20826\teval-mlogloss:0.18308\n",
            "[120]\ttrain-mlogloss:0.20559\teval-mlogloss:0.17997\n",
            "[121]\ttrain-mlogloss:0.20315\teval-mlogloss:0.17723\n",
            "[122]\ttrain-mlogloss:0.20253\teval-mlogloss:0.17742\n",
            "[123]\ttrain-mlogloss:0.20076\teval-mlogloss:0.17576\n",
            "[124]\ttrain-mlogloss:0.19959\teval-mlogloss:0.17498\n",
            "[125]\ttrain-mlogloss:0.19745\teval-mlogloss:0.17301\n",
            "[126]\ttrain-mlogloss:0.19671\teval-mlogloss:0.17263\n",
            "[127]\ttrain-mlogloss:0.19469\teval-mlogloss:0.17067\n",
            "[128]\ttrain-mlogloss:0.19313\teval-mlogloss:0.16903\n",
            "[129]\ttrain-mlogloss:0.19205\teval-mlogloss:0.16794\n",
            "[130]\ttrain-mlogloss:0.19028\teval-mlogloss:0.16643\n",
            "[131]\ttrain-mlogloss:0.18990\teval-mlogloss:0.16663\n",
            "[132]\ttrain-mlogloss:0.18950\teval-mlogloss:0.16638\n",
            "[133]\ttrain-mlogloss:0.18810\teval-mlogloss:0.16533\n",
            "[134]\ttrain-mlogloss:0.18692\teval-mlogloss:0.16421\n",
            "[135]\ttrain-mlogloss:0.18583\teval-mlogloss:0.16310\n",
            "[136]\ttrain-mlogloss:0.18432\teval-mlogloss:0.16123\n",
            "[137]\ttrain-mlogloss:0.18310\teval-mlogloss:0.16008\n",
            "[138]\ttrain-mlogloss:0.18136\teval-mlogloss:0.15851\n",
            "[139]\ttrain-mlogloss:0.18010\teval-mlogloss:0.15687\n",
            "[140]\ttrain-mlogloss:0.17914\teval-mlogloss:0.15604\n",
            "[141]\ttrain-mlogloss:0.17766\teval-mlogloss:0.15425\n",
            "[142]\ttrain-mlogloss:0.17590\teval-mlogloss:0.15212\n",
            "[143]\ttrain-mlogloss:0.17373\teval-mlogloss:0.14975\n",
            "[144]\ttrain-mlogloss:0.17164\teval-mlogloss:0.14723\n",
            "[145]\ttrain-mlogloss:0.17032\teval-mlogloss:0.14621\n",
            "[146]\ttrain-mlogloss:0.16920\teval-mlogloss:0.14554\n",
            "[147]\ttrain-mlogloss:0.16718\teval-mlogloss:0.14282\n",
            "[148]\ttrain-mlogloss:0.16504\teval-mlogloss:0.14006\n",
            "[149]\ttrain-mlogloss:0.16304\teval-mlogloss:0.13762\n",
            "[150]\ttrain-mlogloss:0.16198\teval-mlogloss:0.13659\n",
            "[151]\ttrain-mlogloss:0.16049\teval-mlogloss:0.13480\n",
            "[152]\ttrain-mlogloss:0.15969\teval-mlogloss:0.13396\n",
            "[153]\ttrain-mlogloss:0.15801\teval-mlogloss:0.13220\n",
            "[154]\ttrain-mlogloss:0.15717\teval-mlogloss:0.13191\n",
            "[155]\ttrain-mlogloss:0.15615\teval-mlogloss:0.13076\n",
            "[156]\ttrain-mlogloss:0.15463\teval-mlogloss:0.12883\n",
            "[157]\ttrain-mlogloss:0.15347\teval-mlogloss:0.12728\n",
            "[158]\ttrain-mlogloss:0.15183\teval-mlogloss:0.12502\n",
            "[159]\ttrain-mlogloss:0.15075\teval-mlogloss:0.12364\n",
            "[160]\ttrain-mlogloss:0.15001\teval-mlogloss:0.12352\n",
            "[161]\ttrain-mlogloss:0.14881\teval-mlogloss:0.12265\n",
            "[162]\ttrain-mlogloss:0.14770\teval-mlogloss:0.12106\n",
            "[163]\ttrain-mlogloss:0.14654\teval-mlogloss:0.11932\n",
            "[164]\ttrain-mlogloss:0.14569\teval-mlogloss:0.11897\n",
            "[165]\ttrain-mlogloss:0.14517\teval-mlogloss:0.11906\n",
            "[166]\ttrain-mlogloss:0.14388\teval-mlogloss:0.11771\n",
            "[167]\ttrain-mlogloss:0.14242\teval-mlogloss:0.11583\n",
            "[168]\ttrain-mlogloss:0.14108\teval-mlogloss:0.11425\n",
            "[169]\ttrain-mlogloss:0.14012\teval-mlogloss:0.11400\n",
            "[170]\ttrain-mlogloss:0.13931\teval-mlogloss:0.11338\n",
            "[171]\ttrain-mlogloss:0.13851\teval-mlogloss:0.11223\n",
            "[172]\ttrain-mlogloss:0.13746\teval-mlogloss:0.11083\n",
            "[173]\ttrain-mlogloss:0.13646\teval-mlogloss:0.11001\n",
            "[174]\ttrain-mlogloss:0.13616\teval-mlogloss:0.10997\n",
            "[175]\ttrain-mlogloss:0.13540\teval-mlogloss:0.10957\n",
            "[176]\ttrain-mlogloss:0.13400\teval-mlogloss:0.10769\n",
            "[177]\ttrain-mlogloss:0.13294\teval-mlogloss:0.10607\n",
            "[178]\ttrain-mlogloss:0.13211\teval-mlogloss:0.10518\n",
            "[179]\ttrain-mlogloss:0.13146\teval-mlogloss:0.10476\n",
            "[180]\ttrain-mlogloss:0.13076\teval-mlogloss:0.10429\n",
            "[181]\ttrain-mlogloss:0.12995\teval-mlogloss:0.10367\n",
            "[182]\ttrain-mlogloss:0.12924\teval-mlogloss:0.10256\n",
            "[183]\ttrain-mlogloss:0.12864\teval-mlogloss:0.10196\n",
            "[184]\ttrain-mlogloss:0.12801\teval-mlogloss:0.10132\n",
            "[185]\ttrain-mlogloss:0.12720\teval-mlogloss:0.10059\n",
            "[186]\ttrain-mlogloss:0.12611\teval-mlogloss:0.09920\n",
            "[187]\ttrain-mlogloss:0.12566\teval-mlogloss:0.09875\n",
            "[188]\ttrain-mlogloss:0.12525\teval-mlogloss:0.09919\n",
            "[189]\ttrain-mlogloss:0.12463\teval-mlogloss:0.09830\n",
            "[190]\ttrain-mlogloss:0.12414\teval-mlogloss:0.09817\n",
            "[191]\ttrain-mlogloss:0.12377\teval-mlogloss:0.09756\n",
            "[192]\ttrain-mlogloss:0.12285\teval-mlogloss:0.09610\n",
            "[193]\ttrain-mlogloss:0.12265\teval-mlogloss:0.09572\n",
            "[194]\ttrain-mlogloss:0.12249\teval-mlogloss:0.09528\n",
            "[195]\ttrain-mlogloss:0.12212\teval-mlogloss:0.09530\n",
            "[196]\ttrain-mlogloss:0.12144\teval-mlogloss:0.09482\n",
            "[197]\ttrain-mlogloss:0.12058\teval-mlogloss:0.09340\n",
            "[198]\ttrain-mlogloss:0.11963\teval-mlogloss:0.09248\n",
            "[199]\ttrain-mlogloss:0.11905\teval-mlogloss:0.09177\n",
            "[200]\ttrain-mlogloss:0.11842\teval-mlogloss:0.09076\n",
            "[201]\ttrain-mlogloss:0.11754\teval-mlogloss:0.08951\n",
            "[202]\ttrain-mlogloss:0.11677\teval-mlogloss:0.08881\n",
            "[203]\ttrain-mlogloss:0.11650\teval-mlogloss:0.08822\n",
            "[204]\ttrain-mlogloss:0.11597\teval-mlogloss:0.08800\n",
            "[205]\ttrain-mlogloss:0.11515\teval-mlogloss:0.08714\n",
            "[206]\ttrain-mlogloss:0.11470\teval-mlogloss:0.08687\n",
            "[207]\ttrain-mlogloss:0.11389\teval-mlogloss:0.08601\n",
            "[208]\ttrain-mlogloss:0.11323\teval-mlogloss:0.08507\n",
            "[209]\ttrain-mlogloss:0.11238\teval-mlogloss:0.08435\n",
            "[210]\ttrain-mlogloss:0.11173\teval-mlogloss:0.08337\n",
            "[211]\ttrain-mlogloss:0.11120\teval-mlogloss:0.08270\n",
            "[212]\ttrain-mlogloss:0.11076\teval-mlogloss:0.08225\n",
            "[213]\ttrain-mlogloss:0.11016\teval-mlogloss:0.08139\n",
            "[214]\ttrain-mlogloss:0.10972\teval-mlogloss:0.08096\n",
            "[215]\ttrain-mlogloss:0.10890\teval-mlogloss:0.07993\n",
            "[216]\ttrain-mlogloss:0.10872\teval-mlogloss:0.07994\n",
            "[217]\ttrain-mlogloss:0.10808\teval-mlogloss:0.07913\n",
            "[218]\ttrain-mlogloss:0.10754\teval-mlogloss:0.07824\n",
            "[219]\ttrain-mlogloss:0.10729\teval-mlogloss:0.07829\n",
            "[220]\ttrain-mlogloss:0.10687\teval-mlogloss:0.07787\n",
            "[221]\ttrain-mlogloss:0.10663\teval-mlogloss:0.07815\n",
            "[222]\ttrain-mlogloss:0.10646\teval-mlogloss:0.07830\n",
            "[223]\ttrain-mlogloss:0.10630\teval-mlogloss:0.07826\n",
            "[224]\ttrain-mlogloss:0.10591\teval-mlogloss:0.07820\n",
            "[225]\ttrain-mlogloss:0.10572\teval-mlogloss:0.07817\n",
            "[226]\ttrain-mlogloss:0.10525\teval-mlogloss:0.07708\n",
            "[227]\ttrain-mlogloss:0.10465\teval-mlogloss:0.07603\n",
            "[228]\ttrain-mlogloss:0.10409\teval-mlogloss:0.07536\n",
            "[229]\ttrain-mlogloss:0.10365\teval-mlogloss:0.07504\n",
            "[230]\ttrain-mlogloss:0.10329\teval-mlogloss:0.07458\n",
            "[231]\ttrain-mlogloss:0.10266\teval-mlogloss:0.07357\n",
            "[232]\ttrain-mlogloss:0.10211\teval-mlogloss:0.07262\n",
            "[233]\ttrain-mlogloss:0.10178\teval-mlogloss:0.07261\n",
            "[234]\ttrain-mlogloss:0.10166\teval-mlogloss:0.07237\n",
            "[235]\ttrain-mlogloss:0.10148\teval-mlogloss:0.07212\n",
            "[236]\ttrain-mlogloss:0.10118\teval-mlogloss:0.07183\n",
            "[237]\ttrain-mlogloss:0.10073\teval-mlogloss:0.07110\n",
            "[238]\ttrain-mlogloss:0.10046\teval-mlogloss:0.07070\n",
            "[239]\ttrain-mlogloss:0.09989\teval-mlogloss:0.06973\n",
            "[240]\ttrain-mlogloss:0.09927\teval-mlogloss:0.06848\n",
            "[241]\ttrain-mlogloss:0.09891\teval-mlogloss:0.06782\n",
            "[242]\ttrain-mlogloss:0.09866\teval-mlogloss:0.06788\n",
            "[243]\ttrain-mlogloss:0.09830\teval-mlogloss:0.06726\n",
            "[244]\ttrain-mlogloss:0.09823\teval-mlogloss:0.06710\n",
            "[245]\ttrain-mlogloss:0.09785\teval-mlogloss:0.06677\n",
            "[246]\ttrain-mlogloss:0.09780\teval-mlogloss:0.06677\n",
            "[247]\ttrain-mlogloss:0.09774\teval-mlogloss:0.06642\n",
            "[248]\ttrain-mlogloss:0.09724\teval-mlogloss:0.06562\n",
            "[249]\ttrain-mlogloss:0.09692\teval-mlogloss:0.06506\n",
            "[250]\ttrain-mlogloss:0.09671\teval-mlogloss:0.06481\n",
            "[251]\ttrain-mlogloss:0.09671\teval-mlogloss:0.06489\n",
            "[252]\ttrain-mlogloss:0.09646\teval-mlogloss:0.06471\n",
            "[253]\ttrain-mlogloss:0.09626\teval-mlogloss:0.06461\n",
            "[254]\ttrain-mlogloss:0.09603\teval-mlogloss:0.06508\n",
            "[255]\ttrain-mlogloss:0.09575\teval-mlogloss:0.06503\n",
            "[256]\ttrain-mlogloss:0.09537\teval-mlogloss:0.06415\n",
            "[257]\ttrain-mlogloss:0.09527\teval-mlogloss:0.06405\n",
            "[258]\ttrain-mlogloss:0.09521\teval-mlogloss:0.06412\n",
            "[259]\ttrain-mlogloss:0.09498\teval-mlogloss:0.06351\n",
            "[260]\ttrain-mlogloss:0.09495\teval-mlogloss:0.06350\n",
            "[261]\ttrain-mlogloss:0.09447\teval-mlogloss:0.06259\n",
            "[262]\ttrain-mlogloss:0.09441\teval-mlogloss:0.06251\n",
            "[263]\ttrain-mlogloss:0.09406\teval-mlogloss:0.06279\n",
            "[264]\ttrain-mlogloss:0.09388\teval-mlogloss:0.06279\n",
            "[265]\ttrain-mlogloss:0.09370\teval-mlogloss:0.06237\n",
            "[266]\ttrain-mlogloss:0.09345\teval-mlogloss:0.06221\n",
            "[267]\ttrain-mlogloss:0.09331\teval-mlogloss:0.06206\n",
            "[268]\ttrain-mlogloss:0.09321\teval-mlogloss:0.06219\n",
            "[269]\ttrain-mlogloss:0.09290\teval-mlogloss:0.06227\n",
            "[270]\ttrain-mlogloss:0.09250\teval-mlogloss:0.06187\n",
            "[271]\ttrain-mlogloss:0.09215\teval-mlogloss:0.06178\n",
            "[272]\ttrain-mlogloss:0.09185\teval-mlogloss:0.06131\n",
            "[273]\ttrain-mlogloss:0.09175\teval-mlogloss:0.06139\n",
            "[274]\ttrain-mlogloss:0.09142\teval-mlogloss:0.06084\n",
            "[275]\ttrain-mlogloss:0.09115\teval-mlogloss:0.06037\n",
            "[276]\ttrain-mlogloss:0.09086\teval-mlogloss:0.05991\n",
            "[277]\ttrain-mlogloss:0.09076\teval-mlogloss:0.06005\n",
            "[278]\ttrain-mlogloss:0.09055\teval-mlogloss:0.05982\n",
            "[279]\ttrain-mlogloss:0.09029\teval-mlogloss:0.05982\n",
            "[280]\ttrain-mlogloss:0.09014\teval-mlogloss:0.05962\n",
            "[281]\ttrain-mlogloss:0.09009\teval-mlogloss:0.05973\n",
            "[282]\ttrain-mlogloss:0.08979\teval-mlogloss:0.05926\n",
            "[283]\ttrain-mlogloss:0.08949\teval-mlogloss:0.05937\n",
            "[284]\ttrain-mlogloss:0.08959\teval-mlogloss:0.05961\n",
            "[285]\ttrain-mlogloss:0.08956\teval-mlogloss:0.05951\n",
            "[286]\ttrain-mlogloss:0.08914\teval-mlogloss:0.05890\n",
            "[287]\ttrain-mlogloss:0.08903\teval-mlogloss:0.05906\n",
            "[288]\ttrain-mlogloss:0.08863\teval-mlogloss:0.05887\n",
            "[289]\ttrain-mlogloss:0.08858\teval-mlogloss:0.05896\n",
            "[290]\ttrain-mlogloss:0.08817\teval-mlogloss:0.05830\n",
            "[291]\ttrain-mlogloss:0.08788\teval-mlogloss:0.05778\n",
            "[292]\ttrain-mlogloss:0.08758\teval-mlogloss:0.05772\n",
            "[293]\ttrain-mlogloss:0.08761\teval-mlogloss:0.05762\n",
            "[294]\ttrain-mlogloss:0.08730\teval-mlogloss:0.05708\n",
            "[295]\ttrain-mlogloss:0.08700\teval-mlogloss:0.05668\n",
            "[296]\ttrain-mlogloss:0.08700\teval-mlogloss:0.05657\n",
            "[297]\ttrain-mlogloss:0.08675\teval-mlogloss:0.05613\n",
            "[298]\ttrain-mlogloss:0.08654\teval-mlogloss:0.05597\n",
            "[299]\ttrain-mlogloss:0.08641\teval-mlogloss:0.05558\n"
          ]
        },
        {
          "output_type": "stream",
          "name": "stderr",
          "text": [
            "[I 2024-10-15 08:49:56,061] Trial 1 finished with value: 1.0 and parameters: {'lambda': 1.0660504863082756e-05, 'alpha': 2.2407555438140258e-07, 'eta': 0.02335916529785323, 'gamma': 0.059161811752074744, 'max_depth': 3, 'min_child_weight': 1, 'subsample': 0.4725625385689246, 'colsample_bytree': 0.47107449406497526}. Best is trial 0 with value: 1.0.\n"
          ]
        },
        {
          "output_type": "stream",
          "name": "stdout",
          "text": [
            "[0]\ttrain-mlogloss:1.04093\teval-mlogloss:1.03940\n",
            "[1]\ttrain-mlogloss:0.99011\teval-mlogloss:0.98825\n"
          ]
        },
        {
          "output_type": "stream",
          "name": "stderr",
          "text": [
            "[I 2024-10-15 08:49:56,102] Trial 2 pruned. Trial was pruned at iteration 1.\n"
          ]
        },
        {
          "output_type": "stream",
          "name": "stdout",
          "text": [
            "[0]\ttrain-mlogloss:0.89563\teval-mlogloss:0.90167\n"
          ]
        },
        {
          "output_type": "stream",
          "name": "stderr",
          "text": [
            "[I 2024-10-15 08:49:56,138] Trial 3 pruned. Trial was pruned at iteration 1.\n"
          ]
        },
        {
          "output_type": "stream",
          "name": "stdout",
          "text": [
            "[0]\ttrain-mlogloss:0.88639\teval-mlogloss:0.88285\n",
            "[1]\ttrain-mlogloss:0.73121\teval-mlogloss:0.74322\n"
          ]
        },
        {
          "output_type": "stream",
          "name": "stderr",
          "text": [
            "[I 2024-10-15 08:49:56,172] Trial 4 pruned. Trial was pruned at iteration 1.\n"
          ]
        },
        {
          "output_type": "stream",
          "name": "stdout",
          "text": [
            "[0]\ttrain-mlogloss:0.89343\teval-mlogloss:0.90391\n",
            "[1]\ttrain-mlogloss:0.73361\teval-mlogloss:0.73139\n"
          ]
        },
        {
          "output_type": "stream",
          "name": "stderr",
          "text": [
            "[I 2024-10-15 08:49:56,206] Trial 5 pruned. Trial was pruned at iteration 1.\n"
          ]
        },
        {
          "output_type": "stream",
          "name": "stdout",
          "text": [
            "[0]\ttrain-mlogloss:0.94592\teval-mlogloss:0.95085\n"
          ]
        },
        {
          "output_type": "stream",
          "name": "stderr",
          "text": [
            "[I 2024-10-15 08:49:56,289] Trial 6 pruned. Trial was pruned at iteration 1.\n"
          ]
        },
        {
          "output_type": "stream",
          "name": "stdout",
          "text": [
            "[0]\ttrain-mlogloss:0.98662\teval-mlogloss:0.98548\n"
          ]
        },
        {
          "output_type": "stream",
          "name": "stderr",
          "text": [
            "[I 2024-10-15 08:49:56,323] Trial 7 pruned. Trial was pruned at iteration 1.\n"
          ]
        },
        {
          "output_type": "stream",
          "name": "stdout",
          "text": [
            "[0]\ttrain-mlogloss:0.89246\teval-mlogloss:0.89526\n"
          ]
        },
        {
          "output_type": "stream",
          "name": "stderr",
          "text": [
            "[I 2024-10-15 08:49:56,344] Trial 8 pruned. Trial was pruned at iteration 1.\n"
          ]
        },
        {
          "output_type": "stream",
          "name": "stdout",
          "text": [
            "[0]\ttrain-mlogloss:0.84251\teval-mlogloss:0.83905\n"
          ]
        },
        {
          "output_type": "stream",
          "name": "stderr",
          "text": [
            "[I 2024-10-15 08:49:56,366] Trial 9 pruned. Trial was pruned at iteration 1.\n"
          ]
        },
        {
          "output_type": "stream",
          "name": "stdout",
          "text": [
            "[0]\ttrain-mlogloss:0.76639\teval-mlogloss:0.75699\n"
          ]
        },
        {
          "output_type": "stream",
          "name": "stderr",
          "text": [
            "[I 2024-10-15 08:49:56,799] Trial 10 pruned. Trial was pruned at iteration 1.\n"
          ]
        },
        {
          "output_type": "stream",
          "name": "stdout",
          "text": [
            "[0]\ttrain-mlogloss:1.09321\teval-mlogloss:1.09406\n",
            "[1]\ttrain-mlogloss:1.08860\teval-mlogloss:1.08962\n",
            "[2]\ttrain-mlogloss:1.07696\teval-mlogloss:1.07720\n",
            "[3]\ttrain-mlogloss:1.07108\teval-mlogloss:1.07183\n",
            "[4]\ttrain-mlogloss:1.06169\teval-mlogloss:1.06149\n",
            "[5]\ttrain-mlogloss:1.05060\teval-mlogloss:1.04929\n",
            "[6]\ttrain-mlogloss:1.04331\teval-mlogloss:1.04122\n",
            "[7]\ttrain-mlogloss:1.03101\teval-mlogloss:1.02818\n",
            "[8]\ttrain-mlogloss:1.02330\teval-mlogloss:1.02088\n",
            "[9]\ttrain-mlogloss:1.01421\teval-mlogloss:1.01065\n",
            "[10]\ttrain-mlogloss:1.00470\teval-mlogloss:1.00113\n",
            "[11]\ttrain-mlogloss:0.99706\teval-mlogloss:0.99267\n",
            "[12]\ttrain-mlogloss:0.98797\teval-mlogloss:0.98346\n",
            "[13]\ttrain-mlogloss:0.98133\teval-mlogloss:0.97590\n",
            "[14]\ttrain-mlogloss:0.97578\teval-mlogloss:0.97078\n",
            "[15]\ttrain-mlogloss:0.96920\teval-mlogloss:0.96450\n",
            "[16]\ttrain-mlogloss:0.96285\teval-mlogloss:0.95756\n",
            "[17]\ttrain-mlogloss:0.95936\teval-mlogloss:0.95557\n",
            "[18]\ttrain-mlogloss:0.94793\teval-mlogloss:0.94382\n",
            "[19]\ttrain-mlogloss:0.94200\teval-mlogloss:0.93766\n",
            "[20]\ttrain-mlogloss:0.93664\teval-mlogloss:0.93277\n",
            "[21]\ttrain-mlogloss:0.92987\teval-mlogloss:0.92623\n",
            "[22]\ttrain-mlogloss:0.92435\teval-mlogloss:0.92150\n",
            "[23]\ttrain-mlogloss:0.91789\teval-mlogloss:0.91444\n",
            "[24]\ttrain-mlogloss:0.91173\teval-mlogloss:0.90782\n",
            "[25]\ttrain-mlogloss:0.90311\teval-mlogloss:0.89867\n",
            "[26]\ttrain-mlogloss:0.89632\teval-mlogloss:0.89175\n",
            "[27]\ttrain-mlogloss:0.89014\teval-mlogloss:0.88559\n",
            "[28]\ttrain-mlogloss:0.88029\teval-mlogloss:0.87526\n",
            "[29]\ttrain-mlogloss:0.87487\teval-mlogloss:0.86898\n",
            "[30]\ttrain-mlogloss:0.87111\teval-mlogloss:0.86577\n",
            "[31]\ttrain-mlogloss:0.86872\teval-mlogloss:0.86428\n",
            "[32]\ttrain-mlogloss:0.86009\teval-mlogloss:0.85476\n",
            "[33]\ttrain-mlogloss:0.85259\teval-mlogloss:0.84724\n",
            "[34]\ttrain-mlogloss:0.84335\teval-mlogloss:0.83716\n",
            "[35]\ttrain-mlogloss:0.83682\teval-mlogloss:0.83028\n",
            "[36]\ttrain-mlogloss:0.83138\teval-mlogloss:0.82539\n",
            "[37]\ttrain-mlogloss:0.82188\teval-mlogloss:0.81551\n",
            "[38]\ttrain-mlogloss:0.81316\teval-mlogloss:0.80613\n",
            "[39]\ttrain-mlogloss:0.80811\teval-mlogloss:0.80138\n",
            "[40]\ttrain-mlogloss:0.80063\teval-mlogloss:0.79312\n",
            "[41]\ttrain-mlogloss:0.79373\teval-mlogloss:0.78627\n",
            "[42]\ttrain-mlogloss:0.78769\teval-mlogloss:0.78001\n",
            "[43]\ttrain-mlogloss:0.78610\teval-mlogloss:0.77891\n",
            "[44]\ttrain-mlogloss:0.77773\teval-mlogloss:0.76985\n",
            "[45]\ttrain-mlogloss:0.77318\teval-mlogloss:0.76503\n",
            "[46]\ttrain-mlogloss:0.76823\teval-mlogloss:0.75970\n",
            "[47]\ttrain-mlogloss:0.76002\teval-mlogloss:0.75114\n",
            "[48]\ttrain-mlogloss:0.75195\teval-mlogloss:0.74215\n",
            "[49]\ttrain-mlogloss:0.74678\teval-mlogloss:0.73689\n",
            "[50]\ttrain-mlogloss:0.74362\teval-mlogloss:0.73396\n",
            "[51]\ttrain-mlogloss:0.73782\teval-mlogloss:0.72788\n",
            "[52]\ttrain-mlogloss:0.73119\teval-mlogloss:0.72111\n",
            "[53]\ttrain-mlogloss:0.72711\teval-mlogloss:0.71725\n",
            "[54]\ttrain-mlogloss:0.72118\teval-mlogloss:0.71111\n",
            "[55]\ttrain-mlogloss:0.71640\teval-mlogloss:0.70635\n",
            "[56]\ttrain-mlogloss:0.71125\teval-mlogloss:0.70083\n",
            "[57]\ttrain-mlogloss:0.70615\teval-mlogloss:0.69529\n",
            "[58]\ttrain-mlogloss:0.70236\teval-mlogloss:0.69129\n",
            "[59]\ttrain-mlogloss:0.69889\teval-mlogloss:0.68734\n",
            "[60]\ttrain-mlogloss:0.69283\teval-mlogloss:0.68062\n",
            "[61]\ttrain-mlogloss:0.68925\teval-mlogloss:0.67699\n",
            "[62]\ttrain-mlogloss:0.68442\teval-mlogloss:0.67181\n",
            "[63]\ttrain-mlogloss:0.67891\teval-mlogloss:0.66540\n",
            "[64]\ttrain-mlogloss:0.67412\teval-mlogloss:0.66018\n",
            "[65]\ttrain-mlogloss:0.66916\teval-mlogloss:0.65484\n",
            "[66]\ttrain-mlogloss:0.66382\teval-mlogloss:0.64891\n",
            "[67]\ttrain-mlogloss:0.65729\teval-mlogloss:0.64164\n",
            "[68]\ttrain-mlogloss:0.65439\teval-mlogloss:0.63900\n",
            "[69]\ttrain-mlogloss:0.65124\teval-mlogloss:0.63621\n",
            "[70]\ttrain-mlogloss:0.64751\teval-mlogloss:0.63214\n",
            "[71]\ttrain-mlogloss:0.64391\teval-mlogloss:0.62863\n",
            "[72]\ttrain-mlogloss:0.64053\teval-mlogloss:0.62557\n",
            "[73]\ttrain-mlogloss:0.63644\teval-mlogloss:0.62134\n",
            "[74]\ttrain-mlogloss:0.63126\teval-mlogloss:0.61574\n",
            "[75]\ttrain-mlogloss:0.62762\teval-mlogloss:0.61216\n",
            "[76]\ttrain-mlogloss:0.62338\teval-mlogloss:0.60773\n",
            "[77]\ttrain-mlogloss:0.61993\teval-mlogloss:0.60442\n",
            "[78]\ttrain-mlogloss:0.61442\teval-mlogloss:0.59825\n",
            "[79]\ttrain-mlogloss:0.60937\teval-mlogloss:0.59275\n",
            "[80]\ttrain-mlogloss:0.60611\teval-mlogloss:0.58919\n",
            "[81]\ttrain-mlogloss:0.60178\teval-mlogloss:0.58436\n",
            "[82]\ttrain-mlogloss:0.59791\teval-mlogloss:0.58024\n",
            "[83]\ttrain-mlogloss:0.59321\teval-mlogloss:0.57486\n",
            "[84]\ttrain-mlogloss:0.58902\teval-mlogloss:0.57068\n",
            "[85]\ttrain-mlogloss:0.58504\teval-mlogloss:0.56646\n",
            "[86]\ttrain-mlogloss:0.58060\teval-mlogloss:0.56200\n",
            "[87]\ttrain-mlogloss:0.57789\teval-mlogloss:0.55946\n",
            "[88]\ttrain-mlogloss:0.57495\teval-mlogloss:0.55644\n",
            "[89]\ttrain-mlogloss:0.57136\teval-mlogloss:0.55297\n",
            "[90]\ttrain-mlogloss:0.56975\teval-mlogloss:0.55166\n",
            "[91]\ttrain-mlogloss:0.56599\teval-mlogloss:0.54761\n",
            "[92]\ttrain-mlogloss:0.56259\teval-mlogloss:0.54396\n",
            "[93]\ttrain-mlogloss:0.55873\teval-mlogloss:0.53995\n",
            "[94]\ttrain-mlogloss:0.55460\teval-mlogloss:0.53536\n",
            "[95]\ttrain-mlogloss:0.55274\teval-mlogloss:0.53319\n",
            "[96]\ttrain-mlogloss:0.54819\teval-mlogloss:0.52802\n",
            "[97]\ttrain-mlogloss:0.54431\teval-mlogloss:0.52381\n",
            "[98]\ttrain-mlogloss:0.53933\teval-mlogloss:0.51819\n",
            "[99]\ttrain-mlogloss:0.53549\teval-mlogloss:0.51391\n",
            "[100]\ttrain-mlogloss:0.53157\teval-mlogloss:0.51006\n",
            "[101]\ttrain-mlogloss:0.52785\teval-mlogloss:0.50633\n",
            "[102]\ttrain-mlogloss:0.52552\teval-mlogloss:0.50394\n",
            "[103]\ttrain-mlogloss:0.52224\teval-mlogloss:0.50064\n",
            "[104]\ttrain-mlogloss:0.51739\teval-mlogloss:0.49522\n",
            "[105]\ttrain-mlogloss:0.51496\teval-mlogloss:0.49276\n",
            "[106]\ttrain-mlogloss:0.51025\teval-mlogloss:0.48761\n",
            "[107]\ttrain-mlogloss:0.50809\teval-mlogloss:0.48549\n",
            "[108]\ttrain-mlogloss:0.50494\teval-mlogloss:0.48227\n",
            "[109]\ttrain-mlogloss:0.50294\teval-mlogloss:0.48002\n",
            "[110]\ttrain-mlogloss:0.50040\teval-mlogloss:0.47729\n",
            "[111]\ttrain-mlogloss:0.49564\teval-mlogloss:0.47185\n",
            "[112]\ttrain-mlogloss:0.49242\teval-mlogloss:0.46817\n",
            "[113]\ttrain-mlogloss:0.48907\teval-mlogloss:0.46460\n",
            "[114]\ttrain-mlogloss:0.48448\teval-mlogloss:0.45964\n",
            "[115]\ttrain-mlogloss:0.48148\teval-mlogloss:0.45668\n",
            "[116]\ttrain-mlogloss:0.47970\teval-mlogloss:0.45486\n",
            "[117]\ttrain-mlogloss:0.47624\teval-mlogloss:0.45119\n",
            "[118]\ttrain-mlogloss:0.47456\teval-mlogloss:0.44935\n",
            "[119]\ttrain-mlogloss:0.47218\teval-mlogloss:0.44694\n",
            "[120]\ttrain-mlogloss:0.46860\teval-mlogloss:0.44300\n",
            "[121]\ttrain-mlogloss:0.46532\teval-mlogloss:0.43931\n",
            "[122]\ttrain-mlogloss:0.46469\teval-mlogloss:0.43904\n",
            "[123]\ttrain-mlogloss:0.46229\teval-mlogloss:0.43632\n",
            "[124]\ttrain-mlogloss:0.46074\teval-mlogloss:0.43469\n",
            "[125]\ttrain-mlogloss:0.45774\teval-mlogloss:0.43121\n",
            "[126]\ttrain-mlogloss:0.45637\teval-mlogloss:0.42969\n",
            "[127]\ttrain-mlogloss:0.45368\teval-mlogloss:0.42694\n",
            "[128]\ttrain-mlogloss:0.45148\teval-mlogloss:0.42477\n",
            "[129]\ttrain-mlogloss:0.44952\teval-mlogloss:0.42274\n",
            "[130]\ttrain-mlogloss:0.44688\teval-mlogloss:0.41994\n",
            "[131]\ttrain-mlogloss:0.44647\teval-mlogloss:0.41972\n",
            "[132]\ttrain-mlogloss:0.44564\teval-mlogloss:0.41905\n",
            "[133]\ttrain-mlogloss:0.44400\teval-mlogloss:0.41747\n",
            "[134]\ttrain-mlogloss:0.44254\teval-mlogloss:0.41618\n",
            "[135]\ttrain-mlogloss:0.44104\teval-mlogloss:0.41469\n",
            "[136]\ttrain-mlogloss:0.43859\teval-mlogloss:0.41200\n",
            "[137]\ttrain-mlogloss:0.43668\teval-mlogloss:0.41005\n",
            "[138]\ttrain-mlogloss:0.43430\teval-mlogloss:0.40745\n",
            "[139]\ttrain-mlogloss:0.43264\teval-mlogloss:0.40572\n",
            "[140]\ttrain-mlogloss:0.43150\teval-mlogloss:0.40445\n",
            "[141]\ttrain-mlogloss:0.42935\teval-mlogloss:0.40197\n",
            "[142]\ttrain-mlogloss:0.42682\teval-mlogloss:0.39901\n",
            "[143]\ttrain-mlogloss:0.42339\teval-mlogloss:0.39515\n",
            "[144]\ttrain-mlogloss:0.42047\teval-mlogloss:0.39190\n",
            "[145]\ttrain-mlogloss:0.41810\teval-mlogloss:0.38972\n",
            "[146]\ttrain-mlogloss:0.41657\teval-mlogloss:0.38831\n",
            "[147]\ttrain-mlogloss:0.41338\teval-mlogloss:0.38460\n",
            "[148]\ttrain-mlogloss:0.40999\teval-mlogloss:0.38089\n",
            "[149]\ttrain-mlogloss:0.40664\teval-mlogloss:0.37722\n",
            "[150]\ttrain-mlogloss:0.40498\teval-mlogloss:0.37550\n",
            "[151]\ttrain-mlogloss:0.40254\teval-mlogloss:0.37272\n",
            "[152]\ttrain-mlogloss:0.40084\teval-mlogloss:0.37102\n",
            "[153]\ttrain-mlogloss:0.39799\teval-mlogloss:0.36788\n",
            "[154]\ttrain-mlogloss:0.39699\teval-mlogloss:0.36696\n",
            "[155]\ttrain-mlogloss:0.39521\teval-mlogloss:0.36516\n",
            "[156]\ttrain-mlogloss:0.39275\teval-mlogloss:0.36235\n",
            "[157]\ttrain-mlogloss:0.39069\teval-mlogloss:0.36014\n",
            "[158]\ttrain-mlogloss:0.38778\teval-mlogloss:0.35666\n",
            "[159]\ttrain-mlogloss:0.38566\teval-mlogloss:0.35412\n",
            "[160]\ttrain-mlogloss:0.38433\teval-mlogloss:0.35259\n",
            "[161]\ttrain-mlogloss:0.38251\teval-mlogloss:0.35055\n",
            "[162]\ttrain-mlogloss:0.38041\teval-mlogloss:0.34808\n",
            "[163]\ttrain-mlogloss:0.37829\teval-mlogloss:0.34547\n",
            "[164]\ttrain-mlogloss:0.37692\teval-mlogloss:0.34377\n",
            "[165]\ttrain-mlogloss:0.37585\teval-mlogloss:0.34264\n",
            "[166]\ttrain-mlogloss:0.37385\teval-mlogloss:0.34051\n",
            "[167]\ttrain-mlogloss:0.37114\teval-mlogloss:0.33753\n",
            "[168]\ttrain-mlogloss:0.36869\teval-mlogloss:0.33481\n",
            "[169]\ttrain-mlogloss:0.36761\teval-mlogloss:0.33385\n",
            "[170]\ttrain-mlogloss:0.36607\teval-mlogloss:0.33194\n",
            "[171]\ttrain-mlogloss:0.36460\teval-mlogloss:0.33017\n",
            "[172]\ttrain-mlogloss:0.36230\teval-mlogloss:0.32768\n",
            "[173]\ttrain-mlogloss:0.36052\teval-mlogloss:0.32583\n",
            "[174]\ttrain-mlogloss:0.36004\teval-mlogloss:0.32537\n",
            "[175]\ttrain-mlogloss:0.35898\teval-mlogloss:0.32423\n",
            "[176]\ttrain-mlogloss:0.35622\teval-mlogloss:0.32107\n",
            "[177]\ttrain-mlogloss:0.35442\teval-mlogloss:0.31872\n",
            "[178]\ttrain-mlogloss:0.35279\teval-mlogloss:0.31692\n",
            "[179]\ttrain-mlogloss:0.35142\teval-mlogloss:0.31547\n",
            "[180]\ttrain-mlogloss:0.35008\teval-mlogloss:0.31415\n",
            "[181]\ttrain-mlogloss:0.34856\teval-mlogloss:0.31265\n",
            "[182]\ttrain-mlogloss:0.34680\teval-mlogloss:0.31052\n",
            "[183]\ttrain-mlogloss:0.34493\teval-mlogloss:0.30836\n",
            "[184]\ttrain-mlogloss:0.34362\teval-mlogloss:0.30689\n",
            "[185]\ttrain-mlogloss:0.34180\teval-mlogloss:0.30492\n",
            "[186]\ttrain-mlogloss:0.33932\teval-mlogloss:0.30201\n",
            "[187]\ttrain-mlogloss:0.33837\teval-mlogloss:0.30106\n",
            "[188]\ttrain-mlogloss:0.33813\teval-mlogloss:0.30087\n",
            "[189]\ttrain-mlogloss:0.33668\teval-mlogloss:0.29918\n",
            "[190]\ttrain-mlogloss:0.33557\teval-mlogloss:0.29795\n",
            "[191]\ttrain-mlogloss:0.33463\teval-mlogloss:0.29687\n",
            "[192]\ttrain-mlogloss:0.33295\teval-mlogloss:0.29469\n",
            "[193]\ttrain-mlogloss:0.33242\teval-mlogloss:0.29407\n",
            "[194]\ttrain-mlogloss:0.33182\teval-mlogloss:0.29311\n",
            "[195]\ttrain-mlogloss:0.33102\teval-mlogloss:0.29216\n",
            "[196]\ttrain-mlogloss:0.32976\teval-mlogloss:0.29064\n",
            "[197]\ttrain-mlogloss:0.32773\teval-mlogloss:0.28807\n",
            "[198]\ttrain-mlogloss:0.32613\teval-mlogloss:0.28634\n",
            "[199]\ttrain-mlogloss:0.32468\teval-mlogloss:0.28476\n",
            "[200]\ttrain-mlogloss:0.32333\teval-mlogloss:0.28315\n",
            "[201]\ttrain-mlogloss:0.32115\teval-mlogloss:0.28046\n",
            "[202]\ttrain-mlogloss:0.31906\teval-mlogloss:0.27794\n",
            "[203]\ttrain-mlogloss:0.31787\teval-mlogloss:0.27649\n",
            "[204]\ttrain-mlogloss:0.31710\teval-mlogloss:0.27569\n",
            "[205]\ttrain-mlogloss:0.31552\teval-mlogloss:0.27387\n",
            "[206]\ttrain-mlogloss:0.31453\teval-mlogloss:0.27278\n",
            "[207]\ttrain-mlogloss:0.31300\teval-mlogloss:0.27110\n",
            "[208]\ttrain-mlogloss:0.31146\teval-mlogloss:0.26948\n",
            "[209]\ttrain-mlogloss:0.30924\teval-mlogloss:0.26705\n",
            "[210]\ttrain-mlogloss:0.30807\teval-mlogloss:0.26565\n",
            "[211]\ttrain-mlogloss:0.30705\teval-mlogloss:0.26447\n",
            "[212]\ttrain-mlogloss:0.30615\teval-mlogloss:0.26349\n",
            "[213]\ttrain-mlogloss:0.30465\teval-mlogloss:0.26175\n",
            "[214]\ttrain-mlogloss:0.30332\teval-mlogloss:0.26033\n",
            "[215]\ttrain-mlogloss:0.30144\teval-mlogloss:0.25803\n",
            "[216]\ttrain-mlogloss:0.30093\teval-mlogloss:0.25742\n",
            "[217]\ttrain-mlogloss:0.29948\teval-mlogloss:0.25575\n",
            "[218]\ttrain-mlogloss:0.29816\teval-mlogloss:0.25424\n",
            "[219]\ttrain-mlogloss:0.29766\teval-mlogloss:0.25365\n",
            "[220]\ttrain-mlogloss:0.29678\teval-mlogloss:0.25254\n",
            "[221]\ttrain-mlogloss:0.29654\teval-mlogloss:0.25234\n",
            "[222]\ttrain-mlogloss:0.29637\teval-mlogloss:0.25219\n",
            "[223]\ttrain-mlogloss:0.29595\teval-mlogloss:0.25176\n",
            "[224]\ttrain-mlogloss:0.29525\teval-mlogloss:0.25106\n",
            "[225]\ttrain-mlogloss:0.29491\teval-mlogloss:0.25065\n",
            "[226]\ttrain-mlogloss:0.29368\teval-mlogloss:0.24908\n",
            "[227]\ttrain-mlogloss:0.29198\teval-mlogloss:0.24700\n",
            "[228]\ttrain-mlogloss:0.29072\teval-mlogloss:0.24544\n",
            "[229]\ttrain-mlogloss:0.28934\teval-mlogloss:0.24386\n",
            "[230]\ttrain-mlogloss:0.28865\teval-mlogloss:0.24336\n",
            "[231]\ttrain-mlogloss:0.28713\teval-mlogloss:0.24163\n",
            "[232]\ttrain-mlogloss:0.28567\teval-mlogloss:0.23999\n",
            "[233]\ttrain-mlogloss:0.28504\teval-mlogloss:0.23934\n",
            "[234]\ttrain-mlogloss:0.28425\teval-mlogloss:0.23843\n",
            "[235]\ttrain-mlogloss:0.28348\teval-mlogloss:0.23747\n",
            "[236]\ttrain-mlogloss:0.28247\teval-mlogloss:0.23630\n",
            "[237]\ttrain-mlogloss:0.28158\teval-mlogloss:0.23522\n",
            "[238]\ttrain-mlogloss:0.27999\teval-mlogloss:0.23347\n",
            "[239]\ttrain-mlogloss:0.27843\teval-mlogloss:0.23158\n",
            "[240]\ttrain-mlogloss:0.27711\teval-mlogloss:0.22992\n",
            "[241]\ttrain-mlogloss:0.27592\teval-mlogloss:0.22866\n",
            "[242]\ttrain-mlogloss:0.27536\teval-mlogloss:0.22802\n",
            "[243]\ttrain-mlogloss:0.27455\teval-mlogloss:0.22720\n",
            "[244]\ttrain-mlogloss:0.27356\teval-mlogloss:0.22612\n",
            "[245]\ttrain-mlogloss:0.27308\teval-mlogloss:0.22557\n",
            "[246]\ttrain-mlogloss:0.27234\teval-mlogloss:0.22476\n",
            "[247]\ttrain-mlogloss:0.27161\teval-mlogloss:0.22397\n",
            "[248]\ttrain-mlogloss:0.27065\teval-mlogloss:0.22279\n",
            "[249]\ttrain-mlogloss:0.26951\teval-mlogloss:0.22158\n",
            "[250]\ttrain-mlogloss:0.26830\teval-mlogloss:0.22027\n",
            "[251]\ttrain-mlogloss:0.26816\teval-mlogloss:0.22005\n",
            "[252]\ttrain-mlogloss:0.26707\teval-mlogloss:0.21878\n",
            "[253]\ttrain-mlogloss:0.26630\teval-mlogloss:0.21802\n",
            "[254]\ttrain-mlogloss:0.26572\teval-mlogloss:0.21744\n",
            "[255]\ttrain-mlogloss:0.26553\teval-mlogloss:0.21736\n",
            "[256]\ttrain-mlogloss:0.26426\teval-mlogloss:0.21582\n",
            "[257]\ttrain-mlogloss:0.26335\teval-mlogloss:0.21484\n",
            "[258]\ttrain-mlogloss:0.26241\teval-mlogloss:0.21382\n",
            "[259]\ttrain-mlogloss:0.26169\teval-mlogloss:0.21308\n",
            "[260]\ttrain-mlogloss:0.26112\teval-mlogloss:0.21252\n",
            "[261]\ttrain-mlogloss:0.26025\teval-mlogloss:0.21154\n",
            "[262]\ttrain-mlogloss:0.26025\teval-mlogloss:0.21154\n",
            "[263]\ttrain-mlogloss:0.25997\teval-mlogloss:0.21127\n",
            "[264]\ttrain-mlogloss:0.25975\teval-mlogloss:0.21105\n",
            "[265]\ttrain-mlogloss:0.25889\teval-mlogloss:0.21002\n",
            "[266]\ttrain-mlogloss:0.25809\teval-mlogloss:0.20922\n",
            "[267]\ttrain-mlogloss:0.25713\teval-mlogloss:0.20815\n",
            "[268]\ttrain-mlogloss:0.25713\teval-mlogloss:0.20815\n",
            "[269]\ttrain-mlogloss:0.25661\teval-mlogloss:0.20745\n",
            "[270]\ttrain-mlogloss:0.25552\teval-mlogloss:0.20637\n",
            "[271]\ttrain-mlogloss:0.25502\teval-mlogloss:0.20607\n",
            "[272]\ttrain-mlogloss:0.25398\teval-mlogloss:0.20469\n",
            "[273]\ttrain-mlogloss:0.25388\teval-mlogloss:0.20449\n",
            "[274]\ttrain-mlogloss:0.25304\teval-mlogloss:0.20341\n",
            "[275]\ttrain-mlogloss:0.25252\teval-mlogloss:0.20275\n",
            "[276]\ttrain-mlogloss:0.25192\teval-mlogloss:0.20224\n",
            "[277]\ttrain-mlogloss:0.25143\teval-mlogloss:0.20172\n",
            "[278]\ttrain-mlogloss:0.25130\teval-mlogloss:0.20155\n",
            "[279]\ttrain-mlogloss:0.25065\teval-mlogloss:0.20084\n",
            "[280]\ttrain-mlogloss:0.24992\teval-mlogloss:0.19994\n",
            "[281]\ttrain-mlogloss:0.24940\teval-mlogloss:0.19942\n",
            "[282]\ttrain-mlogloss:0.24869\teval-mlogloss:0.19858\n",
            "[283]\ttrain-mlogloss:0.24831\teval-mlogloss:0.19831\n",
            "[284]\ttrain-mlogloss:0.24784\teval-mlogloss:0.19771\n",
            "[285]\ttrain-mlogloss:0.24737\teval-mlogloss:0.19723\n",
            "[286]\ttrain-mlogloss:0.24627\teval-mlogloss:0.19595\n",
            "[287]\ttrain-mlogloss:0.24621\teval-mlogloss:0.19596\n",
            "[288]\ttrain-mlogloss:0.24571\teval-mlogloss:0.19545\n",
            "[289]\ttrain-mlogloss:0.24510\teval-mlogloss:0.19474\n",
            "[290]\ttrain-mlogloss:0.24466\teval-mlogloss:0.19417\n",
            "[291]\ttrain-mlogloss:0.24394\teval-mlogloss:0.19327\n",
            "[292]\ttrain-mlogloss:0.24347\teval-mlogloss:0.19279\n",
            "[293]\ttrain-mlogloss:0.24285\teval-mlogloss:0.19216\n",
            "[294]\ttrain-mlogloss:0.24198\teval-mlogloss:0.19108\n",
            "[295]\ttrain-mlogloss:0.24101\teval-mlogloss:0.19000\n",
            "[296]\ttrain-mlogloss:0.24097\teval-mlogloss:0.18974\n",
            "[297]\ttrain-mlogloss:0.24033\teval-mlogloss:0.18899\n",
            "[298]\ttrain-mlogloss:0.23984\teval-mlogloss:0.18844\n",
            "[299]\ttrain-mlogloss:0.23927\teval-mlogloss:0.18768\n"
          ]
        },
        {
          "output_type": "stream",
          "name": "stderr",
          "text": [
            "[I 2024-10-15 08:50:01,388] Trial 11 finished with value: 1.0 and parameters: {'lambda': 1.008773078316353e-06, 'alpha': 0.0405123046420174, 'eta': 0.010549487627576792, 'gamma': 0.7963106431958371, 'max_depth': 3, 'min_child_weight': 5, 'subsample': 0.5552359573314595, 'colsample_bytree': 0.4742793980371997}. Best is trial 0 with value: 1.0.\n"
          ]
        },
        {
          "output_type": "stream",
          "name": "stdout",
          "text": [
            "[0]\ttrain-mlogloss:1.04521\teval-mlogloss:1.05715\n",
            "[1]\ttrain-mlogloss:1.00510\teval-mlogloss:1.02087\n",
            "[2]\ttrain-mlogloss:0.91468\teval-mlogloss:0.92119\n",
            "[3]\ttrain-mlogloss:0.86917\teval-mlogloss:0.88004\n",
            "[4]\ttrain-mlogloss:0.80848\teval-mlogloss:0.81552\n"
          ]
        },
        {
          "output_type": "stream",
          "name": "stderr",
          "text": [
            "[I 2024-10-15 08:50:01,663] Trial 12 pruned. Trial was pruned at iteration 4.\n"
          ]
        },
        {
          "output_type": "stream",
          "name": "stdout",
          "text": [
            "[0]\ttrain-mlogloss:0.95466\teval-mlogloss:0.94994\n"
          ]
        },
        {
          "output_type": "stream",
          "name": "stderr",
          "text": [
            "[I 2024-10-15 08:50:01,796] Trial 13 pruned. Trial was pruned at iteration 1.\n"
          ]
        },
        {
          "output_type": "stream",
          "name": "stdout",
          "text": [
            "[0]\ttrain-mlogloss:1.01335\teval-mlogloss:1.01314\n",
            "[1]\ttrain-mlogloss:0.94015\teval-mlogloss:0.93673\n"
          ]
        },
        {
          "output_type": "stream",
          "name": "stderr",
          "text": [
            "[I 2024-10-15 08:50:01,946] Trial 14 pruned. Trial was pruned at iteration 1.\n"
          ]
        },
        {
          "output_type": "stream",
          "name": "stdout",
          "text": [
            "[0]\ttrain-mlogloss:0.83330\teval-mlogloss:0.84673\n",
            "[1]\ttrain-mlogloss:0.63604\teval-mlogloss:0.63202\n"
          ]
        },
        {
          "output_type": "stream",
          "name": "stderr",
          "text": [
            "[I 2024-10-15 08:50:02,071] Trial 15 pruned. Trial was pruned at iteration 1.\n"
          ]
        },
        {
          "output_type": "stream",
          "name": "stdout",
          "text": [
            "[0]\ttrain-mlogloss:1.07830\teval-mlogloss:1.08023\n",
            "[1]\ttrain-mlogloss:1.05769\teval-mlogloss:1.05975\n",
            "[2]\ttrain-mlogloss:1.03598\teval-mlogloss:1.03618\n",
            "[3]\ttrain-mlogloss:1.01820\teval-mlogloss:1.01781\n"
          ]
        },
        {
          "output_type": "stream",
          "name": "stderr",
          "text": [
            "[I 2024-10-15 08:50:02,331] Trial 16 pruned. Trial was pruned at iteration 4.\n"
          ]
        },
        {
          "output_type": "stream",
          "name": "stdout",
          "text": [
            "[0]\ttrain-mlogloss:0.81343\teval-mlogloss:0.85556\n",
            "[1]\ttrain-mlogloss:0.62608\teval-mlogloss:0.65359\n"
          ]
        },
        {
          "output_type": "stream",
          "name": "stderr",
          "text": [
            "[I 2024-10-15 08:50:03,205] Trial 17 pruned. Trial was pruned at iteration 1.\n"
          ]
        },
        {
          "output_type": "stream",
          "name": "stdout",
          "text": [
            "[0]\ttrain-mlogloss:0.92566\teval-mlogloss:0.92141\n"
          ]
        },
        {
          "output_type": "stream",
          "name": "stderr",
          "text": [
            "[I 2024-10-15 08:50:03,332] Trial 18 pruned. Trial was pruned at iteration 1.\n"
          ]
        },
        {
          "output_type": "stream",
          "name": "stdout",
          "text": [
            "[0]\ttrain-mlogloss:1.00349\teval-mlogloss:1.03100\n",
            "[1]\ttrain-mlogloss:0.92586\teval-mlogloss:0.95016\n"
          ]
        },
        {
          "output_type": "stream",
          "name": "stderr",
          "text": [
            "[I 2024-10-15 08:50:03,530] Trial 19 pruned. Trial was pruned at iteration 1.\n"
          ]
        },
        {
          "output_type": "stream",
          "name": "stdout",
          "text": [
            "[0]\ttrain-mlogloss:0.83100\teval-mlogloss:0.85011\n"
          ]
        },
        {
          "output_type": "stream",
          "name": "stderr",
          "text": [
            "[I 2024-10-15 08:50:04,022] Trial 20 pruned. Trial was pruned at iteration 1.\n"
          ]
        },
        {
          "output_type": "stream",
          "name": "stdout",
          "text": [
            "[0]\ttrain-mlogloss:1.09195\teval-mlogloss:1.09299\n",
            "[1]\ttrain-mlogloss:1.08633\teval-mlogloss:1.08758\n",
            "[2]\ttrain-mlogloss:1.07205\teval-mlogloss:1.07234\n",
            "[3]\ttrain-mlogloss:1.06455\teval-mlogloss:1.06539\n",
            "[4]\ttrain-mlogloss:1.05311\teval-mlogloss:1.05276\n"
          ]
        },
        {
          "output_type": "stream",
          "name": "stderr",
          "text": [
            "[I 2024-10-15 08:50:05,132] Trial 21 pruned. Trial was pruned at iteration 4.\n"
          ]
        },
        {
          "output_type": "stream",
          "name": "stdout",
          "text": [
            "[0]\ttrain-mlogloss:1.07478\teval-mlogloss:1.07778\n",
            "[1]\ttrain-mlogloss:1.05304\teval-mlogloss:1.05894\n",
            "[2]\ttrain-mlogloss:1.00508\teval-mlogloss:1.00659\n",
            "[3]\ttrain-mlogloss:0.98005\teval-mlogloss:0.98344\n",
            "[4]\ttrain-mlogloss:0.94427\teval-mlogloss:0.94409\n"
          ]
        },
        {
          "output_type": "stream",
          "name": "stderr",
          "text": [
            "[I 2024-10-15 08:50:05,452] Trial 22 pruned. Trial was pruned at iteration 4.\n"
          ]
        },
        {
          "output_type": "stream",
          "name": "stdout",
          "text": [
            "[0]\ttrain-mlogloss:1.04605\teval-mlogloss:1.04656\n",
            "[1]\ttrain-mlogloss:0.99940\teval-mlogloss:1.00006\n"
          ]
        },
        {
          "output_type": "stream",
          "name": "stderr",
          "text": [
            "[I 2024-10-15 08:50:05,754] Trial 23 pruned. Trial was pruned at iteration 1.\n"
          ]
        },
        {
          "output_type": "stream",
          "name": "stdout",
          "text": [
            "[0]\ttrain-mlogloss:1.06129\teval-mlogloss:1.06724\n",
            "[1]\ttrain-mlogloss:1.03018\teval-mlogloss:1.03378\n",
            "[2]\ttrain-mlogloss:0.96496\teval-mlogloss:0.96751\n",
            "[3]\ttrain-mlogloss:0.93517\teval-mlogloss:0.93749\n",
            "[4]\ttrain-mlogloss:0.88285\teval-mlogloss:0.88106\n"
          ]
        },
        {
          "output_type": "stream",
          "name": "stderr",
          "text": [
            "[I 2024-10-15 08:50:06,426] Trial 24 pruned. Trial was pruned at iteration 4.\n"
          ]
        },
        {
          "output_type": "stream",
          "name": "stdout",
          "text": [
            "[0]\ttrain-mlogloss:0.97347\teval-mlogloss:0.98354\n"
          ]
        },
        {
          "output_type": "stream",
          "name": "stderr",
          "text": [
            "[I 2024-10-15 08:50:07,195] Trial 25 pruned. Trial was pruned at iteration 1.\n"
          ]
        },
        {
          "output_type": "stream",
          "name": "stdout",
          "text": [
            "[0]\ttrain-mlogloss:1.06619\teval-mlogloss:1.06630\n",
            "[1]\ttrain-mlogloss:1.03718\teval-mlogloss:1.03756\n",
            "[2]\ttrain-mlogloss:1.00693\teval-mlogloss:1.00472\n",
            "[3]\ttrain-mlogloss:0.98226\teval-mlogloss:0.97992\n",
            "[4]\ttrain-mlogloss:0.95425\teval-mlogloss:0.94988\n"
          ]
        },
        {
          "output_type": "stream",
          "name": "stderr",
          "text": [
            "[I 2024-10-15 08:50:07,641] Trial 26 pruned. Trial was pruned at iteration 4.\n"
          ]
        },
        {
          "output_type": "stream",
          "name": "stdout",
          "text": [
            "[0]\ttrain-mlogloss:1.01114\teval-mlogloss:1.01526\n",
            "[1]\ttrain-mlogloss:0.93277\teval-mlogloss:0.93332\n"
          ]
        },
        {
          "output_type": "stream",
          "name": "stderr",
          "text": [
            "[I 2024-10-15 08:50:07,745] Trial 27 pruned. Trial was pruned at iteration 1.\n"
          ]
        },
        {
          "output_type": "stream",
          "name": "stdout",
          "text": [
            "[0]\ttrain-mlogloss:1.01937\teval-mlogloss:1.03795\n"
          ]
        },
        {
          "output_type": "stream",
          "name": "stderr",
          "text": [
            "[I 2024-10-15 08:50:07,837] Trial 28 pruned. Trial was pruned at iteration 1.\n"
          ]
        },
        {
          "output_type": "stream",
          "name": "stdout",
          "text": [
            "[0]\ttrain-mlogloss:1.04608\teval-mlogloss:1.05191\n",
            "[1]\ttrain-mlogloss:0.99598\teval-mlogloss:1.00452\n"
          ]
        },
        {
          "output_type": "stream",
          "name": "stderr",
          "text": [
            "[I 2024-10-15 08:50:07,938] Trial 29 pruned. Trial was pruned at iteration 1.\n"
          ]
        },
        {
          "output_type": "stream",
          "name": "stdout",
          "text": [
            "[0]\ttrain-mlogloss:1.07903\teval-mlogloss:1.08067\n",
            "[1]\ttrain-mlogloss:1.06071\teval-mlogloss:1.06391\n",
            "[2]\ttrain-mlogloss:1.02028\teval-mlogloss:1.02164\n",
            "[3]\ttrain-mlogloss:0.99913\teval-mlogloss:1.00182\n",
            "[4]\ttrain-mlogloss:0.96741\teval-mlogloss:0.96675\n"
          ]
        },
        {
          "output_type": "stream",
          "name": "stderr",
          "text": [
            "[I 2024-10-15 08:50:08,133] Trial 30 pruned. Trial was pruned at iteration 4.\n"
          ]
        },
        {
          "output_type": "stream",
          "name": "stdout",
          "text": [
            "[0]\ttrain-mlogloss:1.09140\teval-mlogloss:1.09246\n",
            "[1]\ttrain-mlogloss:1.08524\teval-mlogloss:1.08703\n",
            "[2]\ttrain-mlogloss:1.06924\teval-mlogloss:1.06996\n",
            "[3]\ttrain-mlogloss:1.06090\teval-mlogloss:1.06243\n"
          ]
        },
        {
          "output_type": "stream",
          "name": "stderr",
          "text": [
            "[I 2024-10-15 08:50:08,292] Trial 31 pruned. Trial was pruned at iteration 4.\n"
          ]
        },
        {
          "output_type": "stream",
          "name": "stdout",
          "text": [
            "[0]\ttrain-mlogloss:1.07107\teval-mlogloss:1.07498\n",
            "[1]\ttrain-mlogloss:1.04684\teval-mlogloss:1.05220\n",
            "[2]\ttrain-mlogloss:0.99005\teval-mlogloss:0.99158\n",
            "[3]\ttrain-mlogloss:0.96287\teval-mlogloss:0.96534\n"
          ]
        },
        {
          "output_type": "stream",
          "name": "stderr",
          "text": [
            "[I 2024-10-15 08:50:08,497] Trial 32 pruned. Trial was pruned at iteration 4.\n"
          ]
        },
        {
          "output_type": "stream",
          "name": "stdout",
          "text": [
            "[0]\ttrain-mlogloss:1.08564\teval-mlogloss:1.08532\n",
            "[1]\ttrain-mlogloss:1.07315\teval-mlogloss:1.07248\n",
            "[2]\ttrain-mlogloss:1.06014\teval-mlogloss:1.05876\n",
            "[3]\ttrain-mlogloss:1.04929\teval-mlogloss:1.04774\n"
          ]
        },
        {
          "output_type": "stream",
          "name": "stderr",
          "text": [
            "[I 2024-10-15 08:50:09,368] Trial 33 pruned. Trial was pruned at iteration 4.\n"
          ]
        },
        {
          "output_type": "stream",
          "name": "stdout",
          "text": [
            "[0]\ttrain-mlogloss:1.07004\teval-mlogloss:1.07397\n",
            "[1]\ttrain-mlogloss:1.04082\teval-mlogloss:1.04615\n"
          ]
        },
        {
          "output_type": "stream",
          "name": "stderr",
          "text": [
            "[I 2024-10-15 08:50:10,133] Trial 34 pruned. Trial was pruned at iteration 1.\n"
          ]
        },
        {
          "output_type": "stream",
          "name": "stdout",
          "text": [
            "[0]\ttrain-mlogloss:0.93684\teval-mlogloss:0.94822\n"
          ]
        },
        {
          "output_type": "stream",
          "name": "stderr",
          "text": [
            "[I 2024-10-15 08:50:10,311] Trial 35 pruned. Trial was pruned at iteration 1.\n"
          ]
        },
        {
          "output_type": "stream",
          "name": "stdout",
          "text": [
            "[0]\ttrain-mlogloss:1.05599\teval-mlogloss:1.06270\n",
            "[1]\ttrain-mlogloss:1.02126\teval-mlogloss:1.02880\n"
          ]
        },
        {
          "output_type": "stream",
          "name": "stderr",
          "text": [
            "[I 2024-10-15 08:50:10,463] Trial 36 pruned. Trial was pruned at iteration 1.\n"
          ]
        },
        {
          "output_type": "stream",
          "name": "stdout",
          "text": [
            "[0]\ttrain-mlogloss:0.90429\teval-mlogloss:0.91764\n",
            "[1]\ttrain-mlogloss:0.76289\teval-mlogloss:0.78381\n"
          ]
        },
        {
          "output_type": "stream",
          "name": "stderr",
          "text": [
            "[I 2024-10-15 08:50:11,817] Trial 37 pruned. Trial was pruned at iteration 1.\n"
          ]
        },
        {
          "output_type": "stream",
          "name": "stdout",
          "text": [
            "[0]\ttrain-mlogloss:1.08311\teval-mlogloss:1.08565\n",
            "[1]\ttrain-mlogloss:1.06948\teval-mlogloss:1.07264\n",
            "[2]\ttrain-mlogloss:1.03704\teval-mlogloss:1.03955\n",
            "[3]\ttrain-mlogloss:1.02039\teval-mlogloss:1.02459\n"
          ]
        },
        {
          "output_type": "stream",
          "name": "stderr",
          "text": [
            "[I 2024-10-15 08:50:11,929] Trial 38 pruned. Trial was pruned at iteration 4.\n"
          ]
        },
        {
          "output_type": "stream",
          "name": "stdout",
          "text": [
            "[0]\ttrain-mlogloss:1.03175\teval-mlogloss:1.03841\n",
            "[1]\ttrain-mlogloss:0.97077\teval-mlogloss:0.97701\n"
          ]
        },
        {
          "output_type": "stream",
          "name": "stderr",
          "text": [
            "[I 2024-10-15 08:50:12,582] Trial 39 pruned. Trial was pruned at iteration 1.\n"
          ]
        },
        {
          "output_type": "stream",
          "name": "stdout",
          "text": [
            "[0]\ttrain-mlogloss:0.80108\teval-mlogloss:0.81733\n",
            "[1]\ttrain-mlogloss:0.60530\teval-mlogloss:0.60259\n"
          ]
        },
        {
          "output_type": "stream",
          "name": "stderr",
          "text": [
            "[I 2024-10-15 08:50:12,762] Trial 40 pruned. Trial was pruned at iteration 1.\n"
          ]
        },
        {
          "output_type": "stream",
          "name": "stdout",
          "text": [
            "[0]\ttrain-mlogloss:1.09110\teval-mlogloss:1.09220\n",
            "[1]\ttrain-mlogloss:1.08469\teval-mlogloss:1.08656\n",
            "[2]\ttrain-mlogloss:1.06804\teval-mlogloss:1.06879\n",
            "[3]\ttrain-mlogloss:1.05937\teval-mlogloss:1.06096\n",
            "[4]\ttrain-mlogloss:1.04626\teval-mlogloss:1.04649\n"
          ]
        },
        {
          "output_type": "stream",
          "name": "stderr",
          "text": [
            "[I 2024-10-15 08:50:12,968] Trial 41 pruned. Trial was pruned at iteration 4.\n"
          ]
        },
        {
          "output_type": "stream",
          "name": "stdout",
          "text": [
            "[0]\ttrain-mlogloss:1.09268\teval-mlogloss:1.09355\n",
            "[1]\ttrain-mlogloss:1.08755\teval-mlogloss:1.08865\n",
            "[2]\ttrain-mlogloss:1.07495\teval-mlogloss:1.07533\n",
            "[3]\ttrain-mlogloss:1.06831\teval-mlogloss:1.06900\n",
            "[4]\ttrain-mlogloss:1.05819\teval-mlogloss:1.05756\n",
            "[5]\ttrain-mlogloss:1.04621\teval-mlogloss:1.04466\n",
            "[6]\ttrain-mlogloss:1.03870\teval-mlogloss:1.03685\n",
            "[7]\ttrain-mlogloss:1.02549\teval-mlogloss:1.02289\n",
            "[8]\ttrain-mlogloss:1.01713\teval-mlogloss:1.01470\n",
            "[9]\ttrain-mlogloss:1.00744\teval-mlogloss:1.00380\n",
            "[10]\ttrain-mlogloss:0.99720\teval-mlogloss:0.99353\n",
            "[11]\ttrain-mlogloss:0.98884\teval-mlogloss:0.98425\n",
            "[12]\ttrain-mlogloss:0.97921\teval-mlogloss:0.97446\n",
            "[13]\ttrain-mlogloss:0.97213\teval-mlogloss:0.96647\n",
            "[14]\ttrain-mlogloss:0.96599\teval-mlogloss:0.96062\n",
            "[15]\ttrain-mlogloss:0.95883\teval-mlogloss:0.95379\n",
            "[16]\ttrain-mlogloss:0.95188\teval-mlogloss:0.94624\n"
          ]
        },
        {
          "output_type": "stream",
          "name": "stderr",
          "text": [
            "[I 2024-10-15 08:50:14,047] Trial 42 pruned. Trial was pruned at iteration 16.\n"
          ]
        },
        {
          "output_type": "stream",
          "name": "stdout",
          "text": [
            "[0]\ttrain-mlogloss:1.06783\teval-mlogloss:1.06994\n"
          ]
        },
        {
          "output_type": "stream",
          "name": "stderr",
          "text": [
            "[I 2024-10-15 08:50:14,280] Trial 43 pruned. Trial was pruned at iteration 1.\n"
          ]
        },
        {
          "output_type": "stream",
          "name": "stdout",
          "text": [
            "[0]\ttrain-mlogloss:0.98768\teval-mlogloss:0.98983\n"
          ]
        },
        {
          "output_type": "stream",
          "name": "stderr",
          "text": [
            "[I 2024-10-15 08:50:14,432] Trial 44 pruned. Trial was pruned at iteration 1.\n"
          ]
        },
        {
          "output_type": "stream",
          "name": "stdout",
          "text": [
            "[0]\ttrain-mlogloss:1.00944\teval-mlogloss:1.02267\n"
          ]
        },
        {
          "output_type": "stream",
          "name": "stderr",
          "text": [
            "[I 2024-10-15 08:50:14,543] Trial 45 pruned. Trial was pruned at iteration 1.\n"
          ]
        },
        {
          "output_type": "stream",
          "name": "stdout",
          "text": [
            "[0]\ttrain-mlogloss:1.08746\teval-mlogloss:1.08820\n",
            "[1]\ttrain-mlogloss:1.07572\teval-mlogloss:1.07606\n",
            "[2]\ttrain-mlogloss:1.06288\teval-mlogloss:1.06268\n",
            "[3]\ttrain-mlogloss:1.05192\teval-mlogloss:1.05098\n"
          ]
        },
        {
          "output_type": "stream",
          "name": "stderr",
          "text": [
            "[I 2024-10-15 08:50:14,898] Trial 46 pruned. Trial was pruned at iteration 4.\n"
          ]
        },
        {
          "output_type": "stream",
          "name": "stdout",
          "text": [
            "[0]\ttrain-mlogloss:1.02012\teval-mlogloss:1.01779\n"
          ]
        },
        {
          "output_type": "stream",
          "name": "stderr",
          "text": [
            "[I 2024-10-15 08:50:15,068] Trial 47 pruned. Trial was pruned at iteration 1.\n"
          ]
        },
        {
          "output_type": "stream",
          "name": "stdout",
          "text": [
            "[0]\ttrain-mlogloss:0.96998\teval-mlogloss:0.99162\n",
            "[1]\ttrain-mlogloss:0.88080\teval-mlogloss:0.90959\n"
          ]
        },
        {
          "output_type": "stream",
          "name": "stderr",
          "text": [
            "[I 2024-10-15 08:50:15,186] Trial 48 pruned. Trial was pruned at iteration 1.\n"
          ]
        },
        {
          "output_type": "stream",
          "name": "stdout",
          "text": [
            "[0]\ttrain-mlogloss:1.07495\teval-mlogloss:1.07798\n",
            "[1]\ttrain-mlogloss:1.05428\teval-mlogloss:1.05988\n",
            "[2]\ttrain-mlogloss:1.00557\teval-mlogloss:1.00729\n",
            "[3]\ttrain-mlogloss:0.98189\teval-mlogloss:0.98499\n"
          ]
        },
        {
          "output_type": "stream",
          "name": "stderr",
          "text": [
            "[I 2024-10-15 08:50:15,659] Trial 49 pruned. Trial was pruned at iteration 4.\n"
          ]
        },
        {
          "output_type": "stream",
          "name": "stdout",
          "text": [
            "Best trial: {'lambda': 1.0111482773090117e-07, 'alpha': 0.04706373391916194, 'eta': 0.24792673541725777, 'gamma': 3.112866142089435e-07, 'max_depth': 8, 'min_child_weight': 2, 'subsample': 0.4902213264354834, 'colsample_bytree': 0.8967390740854699}\n",
            "Best accuracy: 1.0\n"
          ]
        }
      ]
    },
    {
      "cell_type": "code",
      "source": [
        "from optuna.visualization import plot_intermediate_values\n",
        "\n",
        "# 1. Plot intermediate values during the trials\n",
        "plot_intermediate_values(study).show()"
      ],
      "metadata": {
        "colab": {
          "base_uri": "https://localhost:8080/",
          "height": 542
        },
        "id": "TkIG5Cf6SoZ_",
        "outputId": "3efa074d-4f65-4c85-a77b-70771f45f1e2"
      },
      "execution_count": 36,
      "outputs": [
        {
          "output_type": "display_data",
          "data": {
            "text/html": [
              "<html>\n",
              "<head><meta charset=\"utf-8\" /></head>\n",
              "<body>\n",
              "    <div>            <script src=\"https://cdnjs.cloudflare.com/ajax/libs/mathjax/2.7.5/MathJax.js?config=TeX-AMS-MML_SVG\"></script><script type=\"text/javascript\">if (window.MathJax && window.MathJax.Hub && window.MathJax.Hub.Config) {window.MathJax.Hub.Config({SVG: {font: \"STIX-Web\"}});}</script>                <script type=\"text/javascript\">window.PlotlyConfig = {MathJaxConfig: 'local'};</script>\n",
              "        <script charset=\"utf-8\" src=\"https://cdn.plot.ly/plotly-2.35.2.min.js\"></script>                <div id=\"c4bf93ac-63c1-4c72-acb5-1c89d098f238\" class=\"plotly-graph-div\" style=\"height:525px; width:100%;\"></div>            <script type=\"text/javascript\">                                    window.PLOTLYENV=window.PLOTLYENV || {};                                    if (document.getElementById(\"c4bf93ac-63c1-4c72-acb5-1c89d098f238\")) {                    Plotly.newPlot(                        \"c4bf93ac-63c1-4c72-acb5-1c89d098f238\",                        [{\"marker\":{\"maxdisplayed\":10},\"mode\":\"lines+markers\",\"name\":\"Trial0\",\"x\":[0,1,2,3,4,5,6,7,8,9,10,11,12,13,14,15,16,17,18,19,20,21,22,23,24,25,26,27,28,29,30,31,32,33,34,35,36,37,38,39,40,41,42,43,44,45,46,47,48,49,50,51,52,53,54,55,56,57,58,59,60,61,62,63,64,65,66,67,68,69,70,71,72,73,74,75,76,77,78,79,80,81,82,83,84,85,86,87,88,89,90],\"y\":[0.8344272136688232,0.6356098194917043,0.4801426847775777,0.37562279105186464,0.2953982144594193,0.22454193284114202,0.18276098916927974,0.15604922622442247,0.13356616497039794,0.11558230966329575,0.10527644952138265,0.08179187724987666,0.07538029824693998,0.0659918366620938,0.06403279043734074,0.06046603471040726,0.05759769789874554,0.05515623440345128,0.05240160493801038,0.04793969423820575,0.04698037896305322,0.04721488244831562,0.04457315063724916,0.04361841560651859,0.04329535712798437,0.04314568303525448,0.04072875088701645,0.04248478822410107,0.04255089741200209,0.04240183687458435,0.04118386556704839,0.03967671046654384,0.03954231223712365,0.03772859728584687,0.03595488698532184,0.03590561421588064,0.0357545105740428,0.03568187778194745,0.03545156186446548,0.03587863029291232,0.03885486610233783,0.03877861394236485,0.03830652972683311,0.03787172393252452,0.03900445261970163,0.03844985077157616,0.03827833899607261,0.03928987166533868,0.03561373489598433,0.03286151879777511,0.03301187107960383,0.03221677479644616,0.03234576120351752,0.03211597536380092,0.03150254863624771,0.03084479660416643,0.02949739604567488,0.03041982461387912,0.03023570319637656,0.02946056366587679,0.02893121552964052,0.02867899096260468,0.02908912434553107,0.0287492354400456,0.03011214506501953,0.03050358947366476,0.03023923579603434,0.03017881649235884,0.0321543033234775,0.03222932461649179,0.03205120507627725,0.03112033189584812,0.03100903028001388,0.03118917482594649,0.03128590552757184,0.03164205746725202,0.0327394478643934,0.03146218545734882,0.03206910332664847,0.03250191702196995,0.03107182799528042,0.03066342075665792,0.02961824865390857,0.029858447269847,0.03009458544353644,0.0306984066652755,0.03069200599566102,0.02908964166417718,0.02978994948789477,0.03043543028955658,0.03017208408564329],\"type\":\"scatter\"},{\"marker\":{\"maxdisplayed\":10},\"mode\":\"lines+markers\",\"name\":\"Trial1\",\"x\":[0,1,2,3,4,5,6,7,8,9,10,11,12,13,14,15,16,17,18,19,20,21,22,23,24,25,26,27,28,29,30,31,32,33,34,35,36,37,38,39,40,41,42,43,44,45,46,47,48,49,50,51,52,53,54,55,56,57,58,59,60,61,62,63,64,65,66,67,68,69,70,71,72,73,74,75,76,77,78,79,80,81,82,83,84,85,86,87,88,89,90,91,92,93,94,95,96,97,98,99,100,101,102,103,104,105,106,107,108,109,110,111,112,113,114,115,116,117,118,119,120,121,122,123,124,125,126,127,128,129,130,131,132,133,134,135,136,137,138,139,140,141,142,143,144,145,146,147,148,149,150,151,152,153,154,155,156,157,158,159,160,161,162,163,164,165,166,167,168,169,170,171,172,173,174,175,176,177,178,179,180,181,182,183,184,185,186,187,188,189,190,191,192,193,194,195,196,197,198,199,200,201,202,203,204,205,206,207,208,209,210,211,212,213,214,215,216,217,218,219,220,221,222,223,224,225,226,227,228,229,230,231,232,233,234,235,236,237,238,239,240,241,242,243,244,245,246,247,248,249,250,251,252,253,254,255,256,257,258,259,260,261,262,263,264,265,266,267,268,269,270,271,272,273,274,275,276,277,278,279,280,281,282,283,284,285,286,287,288,289,290,291,292,293,294,295,296,297,298,299],\"y\":[1.0885284145673115,1.0775464653968811,1.0490938345591228,1.0362885336081187,1.0143918573856354,0.9895563344160716,0.9727083365122478,0.9454646706581116,0.9310179928938548,0.9108826577663421,0.892790001630783,0.8772785504659016,0.8593677262465159,0.8476034124692281,0.8385642866293589,0.8257653514544169,0.8134536365667979,0.8100668867429097,0.7895741820335388,0.7793420036633809,0.7706190387407938,0.7596823990345001,0.7514037470022837,0.7389500379562378,0.7274359544118245,0.7136977235476176,0.7021859586238861,0.6913329402605692,0.6741063912709554,0.6663619687159856,0.6631799936294556,0.6603388826052348,0.6447660754124324,0.6335869679848353,0.6181440711021423,0.6090094725290934,0.6012785414854686,0.5870106349388758,0.5732498794794083,0.5678240060806274,0.5553942968448004,0.5445014695326488,0.5362651437520981,0.5343411028385162,0.5219107031822204,0.5156125326951345,0.5080006053050359,0.4966186006863912,0.48449153304100034,0.4777205099662145,0.47296997010707853,0.4651164968808492,0.4560036430756251,0.45073371728261313,0.44266857802867887,0.43743005096912385,0.43071850140889484,0.4242135186990102,0.4191105787952741,0.414008104801178,0.4064358135064443,0.40231119592984516,0.39630964895089466,0.389778895676136,0.38438381304343544,0.3777220889925957,0.3713317955533663,0.3631997272372246,0.36110261728366216,0.3574282959103584,0.3538817251722018,0.34949768433968226,0.3468211516737938,0.34149443805217744,0.33566454201936724,0.332402599354585,0.3276353066166242,0.3246828188498815,0.31718747367461525,0.311064080397288,0.30865880151589714,0.30436235715945564,0.30057283739248913,0.2951251372694969,0.2908138950665792,0.28665903160969414,0.2819581190745036,0.28031034345428146,0.2777382786075274,0.2748750331501166,0.2734849269191424,0.2698249620695909,0.26686526959141094,0.263366628686587,0.2592057508726915,0.2575216700633367,0.2526642066737016,0.2488938907782237,0.243368449062109,0.23935731674234073,0.23613331839442253,0.23319500237703322,0.23096572731932005,0.227705022195975,0.22285492916901906,0.2198786144455274,0.21498838663101197,0.2135443905989329,0.21081797604759533,0.20957111964623135,0.20720659742752712,0.20232337713241577,0.19982908541957536,0.19676421210169792,0.19239251563946405,0.19035761132836343,0.18920782829324403,0.18627379188934962,0.18476590712865193,0.18308373739322026,0.17996820881962777,0.17722687323888142,0.1774160218735536,0.17576359286904336,0.17498100139200687,0.17301221042871476,0.1726338372876247,0.17067379454771678,0.16903052777051925,0.1679389347632726,0.16643425499399503,0.16663128087917964,0.16638162409265836,0.16533095985651017,0.16420752306779227,0.16309829528133074,0.16122824214398862,0.16008066199719906,0.1585136406123638,0.15687061622738838,0.1560386738429467,0.1542541022102038,0.15212151271601518,0.14975403559704623,0.14722662878533205,0.14620999284088612,0.1455389658610026,0.14282019796470802,0.14005628190934657,0.13761857536931832,0.13659373459716637,0.13479918713370959,0.1339570887386799,0.13220235866804916,0.13190854899585247,0.13076371215283872,0.1288305499901374,0.12728335844973723,0.12502373699098826,0.12363701810439427,0.12352497763931751,0.12265000026673079,0.12105973865836858,0.11932255066931248,0.11897270487000546,0.11905866364638011,0.11770769152790309,0.11583003854999939,0.11424873607854048,0.11400379190842311,0.11338147235413393,0.1122325242186586,0.11082609705626964,0.1100108257184426,0.10997056346386672,0.10956620580206315,0.10768939933429161,0.10607122170428435,0.10517554891606172,0.10476331766694784,0.10428886525332928,0.1036724519605438,0.10256162621080875,0.10196404016266267,0.10132023816307385,0.10058591887354851,0.09919670652598142,0.098752948269248,0.09919320562233527,0.09829661324620247,0.09816777830322583,0.09756226657579342,0.09609846429278453,0.09572411980479956,0.09527793197582166,0.09529755357652903,0.09481709375977516,0.0933985751743118,0.09247605899969737,0.0917718089496096,0.09076461003472408,0.08950573522597552,0.08880952503532172,0.08822173289954663,0.08799562522520622,0.08713902030140161,0.08687110496684909,0.08601374706874292,0.08507283882548412,0.08434531499321261,0.08336988637844721,0.08270230212559303,0.08225430672367413,0.08138662287965417,0.08096071612089872,0.0799342269077897,0.07994325791175166,0.07913208616276582,0.07823645928874612,0.0782948420693477,0.07786765921240052,0.07815282239268223,0.07830460028102,0.07825955593337615,0.07820010042438905,0.07816695769627889,0.07708165068179369,0.0760331941768527,0.07536157462745904,0.07504028066371878,0.07458176976069808,0.07357252038394411,0.0726248706690967,0.07260624809811513,0.072373253138115,0.07211642153561115,0.07182630250851313,0.07110461471602321,0.07069901724656423,0.06972682314614455,0.06848056918630997,0.06781909397492807,0.06788107457881172,0.06725926777968803,0.0670969710064431,0.06676902205993732,0.06677406178787351,0.06641870172073444,0.06562478154276809,0.06506400943423311,0.06481001271555821,0.06488858917728066,0.06471219897891084,0.06461019106209279,0.0650790885090828,0.06503340397030115,0.06414812564228972,0.06404741782074173,0.06412232810010512,0.06350759044289589,0.06349909799173474,0.06259045467401544,0.06251014151299993,0.06278930772095918,0.06278618639335036,0.06237409310415387,0.06220732629299164,0.0620642326772213,0.06219171611592174,0.06226578115796049,0.06186768468469381,0.06178045825411876,0.06131147077927987,0.06138521001363794,0.06083634756505489,0.06037455191835761,0.0599085050324599,0.06004513135800759,0.05981820092226068,0.05981718106195331,0.05962148864443104,0.05973095825562875,0.05926103812331954,0.05937442860255639,0.05960922908658783,0.05951248335962494,0.05890275112663706,0.0590625715131561,0.05886893526961406,0.05896280736972889,0.05830258283143242,0.05777763361111284,0.05771515546366572,0.05761586477359136,0.05708061018958688,0.05667978875959913,0.05657081641256809,0.05613388912752271,0.0559727751960357,0.05558102733145157],\"type\":\"scatter\"},{\"marker\":{\"maxdisplayed\":10},\"mode\":\"lines+markers\",\"name\":\"Trial2\",\"x\":[0,1],\"y\":[1.0394017100334167,0.9882454971472422],\"type\":\"scatter\"},{\"marker\":{\"maxdisplayed\":10},\"mode\":\"lines+markers\",\"name\":\"Trial3\",\"x\":[0,1],\"y\":[0.9016681710879008,0.729583740234375],\"type\":\"scatter\"},{\"marker\":{\"maxdisplayed\":10},\"mode\":\"lines+markers\",\"name\":\"Trial4\",\"x\":[0,1],\"y\":[0.8828483740488688,0.7432210604349773],\"type\":\"scatter\"},{\"marker\":{\"maxdisplayed\":10},\"mode\":\"lines+markers\",\"name\":\"Trial5\",\"x\":[0,1],\"y\":[0.9039117733637492,0.7313859124978384],\"type\":\"scatter\"},{\"marker\":{\"maxdisplayed\":10},\"mode\":\"lines+markers\",\"name\":\"Trial6\",\"x\":[0,1],\"y\":[0.9508478522300721,0.8272195855776469],\"type\":\"scatter\"},{\"marker\":{\"maxdisplayed\":10},\"mode\":\"lines+markers\",\"name\":\"Trial7\",\"x\":[0,1],\"y\":[0.9854775905609131,0.871804803609848],\"type\":\"scatter\"},{\"marker\":{\"maxdisplayed\":10},\"mode\":\"lines+markers\",\"name\":\"Trial8\",\"x\":[0,1],\"y\":[0.8952607174714406,0.7072580655415853],\"type\":\"scatter\"},{\"marker\":{\"maxdisplayed\":10},\"mode\":\"lines+markers\",\"name\":\"Trial9\",\"x\":[0,1],\"y\":[0.839045665661494,0.6893278439839681],\"type\":\"scatter\"},{\"marker\":{\"maxdisplayed\":10},\"mode\":\"lines+markers\",\"name\":\"Trial10\",\"x\":[0,1],\"y\":[0.7569890280564626,0.5627309223016103],\"type\":\"scatter\"},{\"marker\":{\"maxdisplayed\":10},\"mode\":\"lines+markers\",\"name\":\"Trial11\",\"x\":[0,1,2,3,4,5,6,7,8,9,10,11,12,13,14,15,16,17,18,19,20,21,22,23,24,25,26,27,28,29,30,31,32,33,34,35,36,37,38,39,40,41,42,43,44,45,46,47,48,49,50,51,52,53,54,55,56,57,58,59,60,61,62,63,64,65,66,67,68,69,70,71,72,73,74,75,76,77,78,79,80,81,82,83,84,85,86,87,88,89,90,91,92,93,94,95,96,97,98,99,100,101,102,103,104,105,106,107,108,109,110,111,112,113,114,115,116,117,118,119,120,121,122,123,124,125,126,127,128,129,130,131,132,133,134,135,136,137,138,139,140,141,142,143,144,145,146,147,148,149,150,151,152,153,154,155,156,157,158,159,160,161,162,163,164,165,166,167,168,169,170,171,172,173,174,175,176,177,178,179,180,181,182,183,184,185,186,187,188,189,190,191,192,193,194,195,196,197,198,199,200,201,202,203,204,205,206,207,208,209,210,211,212,213,214,215,216,217,218,219,220,221,222,223,224,225,226,227,228,229,230,231,232,233,234,235,236,237,238,239,240,241,242,243,244,245,246,247,248,249,250,251,252,253,254,255,256,257,258,259,260,261,262,263,264,265,266,267,268,269,270,271,272,273,274,275,276,277,278,279,280,281,282,283,284,285,286,287,288,289,290,291,292,293,294,295,296,297,298,299],\"y\":[1.0940563837687174,1.0896246592203775,1.0771955370903015,1.0718344410260519,1.0614906390508017,1.0492937564849854,1.041220279534658,1.0281773845354716,1.0208826959133148,1.0106532096862793,1.001130998134613,0.9926726738611857,0.9834612568219503,0.9758962790171305,0.9707834800084432,0.9644962648550669,0.9575579782327016,0.9555741965770721,0.9438244958718618,0.9376637995243072,0.9327741185824077,0.9262300709883372,0.9214951753616333,0.9144361436367034,0.907821394999822,0.8986685613791148,0.8917518417040508,0.8855944434801738,0.8752613047758738,0.868983805179596,0.8657733758290609,0.8642766873041788,0.8547608156998953,0.8472399334112803,0.8371584872404735,0.8302770813306173,0.8253890216350556,0.8155109624067942,0.8061260561148326,0.8013794660568238,0.7931207100550334,0.7862747887770335,0.7800104995568593,0.778907185792923,0.7698490957419077,0.765027383963267,0.7596969902515411,0.7511354486147562,0.7421500821908315,0.7368855337301891,0.7339587231477102,0.7278800308704376,0.721111653248469,0.7172463953495025,0.7111147264639537,0.7063470204671224,0.7008309741814931,0.6952869872252146,0.691287612915039,0.6873411695162456,0.6806162218252818,0.676994635661443,0.6718125681082407,0.6654024402300517,0.660182899236679,0.6548448463280996,0.6489099184672038,0.6416379660367966,0.6389987101157506,0.6362051437298457,0.6321373681227366,0.6286316841840744,0.6255710224310557,0.621342001358668,0.6157352060079575,0.6121608525514602,0.6077282806237538,0.6044224192698796,0.5982483794291814,0.5927543381849925,0.589190137386322,0.5843583355347316,0.5802421927452087,0.5748591820398966,0.5706826537847519,0.5664621243874232,0.5620008856058121,0.5594577074050904,0.5564399470885595,0.5529701898495356,0.551661436756452,0.5476133505503337,0.5439616352319717,0.5399473120768865,0.5353579501310984,0.5331945508718491,0.5280196289221446,0.5238146851460139,0.518191534280777,0.5139117916425069,0.5100633720556895,0.5063269833723704,0.5039399574200313,0.5006351778904597,0.495219095547994,0.49276440143585204,0.4876051515340805,0.48548753559589386,0.48226873874664306,0.4800246149301529,0.47729421854019166,0.47184917628765105,0.4681718349456787,0.4645981599887212,0.4596449911594391,0.4566785385211309,0.45485523442427317,0.4511943280696869,0.44934985836346947,0.44693939785162606,0.4430040637652079,0.43930920561154685,0.43904165625572206,0.4363168756167094,0.43468780517578126,0.4312145173549652,0.42968582510948183,0.4269415855407715,0.4247717867294947,0.42274063428243003,0.4199420690536499,0.41971718867619834,0.41904786626497903,0.4174652953942617,0.41618158916632336,0.4146944840749105,0.41199861069520316,0.41005306293567023,0.40744876315196354,0.4057184547185898,0.4044474591811498,0.40196652511755626,0.3990065410733223,0.39515324085950854,0.3918973286946615,0.38971777657667794,0.38831266860167185,0.38460230976343157,0.38089482535918556,0.37721798817316693,0.3754958445827166,0.3727155422170957,0.3710179249445597,0.3678834492961566,0.36695849200089775,0.3651608635981878,0.36234861562649406,0.36013877938191097,0.35665728797515234,0.35412097175916035,0.3525866905848185,0.35055278688669206,0.3480779553453128,0.34546827475229896,0.34377130021651586,0.34263503849506377,0.34050923536221184,0.3375312184294065,0.3348096743226051,0.3338455120722453,0.33194340020418167,0.3301733429233233,0.32768299082914987,0.3258279408017794,0.32537034153938293,0.3242252012093862,0.3210696463783582,0.31872014751036964,0.3169153759876887,0.31547026882568996,0.31414518256982166,0.31265345712502796,0.3105235810081164,0.30836447377999626,0.30689214865366615,0.3049173320333163,0.3020146042108536,0.30105959822734196,0.30087029188871384,0.299183689057827,0.29794712165991466,0.296865118543307,0.29468982964754104,0.2940733025471369,0.293112916747729,0.29215678870677947,0.2906368027130763,0.2880726357301076,0.28634019593397775,0.28475732952356336,0.2831537495056788,0.2804572785894076,0.27793577561775845,0.2764947285254796,0.2756888672709465,0.2738743464152018,0.27277977267901105,0.27109838277101517,0.2694833904504776,0.26704829186201096,0.26565213402112325,0.26446960469086966,0.2634889200329781,0.2617526407043139,0.2603303849697113,0.25803189128637316,0.25741675148407617,0.25575222422679267,0.25424487541119256,0.25364978263775506,0.25253809491793316,0.25233737428983055,0.2521889974673589,0.25176251828670504,0.25106399953365327,0.2506487965583801,0.24908350507418314,0.24699552009503048,0.24544302374124527,0.24386100297172864,0.24335802743832272,0.2416328604022662,0.23998654559254645,0.23933732236425082,0.23842846627036732,0.23747209509213765,0.23630102425813676,0.2352241963148117,0.23347398315866788,0.23158462718129158,0.22992417886853217,0.22865528191129367,0.22801626573006312,0.22720239808162054,0.22611564497152964,0.22557142972946168,0.22475584124525388,0.22396983231107395,0.22279153962930043,0.22157576257983844,0.22026818121472994,0.22004885921875636,0.21878051534295082,0.21802196527520815,0.21743773023287455,0.2173584093650182,0.21581931089361509,0.21483665630221366,0.21382370914022128,0.21307668462395668,0.21251768097281457,0.21154180591305097,0.2115426373978456,0.21126860504349074,0.2110455224911372,0.2100240707397461,0.20922051121791205,0.2081460878252983,0.2081470971306165,0.20745138799150784,0.20636653502782185,0.20606516723831494,0.20469154318173727,0.20449089035391807,0.20340810591975847,0.20275248388449352,0.20224063595136008,0.20172486181060473,0.2015453189611435,0.20083761910597484,0.19993858337402343,0.1994152198235194,0.19858298773566882,0.19830520699421564,0.19770984575152398,0.1972313257555167,0.19595373993118603,0.19595600714286168,0.19544787804285685,0.19473929752906163,0.19417148530483247,0.19327250942587854,0.19279165665308634,0.1921613541742166,0.19108079895377159,0.19000007708867392,0.1897403359413147,0.18899038881063462,0.18843741193413735,0.1876766599714756],\"type\":\"scatter\"},{\"marker\":{\"maxdisplayed\":10},\"mode\":\"lines+markers\",\"name\":\"Trial12\",\"x\":[0,1,2,3,4],\"y\":[1.057149702310562,1.020872700214386,0.921191143989563,0.8800398667653402,0.8155214230219523],\"type\":\"scatter\"},{\"marker\":{\"maxdisplayed\":10},\"mode\":\"lines+markers\",\"name\":\"Trial13\",\"x\":[0,1],\"y\":[0.9499438802401224,0.83223597407341],\"type\":\"scatter\"},{\"marker\":{\"maxdisplayed\":10},\"mode\":\"lines+markers\",\"name\":\"Trial14\",\"x\":[0,1],\"y\":[1.013137129942576,0.9367269297440847],\"type\":\"scatter\"},{\"marker\":{\"maxdisplayed\":10},\"mode\":\"lines+markers\",\"name\":\"Trial15\",\"x\":[0,1],\"y\":[0.8467333137989044,0.632021564245224],\"type\":\"scatter\"},{\"marker\":{\"maxdisplayed\":10},\"mode\":\"lines+markers\",\"name\":\"Trial16\",\"x\":[0,1,2,3,4],\"y\":[1.0802308400472005,1.059749698638916,1.0361828923225402,1.0178054789702098,0.9959866325060527],\"type\":\"scatter\"},{\"marker\":{\"maxdisplayed\":10},\"mode\":\"lines+markers\",\"name\":\"Trial17\",\"x\":[0,1],\"y\":[0.8555647432804108,0.6535876204570135],\"type\":\"scatter\"},{\"marker\":{\"maxdisplayed\":10},\"mode\":\"lines+markers\",\"name\":\"Trial18\",\"x\":[0,1],\"y\":[0.9214131633440653,0.7861267606417338],\"type\":\"scatter\"},{\"marker\":{\"maxdisplayed\":10},\"mode\":\"lines+markers\",\"name\":\"Trial19\",\"x\":[0,1],\"y\":[1.0309974233309427,0.950164000193278],\"type\":\"scatter\"},{\"marker\":{\"maxdisplayed\":10},\"mode\":\"lines+markers\",\"name\":\"Trial20\",\"x\":[0,1],\"y\":[0.8501099805037181,0.6752910951773325],\"type\":\"scatter\"},{\"marker\":{\"maxdisplayed\":10},\"mode\":\"lines+markers\",\"name\":\"Trial21\",\"x\":[0,1,2,3,4],\"y\":[1.0929944276809693,1.0875837167104085,1.072342332204183,1.065387491385142,1.0527618368466696],\"type\":\"scatter\"},{\"marker\":{\"maxdisplayed\":10},\"mode\":\"lines+markers\",\"name\":\"Trial22\",\"x\":[0,1,2,3,4],\"y\":[1.0777838706970215,1.058944676319758,1.0065899034341177,0.983440085252126,0.9440895636876424],\"type\":\"scatter\"},{\"marker\":{\"maxdisplayed\":10},\"mode\":\"lines+markers\",\"name\":\"Trial23\",\"x\":[0,1],\"y\":[1.0465552449226379,1.0000575840473176],\"type\":\"scatter\"},{\"marker\":{\"maxdisplayed\":10},\"mode\":\"lines+markers\",\"name\":\"Trial24\",\"x\":[0,1,2,3,4],\"y\":[1.0672401507695517,1.033779635032018,0.9675132910410563,0.9374949475129445,0.8810568789641062],\"type\":\"scatter\"},{\"marker\":{\"maxdisplayed\":10},\"mode\":\"lines+markers\",\"name\":\"Trial25\",\"x\":[0,1],\"y\":[0.9835383415222168,0.878037319580714],\"type\":\"scatter\"},{\"marker\":{\"maxdisplayed\":10},\"mode\":\"lines+markers\",\"name\":\"Trial26\",\"x\":[0,1,2,3,4],\"y\":[1.0663045128186543,1.0375576853752135,1.0047184109687806,0.9799229105313619,0.9498786846796672],\"type\":\"scatter\"},{\"marker\":{\"maxdisplayed\":10},\"mode\":\"lines+markers\",\"name\":\"Trial27\",\"x\":[0,1],\"y\":[1.0152564605077108,0.9333217223485311],\"type\":\"scatter\"},{\"marker\":{\"maxdisplayed\":10},\"mode\":\"lines+markers\",\"name\":\"Trial28\",\"x\":[0,1],\"y\":[1.0379452546437582,0.981171594063441],\"type\":\"scatter\"},{\"marker\":{\"maxdisplayed\":10},\"mode\":\"lines+markers\",\"name\":\"Trial29\",\"x\":[0,1],\"y\":[1.0519109805425009,1.0045199036598205],\"type\":\"scatter\"},{\"marker\":{\"maxdisplayed\":10},\"mode\":\"lines+markers\",\"name\":\"Trial30\",\"x\":[0,1,2,3,4],\"y\":[1.080668330192566,1.0639110287030538,1.021637890736262,1.001822139819463,0.9667517681916554],\"type\":\"scatter\"},{\"marker\":{\"maxdisplayed\":10},\"mode\":\"lines+markers\",\"name\":\"Trial31\",\"x\":[0,1,2,3,4],\"y\":[1.09245658715566,1.0870309511820475,1.069956906636556,1.062427572409312,1.0485079487164815],\"type\":\"scatter\"},{\"marker\":{\"maxdisplayed\":10},\"mode\":\"lines+markers\",\"name\":\"Trial32\",\"x\":[0,1,2,3,4],\"y\":[1.0749805887540183,1.052202977736791,0.9915752788384755,0.9653384983539581,0.917232753833135],\"type\":\"scatter\"},{\"marker\":{\"maxdisplayed\":10},\"mode\":\"lines+markers\",\"name\":\"Trial33\",\"x\":[0,1,2,3,4],\"y\":[1.0853172659873962,1.0724810361862183,1.0587618271509807,1.047740344206492,1.034323255221049],\"type\":\"scatter\"},{\"marker\":{\"maxdisplayed\":10},\"mode\":\"lines+markers\",\"name\":\"Trial34\",\"x\":[0,1],\"y\":[1.0739728569984437,1.0461534023284913],\"type\":\"scatter\"},{\"marker\":{\"maxdisplayed\":10},\"mode\":\"lines+markers\",\"name\":\"Trial35\",\"x\":[0,1],\"y\":[0.9482150117556254,0.8308278560638428],\"type\":\"scatter\"},{\"marker\":{\"maxdisplayed\":10},\"mode\":\"lines+markers\",\"name\":\"Trial36\",\"x\":[0,1],\"y\":[1.0627010504404704,1.0288007855415344],\"type\":\"scatter\"},{\"marker\":{\"maxdisplayed\":10},\"mode\":\"lines+markers\",\"name\":\"Trial37\",\"x\":[0,1],\"y\":[0.9176375726858775,0.7838086942831676],\"type\":\"scatter\"},{\"marker\":{\"maxdisplayed\":10},\"mode\":\"lines+markers\",\"name\":\"Trial38\",\"x\":[0,1,2,3,4],\"y\":[1.0856511036554972,1.0726372281710306,1.0395484487215678,1.0245924194653828,0.9953102171421051],\"type\":\"scatter\"},{\"marker\":{\"maxdisplayed\":10},\"mode\":\"lines+markers\",\"name\":\"Trial39\",\"x\":[0,1],\"y\":[1.0384082953135172,0.9770079990228017],\"type\":\"scatter\"},{\"marker\":{\"maxdisplayed\":10},\"mode\":\"lines+markers\",\"name\":\"Trial40\",\"x\":[0,1],\"y\":[0.817330253124237,0.6025872468948364],\"type\":\"scatter\"},{\"marker\":{\"maxdisplayed\":10},\"mode\":\"lines+markers\",\"name\":\"Trial41\",\"x\":[0,1,2,3,4],\"y\":[1.0922023375829062,1.0865553379058839,1.0687864383061727,1.0609624584515889,1.0464894851048787],\"type\":\"scatter\"},{\"marker\":{\"maxdisplayed\":10},\"mode\":\"lines+markers\",\"name\":\"Trial42\",\"x\":[0,1,2,3,4,5,6,7,8,9,10,11,12,13,14,15,16],\"y\":[1.0935526251792909,1.0886540770530702,1.075328246752421,1.0689972043037415,1.0575556000073751,1.0446614980697633,1.0368504087130228,1.0228858451048533,1.014697265625,1.00379967490832,0.9935326039791107,0.9842516342798869,0.974463148911794,0.9664666533470154,0.9606197158495585,0.9537881930669149,0.9462373673915863],\"type\":\"scatter\"},{\"marker\":{\"maxdisplayed\":10},\"mode\":\"lines+markers\",\"name\":\"Trial43\",\"x\":[0,1],\"y\":[1.069939390818278,1.0379190882047018],\"type\":\"scatter\"},{\"marker\":{\"maxdisplayed\":10},\"mode\":\"lines+markers\",\"name\":\"Trial44\",\"x\":[0,1],\"y\":[0.9898261408011119,0.8662749409675599],\"type\":\"scatter\"},{\"marker\":{\"maxdisplayed\":10},\"mode\":\"lines+markers\",\"name\":\"Trial45\",\"x\":[0,1],\"y\":[1.022665305932363,0.9560740451018016],\"type\":\"scatter\"},{\"marker\":{\"maxdisplayed\":10},\"mode\":\"lines+markers\",\"name\":\"Trial46\",\"x\":[0,1,2,3,4],\"y\":[1.0881968935330708,1.07605828444163,1.0626773953437805,1.0509777784347534,1.0376152276992798],\"type\":\"scatter\"},{\"marker\":{\"maxdisplayed\":10},\"mode\":\"lines+markers\",\"name\":\"Trial47\",\"x\":[0,1],\"y\":[1.0177882472674051,0.9458083172639211],\"type\":\"scatter\"},{\"marker\":{\"maxdisplayed\":10},\"mode\":\"lines+markers\",\"name\":\"Trial48\",\"x\":[0,1],\"y\":[0.9916153490543366,0.9095851520697276],\"type\":\"scatter\"},{\"marker\":{\"maxdisplayed\":10},\"mode\":\"lines+markers\",\"name\":\"Trial49\",\"x\":[0,1,2,3,4],\"y\":[1.0779824376106262,1.0598824262619018,1.0072892467180887,0.9849879821141561,0.9453356742858887],\"type\":\"scatter\"}],                        {\"showlegend\":false,\"title\":{\"text\":\"Intermediate Values Plot\"},\"xaxis\":{\"title\":{\"text\":\"Step\"}},\"yaxis\":{\"title\":{\"text\":\"Intermediate Value\"}},\"template\":{\"data\":{\"histogram2dcontour\":[{\"type\":\"histogram2dcontour\",\"colorbar\":{\"outlinewidth\":0,\"ticks\":\"\"},\"colorscale\":[[0.0,\"#0d0887\"],[0.1111111111111111,\"#46039f\"],[0.2222222222222222,\"#7201a8\"],[0.3333333333333333,\"#9c179e\"],[0.4444444444444444,\"#bd3786\"],[0.5555555555555556,\"#d8576b\"],[0.6666666666666666,\"#ed7953\"],[0.7777777777777778,\"#fb9f3a\"],[0.8888888888888888,\"#fdca26\"],[1.0,\"#f0f921\"]]}],\"choropleth\":[{\"type\":\"choropleth\",\"colorbar\":{\"outlinewidth\":0,\"ticks\":\"\"}}],\"histogram2d\":[{\"type\":\"histogram2d\",\"colorbar\":{\"outlinewidth\":0,\"ticks\":\"\"},\"colorscale\":[[0.0,\"#0d0887\"],[0.1111111111111111,\"#46039f\"],[0.2222222222222222,\"#7201a8\"],[0.3333333333333333,\"#9c179e\"],[0.4444444444444444,\"#bd3786\"],[0.5555555555555556,\"#d8576b\"],[0.6666666666666666,\"#ed7953\"],[0.7777777777777778,\"#fb9f3a\"],[0.8888888888888888,\"#fdca26\"],[1.0,\"#f0f921\"]]}],\"heatmap\":[{\"type\":\"heatmap\",\"colorbar\":{\"outlinewidth\":0,\"ticks\":\"\"},\"colorscale\":[[0.0,\"#0d0887\"],[0.1111111111111111,\"#46039f\"],[0.2222222222222222,\"#7201a8\"],[0.3333333333333333,\"#9c179e\"],[0.4444444444444444,\"#bd3786\"],[0.5555555555555556,\"#d8576b\"],[0.6666666666666666,\"#ed7953\"],[0.7777777777777778,\"#fb9f3a\"],[0.8888888888888888,\"#fdca26\"],[1.0,\"#f0f921\"]]}],\"heatmapgl\":[{\"type\":\"heatmapgl\",\"colorbar\":{\"outlinewidth\":0,\"ticks\":\"\"},\"colorscale\":[[0.0,\"#0d0887\"],[0.1111111111111111,\"#46039f\"],[0.2222222222222222,\"#7201a8\"],[0.3333333333333333,\"#9c179e\"],[0.4444444444444444,\"#bd3786\"],[0.5555555555555556,\"#d8576b\"],[0.6666666666666666,\"#ed7953\"],[0.7777777777777778,\"#fb9f3a\"],[0.8888888888888888,\"#fdca26\"],[1.0,\"#f0f921\"]]}],\"contourcarpet\":[{\"type\":\"contourcarpet\",\"colorbar\":{\"outlinewidth\":0,\"ticks\":\"\"}}],\"contour\":[{\"type\":\"contour\",\"colorbar\":{\"outlinewidth\":0,\"ticks\":\"\"},\"colorscale\":[[0.0,\"#0d0887\"],[0.1111111111111111,\"#46039f\"],[0.2222222222222222,\"#7201a8\"],[0.3333333333333333,\"#9c179e\"],[0.4444444444444444,\"#bd3786\"],[0.5555555555555556,\"#d8576b\"],[0.6666666666666666,\"#ed7953\"],[0.7777777777777778,\"#fb9f3a\"],[0.8888888888888888,\"#fdca26\"],[1.0,\"#f0f921\"]]}],\"surface\":[{\"type\":\"surface\",\"colorbar\":{\"outlinewidth\":0,\"ticks\":\"\"},\"colorscale\":[[0.0,\"#0d0887\"],[0.1111111111111111,\"#46039f\"],[0.2222222222222222,\"#7201a8\"],[0.3333333333333333,\"#9c179e\"],[0.4444444444444444,\"#bd3786\"],[0.5555555555555556,\"#d8576b\"],[0.6666666666666666,\"#ed7953\"],[0.7777777777777778,\"#fb9f3a\"],[0.8888888888888888,\"#fdca26\"],[1.0,\"#f0f921\"]]}],\"mesh3d\":[{\"type\":\"mesh3d\",\"colorbar\":{\"outlinewidth\":0,\"ticks\":\"\"}}],\"scatter\":[{\"fillpattern\":{\"fillmode\":\"overlay\",\"size\":10,\"solidity\":0.2},\"type\":\"scatter\"}],\"parcoords\":[{\"type\":\"parcoords\",\"line\":{\"colorbar\":{\"outlinewidth\":0,\"ticks\":\"\"}}}],\"scatterpolargl\":[{\"type\":\"scatterpolargl\",\"marker\":{\"colorbar\":{\"outlinewidth\":0,\"ticks\":\"\"}}}],\"bar\":[{\"error_x\":{\"color\":\"#2a3f5f\"},\"error_y\":{\"color\":\"#2a3f5f\"},\"marker\":{\"line\":{\"color\":\"#E5ECF6\",\"width\":0.5},\"pattern\":{\"fillmode\":\"overlay\",\"size\":10,\"solidity\":0.2}},\"type\":\"bar\"}],\"scattergeo\":[{\"type\":\"scattergeo\",\"marker\":{\"colorbar\":{\"outlinewidth\":0,\"ticks\":\"\"}}}],\"scatterpolar\":[{\"type\":\"scatterpolar\",\"marker\":{\"colorbar\":{\"outlinewidth\":0,\"ticks\":\"\"}}}],\"histogram\":[{\"marker\":{\"pattern\":{\"fillmode\":\"overlay\",\"size\":10,\"solidity\":0.2}},\"type\":\"histogram\"}],\"scattergl\":[{\"type\":\"scattergl\",\"marker\":{\"colorbar\":{\"outlinewidth\":0,\"ticks\":\"\"}}}],\"scatter3d\":[{\"type\":\"scatter3d\",\"line\":{\"colorbar\":{\"outlinewidth\":0,\"ticks\":\"\"}},\"marker\":{\"colorbar\":{\"outlinewidth\":0,\"ticks\":\"\"}}}],\"scattermapbox\":[{\"type\":\"scattermapbox\",\"marker\":{\"colorbar\":{\"outlinewidth\":0,\"ticks\":\"\"}}}],\"scatterternary\":[{\"type\":\"scatterternary\",\"marker\":{\"colorbar\":{\"outlinewidth\":0,\"ticks\":\"\"}}}],\"scattercarpet\":[{\"type\":\"scattercarpet\",\"marker\":{\"colorbar\":{\"outlinewidth\":0,\"ticks\":\"\"}}}],\"carpet\":[{\"aaxis\":{\"endlinecolor\":\"#2a3f5f\",\"gridcolor\":\"white\",\"linecolor\":\"white\",\"minorgridcolor\":\"white\",\"startlinecolor\":\"#2a3f5f\"},\"baxis\":{\"endlinecolor\":\"#2a3f5f\",\"gridcolor\":\"white\",\"linecolor\":\"white\",\"minorgridcolor\":\"white\",\"startlinecolor\":\"#2a3f5f\"},\"type\":\"carpet\"}],\"table\":[{\"cells\":{\"fill\":{\"color\":\"#EBF0F8\"},\"line\":{\"color\":\"white\"}},\"header\":{\"fill\":{\"color\":\"#C8D4E3\"},\"line\":{\"color\":\"white\"}},\"type\":\"table\"}],\"barpolar\":[{\"marker\":{\"line\":{\"color\":\"#E5ECF6\",\"width\":0.5},\"pattern\":{\"fillmode\":\"overlay\",\"size\":10,\"solidity\":0.2}},\"type\":\"barpolar\"}],\"pie\":[{\"automargin\":true,\"type\":\"pie\"}]},\"layout\":{\"autotypenumbers\":\"strict\",\"colorway\":[\"#636efa\",\"#EF553B\",\"#00cc96\",\"#ab63fa\",\"#FFA15A\",\"#19d3f3\",\"#FF6692\",\"#B6E880\",\"#FF97FF\",\"#FECB52\"],\"font\":{\"color\":\"#2a3f5f\"},\"hovermode\":\"closest\",\"hoverlabel\":{\"align\":\"left\"},\"paper_bgcolor\":\"white\",\"plot_bgcolor\":\"#E5ECF6\",\"polar\":{\"bgcolor\":\"#E5ECF6\",\"angularaxis\":{\"gridcolor\":\"white\",\"linecolor\":\"white\",\"ticks\":\"\"},\"radialaxis\":{\"gridcolor\":\"white\",\"linecolor\":\"white\",\"ticks\":\"\"}},\"ternary\":{\"bgcolor\":\"#E5ECF6\",\"aaxis\":{\"gridcolor\":\"white\",\"linecolor\":\"white\",\"ticks\":\"\"},\"baxis\":{\"gridcolor\":\"white\",\"linecolor\":\"white\",\"ticks\":\"\"},\"caxis\":{\"gridcolor\":\"white\",\"linecolor\":\"white\",\"ticks\":\"\"}},\"coloraxis\":{\"colorbar\":{\"outlinewidth\":0,\"ticks\":\"\"}},\"colorscale\":{\"sequential\":[[0.0,\"#0d0887\"],[0.1111111111111111,\"#46039f\"],[0.2222222222222222,\"#7201a8\"],[0.3333333333333333,\"#9c179e\"],[0.4444444444444444,\"#bd3786\"],[0.5555555555555556,\"#d8576b\"],[0.6666666666666666,\"#ed7953\"],[0.7777777777777778,\"#fb9f3a\"],[0.8888888888888888,\"#fdca26\"],[1.0,\"#f0f921\"]],\"sequentialminus\":[[0.0,\"#0d0887\"],[0.1111111111111111,\"#46039f\"],[0.2222222222222222,\"#7201a8\"],[0.3333333333333333,\"#9c179e\"],[0.4444444444444444,\"#bd3786\"],[0.5555555555555556,\"#d8576b\"],[0.6666666666666666,\"#ed7953\"],[0.7777777777777778,\"#fb9f3a\"],[0.8888888888888888,\"#fdca26\"],[1.0,\"#f0f921\"]],\"diverging\":[[0,\"#8e0152\"],[0.1,\"#c51b7d\"],[0.2,\"#de77ae\"],[0.3,\"#f1b6da\"],[0.4,\"#fde0ef\"],[0.5,\"#f7f7f7\"],[0.6,\"#e6f5d0\"],[0.7,\"#b8e186\"],[0.8,\"#7fbc41\"],[0.9,\"#4d9221\"],[1,\"#276419\"]]},\"xaxis\":{\"gridcolor\":\"white\",\"linecolor\":\"white\",\"ticks\":\"\",\"title\":{\"standoff\":15},\"zerolinecolor\":\"white\",\"automargin\":true,\"zerolinewidth\":2},\"yaxis\":{\"gridcolor\":\"white\",\"linecolor\":\"white\",\"ticks\":\"\",\"title\":{\"standoff\":15},\"zerolinecolor\":\"white\",\"automargin\":true,\"zerolinewidth\":2},\"scene\":{\"xaxis\":{\"backgroundcolor\":\"#E5ECF6\",\"gridcolor\":\"white\",\"linecolor\":\"white\",\"showbackground\":true,\"ticks\":\"\",\"zerolinecolor\":\"white\",\"gridwidth\":2},\"yaxis\":{\"backgroundcolor\":\"#E5ECF6\",\"gridcolor\":\"white\",\"linecolor\":\"white\",\"showbackground\":true,\"ticks\":\"\",\"zerolinecolor\":\"white\",\"gridwidth\":2},\"zaxis\":{\"backgroundcolor\":\"#E5ECF6\",\"gridcolor\":\"white\",\"linecolor\":\"white\",\"showbackground\":true,\"ticks\":\"\",\"zerolinecolor\":\"white\",\"gridwidth\":2}},\"shapedefaults\":{\"line\":{\"color\":\"#2a3f5f\"}},\"annotationdefaults\":{\"arrowcolor\":\"#2a3f5f\",\"arrowhead\":0,\"arrowwidth\":1},\"geo\":{\"bgcolor\":\"white\",\"landcolor\":\"#E5ECF6\",\"subunitcolor\":\"white\",\"showland\":true,\"showlakes\":true,\"lakecolor\":\"white\"},\"title\":{\"x\":0.05},\"mapbox\":{\"style\":\"light\"}}}},                        {\"responsive\": true}                    ).then(function(){\n",
              "                            \n",
              "var gd = document.getElementById('c4bf93ac-63c1-4c72-acb5-1c89d098f238');\n",
              "var x = new MutationObserver(function (mutations, observer) {{\n",
              "        var display = window.getComputedStyle(gd).display;\n",
              "        if (!display || display === 'none') {{\n",
              "            console.log([gd, 'removed!']);\n",
              "            Plotly.purge(gd);\n",
              "            observer.disconnect();\n",
              "        }}\n",
              "}});\n",
              "\n",
              "// Listen for the removal of the full notebook cells\n",
              "var notebookContainer = gd.closest('#notebook-container');\n",
              "if (notebookContainer) {{\n",
              "    x.observe(notebookContainer, {childList: true});\n",
              "}}\n",
              "\n",
              "// Listen for the clearing of the current output cell\n",
              "var outputEl = gd.closest('.output');\n",
              "if (outputEl) {{\n",
              "    x.observe(outputEl, {childList: true});\n",
              "}}\n",
              "\n",
              "                        })                };                            </script>        </div>\n",
              "</body>\n",
              "</html>"
            ]
          },
          "metadata": {}
        }
      ]
    }
  ]
}