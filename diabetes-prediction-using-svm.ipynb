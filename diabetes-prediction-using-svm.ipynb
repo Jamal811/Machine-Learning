{
 "cells": [
  {
   "cell_type": "markdown",
   "id": "dc1ff869",
   "metadata": {
    "id": "LnPbntVRnfvV",
    "papermill": {
     "duration": 0.014522,
     "end_time": "2024-10-17T10:01:33.368406",
     "exception": false,
     "start_time": "2024-10-17T10:01:33.353884",
     "status": "completed"
    },
    "tags": []
   },
   "source": [
    "Importing the Dependencies"
   ]
  },
  {
   "cell_type": "code",
   "execution_count": 1,
   "id": "4dc34256",
   "metadata": {
    "execution": {
     "iopub.execute_input": "2024-10-17T10:01:33.398796Z",
     "iopub.status.busy": "2024-10-17T10:01:33.398252Z",
     "iopub.status.idle": "2024-10-17T10:01:36.744895Z",
     "shell.execute_reply": "2024-10-17T10:01:36.743677Z"
    },
    "executionInfo": {
     "elapsed": 11209,
     "status": "ok",
     "timestamp": 1729158776501,
     "user": {
      "displayName": "Jamal Shah",
      "userId": "12126712930589502291"
     },
     "user_tz": -300
    },
    "id": "-71UtHzNVWjB",
    "papermill": {
     "duration": 3.366162,
     "end_time": "2024-10-17T10:01:36.748346",
     "exception": false,
     "start_time": "2024-10-17T10:01:33.382184",
     "status": "completed"
    },
    "tags": []
   },
   "outputs": [],
   "source": [
    "import numpy as np\n",
    "import pandas as pd\n",
    "from sklearn.preprocessing import StandardScaler\n",
    "from sklearn.model_selection import train_test_split\n",
    "from sklearn import svm\n",
    "from sklearn.metrics import accuracy_score"
   ]
  },
  {
   "cell_type": "markdown",
   "id": "7dc0c768",
   "metadata": {
    "id": "bmfOfG8joBBy",
    "papermill": {
     "duration": 0.014579,
     "end_time": "2024-10-17T10:01:36.777804",
     "exception": false,
     "start_time": "2024-10-17T10:01:36.763225",
     "status": "completed"
    },
    "tags": []
   },
   "source": [
    "Data Collection and Analysis\n",
    "\n",
    "PIMA Diabetes Dataset"
   ]
  },
  {
   "cell_type": "code",
   "execution_count": 2,
   "id": "55852c0d",
   "metadata": {
    "execution": {
     "iopub.execute_input": "2024-10-17T10:01:36.808399Z",
     "iopub.status.busy": "2024-10-17T10:01:36.807786Z",
     "iopub.status.idle": "2024-10-17T10:01:36.834204Z",
     "shell.execute_reply": "2024-10-17T10:01:36.832771Z"
    },
    "executionInfo": {
     "elapsed": 67,
     "status": "ok",
     "timestamp": 1729158776516,
     "user": {
      "displayName": "Jamal Shah",
      "userId": "12126712930589502291"
     },
     "user_tz": -300
    },
    "id": "Xpw6Mj_pn_TL",
    "papermill": {
     "duration": 0.045226,
     "end_time": "2024-10-17T10:01:36.837640",
     "exception": false,
     "start_time": "2024-10-17T10:01:36.792414",
     "status": "completed"
    },
    "tags": []
   },
   "outputs": [],
   "source": [
    "# loading the diabetes dataset to a pandas DataFrame\n",
    "diabetes_dataset = pd.read_csv('/kaggle/input/review/diabetes.csv')"
   ]
  },
  {
   "cell_type": "code",
   "execution_count": 3,
   "id": "6f3807f7",
   "metadata": {
    "execution": {
     "iopub.execute_input": "2024-10-17T10:01:36.868139Z",
     "iopub.status.busy": "2024-10-17T10:01:36.867629Z",
     "iopub.status.idle": "2024-10-17T10:01:36.902138Z",
     "shell.execute_reply": "2024-10-17T10:01:36.900591Z"
    },
    "executionInfo": {
     "elapsed": 92,
     "status": "ok",
     "timestamp": 1729158776547,
     "user": {
      "displayName": "Jamal Shah",
      "userId": "12126712930589502291"
     },
     "user_tz": -300
    },
    "id": "-tjO09ncovoh",
    "outputId": "c0b97d45-b11d-4471-9800-84c3e0a938d3",
    "papermill": {
     "duration": 0.053521,
     "end_time": "2024-10-17T10:01:36.905268",
     "exception": false,
     "start_time": "2024-10-17T10:01:36.851747",
     "status": "completed"
    },
    "tags": []
   },
   "outputs": [
    {
     "data": {
      "text/html": [
       "<div>\n",
       "<style scoped>\n",
       "    .dataframe tbody tr th:only-of-type {\n",
       "        vertical-align: middle;\n",
       "    }\n",
       "\n",
       "    .dataframe tbody tr th {\n",
       "        vertical-align: top;\n",
       "    }\n",
       "\n",
       "    .dataframe thead th {\n",
       "        text-align: right;\n",
       "    }\n",
       "</style>\n",
       "<table border=\"1\" class=\"dataframe\">\n",
       "  <thead>\n",
       "    <tr style=\"text-align: right;\">\n",
       "      <th></th>\n",
       "      <th>Pregnancies</th>\n",
       "      <th>Glucose</th>\n",
       "      <th>BloodPressure</th>\n",
       "      <th>SkinThickness</th>\n",
       "      <th>Insulin</th>\n",
       "      <th>BMI</th>\n",
       "      <th>DiabetesPedigreeFunction</th>\n",
       "      <th>Age</th>\n",
       "      <th>Outcome</th>\n",
       "    </tr>\n",
       "  </thead>\n",
       "  <tbody>\n",
       "    <tr>\n",
       "      <th>0</th>\n",
       "      <td>6</td>\n",
       "      <td>148</td>\n",
       "      <td>72</td>\n",
       "      <td>35</td>\n",
       "      <td>0</td>\n",
       "      <td>33.6</td>\n",
       "      <td>0.627</td>\n",
       "      <td>50</td>\n",
       "      <td>1</td>\n",
       "    </tr>\n",
       "    <tr>\n",
       "      <th>1</th>\n",
       "      <td>1</td>\n",
       "      <td>85</td>\n",
       "      <td>66</td>\n",
       "      <td>29</td>\n",
       "      <td>0</td>\n",
       "      <td>26.6</td>\n",
       "      <td>0.351</td>\n",
       "      <td>31</td>\n",
       "      <td>0</td>\n",
       "    </tr>\n",
       "    <tr>\n",
       "      <th>2</th>\n",
       "      <td>8</td>\n",
       "      <td>183</td>\n",
       "      <td>64</td>\n",
       "      <td>0</td>\n",
       "      <td>0</td>\n",
       "      <td>23.3</td>\n",
       "      <td>0.672</td>\n",
       "      <td>32</td>\n",
       "      <td>1</td>\n",
       "    </tr>\n",
       "    <tr>\n",
       "      <th>3</th>\n",
       "      <td>1</td>\n",
       "      <td>89</td>\n",
       "      <td>66</td>\n",
       "      <td>23</td>\n",
       "      <td>94</td>\n",
       "      <td>28.1</td>\n",
       "      <td>0.167</td>\n",
       "      <td>21</td>\n",
       "      <td>0</td>\n",
       "    </tr>\n",
       "    <tr>\n",
       "      <th>4</th>\n",
       "      <td>0</td>\n",
       "      <td>137</td>\n",
       "      <td>40</td>\n",
       "      <td>35</td>\n",
       "      <td>168</td>\n",
       "      <td>43.1</td>\n",
       "      <td>2.288</td>\n",
       "      <td>33</td>\n",
       "      <td>1</td>\n",
       "    </tr>\n",
       "  </tbody>\n",
       "</table>\n",
       "</div>"
      ],
      "text/plain": [
       "   Pregnancies  Glucose  BloodPressure  SkinThickness  Insulin   BMI  \\\n",
       "0            6      148             72             35        0  33.6   \n",
       "1            1       85             66             29        0  26.6   \n",
       "2            8      183             64              0        0  23.3   \n",
       "3            1       89             66             23       94  28.1   \n",
       "4            0      137             40             35      168  43.1   \n",
       "\n",
       "   DiabetesPedigreeFunction  Age  Outcome  \n",
       "0                     0.627   50        1  \n",
       "1                     0.351   31        0  \n",
       "2                     0.672   32        1  \n",
       "3                     0.167   21        0  \n",
       "4                     2.288   33        1  "
      ]
     },
     "execution_count": 3,
     "metadata": {},
     "output_type": "execute_result"
    }
   ],
   "source": [
    "# printing the first 5 rows of the dataset\n",
    "diabetes_dataset.head()"
   ]
  },
  {
   "cell_type": "code",
   "execution_count": 4,
   "id": "fd50eac2",
   "metadata": {
    "execution": {
     "iopub.execute_input": "2024-10-17T10:01:36.935555Z",
     "iopub.status.busy": "2024-10-17T10:01:36.935087Z",
     "iopub.status.idle": "2024-10-17T10:01:36.943190Z",
     "shell.execute_reply": "2024-10-17T10:01:36.941964Z"
    },
    "executionInfo": {
     "elapsed": 88,
     "status": "ok",
     "timestamp": 1729158776548,
     "user": {
      "displayName": "Jamal Shah",
      "userId": "12126712930589502291"
     },
     "user_tz": -300
    },
    "id": "lynParo6pEMB",
    "outputId": "d37b9d4e-2dd2-4652-a6c3-57c4ada4d901",
    "papermill": {
     "duration": 0.026493,
     "end_time": "2024-10-17T10:01:36.946001",
     "exception": false,
     "start_time": "2024-10-17T10:01:36.919508",
     "status": "completed"
    },
    "tags": []
   },
   "outputs": [
    {
     "data": {
      "text/plain": [
       "(768, 9)"
      ]
     },
     "execution_count": 4,
     "metadata": {},
     "output_type": "execute_result"
    }
   ],
   "source": [
    "# number of rows and Columns in this dataset\n",
    "diabetes_dataset.shape"
   ]
  },
  {
   "cell_type": "code",
   "execution_count": 5,
   "id": "918d8fe0",
   "metadata": {
    "execution": {
     "iopub.execute_input": "2024-10-17T10:01:36.978375Z",
     "iopub.status.busy": "2024-10-17T10:01:36.977837Z",
     "iopub.status.idle": "2024-10-17T10:01:37.024242Z",
     "shell.execute_reply": "2024-10-17T10:01:37.022958Z"
    },
    "executionInfo": {
     "elapsed": 80,
     "status": "ok",
     "timestamp": 1729158776548,
     "user": {
      "displayName": "Jamal Shah",
      "userId": "12126712930589502291"
     },
     "user_tz": -300
    },
    "id": "3NDJOlrEpmoL",
    "outputId": "f33e6083-879a-4eed-87af-8beddc8cdc16",
    "papermill": {
     "duration": 0.066337,
     "end_time": "2024-10-17T10:01:37.027086",
     "exception": false,
     "start_time": "2024-10-17T10:01:36.960749",
     "status": "completed"
    },
    "tags": []
   },
   "outputs": [
    {
     "data": {
      "text/html": [
       "<div>\n",
       "<style scoped>\n",
       "    .dataframe tbody tr th:only-of-type {\n",
       "        vertical-align: middle;\n",
       "    }\n",
       "\n",
       "    .dataframe tbody tr th {\n",
       "        vertical-align: top;\n",
       "    }\n",
       "\n",
       "    .dataframe thead th {\n",
       "        text-align: right;\n",
       "    }\n",
       "</style>\n",
       "<table border=\"1\" class=\"dataframe\">\n",
       "  <thead>\n",
       "    <tr style=\"text-align: right;\">\n",
       "      <th></th>\n",
       "      <th>Pregnancies</th>\n",
       "      <th>Glucose</th>\n",
       "      <th>BloodPressure</th>\n",
       "      <th>SkinThickness</th>\n",
       "      <th>Insulin</th>\n",
       "      <th>BMI</th>\n",
       "      <th>DiabetesPedigreeFunction</th>\n",
       "      <th>Age</th>\n",
       "      <th>Outcome</th>\n",
       "    </tr>\n",
       "  </thead>\n",
       "  <tbody>\n",
       "    <tr>\n",
       "      <th>count</th>\n",
       "      <td>768.000000</td>\n",
       "      <td>768.000000</td>\n",
       "      <td>768.000000</td>\n",
       "      <td>768.000000</td>\n",
       "      <td>768.000000</td>\n",
       "      <td>768.000000</td>\n",
       "      <td>768.000000</td>\n",
       "      <td>768.000000</td>\n",
       "      <td>768.000000</td>\n",
       "    </tr>\n",
       "    <tr>\n",
       "      <th>mean</th>\n",
       "      <td>3.845052</td>\n",
       "      <td>120.894531</td>\n",
       "      <td>69.105469</td>\n",
       "      <td>20.536458</td>\n",
       "      <td>79.799479</td>\n",
       "      <td>31.992578</td>\n",
       "      <td>0.471876</td>\n",
       "      <td>33.240885</td>\n",
       "      <td>0.348958</td>\n",
       "    </tr>\n",
       "    <tr>\n",
       "      <th>std</th>\n",
       "      <td>3.369578</td>\n",
       "      <td>31.972618</td>\n",
       "      <td>19.355807</td>\n",
       "      <td>15.952218</td>\n",
       "      <td>115.244002</td>\n",
       "      <td>7.884160</td>\n",
       "      <td>0.331329</td>\n",
       "      <td>11.760232</td>\n",
       "      <td>0.476951</td>\n",
       "    </tr>\n",
       "    <tr>\n",
       "      <th>min</th>\n",
       "      <td>0.000000</td>\n",
       "      <td>0.000000</td>\n",
       "      <td>0.000000</td>\n",
       "      <td>0.000000</td>\n",
       "      <td>0.000000</td>\n",
       "      <td>0.000000</td>\n",
       "      <td>0.078000</td>\n",
       "      <td>21.000000</td>\n",
       "      <td>0.000000</td>\n",
       "    </tr>\n",
       "    <tr>\n",
       "      <th>25%</th>\n",
       "      <td>1.000000</td>\n",
       "      <td>99.000000</td>\n",
       "      <td>62.000000</td>\n",
       "      <td>0.000000</td>\n",
       "      <td>0.000000</td>\n",
       "      <td>27.300000</td>\n",
       "      <td>0.243750</td>\n",
       "      <td>24.000000</td>\n",
       "      <td>0.000000</td>\n",
       "    </tr>\n",
       "    <tr>\n",
       "      <th>50%</th>\n",
       "      <td>3.000000</td>\n",
       "      <td>117.000000</td>\n",
       "      <td>72.000000</td>\n",
       "      <td>23.000000</td>\n",
       "      <td>30.500000</td>\n",
       "      <td>32.000000</td>\n",
       "      <td>0.372500</td>\n",
       "      <td>29.000000</td>\n",
       "      <td>0.000000</td>\n",
       "    </tr>\n",
       "    <tr>\n",
       "      <th>75%</th>\n",
       "      <td>6.000000</td>\n",
       "      <td>140.250000</td>\n",
       "      <td>80.000000</td>\n",
       "      <td>32.000000</td>\n",
       "      <td>127.250000</td>\n",
       "      <td>36.600000</td>\n",
       "      <td>0.626250</td>\n",
       "      <td>41.000000</td>\n",
       "      <td>1.000000</td>\n",
       "    </tr>\n",
       "    <tr>\n",
       "      <th>max</th>\n",
       "      <td>17.000000</td>\n",
       "      <td>199.000000</td>\n",
       "      <td>122.000000</td>\n",
       "      <td>99.000000</td>\n",
       "      <td>846.000000</td>\n",
       "      <td>67.100000</td>\n",
       "      <td>2.420000</td>\n",
       "      <td>81.000000</td>\n",
       "      <td>1.000000</td>\n",
       "    </tr>\n",
       "  </tbody>\n",
       "</table>\n",
       "</div>"
      ],
      "text/plain": [
       "       Pregnancies     Glucose  BloodPressure  SkinThickness     Insulin  \\\n",
       "count   768.000000  768.000000     768.000000     768.000000  768.000000   \n",
       "mean      3.845052  120.894531      69.105469      20.536458   79.799479   \n",
       "std       3.369578   31.972618      19.355807      15.952218  115.244002   \n",
       "min       0.000000    0.000000       0.000000       0.000000    0.000000   \n",
       "25%       1.000000   99.000000      62.000000       0.000000    0.000000   \n",
       "50%       3.000000  117.000000      72.000000      23.000000   30.500000   \n",
       "75%       6.000000  140.250000      80.000000      32.000000  127.250000   \n",
       "max      17.000000  199.000000     122.000000      99.000000  846.000000   \n",
       "\n",
       "              BMI  DiabetesPedigreeFunction         Age     Outcome  \n",
       "count  768.000000                768.000000  768.000000  768.000000  \n",
       "mean    31.992578                  0.471876   33.240885    0.348958  \n",
       "std      7.884160                  0.331329   11.760232    0.476951  \n",
       "min      0.000000                  0.078000   21.000000    0.000000  \n",
       "25%     27.300000                  0.243750   24.000000    0.000000  \n",
       "50%     32.000000                  0.372500   29.000000    0.000000  \n",
       "75%     36.600000                  0.626250   41.000000    1.000000  \n",
       "max     67.100000                  2.420000   81.000000    1.000000  "
      ]
     },
     "execution_count": 5,
     "metadata": {},
     "output_type": "execute_result"
    }
   ],
   "source": [
    "# getting the statistical measures of the data\n",
    "diabetes_dataset.describe()"
   ]
  },
  {
   "cell_type": "code",
   "execution_count": 6,
   "id": "5f63d012",
   "metadata": {
    "execution": {
     "iopub.execute_input": "2024-10-17T10:01:37.058379Z",
     "iopub.status.busy": "2024-10-17T10:01:37.057896Z",
     "iopub.status.idle": "2024-10-17T10:01:37.075879Z",
     "shell.execute_reply": "2024-10-17T10:01:37.074610Z"
    },
    "executionInfo": {
     "elapsed": 76,
     "status": "ok",
     "timestamp": 1729158776548,
     "user": {
      "displayName": "Jamal Shah",
      "userId": "12126712930589502291"
     },
     "user_tz": -300
    },
    "id": "LrpHzaGpp5dQ",
    "outputId": "01a5d5ac-fd7d-4507-cad2-48ae6db44bf6",
    "papermill": {
     "duration": 0.037376,
     "end_time": "2024-10-17T10:01:37.078888",
     "exception": false,
     "start_time": "2024-10-17T10:01:37.041512",
     "status": "completed"
    },
    "tags": []
   },
   "outputs": [
    {
     "data": {
      "text/plain": [
       "Outcome\n",
       "0    500\n",
       "1    268\n",
       "Name: count, dtype: int64"
      ]
     },
     "execution_count": 6,
     "metadata": {},
     "output_type": "execute_result"
    }
   ],
   "source": [
    "diabetes_dataset['Outcome'].value_counts()"
   ]
  },
  {
   "cell_type": "markdown",
   "id": "8e407ed7",
   "metadata": {
    "id": "cB1qRaNcqeh5",
    "papermill": {
     "duration": 0.014252,
     "end_time": "2024-10-17T10:01:37.107998",
     "exception": false,
     "start_time": "2024-10-17T10:01:37.093746",
     "status": "completed"
    },
    "tags": []
   },
   "source": [
    "0 --> Non-Diabetic\n",
    "\n",
    "1 --> Diabetic"
   ]
  },
  {
   "cell_type": "code",
   "execution_count": 7,
   "id": "96d36af9",
   "metadata": {
    "execution": {
     "iopub.execute_input": "2024-10-17T10:01:37.139663Z",
     "iopub.status.busy": "2024-10-17T10:01:37.139219Z",
     "iopub.status.idle": "2024-10-17T10:01:37.164443Z",
     "shell.execute_reply": "2024-10-17T10:01:37.163010Z"
    },
    "executionInfo": {
     "elapsed": 565,
     "status": "ok",
     "timestamp": 1729158777040,
     "user": {
      "displayName": "Jamal Shah",
      "userId": "12126712930589502291"
     },
     "user_tz": -300
    },
    "id": "I6MWR0k_qSCK",
    "outputId": "02469b2a-f10e-4d2a-93c4-b6bfacbdc5f6",
    "papermill": {
     "duration": 0.04473,
     "end_time": "2024-10-17T10:01:37.167494",
     "exception": false,
     "start_time": "2024-10-17T10:01:37.122764",
     "status": "completed"
    },
    "tags": []
   },
   "outputs": [
    {
     "data": {
      "text/html": [
       "<div>\n",
       "<style scoped>\n",
       "    .dataframe tbody tr th:only-of-type {\n",
       "        vertical-align: middle;\n",
       "    }\n",
       "\n",
       "    .dataframe tbody tr th {\n",
       "        vertical-align: top;\n",
       "    }\n",
       "\n",
       "    .dataframe thead th {\n",
       "        text-align: right;\n",
       "    }\n",
       "</style>\n",
       "<table border=\"1\" class=\"dataframe\">\n",
       "  <thead>\n",
       "    <tr style=\"text-align: right;\">\n",
       "      <th></th>\n",
       "      <th>Pregnancies</th>\n",
       "      <th>Glucose</th>\n",
       "      <th>BloodPressure</th>\n",
       "      <th>SkinThickness</th>\n",
       "      <th>Insulin</th>\n",
       "      <th>BMI</th>\n",
       "      <th>DiabetesPedigreeFunction</th>\n",
       "      <th>Age</th>\n",
       "    </tr>\n",
       "    <tr>\n",
       "      <th>Outcome</th>\n",
       "      <th></th>\n",
       "      <th></th>\n",
       "      <th></th>\n",
       "      <th></th>\n",
       "      <th></th>\n",
       "      <th></th>\n",
       "      <th></th>\n",
       "      <th></th>\n",
       "    </tr>\n",
       "  </thead>\n",
       "  <tbody>\n",
       "    <tr>\n",
       "      <th>0</th>\n",
       "      <td>3.298000</td>\n",
       "      <td>109.980000</td>\n",
       "      <td>68.184000</td>\n",
       "      <td>19.664000</td>\n",
       "      <td>68.792000</td>\n",
       "      <td>30.304200</td>\n",
       "      <td>0.429734</td>\n",
       "      <td>31.190000</td>\n",
       "    </tr>\n",
       "    <tr>\n",
       "      <th>1</th>\n",
       "      <td>4.865672</td>\n",
       "      <td>141.257463</td>\n",
       "      <td>70.824627</td>\n",
       "      <td>22.164179</td>\n",
       "      <td>100.335821</td>\n",
       "      <td>35.142537</td>\n",
       "      <td>0.550500</td>\n",
       "      <td>37.067164</td>\n",
       "    </tr>\n",
       "  </tbody>\n",
       "</table>\n",
       "</div>"
      ],
      "text/plain": [
       "         Pregnancies     Glucose  BloodPressure  SkinThickness     Insulin  \\\n",
       "Outcome                                                                      \n",
       "0           3.298000  109.980000      68.184000      19.664000   68.792000   \n",
       "1           4.865672  141.257463      70.824627      22.164179  100.335821   \n",
       "\n",
       "               BMI  DiabetesPedigreeFunction        Age  \n",
       "Outcome                                                  \n",
       "0        30.304200                  0.429734  31.190000  \n",
       "1        35.142537                  0.550500  37.067164  "
      ]
     },
     "execution_count": 7,
     "metadata": {},
     "output_type": "execute_result"
    }
   ],
   "source": [
    "diabetes_dataset.groupby('Outcome').mean()"
   ]
  },
  {
   "cell_type": "code",
   "execution_count": 8,
   "id": "dc4373a0",
   "metadata": {
    "execution": {
     "iopub.execute_input": "2024-10-17T10:01:37.199962Z",
     "iopub.status.busy": "2024-10-17T10:01:37.199418Z",
     "iopub.status.idle": "2024-10-17T10:01:37.210796Z",
     "shell.execute_reply": "2024-10-17T10:01:37.209443Z"
    },
    "executionInfo": {
     "elapsed": 59,
     "status": "ok",
     "timestamp": 1729158777040,
     "user": {
      "displayName": "Jamal Shah",
      "userId": "12126712930589502291"
     },
     "user_tz": -300
    },
    "id": "RoDW7l9mqqHZ",
    "papermill": {
     "duration": 0.031393,
     "end_time": "2024-10-17T10:01:37.213998",
     "exception": false,
     "start_time": "2024-10-17T10:01:37.182605",
     "status": "completed"
    },
    "tags": []
   },
   "outputs": [],
   "source": [
    "# separating the data and labels\n",
    "X = diabetes_dataset.drop(columns = 'Outcome', axis=1)\n",
    "Y = diabetes_dataset['Outcome']"
   ]
  },
  {
   "cell_type": "code",
   "execution_count": 9,
   "id": "4e29419a",
   "metadata": {
    "execution": {
     "iopub.execute_input": "2024-10-17T10:01:37.246407Z",
     "iopub.status.busy": "2024-10-17T10:01:37.245826Z",
     "iopub.status.idle": "2024-10-17T10:01:37.259119Z",
     "shell.execute_reply": "2024-10-17T10:01:37.257764Z"
    },
    "executionInfo": {
     "elapsed": 59,
     "status": "ok",
     "timestamp": 1729158777040,
     "user": {
      "displayName": "Jamal Shah",
      "userId": "12126712930589502291"
     },
     "user_tz": -300
    },
    "id": "3eiRW9M9raMm",
    "outputId": "0621ca1a-955d-44be-ef51-e65ddbeb1467",
    "papermill": {
     "duration": 0.033133,
     "end_time": "2024-10-17T10:01:37.261971",
     "exception": false,
     "start_time": "2024-10-17T10:01:37.228838",
     "status": "completed"
    },
    "tags": []
   },
   "outputs": [
    {
     "name": "stdout",
     "output_type": "stream",
     "text": [
      "     Pregnancies  Glucose  BloodPressure  SkinThickness  Insulin   BMI  \\\n",
      "0              6      148             72             35        0  33.6   \n",
      "1              1       85             66             29        0  26.6   \n",
      "2              8      183             64              0        0  23.3   \n",
      "3              1       89             66             23       94  28.1   \n",
      "4              0      137             40             35      168  43.1   \n",
      "..           ...      ...            ...            ...      ...   ...   \n",
      "763           10      101             76             48      180  32.9   \n",
      "764            2      122             70             27        0  36.8   \n",
      "765            5      121             72             23      112  26.2   \n",
      "766            1      126             60              0        0  30.1   \n",
      "767            1       93             70             31        0  30.4   \n",
      "\n",
      "     DiabetesPedigreeFunction  Age  \n",
      "0                       0.627   50  \n",
      "1                       0.351   31  \n",
      "2                       0.672   32  \n",
      "3                       0.167   21  \n",
      "4                       2.288   33  \n",
      "..                        ...  ...  \n",
      "763                     0.171   63  \n",
      "764                     0.340   27  \n",
      "765                     0.245   30  \n",
      "766                     0.349   47  \n",
      "767                     0.315   23  \n",
      "\n",
      "[768 rows x 8 columns]\n"
     ]
    }
   ],
   "source": [
    "print(X)"
   ]
  },
  {
   "cell_type": "code",
   "execution_count": 10,
   "id": "41aeddbb",
   "metadata": {
    "execution": {
     "iopub.execute_input": "2024-10-17T10:01:37.294172Z",
     "iopub.status.busy": "2024-10-17T10:01:37.293618Z",
     "iopub.status.idle": "2024-10-17T10:01:37.303458Z",
     "shell.execute_reply": "2024-10-17T10:01:37.301835Z"
    },
    "executionInfo": {
     "elapsed": 58,
     "status": "ok",
     "timestamp": 1729158777041,
     "user": {
      "displayName": "Jamal Shah",
      "userId": "12126712930589502291"
     },
     "user_tz": -300
    },
    "id": "AoxgTJAMrcCl",
    "outputId": "b0c42cee-a9bc-41c9-975a-e089b698c055",
    "papermill": {
     "duration": 0.029328,
     "end_time": "2024-10-17T10:01:37.306426",
     "exception": false,
     "start_time": "2024-10-17T10:01:37.277098",
     "status": "completed"
    },
    "tags": []
   },
   "outputs": [
    {
     "name": "stdout",
     "output_type": "stream",
     "text": [
      "0      1\n",
      "1      0\n",
      "2      1\n",
      "3      0\n",
      "4      1\n",
      "      ..\n",
      "763    0\n",
      "764    0\n",
      "765    0\n",
      "766    1\n",
      "767    0\n",
      "Name: Outcome, Length: 768, dtype: int64\n"
     ]
    }
   ],
   "source": [
    "print(Y)"
   ]
  },
  {
   "cell_type": "markdown",
   "id": "5a098e2e",
   "metadata": {
    "id": "umAbo_kqrlzI",
    "papermill": {
     "duration": 0.015261,
     "end_time": "2024-10-17T10:01:37.336922",
     "exception": false,
     "start_time": "2024-10-17T10:01:37.321661",
     "status": "completed"
    },
    "tags": []
   },
   "source": [
    "Data Standardization"
   ]
  },
  {
   "cell_type": "code",
   "execution_count": 11,
   "id": "1a3e0738",
   "metadata": {
    "execution": {
     "iopub.execute_input": "2024-10-17T10:01:37.370482Z",
     "iopub.status.busy": "2024-10-17T10:01:37.369921Z",
     "iopub.status.idle": "2024-10-17T10:01:37.376127Z",
     "shell.execute_reply": "2024-10-17T10:01:37.374746Z"
    },
    "executionInfo": {
     "elapsed": 52,
     "status": "ok",
     "timestamp": 1729158777041,
     "user": {
      "displayName": "Jamal Shah",
      "userId": "12126712930589502291"
     },
     "user_tz": -300
    },
    "id": "njfM5X60rgnc",
    "papermill": {
     "duration": 0.026157,
     "end_time": "2024-10-17T10:01:37.378883",
     "exception": false,
     "start_time": "2024-10-17T10:01:37.352726",
     "status": "completed"
    },
    "tags": []
   },
   "outputs": [],
   "source": [
    "scaler = StandardScaler()"
   ]
  },
  {
   "cell_type": "code",
   "execution_count": 12,
   "id": "f1fbe094",
   "metadata": {
    "execution": {
     "iopub.execute_input": "2024-10-17T10:01:37.410460Z",
     "iopub.status.busy": "2024-10-17T10:01:37.409906Z",
     "iopub.status.idle": "2024-10-17T10:01:37.425773Z",
     "shell.execute_reply": "2024-10-17T10:01:37.424248Z"
    },
    "executionInfo": {
     "elapsed": 51,
     "status": "ok",
     "timestamp": 1729158777041,
     "user": {
      "displayName": "Jamal Shah",
      "userId": "12126712930589502291"
     },
     "user_tz": -300
    },
    "id": "g0ai5ARbr53p",
    "outputId": "edb1e3e2-dd05-4a6b-a83b-54e7c44b2461",
    "papermill": {
     "duration": 0.035389,
     "end_time": "2024-10-17T10:01:37.428932",
     "exception": false,
     "start_time": "2024-10-17T10:01:37.393543",
     "status": "completed"
    },
    "tags": []
   },
   "outputs": [
    {
     "data": {
      "text/html": [
       "<style>#sk-container-id-1 {color: black;background-color: white;}#sk-container-id-1 pre{padding: 0;}#sk-container-id-1 div.sk-toggleable {background-color: white;}#sk-container-id-1 label.sk-toggleable__label {cursor: pointer;display: block;width: 100%;margin-bottom: 0;padding: 0.3em;box-sizing: border-box;text-align: center;}#sk-container-id-1 label.sk-toggleable__label-arrow:before {content: \"▸\";float: left;margin-right: 0.25em;color: #696969;}#sk-container-id-1 label.sk-toggleable__label-arrow:hover:before {color: black;}#sk-container-id-1 div.sk-estimator:hover label.sk-toggleable__label-arrow:before {color: black;}#sk-container-id-1 div.sk-toggleable__content {max-height: 0;max-width: 0;overflow: hidden;text-align: left;background-color: #f0f8ff;}#sk-container-id-1 div.sk-toggleable__content pre {margin: 0.2em;color: black;border-radius: 0.25em;background-color: #f0f8ff;}#sk-container-id-1 input.sk-toggleable__control:checked~div.sk-toggleable__content {max-height: 200px;max-width: 100%;overflow: auto;}#sk-container-id-1 input.sk-toggleable__control:checked~label.sk-toggleable__label-arrow:before {content: \"▾\";}#sk-container-id-1 div.sk-estimator input.sk-toggleable__control:checked~label.sk-toggleable__label {background-color: #d4ebff;}#sk-container-id-1 div.sk-label input.sk-toggleable__control:checked~label.sk-toggleable__label {background-color: #d4ebff;}#sk-container-id-1 input.sk-hidden--visually {border: 0;clip: rect(1px 1px 1px 1px);clip: rect(1px, 1px, 1px, 1px);height: 1px;margin: -1px;overflow: hidden;padding: 0;position: absolute;width: 1px;}#sk-container-id-1 div.sk-estimator {font-family: monospace;background-color: #f0f8ff;border: 1px dotted black;border-radius: 0.25em;box-sizing: border-box;margin-bottom: 0.5em;}#sk-container-id-1 div.sk-estimator:hover {background-color: #d4ebff;}#sk-container-id-1 div.sk-parallel-item::after {content: \"\";width: 100%;border-bottom: 1px solid gray;flex-grow: 1;}#sk-container-id-1 div.sk-label:hover label.sk-toggleable__label {background-color: #d4ebff;}#sk-container-id-1 div.sk-serial::before {content: \"\";position: absolute;border-left: 1px solid gray;box-sizing: border-box;top: 0;bottom: 0;left: 50%;z-index: 0;}#sk-container-id-1 div.sk-serial {display: flex;flex-direction: column;align-items: center;background-color: white;padding-right: 0.2em;padding-left: 0.2em;position: relative;}#sk-container-id-1 div.sk-item {position: relative;z-index: 1;}#sk-container-id-1 div.sk-parallel {display: flex;align-items: stretch;justify-content: center;background-color: white;position: relative;}#sk-container-id-1 div.sk-item::before, #sk-container-id-1 div.sk-parallel-item::before {content: \"\";position: absolute;border-left: 1px solid gray;box-sizing: border-box;top: 0;bottom: 0;left: 50%;z-index: -1;}#sk-container-id-1 div.sk-parallel-item {display: flex;flex-direction: column;z-index: 1;position: relative;background-color: white;}#sk-container-id-1 div.sk-parallel-item:first-child::after {align-self: flex-end;width: 50%;}#sk-container-id-1 div.sk-parallel-item:last-child::after {align-self: flex-start;width: 50%;}#sk-container-id-1 div.sk-parallel-item:only-child::after {width: 0;}#sk-container-id-1 div.sk-dashed-wrapped {border: 1px dashed gray;margin: 0 0.4em 0.5em 0.4em;box-sizing: border-box;padding-bottom: 0.4em;background-color: white;}#sk-container-id-1 div.sk-label label {font-family: monospace;font-weight: bold;display: inline-block;line-height: 1.2em;}#sk-container-id-1 div.sk-label-container {text-align: center;}#sk-container-id-1 div.sk-container {/* jupyter's `normalize.less` sets `[hidden] { display: none; }` but bootstrap.min.css set `[hidden] { display: none !important; }` so we also need the `!important` here to be able to override the default hidden behavior on the sphinx rendered scikit-learn.org. See: https://github.com/scikit-learn/scikit-learn/issues/21755 */display: inline-block !important;position: relative;}#sk-container-id-1 div.sk-text-repr-fallback {display: none;}</style><div id=\"sk-container-id-1\" class=\"sk-top-container\"><div class=\"sk-text-repr-fallback\"><pre>StandardScaler()</pre><b>In a Jupyter environment, please rerun this cell to show the HTML representation or trust the notebook. <br />On GitHub, the HTML representation is unable to render, please try loading this page with nbviewer.org.</b></div><div class=\"sk-container\" hidden><div class=\"sk-item\"><div class=\"sk-estimator sk-toggleable\"><input class=\"sk-toggleable__control sk-hidden--visually\" id=\"sk-estimator-id-1\" type=\"checkbox\" checked><label for=\"sk-estimator-id-1\" class=\"sk-toggleable__label sk-toggleable__label-arrow\">StandardScaler</label><div class=\"sk-toggleable__content\"><pre>StandardScaler()</pre></div></div></div></div></div>"
      ],
      "text/plain": [
       "StandardScaler()"
      ]
     },
     "execution_count": 12,
     "metadata": {},
     "output_type": "execute_result"
    }
   ],
   "source": [
    "scaler.fit(X)"
   ]
  },
  {
   "cell_type": "code",
   "execution_count": 13,
   "id": "b5329fe5",
   "metadata": {
    "execution": {
     "iopub.execute_input": "2024-10-17T10:01:37.463215Z",
     "iopub.status.busy": "2024-10-17T10:01:37.462489Z",
     "iopub.status.idle": "2024-10-17T10:01:37.472251Z",
     "shell.execute_reply": "2024-10-17T10:01:37.470812Z"
    },
    "executionInfo": {
     "elapsed": 50,
     "status": "ok",
     "timestamp": 1729158777041,
     "user": {
      "displayName": "Jamal Shah",
      "userId": "12126712930589502291"
     },
     "user_tz": -300
    },
    "id": "FHxNwPuZr-kD",
    "papermill": {
     "duration": 0.031155,
     "end_time": "2024-10-17T10:01:37.475627",
     "exception": false,
     "start_time": "2024-10-17T10:01:37.444472",
     "status": "completed"
    },
    "tags": []
   },
   "outputs": [],
   "source": [
    "standardized_data = scaler.transform(X)"
   ]
  },
  {
   "cell_type": "code",
   "execution_count": 14,
   "id": "d24571b8",
   "metadata": {
    "execution": {
     "iopub.execute_input": "2024-10-17T10:01:37.510336Z",
     "iopub.status.busy": "2024-10-17T10:01:37.509888Z",
     "iopub.status.idle": "2024-10-17T10:01:37.517775Z",
     "shell.execute_reply": "2024-10-17T10:01:37.516326Z"
    },
    "executionInfo": {
     "elapsed": 50,
     "status": "ok",
     "timestamp": 1729158777041,
     "user": {
      "displayName": "Jamal Shah",
      "userId": "12126712930589502291"
     },
     "user_tz": -300
    },
    "id": "fjMwZ5x6sPUJ",
    "outputId": "776b68df-7842-42d9-89e2-5afc581188db",
    "papermill": {
     "duration": 0.028712,
     "end_time": "2024-10-17T10:01:37.520897",
     "exception": false,
     "start_time": "2024-10-17T10:01:37.492185",
     "status": "completed"
    },
    "tags": []
   },
   "outputs": [
    {
     "name": "stdout",
     "output_type": "stream",
     "text": [
      "[[ 0.63994726  0.84832379  0.14964075 ...  0.20401277  0.46849198\n",
      "   1.4259954 ]\n",
      " [-0.84488505 -1.12339636 -0.16054575 ... -0.68442195 -0.36506078\n",
      "  -0.19067191]\n",
      " [ 1.23388019  1.94372388 -0.26394125 ... -1.10325546  0.60439732\n",
      "  -0.10558415]\n",
      " ...\n",
      " [ 0.3429808   0.00330087  0.14964075 ... -0.73518964 -0.68519336\n",
      "  -0.27575966]\n",
      " [-0.84488505  0.1597866  -0.47073225 ... -0.24020459 -0.37110101\n",
      "   1.17073215]\n",
      " [-0.84488505 -0.8730192   0.04624525 ... -0.20212881 -0.47378505\n",
      "  -0.87137393]]\n"
     ]
    }
   ],
   "source": [
    "print(standardized_data)"
   ]
  },
  {
   "cell_type": "code",
   "execution_count": 15,
   "id": "ae4041b1",
   "metadata": {
    "execution": {
     "iopub.execute_input": "2024-10-17T10:01:37.554250Z",
     "iopub.status.busy": "2024-10-17T10:01:37.553072Z",
     "iopub.status.idle": "2024-10-17T10:01:37.559502Z",
     "shell.execute_reply": "2024-10-17T10:01:37.557984Z"
    },
    "executionInfo": {
     "elapsed": 48,
     "status": "ok",
     "timestamp": 1729158777041,
     "user": {
      "displayName": "Jamal Shah",
      "userId": "12126712930589502291"
     },
     "user_tz": -300
    },
    "id": "ZxWSl4SGsRjE",
    "papermill": {
     "duration": 0.025896,
     "end_time": "2024-10-17T10:01:37.562441",
     "exception": false,
     "start_time": "2024-10-17T10:01:37.536545",
     "status": "completed"
    },
    "tags": []
   },
   "outputs": [],
   "source": [
    "X = standardized_data\n",
    "Y = diabetes_dataset['Outcome']"
   ]
  },
  {
   "cell_type": "code",
   "execution_count": 16,
   "id": "6e4a19f4",
   "metadata": {
    "execution": {
     "iopub.execute_input": "2024-10-17T10:01:37.595041Z",
     "iopub.status.busy": "2024-10-17T10:01:37.594541Z",
     "iopub.status.idle": "2024-10-17T10:01:37.603744Z",
     "shell.execute_reply": "2024-10-17T10:01:37.602261Z"
    },
    "executionInfo": {
     "elapsed": 48,
     "status": "ok",
     "timestamp": 1729158777042,
     "user": {
      "displayName": "Jamal Shah",
      "userId": "12126712930589502291"
     },
     "user_tz": -300
    },
    "id": "lhJF_7QjsjmP",
    "outputId": "ec858119-26f3-4834-9278-a020575446af",
    "papermill": {
     "duration": 0.029617,
     "end_time": "2024-10-17T10:01:37.607363",
     "exception": false,
     "start_time": "2024-10-17T10:01:37.577746",
     "status": "completed"
    },
    "tags": []
   },
   "outputs": [
    {
     "name": "stdout",
     "output_type": "stream",
     "text": [
      "[[ 0.63994726  0.84832379  0.14964075 ...  0.20401277  0.46849198\n",
      "   1.4259954 ]\n",
      " [-0.84488505 -1.12339636 -0.16054575 ... -0.68442195 -0.36506078\n",
      "  -0.19067191]\n",
      " [ 1.23388019  1.94372388 -0.26394125 ... -1.10325546  0.60439732\n",
      "  -0.10558415]\n",
      " ...\n",
      " [ 0.3429808   0.00330087  0.14964075 ... -0.73518964 -0.68519336\n",
      "  -0.27575966]\n",
      " [-0.84488505  0.1597866  -0.47073225 ... -0.24020459 -0.37110101\n",
      "   1.17073215]\n",
      " [-0.84488505 -0.8730192   0.04624525 ... -0.20212881 -0.47378505\n",
      "  -0.87137393]]\n",
      "0      1\n",
      "1      0\n",
      "2      1\n",
      "3      0\n",
      "4      1\n",
      "      ..\n",
      "763    0\n",
      "764    0\n",
      "765    0\n",
      "766    1\n",
      "767    0\n",
      "Name: Outcome, Length: 768, dtype: int64\n"
     ]
    }
   ],
   "source": [
    "print(X)\n",
    "print(Y)"
   ]
  },
  {
   "cell_type": "markdown",
   "id": "e5d1abd9",
   "metadata": {
    "id": "gHciEFkxsoQP",
    "papermill": {
     "duration": 0.015553,
     "end_time": "2024-10-17T10:01:37.638623",
     "exception": false,
     "start_time": "2024-10-17T10:01:37.623070",
     "status": "completed"
    },
    "tags": []
   },
   "source": [
    "Train Test Split"
   ]
  },
  {
   "cell_type": "code",
   "execution_count": 17,
   "id": "bbc355a7",
   "metadata": {
    "execution": {
     "iopub.execute_input": "2024-10-17T10:01:37.673299Z",
     "iopub.status.busy": "2024-10-17T10:01:37.672800Z",
     "iopub.status.idle": "2024-10-17T10:01:37.686095Z",
     "shell.execute_reply": "2024-10-17T10:01:37.684396Z"
    },
    "executionInfo": {
     "elapsed": 46,
     "status": "ok",
     "timestamp": 1729158777042,
     "user": {
      "displayName": "Jamal Shah",
      "userId": "12126712930589502291"
     },
     "user_tz": -300
    },
    "id": "AEfKGj_yslvD",
    "papermill": {
     "duration": 0.034917,
     "end_time": "2024-10-17T10:01:37.689431",
     "exception": false,
     "start_time": "2024-10-17T10:01:37.654514",
     "status": "completed"
    },
    "tags": []
   },
   "outputs": [],
   "source": [
    "X_train, X_test, Y_train, Y_test = train_test_split(X,Y, test_size = 0.2, stratify=Y, random_state=2)"
   ]
  },
  {
   "cell_type": "code",
   "execution_count": 18,
   "id": "8ff6fd1a",
   "metadata": {
    "execution": {
     "iopub.execute_input": "2024-10-17T10:01:37.723137Z",
     "iopub.status.busy": "2024-10-17T10:01:37.721946Z",
     "iopub.status.idle": "2024-10-17T10:01:37.729618Z",
     "shell.execute_reply": "2024-10-17T10:01:37.728183Z"
    },
    "executionInfo": {
     "elapsed": 44,
     "status": "ok",
     "timestamp": 1729158777042,
     "user": {
      "displayName": "Jamal Shah",
      "userId": "12126712930589502291"
     },
     "user_tz": -300
    },
    "id": "DR05T-o0t3FQ",
    "outputId": "8a558e7b-53b8-4993-c1b2-1a20f8b00628",
    "papermill": {
     "duration": 0.027869,
     "end_time": "2024-10-17T10:01:37.732791",
     "exception": false,
     "start_time": "2024-10-17T10:01:37.704922",
     "status": "completed"
    },
    "tags": []
   },
   "outputs": [
    {
     "name": "stdout",
     "output_type": "stream",
     "text": [
      "(768, 8) (614, 8) (154, 8)\n"
     ]
    }
   ],
   "source": [
    "print(X.shape, X_train.shape, X_test.shape)"
   ]
  },
  {
   "cell_type": "markdown",
   "id": "63509175",
   "metadata": {
    "id": "ElJ3tkOtuC_n",
    "papermill": {
     "duration": 0.017018,
     "end_time": "2024-10-17T10:01:37.766545",
     "exception": false,
     "start_time": "2024-10-17T10:01:37.749527",
     "status": "completed"
    },
    "tags": []
   },
   "source": [
    "Training the Model"
   ]
  },
  {
   "cell_type": "code",
   "execution_count": 19,
   "id": "11f040b7",
   "metadata": {
    "execution": {
     "iopub.execute_input": "2024-10-17T10:01:37.801219Z",
     "iopub.status.busy": "2024-10-17T10:01:37.800727Z",
     "iopub.status.idle": "2024-10-17T10:01:37.807115Z",
     "shell.execute_reply": "2024-10-17T10:01:37.805777Z"
    },
    "executionInfo": {
     "elapsed": 41,
     "status": "ok",
     "timestamp": 1729158777042,
     "user": {
      "displayName": "Jamal Shah",
      "userId": "12126712930589502291"
     },
     "user_tz": -300
    },
    "id": "5szLWHlNt9xc",
    "papermill": {
     "duration": 0.027475,
     "end_time": "2024-10-17T10:01:37.810152",
     "exception": false,
     "start_time": "2024-10-17T10:01:37.782677",
     "status": "completed"
    },
    "tags": []
   },
   "outputs": [],
   "source": [
    "classifier = svm.SVC(kernel='linear')"
   ]
  },
  {
   "cell_type": "code",
   "execution_count": 20,
   "id": "8e15b140",
   "metadata": {
    "execution": {
     "iopub.execute_input": "2024-10-17T10:01:37.844270Z",
     "iopub.status.busy": "2024-10-17T10:01:37.843738Z",
     "iopub.status.idle": "2024-10-17T10:01:37.869084Z",
     "shell.execute_reply": "2024-10-17T10:01:37.867851Z"
    },
    "executionInfo": {
     "elapsed": 41,
     "status": "ok",
     "timestamp": 1729158777042,
     "user": {
      "displayName": "Jamal Shah",
      "userId": "12126712930589502291"
     },
     "user_tz": -300
    },
    "id": "ncJWY_7suPAb",
    "outputId": "605cc8ca-b841-4bb6-8cf4-99d38a559c35",
    "papermill": {
     "duration": 0.045762,
     "end_time": "2024-10-17T10:01:37.871741",
     "exception": false,
     "start_time": "2024-10-17T10:01:37.825979",
     "status": "completed"
    },
    "tags": []
   },
   "outputs": [
    {
     "data": {
      "text/html": [
       "<style>#sk-container-id-2 {color: black;background-color: white;}#sk-container-id-2 pre{padding: 0;}#sk-container-id-2 div.sk-toggleable {background-color: white;}#sk-container-id-2 label.sk-toggleable__label {cursor: pointer;display: block;width: 100%;margin-bottom: 0;padding: 0.3em;box-sizing: border-box;text-align: center;}#sk-container-id-2 label.sk-toggleable__label-arrow:before {content: \"▸\";float: left;margin-right: 0.25em;color: #696969;}#sk-container-id-2 label.sk-toggleable__label-arrow:hover:before {color: black;}#sk-container-id-2 div.sk-estimator:hover label.sk-toggleable__label-arrow:before {color: black;}#sk-container-id-2 div.sk-toggleable__content {max-height: 0;max-width: 0;overflow: hidden;text-align: left;background-color: #f0f8ff;}#sk-container-id-2 div.sk-toggleable__content pre {margin: 0.2em;color: black;border-radius: 0.25em;background-color: #f0f8ff;}#sk-container-id-2 input.sk-toggleable__control:checked~div.sk-toggleable__content {max-height: 200px;max-width: 100%;overflow: auto;}#sk-container-id-2 input.sk-toggleable__control:checked~label.sk-toggleable__label-arrow:before {content: \"▾\";}#sk-container-id-2 div.sk-estimator input.sk-toggleable__control:checked~label.sk-toggleable__label {background-color: #d4ebff;}#sk-container-id-2 div.sk-label input.sk-toggleable__control:checked~label.sk-toggleable__label {background-color: #d4ebff;}#sk-container-id-2 input.sk-hidden--visually {border: 0;clip: rect(1px 1px 1px 1px);clip: rect(1px, 1px, 1px, 1px);height: 1px;margin: -1px;overflow: hidden;padding: 0;position: absolute;width: 1px;}#sk-container-id-2 div.sk-estimator {font-family: monospace;background-color: #f0f8ff;border: 1px dotted black;border-radius: 0.25em;box-sizing: border-box;margin-bottom: 0.5em;}#sk-container-id-2 div.sk-estimator:hover {background-color: #d4ebff;}#sk-container-id-2 div.sk-parallel-item::after {content: \"\";width: 100%;border-bottom: 1px solid gray;flex-grow: 1;}#sk-container-id-2 div.sk-label:hover label.sk-toggleable__label {background-color: #d4ebff;}#sk-container-id-2 div.sk-serial::before {content: \"\";position: absolute;border-left: 1px solid gray;box-sizing: border-box;top: 0;bottom: 0;left: 50%;z-index: 0;}#sk-container-id-2 div.sk-serial {display: flex;flex-direction: column;align-items: center;background-color: white;padding-right: 0.2em;padding-left: 0.2em;position: relative;}#sk-container-id-2 div.sk-item {position: relative;z-index: 1;}#sk-container-id-2 div.sk-parallel {display: flex;align-items: stretch;justify-content: center;background-color: white;position: relative;}#sk-container-id-2 div.sk-item::before, #sk-container-id-2 div.sk-parallel-item::before {content: \"\";position: absolute;border-left: 1px solid gray;box-sizing: border-box;top: 0;bottom: 0;left: 50%;z-index: -1;}#sk-container-id-2 div.sk-parallel-item {display: flex;flex-direction: column;z-index: 1;position: relative;background-color: white;}#sk-container-id-2 div.sk-parallel-item:first-child::after {align-self: flex-end;width: 50%;}#sk-container-id-2 div.sk-parallel-item:last-child::after {align-self: flex-start;width: 50%;}#sk-container-id-2 div.sk-parallel-item:only-child::after {width: 0;}#sk-container-id-2 div.sk-dashed-wrapped {border: 1px dashed gray;margin: 0 0.4em 0.5em 0.4em;box-sizing: border-box;padding-bottom: 0.4em;background-color: white;}#sk-container-id-2 div.sk-label label {font-family: monospace;font-weight: bold;display: inline-block;line-height: 1.2em;}#sk-container-id-2 div.sk-label-container {text-align: center;}#sk-container-id-2 div.sk-container {/* jupyter's `normalize.less` sets `[hidden] { display: none; }` but bootstrap.min.css set `[hidden] { display: none !important; }` so we also need the `!important` here to be able to override the default hidden behavior on the sphinx rendered scikit-learn.org. See: https://github.com/scikit-learn/scikit-learn/issues/21755 */display: inline-block !important;position: relative;}#sk-container-id-2 div.sk-text-repr-fallback {display: none;}</style><div id=\"sk-container-id-2\" class=\"sk-top-container\"><div class=\"sk-text-repr-fallback\"><pre>SVC(kernel=&#x27;linear&#x27;)</pre><b>In a Jupyter environment, please rerun this cell to show the HTML representation or trust the notebook. <br />On GitHub, the HTML representation is unable to render, please try loading this page with nbviewer.org.</b></div><div class=\"sk-container\" hidden><div class=\"sk-item\"><div class=\"sk-estimator sk-toggleable\"><input class=\"sk-toggleable__control sk-hidden--visually\" id=\"sk-estimator-id-2\" type=\"checkbox\" checked><label for=\"sk-estimator-id-2\" class=\"sk-toggleable__label sk-toggleable__label-arrow\">SVC</label><div class=\"sk-toggleable__content\"><pre>SVC(kernel=&#x27;linear&#x27;)</pre></div></div></div></div></div>"
      ],
      "text/plain": [
       "SVC(kernel='linear')"
      ]
     },
     "execution_count": 20,
     "metadata": {},
     "output_type": "execute_result"
    }
   ],
   "source": [
    "#training the support vector Machine Classifier\n",
    "classifier.fit(X_train, Y_train)"
   ]
  },
  {
   "cell_type": "markdown",
   "id": "686ce354",
   "metadata": {
    "id": "UV4-CAfquiyP",
    "papermill": {
     "duration": 0.015392,
     "end_time": "2024-10-17T10:01:37.903775",
     "exception": false,
     "start_time": "2024-10-17T10:01:37.888383",
     "status": "completed"
    },
    "tags": []
   },
   "source": [
    "Model Evaluation"
   ]
  },
  {
   "cell_type": "markdown",
   "id": "806ca066",
   "metadata": {
    "id": "yhAjGPJWunXa",
    "papermill": {
     "duration": 0.018105,
     "end_time": "2024-10-17T10:01:37.938653",
     "exception": false,
     "start_time": "2024-10-17T10:01:37.920548",
     "status": "completed"
    },
    "tags": []
   },
   "source": [
    "Accuracy Score"
   ]
  },
  {
   "cell_type": "code",
   "execution_count": 21,
   "id": "4fbc79cd",
   "metadata": {
    "execution": {
     "iopub.execute_input": "2024-10-17T10:01:37.983294Z",
     "iopub.status.busy": "2024-10-17T10:01:37.981512Z",
     "iopub.status.idle": "2024-10-17T10:01:38.001051Z",
     "shell.execute_reply": "2024-10-17T10:01:37.999395Z"
    },
    "executionInfo": {
     "elapsed": 40,
     "status": "ok",
     "timestamp": 1729158777042,
     "user": {
      "displayName": "Jamal Shah",
      "userId": "12126712930589502291"
     },
     "user_tz": -300
    },
    "id": "fJLEPQK7ueXp",
    "papermill": {
     "duration": 0.045359,
     "end_time": "2024-10-17T10:01:38.004290",
     "exception": false,
     "start_time": "2024-10-17T10:01:37.958931",
     "status": "completed"
    },
    "tags": []
   },
   "outputs": [],
   "source": [
    "# accuracy score on the training data\n",
    "X_train_prediction = classifier.predict(X_train)\n",
    "training_data_accuracy = accuracy_score(X_train_prediction, Y_train)"
   ]
  },
  {
   "cell_type": "code",
   "execution_count": 22,
   "id": "935fc36e",
   "metadata": {
    "execution": {
     "iopub.execute_input": "2024-10-17T10:01:38.041029Z",
     "iopub.status.busy": "2024-10-17T10:01:38.039297Z",
     "iopub.status.idle": "2024-10-17T10:01:38.048907Z",
     "shell.execute_reply": "2024-10-17T10:01:38.046805Z"
    },
    "executionInfo": {
     "elapsed": 40,
     "status": "ok",
     "timestamp": 1729158777043,
     "user": {
      "displayName": "Jamal Shah",
      "userId": "12126712930589502291"
     },
     "user_tz": -300
    },
    "id": "mmJ22qhVvNwj",
    "outputId": "406d0dfa-efcb-4dda-dbf1-61c367a2c1fe",
    "papermill": {
     "duration": 0.03219,
     "end_time": "2024-10-17T10:01:38.052212",
     "exception": false,
     "start_time": "2024-10-17T10:01:38.020022",
     "status": "completed"
    },
    "tags": []
   },
   "outputs": [
    {
     "name": "stdout",
     "output_type": "stream",
     "text": [
      "Accuracy score of the training data :  0.7866449511400652\n"
     ]
    }
   ],
   "source": [
    "print('Accuracy score of the training data : ', training_data_accuracy)"
   ]
  },
  {
   "cell_type": "code",
   "execution_count": 23,
   "id": "6c1d18ee",
   "metadata": {
    "execution": {
     "iopub.execute_input": "2024-10-17T10:01:38.093074Z",
     "iopub.status.busy": "2024-10-17T10:01:38.092595Z",
     "iopub.status.idle": "2024-10-17T10:01:38.103817Z",
     "shell.execute_reply": "2024-10-17T10:01:38.102161Z"
    },
    "executionInfo": {
     "elapsed": 38,
     "status": "ok",
     "timestamp": 1729158777043,
     "user": {
      "displayName": "Jamal Shah",
      "userId": "12126712930589502291"
     },
     "user_tz": -300
    },
    "id": "G2CICFMEvcCl",
    "papermill": {
     "duration": 0.036041,
     "end_time": "2024-10-17T10:01:38.106909",
     "exception": false,
     "start_time": "2024-10-17T10:01:38.070868",
     "status": "completed"
    },
    "tags": []
   },
   "outputs": [],
   "source": [
    "# accuracy score on the test data\n",
    "X_test_prediction = classifier.predict(X_test)\n",
    "test_data_accuracy = accuracy_score(X_test_prediction, Y_test)"
   ]
  },
  {
   "cell_type": "code",
   "execution_count": 24,
   "id": "86b46f9a",
   "metadata": {
    "execution": {
     "iopub.execute_input": "2024-10-17T10:01:38.153445Z",
     "iopub.status.busy": "2024-10-17T10:01:38.152177Z",
     "iopub.status.idle": "2024-10-17T10:01:38.159792Z",
     "shell.execute_reply": "2024-10-17T10:01:38.157807Z"
    },
    "executionInfo": {
     "elapsed": 38,
     "status": "ok",
     "timestamp": 1729158777043,
     "user": {
      "displayName": "Jamal Shah",
      "userId": "12126712930589502291"
     },
     "user_tz": -300
    },
    "id": "i2GcW_t_vz7C",
    "outputId": "1f740c3a-bf7b-4a83-dded-af0d9cf08d74",
    "papermill": {
     "duration": 0.040254,
     "end_time": "2024-10-17T10:01:38.167910",
     "exception": false,
     "start_time": "2024-10-17T10:01:38.127656",
     "status": "completed"
    },
    "tags": []
   },
   "outputs": [
    {
     "name": "stdout",
     "output_type": "stream",
     "text": [
      "Accuracy score of the test data :  0.7727272727272727\n"
     ]
    }
   ],
   "source": [
    "print('Accuracy score of the test data : ', test_data_accuracy)"
   ]
  },
  {
   "cell_type": "markdown",
   "id": "e156b7fe",
   "metadata": {
    "id": "gq8ZX1xpwPF5",
    "papermill": {
     "duration": 0.020675,
     "end_time": "2024-10-17T10:01:38.211893",
     "exception": false,
     "start_time": "2024-10-17T10:01:38.191218",
     "status": "completed"
    },
    "tags": []
   },
   "source": [
    "Making a Predictive System"
   ]
  },
  {
   "cell_type": "code",
   "execution_count": 25,
   "id": "6a58c860",
   "metadata": {
    "execution": {
     "iopub.execute_input": "2024-10-17T10:01:38.257256Z",
     "iopub.status.busy": "2024-10-17T10:01:38.256641Z",
     "iopub.status.idle": "2024-10-17T10:01:38.274206Z",
     "shell.execute_reply": "2024-10-17T10:01:38.273042Z"
    },
    "executionInfo": {
     "elapsed": 517,
     "status": "ok",
     "timestamp": 1729158777524,
     "user": {
      "displayName": "Jamal Shah",
      "userId": "12126712930589502291"
     },
     "user_tz": -300
    },
    "id": "U-ULRe4yv5tH",
    "outputId": "b5efbdc5-7f5b-4793-af7e-e16bb4002307",
    "papermill": {
     "duration": 0.04496,
     "end_time": "2024-10-17T10:01:38.280022",
     "exception": false,
     "start_time": "2024-10-17T10:01:38.235062",
     "status": "completed"
    },
    "tags": []
   },
   "outputs": [
    {
     "name": "stdout",
     "output_type": "stream",
     "text": [
      "[[ 0.3429808   1.41167241  0.14964075 -0.09637905  0.82661621 -0.78595734\n",
      "   0.34768723  1.51108316]]\n",
      "[1]\n",
      "The person is diabetic\n"
     ]
    },
    {
     "name": "stderr",
     "output_type": "stream",
     "text": [
      "/opt/conda/lib/python3.10/site-packages/sklearn/base.py:439: UserWarning: X does not have valid feature names, but StandardScaler was fitted with feature names\n",
      "  warnings.warn(\n"
     ]
    }
   ],
   "source": [
    "input_data = (5,166,72,19,175,25.8,0.587,51)\n",
    "\n",
    "# changing the input_data to numpy array\n",
    "input_data_as_numpy_array = np.asarray(input_data)\n",
    "\n",
    "# reshape the array as we are predicting for one instance\n",
    "input_data_reshaped = input_data_as_numpy_array.reshape(1,-1)\n",
    "\n",
    "# standardize the input data\n",
    "std_data = scaler.transform(input_data_reshaped)\n",
    "print(std_data)\n",
    "\n",
    "prediction = classifier.predict(std_data)\n",
    "print(prediction)\n",
    "\n",
    "if (prediction[0] == 0):\n",
    "  print('The person is not diabetic')\n",
    "else:\n",
    "  print('The person is diabetic')"
   ]
  }
 ],
 "metadata": {
  "colab": {
   "provenance": [
    {
     "file_id": "1oxnhMTlomJ4HVhPuowpPFyMt1mwuOuQo",
     "timestamp": 1729158716503
    }
   ]
  },
  "kaggle": {
   "accelerator": "none",
   "dataSources": [
    {
     "datasetId": 1906967,
     "sourceId": 3949931,
     "sourceType": "datasetVersion"
    }
   ],
   "dockerImageVersionId": 30786,
   "isGpuEnabled": false,
   "isInternetEnabled": true,
   "language": "python",
   "sourceType": "notebook"
  },
  "kernelspec": {
   "display_name": "Python 3",
   "language": "python",
   "name": "python3"
  },
  "language_info": {
   "codemirror_mode": {
    "name": "ipython",
    "version": 3
   },
   "file_extension": ".py",
   "mimetype": "text/x-python",
   "name": "python",
   "nbconvert_exporter": "python",
   "pygments_lexer": "ipython3",
   "version": "3.10.14"
  },
  "papermill": {
   "default_parameters": {},
   "duration": 9.027925,
   "end_time": "2024-10-17T10:01:38.932511",
   "environment_variables": {},
   "exception": null,
   "input_path": "__notebook__.ipynb",
   "output_path": "__notebook__.ipynb",
   "parameters": {},
   "start_time": "2024-10-17T10:01:29.904586",
   "version": "2.6.0"
  }
 },
 "nbformat": 4,
 "nbformat_minor": 5
}
